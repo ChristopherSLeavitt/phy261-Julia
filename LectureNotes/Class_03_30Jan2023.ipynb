{
 "cells": [
  {
   "attachments": {},
   "cell_type": "markdown",
   "id": "e5d96890-e2c2-4179-9fb8-1224355f4d05",
   "metadata": {},
   "source": [
    "## Defining Functions\n",
    "Most of what we do all semester will involve defining functions that do something useful. The simplest functions to define are functions that can be written in a single line,\n",
    "for example, suppose you want to create a function to compute the magnitude of the gravitational force exerted by masses $m_1$ and $m_2$ separated by a distance $r$. Newton's law of Universal Gravitation tells us that the magnitude of the gravitational force is\n",
    "\n",
    "$$\n",
    "F = G\\frac{m_1 m_2}{r^2}\n",
    "$$\n",
    "You can define this as follows a function to compute this on one line of code as follows:"
   ]
  },
  {
   "cell_type": "code",
   "execution_count": 1,
   "metadata": {},
   "outputs": [
    {
     "data": {
      "text/plain": [
       "F (generic function with 1 method)"
      ]
     },
     "execution_count": 1,
     "metadata": {},
     "output_type": "execute_result"
    }
   ],
   "source": [
    "G = 6.6743e-11 # in SI units \n",
    "F(m₁, m₂, r) = G * m₁ * m₂ / r^2"
   ]
  },
  {
   "attachments": {},
   "cell_type": "markdown",
   "metadata": {},
   "source": [
    "Then, to evaluate the function, we simply call it just as you might expect:"
   ]
  },
  {
   "cell_type": "code",
   "execution_count": 3,
   "metadata": {},
   "outputs": [
    {
     "data": {
      "text/plain": [
       "9.820285850027597"
      ]
     },
     "execution_count": 3,
     "metadata": {},
     "output_type": "execute_result"
    }
   ],
   "source": [
    "F(5.97219e24, 1.0, 6.371e6)"
   ]
  },
  {
   "attachments": {},
   "cell_type": "markdown",
   "metadata": {},
   "source": [
    "Typically, you want to *do* something, or at least reuse the result of a function call; \n",
    "this can be done by assigning the result to a variable:"
   ]
  },
  {
   "cell_type": "code",
   "execution_count": 8,
   "metadata": {},
   "outputs": [
    {
     "name": "stdout",
     "output_type": "stream",
     "text": [
      "Weight on Earth: 9.820285850027597 N\n",
      "Weight on Jupiter: 0.20901848613735632 N\n"
     ]
    }
   ],
   "source": [
    "Fₑ = F(5.97219e24, 1.0, 6.371e6) # weight on Earth\n",
    "Fⱼ = F(1.898e27, 1.0, 7.785e8); # weight on Jupiter\n",
    "\n",
    "println(\"Weight on Earth: \", Fₑ, \" N\")\n",
    "println(\"Weight on Jupiter: \", Fⱼ, \" N\")"
   ]
  },
  {
   "cell_type": "markdown",
   "metadata": {},
   "source": []
  },
  {
   "cell_type": "markdown",
   "metadata": {},
   "source": []
  }
 ],
 "metadata": {
  "kernelspec": {
   "display_name": "Julia 1.8.5",
   "language": "julia",
   "name": "julia-1.8"
  },
  "language_info": {
   "file_extension": ".jl",
   "mimetype": "application/julia",
   "name": "julia",
   "version": "1.8.5"
  },
  "orig_nbformat": 4
 },
 "nbformat": 4,
 "nbformat_minor": 2
}
