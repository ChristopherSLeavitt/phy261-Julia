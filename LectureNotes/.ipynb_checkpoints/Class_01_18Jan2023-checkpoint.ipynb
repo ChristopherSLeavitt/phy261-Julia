{
 "cells": [
  {
   "cell_type": "markdown",
   "id": "58ce9e5d-c959-41a8-befc-5e8bb7be6ad5",
   "metadata": {},
   "source": [
    "# Phy 261: Computational Physics: Spring 2023\n",
    "## Class 01: 18 Jan 2023"
   ]
  },
  {
   "cell_type": "markdown",
   "id": "cc6657de-68b1-4332-a515-cc90c0f7cc24",
   "metadata": {},
   "source": [
    "# Why Computation?\n",
    "One of the important tools for learning any subject---whether that is physics, musical performance, mathematics, drawing, etc----is to practice. In music, this means learning new compositions, in drawing, practicing new techniques, and in mathematics and physics, solving many problems. In all of these areas, the learning happens through (typically) slow incremental improvement, and, importantly, with *mistakes*. Learning something new always takes practice and always involves making mistakes and learning from these mistakes while you build up an undertanding or skillset. \n",
    "\n",
    "In physics, the practice of solving problems has been restricted to questions whose solution is analytically solvable (meaning you can write down a \"simple\" algebraic expression as the solution). You've seen this in last semester's course, where you typically make approximations that simplify a physical situation so that it is possible to solve a problem; for instance, ignoring air resistance while throwing a ball and assuming that the acceleration due to gravity is constant independent of the height above the ground allows one to use constant acceleration kinematics to solve for the motion. Of course, it is **not** true that air resistance is ignorable, and it is **not** true that the acceleration due to gravity is constant independent of height. Nonetheless, the skills one obtains by working within these simplified limits are useful, as one builds an intuition and undertanding of physics that is extremely valuable. \n",
    "\n",
    "However, the downside of restricting practice to analytically solvable problems is that one misses being able to explore more realistic models of how nature works, and one misses the ability to obtain immediate graphical feedback about the solution to a problem. Computation also allows one to easily explore \"what if...\" questions in a manner that helps build intuition about the underlying physics, and to do so using a tool that is now an indespensible tool in modern society.\n",
    "\n",
    "## What this semester is about\n",
    "This semester, we will spend time doing the following:</br>\n",
    "* Learning the Julia language (5 weeeks),\n",
    "* How to use Julia to plot and fit data (1 week)\n",
    "* How to model physical systems of various types (6 weeks)\n",
    "* A final project ( 2 weeks)\n",
    "* A final exam.\n",
    "\n",
    "# The Julia Language\n",
    "From the [WikiPedia page on Julia](https://en.wikipedia.org/wiki/Julia_(programming_language)): Work on Julia was started in 2009, by Jeff Bezanson, Stefan Karpinski, Viral B. Shah, and Alan Edelman, who set out to create a free language that was both high-level and fast. On 14 February 2012, the team launched a website with a blog post explaining the language's mission. Now, more than 10 years later, I have decided to completely switch all my computing to Julia. The rest of our department is doing the same. Why? See [this DataCamp article](v) about why Julia is so well-suited to computational physics, and data science in general.\n",
    "\n",
    "\n",
    "\n",
    "\n",
    "\n",
    "\n",
    "    \n",
    "\n",
    "\n"
   ]
  },
  {
   "cell_type": "code",
   "execution_count": null,
   "id": "0f488e18-db3c-4cb5-9973-10dfd4a33cdb",
   "metadata": {},
   "outputs": [],
   "source": []
  }
 ],
 "metadata": {
  "kernelspec": {
   "display_name": "Julia 1.8.3",
   "language": "julia",
   "name": "julia-1.8"
  },
  "language_info": {
   "file_extension": ".jl",
   "mimetype": "application/julia",
   "name": "julia",
   "version": "1.8.3"
  },
  "widgets": {
   "application/vnd.jupyter.widget-state+json": {
    "state": {},
    "version_major": 2,
    "version_minor": 0
   }
  }
 },
 "nbformat": 4,
 "nbformat_minor": 5
}
