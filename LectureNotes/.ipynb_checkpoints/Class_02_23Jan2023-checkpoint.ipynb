{
 "cells": [
  {
   "cell_type": "markdown",
   "id": "58ce9e5d-c959-41a8-befc-5e8bb7be6ad5",
   "metadata": {},
   "source": [
    "%load_ext notexbook# Phy 261: Computational Physics: Spring 2023\n",
    "## Class 02: 23 Jan 2023"
   ]
  },
  {
   "cell_type": "markdown",
   "id": "cc6657de-68b1-4332-a515-cc90c0f7cc24",
   "metadata": {},
   "source": [
    "# Intro to Julia 2\n",
    "The goals for today:\n",
    "\n",
    "    1. How to print output\n",
    "    2. Variables: \n",
    "            * how to define: assignment statement\n",
    "            * types: Strings, Characters, Integers, Floating Point, 1D Vectors, Tuples\n",
    "            * How to find out the type of a variable\n",
    "    3. Commenting code\n",
    "    4. Basic math, trig functions\n",
    "    5. Defining functions\n",
    "    \n",
    "\n",
    "    \n",
    "\n"
   ]
  },
  {
   "cell_type": "markdown",
   "id": "13472e1e-612c-405f-bcb1-3c5abe590ca5",
   "metadata": {},
   "source": [
    "## The *println()* function\n",
    "In the REPL (Read Evaluate Print Loop), if you want to display some message on the screen, you need to use\n",
    "Julia's *println()* function. \n",
    "\n",
    "**Demonstrate this**"
   ]
  },
  {
   "cell_type": "code",
   "execution_count": null,
   "id": "f3562191-0a42-4182-bb1b-c1ea1738a589",
   "metadata": {},
   "outputs": [],
   "source": []
  }
 ],
 "metadata": {
  "kernelspec": {
   "display_name": "Julia 1.8.5",
   "language": "julia",
   "name": "julia-1.8"
  },
  "language_info": {
   "file_extension": ".jl",
   "mimetype": "application/julia",
   "name": "julia",
   "version": "1.8.5"
  },
  "widgets": {
   "application/vnd.jupyter.widget-state+json": {
    "state": {},
    "version_major": 2,
    "version_minor": 0
   }
  }
 },
 "nbformat": 4,
 "nbformat_minor": 5
}
