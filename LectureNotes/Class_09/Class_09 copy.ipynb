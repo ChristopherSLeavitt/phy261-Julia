{
 "cells": [
  {
   "attachments": {
    "6500899b-9fc3-45cb-ac6f-2497a4454489.png": {
     "image/png": "[encoded data removed]"
    }
   },
   "cell_type": "markdown",
   "id": "a07c21c1-77cf-4e4b-a885-1bdca8f9e2cb",
   "metadata": {},
   "source": [
    "# Class 09: More about Julia & questions answered\n",
    "## Solving linear systems\n",
    "A common problem encountered in physics is having to solve a linear systems of equations; \n",
    "a good example of this occurs in electrical circuits. For example, consider the circuit below:<br>\n",
    "\n",
    "![circuit.png](attachment:6500899b-9fc3-45cb-ac6f-2497a4454489.png)"
   ]
  },
  {
   "cell_type": "markdown",
   "id": "6532c4f2-3bd6-4b97-8957-5251bea2f152",
   "metadata": {},
   "source": [
    "Using Kirchoff's Laws, we can write three equations which will allow us to find the three unknown currents:\n",
    "\n",
    "$$ 12 - 70I_1 -90 I_2 = 0\\\\\n",
    " 12 - 70I_1 - 60 I_3 = 0\\\\\n",
    "I_1  - I_2 - I3 = 0$$\n",
    "\n",
    "Simplifying:\n",
    "$$ 70I_1 + 90 I_2  + 0 I_3= 12\\\\\n",
    " 70I_1 +0 I_2 +  60 I_3 = 12\\\\\n",
    "I_1  - I_2 - I3 = 0$$\n",
    "\n",
    "This system can be written in matrix form $ \\underset{\\sim}{A} \\vec{I} = \\vec{b}$ as<br>\n",
    "\n",
    "$$\\begin{bmatrix}\n",
    "70 & 90 & 0\\\\\n",
    "70 & 0 & 60\\\\\n",
    "1  & -1 & -1\n",
    "\\end{bmatrix} \\begin{bmatrix}\n",
    "I_1\\\\\n",
    "I_2\\\\\n",
    "I_3\\end{bmatrix} = \n",
    "\\begin{bmatrix}\n",
    "12\\\\\n",
    "12\\\\\n",
    "0\\end{bmatrix}\n",
    "$$\n",
    "To solve this in Julia, we define $ \\underset{\\sim}{A}$ and $\\vec{b}$ :"
   ]
  },
  {
   "cell_type": "code",
   "execution_count": 2,
   "id": "4d523421-1eec-4d27-80c5-5d34e044485b",
   "metadata": {},
   "outputs": [],
   "source": [
    "A = [70  90  0;\n",
    "     70  0  60;\n",
    "      1 -1  -1]\n",
    " \n",
    "b = [12; 12; 0];"
   ]
  },
  {
   "cell_type": "markdown",
   "id": "a772f1d9-091d-466b-8d9c-91d6d8cc53b5",
   "metadata": {},
   "source": [
    "Then, the solution is as simple as"
   ]
  },
  {
   "cell_type": "code",
   "execution_count": 4,
   "id": "69844c15-4bb9-4459-be93-618113dc3e21",
   "metadata": {},
   "outputs": [
    {
     "data": {
      "text/plain": [
       "3-element Vector{Float64}:\n",
       " 0.11320754716981132\n",
       " 0.045283018867924525\n",
       " 0.06792452830188679"
      ]
     },
     "execution_count": 4,
     "metadata": {},
     "output_type": "execute_result"
    }
   ],
   "source": [
    "I = A \\ b"
   ]
  },
  {
   "cell_type": "markdown",
   "id": "0d033a40-afa6-4fe2-9793-0b0e399a3008",
   "metadata": {},
   "source": [
    "Or, converting to milliamps and rounding,"
   ]
  },
  {
   "cell_type": "code",
   "execution_count": 6,
   "id": "870a1906-1d06-4821-bf53-bfd408f16fa6",
   "metadata": {},
   "outputs": [
    {
     "data": {
      "text/plain": [
       "3-element Vector{Float64}:\n",
       " 113.2\n",
       "  45.3\n",
       "  67.9"
      ]
     },
     "execution_count": 6,
     "metadata": {},
     "output_type": "execute_result"
    }
   ],
   "source": [
    "currents = round.(1000*I; digits=1)"
   ]
  },
  {
   "cell_type": "markdown",
   "id": "40390c05-9dca-48bb-8334-fefbde094ab1",
   "metadata": {},
   "source": [
    "I find the notation<br>\n",
    "```julia\n",
    "I = A \\ b\n",
    "```\n",
    "confusing at best; the solution returned is for the unknown vector of currents, and \n",
    "we can check that this is the case by multiplying the matrix A with the vector I:"
   ]
  },
  {
   "cell_type": "code",
   "execution_count": 8,
   "id": "264cc305-4793-4b5c-996b-194c20fc6486",
   "metadata": {},
   "outputs": [
    {
     "data": {
      "text/plain": [
       "3-element Vector{Float64}:\n",
       " 12.0\n",
       " 12.0\n",
       "  1.3877787807814457e-17"
      ]
     },
     "execution_count": 8,
     "metadata": {},
     "output_type": "execute_result"
    }
   ],
   "source": [
    "A * I"
   ]
  },
  {
   "cell_type": "markdown",
   "id": "7c77bea6-a34d-4c18-a264-5eab1b4f945c",
   "metadata": {},
   "source": [
    "### Testing for approximate equality in Julia\n",
    "Julia has a built-in function *isapprox* that allows you to test whether two numbers are roughly equal.\n",
    "You can test of absolute tolerance (i.e. the two numbers are within some difference $\\Delta$ of each other)\n",
    "or for relative tolerance. (i.e. the ratio of the two numbers is close to 1 within some fraction).\n",
    "\n",
    "Let's compare a few numbers to see how this works (and understand the limitations):"
   ]
  },
  {
   "cell_type": "code",
   "execution_count": 13,
   "id": "54c16f64-ca73-4e1a-be91-1f22338f2582",
   "metadata": {},
   "outputs": [
    {
     "data": {
      "text/plain": [
       "false"
      ]
     },
     "execution_count": 13,
     "metadata": {},
     "output_type": "execute_result"
    }
   ],
   "source": [
    "isapprox(100, 98.0; rtol = 0.01)"
   ]
  },
  {
   "cell_type": "code",
   "execution_count": 14,
   "id": "1124f549-32b7-47b1-9dac-68495e884632",
   "metadata": {},
   "outputs": [
    {
     "data": {
      "text/plain": [
       "true"
      ]
     },
     "execution_count": 14,
     "metadata": {},
     "output_type": "execute_result"
    }
   ],
   "source": [
    "isapprox(100, 98.0; rtol = 0.02)"
   ]
  },
  {
   "cell_type": "code",
   "execution_count": 25,
   "id": "8e5a3927-5b07-480a-b9b0-2a44e9950afc",
   "metadata": {},
   "outputs": [
    {
     "data": {
      "text/plain": [
       "false"
      ]
     },
     "execution_count": 25,
     "metadata": {},
     "output_type": "execute_result"
    }
   ],
   "source": [
    "isapprox(2.01,3.20; atol=1.0)"
   ]
  },
  {
   "cell_type": "code",
   "execution_count": 26,
   "id": "43d6c440-d4fa-4e78-aec1-09356ea78f27",
   "metadata": {},
   "outputs": [
    {
     "data": {
      "text/plain": [
       "true"
      ]
     },
     "execution_count": 26,
     "metadata": {},
     "output_type": "execute_result"
    }
   ],
   "source": [
    "isapprox(2.01,3.20; atol=1.2)"
   ]
  },
  {
   "cell_type": "markdown",
   "id": "28299f2e-1a84-4b71-a1d7-c8ad9590f7c8",
   "metadata": {},
   "source": [
    "Now we can compare check our solution for the electrical circuit discussed earlier:"
   ]
  },
  {
   "cell_type": "code",
   "execution_count": 27,
   "id": "8a54ca64-ee3c-4393-bed7-8a7f4cc3371a",
   "metadata": {},
   "outputs": [
    {
     "data": {
      "text/plain": [
       "3-element BitVector:\n",
       " 1\n",
       " 1\n",
       " 1"
      ]
     },
     "execution_count": 27,
     "metadata": {},
     "output_type": "execute_result"
    }
   ],
   "source": [
    "isap\n",
    "prox.(A*I, b; atol = 0.01)"
   ]
  },
  {
   "cell_type": "markdown",
   "id": "fef0bb1e-b84a-4049-a168-2f926a6865b6",
   "metadata": {},
   "source": [
    "### Numerical derivatives in Julia\n",
    "In our last class, we *numerically* approximated a derivative by using the standard derivative formula\n",
    "called the *forward difference approximation*:\n",
    "$$ f^{\\prime}(x) \\approx \\frac{f(x+\\Delta x) - f(x)}{\\Delta x},$$\n",
    "It's also possible to estimate the derivative using the *backward difference*:\n",
    "$$ f^{\\prime}(x) \\approx \\frac{f(x) - f(x-\\Delta x)}{\\Delta x},$$\n",
    "and yet another method is the *central difference* approximation:\n",
    "$$ f^{\\prime}(x) \\approx \\frac{f(x+\\Delta x) - f(x-\\Delta x)}{2\\Delta x},$$\n",
    "where $\\Delta x =x_i - x_{i-1} = x_{i+1} - x_i $ are both small."
   ]
  },
  {
   "cell_type": "code",
   "execution_count": 1,
   "id": "2e82cb3f-0a57-440b-aaf4-e408f2aa0ebf",
   "metadata": {},
   "outputs": [
    {
     "data": {
      "text/plain": [
       "df (generic function with 1 method)"
      ]
     },
     "execution_count": 1,
     "metadata": {},
     "output_type": "execute_result"
    }
   ],
   "source": [
    "df(f,x,Δx) = (f(x+Δx) - f(x))/Δx"
   ]
  },
  {
   "cell_type": "code",
   "execution_count": 2,
   "id": "10a6ace3-a3d9-438e-8b06-e2cae21a387d",
   "metadata": {},
   "outputs": [
    {
     "data": {
      "text/plain": [
       "f (generic function with 1 method)"
      ]
     },
     "execution_count": 2,
     "metadata": {},
     "output_type": "execute_result"
    }
   ],
   "source": [
    "f(x) = sin(x)"
   ]
  },
  {
   "cell_type": "code",
   "execution_count": 11,
   "id": "42b261ea-0c05-417d-bd57-c516ba332fba",
   "metadata": {},
   "outputs": [
    {
     "data": {
      "text/plain": [
       "0.4999566978958203"
      ]
     },
     "execution_count": 11,
     "metadata": {},
     "output_type": "execute_result"
    }
   ],
   "source": [
    "Δx = 0.0001\n",
    "x = π/3\n",
    "df.(f,x,Δx)"
   ]
  },
  {
   "cell_type": "markdown",
   "id": "ff6d8c1b-d626-4d1a-92af-37b46c70fe32",
   "metadata": {},
   "source": [
    "####  The ForwardDiff.jl and FiniteDifferences.jl packages in Julia\n",
    "Automatic Differentiation is a technique in numerical analysis that gets around the troubles associated with the finite difference method. See\n",
    "https://juliadiff.org/ForwardDiff.jl/stable/ for more info. Here's a simple application:"
   ]
  },
  {
   "cell_type": "code",
   "execution_count": 12,
   "id": "a8d1b6f1-279f-4b66-95d2-a8e7161711df",
   "metadata": {},
   "outputs": [],
   "source": [
    "using ForwardDiff, FiniteDifferences"
   ]
  },
  {
   "cell_type": "code",
   "execution_count": 14,
   "id": "ab4c3366-2ec0-4ba2-8d71-988333a25464",
   "metadata": {},
   "outputs": [
    {
     "name": "stdout",
     "output_type": "stream",
     "text": [
      "forwardDiff = 0.5000000000000001\n",
      "centralDiff 5th order = 0.4999999999999536\n"
     ]
    }
   ],
   "source": [
    "println(\"forwardDiff = \", ForwardDiff.derivative(f,π/3))\n",
    "println(\"centralDiff 5th order = \", central_fdm(5, 1)(sin, π/3))"
   ]
  }
 ],
 "metadata": {
  "@webio": {
   "lastCommId": "bd9afe3d-5787-44c6-9266-ade9417b2ec4",
   "lastKernelId": "872d81ab-7922-4be0-bd1d-a1eae66b1b4d"
  },
  "kernelspec": {
   "display_name": "Julia 1.9.0-beta4",
   "language": "julia",
   "name": "julia-1.9"
  },
  "language_info": {
   "file_extension": ".jl",
   "mimetype": "application/julia",
   "name": "julia",
   "version": "1.9.0"
  }
 },
 "nbformat": 4,
 "nbformat_minor": 5
}
