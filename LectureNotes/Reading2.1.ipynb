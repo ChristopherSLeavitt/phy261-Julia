{
 "cells": [
  {
   "cell_type": "code",
   "execution_count": 1,
   "id": "ebf42e30",
   "metadata": {},
   "outputs": [
    {
     "data": {
      "text/plain": [
       "false"
      ]
     },
     "execution_count": 1,
     "metadata": {},
     "output_type": "execute_result"
    }
   ],
   "source": [
    "7 == 9"
   ]
  },
  {
   "cell_type": "code",
   "execution_count": 2,
   "id": "69d89fc0",
   "metadata": {},
   "outputs": [
    {
     "data": {
      "text/plain": [
       "true"
      ]
     },
     "execution_count": 2,
     "metadata": {},
     "output_type": "execute_result"
    }
   ],
   "source": [
    "7 == 7"
   ]
  },
  {
   "cell_type": "code",
   "execution_count": 4,
   "id": "b5086a47",
   "metadata": {},
   "outputs": [],
   "source": [
    "x = 9\n",
    "y = 7;"
   ]
  },
  {
   "cell_type": "code",
   "execution_count": 6,
   "id": "69de051a",
   "metadata": {},
   "outputs": [
    {
     "name": "stdout",
     "output_type": "stream",
     "text": [
      "Kowabunga\n"
     ]
    }
   ],
   "source": [
    "if x > y\n",
    "    println(\"Kowabunga\")\n",
    "end"
   ]
  },
  {
   "cell_type": "code",
   "execution_count": 7,
   "id": "58424753",
   "metadata": {},
   "outputs": [
    {
     "name": "stdout",
     "output_type": "stream",
     "text": [
      "Hang Loose\n"
     ]
    }
   ],
   "source": [
    "if x < y \n",
    "    println(\"Not Kowabunga\")\n",
    "else \n",
    "    println(\"Hang Loose\")\n",
    "end"
   ]
  },
  {
   "cell_type": "code",
   "execution_count": 12,
   "id": "11ce2885",
   "metadata": {},
   "outputs": [
    {
     "name": "stdout",
     "output_type": "stream",
     "text": [
      "yes, divisible by 3\n"
     ]
    }
   ],
   "source": [
    "if x % 3 == 0\n",
    "    println(\"yes, divisible by 3\")\n",
    "end"
   ]
  },
  {
   "cell_type": "code",
   "execution_count": null,
   "id": "3a0b93d4",
   "metadata": {},
   "outputs": [],
   "source": []
  }
 ],
 "metadata": {
  "kernelspec": {
   "display_name": "Julia 1.8.5",
   "language": "julia",
   "name": "julia-1.8"
  },
  "language_info": {
   "file_extension": ".jl",
   "mimetype": "application/julia",
   "name": "julia",
   "version": "1.8.5"
  }
 },
 "nbformat": 4,
 "nbformat_minor": 5
}
