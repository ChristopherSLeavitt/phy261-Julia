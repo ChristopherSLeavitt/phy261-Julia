{
 "cells": [
  {
   "cell_type": "markdown",
   "id": "6cd24626-4270-454c-8ac9-531648b9fde4",
   "metadata": {},
   "source": [
    "# Planetary Motion\n",
    "## 20 March 2023"
   ]
  },
  {
   "cell_type": "code",
   "execution_count": 21,
   "id": "9a7f8117-28f0-4008-9231-93da8a271761",
   "metadata": {
    "execution": {
     "iopub.execute_input": "2023-03-20T10:51:47.974000-04:00",
     "iopub.status.busy": "2023-03-20T10:51:47.974000-04:00",
     "iopub.status.idle": "2023-03-20T10:51:52.347000-04:00",
     "shell.execute_reply": "2023-03-20T10:51:52.347000-04:00"
    },
    "tags": []
   },
   "outputs": [
    {
     "data": {
      "text/plain": [
       "6.6743e-11"
      ]
     },
     "execution_count": 21,
     "metadata": {},
     "output_type": "execute_result"
    }
   ],
   "source": [
    "# Imports\n",
    "using Plots, LinearAlgebra\n",
    "const G = 6.67430e-11  # Gravitational constant (m^3 kg^-1 s^-2)"
   ]
  },
  {
   "cell_type": "markdown",
   "id": "a08d8f63-fd34-402d-9946-e314dce12df7",
   "metadata": {},
   "source": [
    "# Physics background\n",
    "Consider two gravitationally interacting planets:"
   ]
  },
  {
   "cell_type": "markdown",
   "id": "0fd84224-81e4-4462-af88-3169d2ecbc0e",
   "metadata": {},
   "source": [
    "<div> <img src=\"Planets.png\" alt=\"Drawing\" style=\"width: 400px;\"/></div> "
   ]
  },
  {
   "cell_type": "markdown",
   "id": "8755d283-565a-4f9c-b682-f6861146db5b",
   "metadata": {},
   "source": [
    "The force on planet $i$ due to planet $j$ is given by\n",
    "$$ \\vec{F}_{ij} = \\frac{G m_i m_j}{r_{ji}^2} \\hat{r_{ij}}, $$\n",
    "where \n",
    "$$\\hat{r_{ij}} = \\frac{\\vec{r_{ij}}}{r_{ij}}$$ \n",
    "and $\\vec{r_{ij}} = \\vec{r}_j - \\vec{r}_i$. The force on planet $j$ exerts on planet $i$ is, by Newton's third law, the same magnitude but in the opposite direction. \n",
    "\n",
    "Now suppose we want to simulate the motion of these two objects. Newton's 2nd Law gives us\n",
    "\n",
    "$$ m_i\\frac{d\\vec{v_i}}{dt} =  -\\frac{G m_i m_j}{r_{ij}^2} \\hat{r_{ij}},$$\n",
    "\n",
    "and \n",
    "\n",
    "$$ m_j \\frac{d\\vec{v_j}}{dt} =  -\\frac{G m_i m_j}{r_{ji}^2} \\hat{r_{ji}}.$$\n",
    "\n",
    "Canceling masses, we are left with \n",
    "\n",
    "$$ \\frac{d\\vec{v_i}}{dt} =  -\\frac{G  m_j}{r_{ij}^2} \\hat{r_{ij}},$$\n",
    "\n",
    "and \n",
    "$$ \\frac{d\\vec{v_j}}{dt} =  -\\frac{G m_i }{r_{ji}^2} \\hat{r_{ji}}.$$\n",
    "\n",
    "Together with \n",
    "\n",
    "$$ \\frac{d\\vec{r_i}}{dt} = \\vec{v_i}$$\n",
    "\n",
    "$$ \\frac{d\\vec{r_j}}{dt} = \\vec{v_j}$$\n",
    "\n",
    "we have equations to simulate the system of two masses. "
   ]
  },
  {
   "cell_type": "markdown",
   "id": "5e378ec1-c112-460b-9213-5f1decd09f50",
   "metadata": {},
   "source": [
    "# Simulation\n",
    "Because we expect periodic motion, we will not use the Euler method, but rather the Euler-Cromer method.\n",
    "Before jumping into writing this code, we will introduce a new feature of Julia: the *struct*. A *struct* is a custom type in Julia. The easiest way to see how this works is to define one. For this problem, I'll create a struct called Planet:"
   ]
  },
  {
   "cell_type": "code",
   "execution_count": 1,
   "id": "a6e96bb6-4bbd-402f-bb87-043399f91123",
   "metadata": {
    "tags": []
   },
   "outputs": [],
   "source": [
    "struct Planet\n",
    "    m::Float64             # mass\n",
    "    r::Vector{Float64}     # position vector\n",
    "    v::Vector{Float64}     # velocity vector\n",
    "end"
   ]
  },
  {
   "cell_type": "markdown",
   "id": "4f937078-f15e-43b8-8479-cb826451413f",
   "metadata": {},
   "source": [
    "The above code defines a new type (called Planet) with three attributes: *mass*, *position* and *velocity*. The types of each object are defined in the struct definition. \n",
    "\n",
    "Let's define the moon and the earth as two separate instances of Planet; I'll assume that the earth is at rest to start:"
   ]
  },
  {
   "cell_type": "code",
   "execution_count": 2,
   "id": "27323269-689a-48bc-b804-1ad15366e80c",
   "metadata": {
    "tags": []
   },
   "outputs": [],
   "source": [
    "moon =  Planet(7.348e22, [3.84401e8, 0.0], [0.0, 1022]);\n",
    "earth = Planet(5.972e24, [0.0, 0.0], [0.0, 0.0]);"
   ]
  },
  {
   "cell_type": "markdown",
   "id": "ea3e2b4c-4066-4b79-ad6c-dcea1c234ca5",
   "metadata": {},
   "source": [
    "Now suppose we want to find out the mass of the moon. We simply execute"
   ]
  },
  {
   "cell_type": "code",
   "execution_count": 3,
   "id": "55abe7d5-9852-42b8-9ccb-d59deb04779b",
   "metadata": {
    "tags": []
   },
   "outputs": [
    {
     "data": {
      "text/plain": [
       "7.348e22"
      ]
     },
     "execution_count": 3,
     "metadata": {},
     "output_type": "execute_result"
    }
   ],
   "source": [
    "moon.m"
   ]
  },
  {
   "cell_type": "markdown",
   "id": "aa5ad95b-f15b-409b-b886-584c7415b7c6",
   "metadata": {},
   "source": [
    "If you've done any object oriented programming, you'll see that this notation is identical. The velocity of the earth, for instance, is simply:"
   ]
  },
  {
   "cell_type": "code",
   "execution_count": 4,
   "id": "d3a9a5fe-d491-40a5-8426-5c20bf639052",
   "metadata": {
    "tags": []
   },
   "outputs": [
    {
     "data": {
      "text/plain": [
       "2-element Vector{Float64}:\n",
       " 0.0\n",
       " 0.0"
      ]
     },
     "execution_count": 4,
     "metadata": {},
     "output_type": "execute_result"
    }
   ],
   "source": [
    "earth.v"
   ]
  },
  {
   "cell_type": "markdown",
   "id": "ab49b362-0675-4188-aca6-e62e6b5d03f8",
   "metadata": {},
   "source": [
    "Where is the center of mass of the Earth-moon System? "
   ]
  },
  {
   "cell_type": "code",
   "execution_count": 6,
   "id": "af119275-17fb-4dcb-b7a1-1f4dfeb95d08",
   "metadata": {},
   "outputs": [
    {
     "ename": "LoadError",
     "evalue": "MethodError: no method matching +(::Float64, ::Vector{Float64})\nFor element-wise addition, use broadcasting with dot syntax: scalar .+ array\n\n\u001b[0mClosest candidates are:\n\u001b[0m  +(::Any, ::Any, \u001b[91m::Any\u001b[39m, \u001b[91m::Any...\u001b[39m)\n\u001b[0m\u001b[90m   @\u001b[39m \u001b[90mBase\u001b[39m \u001b[90m\u001b[4moperators.jl:578\u001b[24m\u001b[39m\n\u001b[0m  +(::T, \u001b[91m::T\u001b[39m) where T<:Union{Float16, Float32, Float64}\n\u001b[0m\u001b[90m   @\u001b[39m \u001b[90mBase\u001b[39m \u001b[90m\u001b[4mfloat.jl:408\u001b[24m\u001b[39m\n\u001b[0m  +(::Union{Float16, Float32, Float64}, \u001b[91m::BigFloat\u001b[39m)\n\u001b[0m\u001b[90m   @\u001b[39m \u001b[90mBase\u001b[39m \u001b[90m\u001b[4mmpfr.jl:423\u001b[24m\u001b[39m\n\u001b[0m  ...\n",
     "output_type": "error",
     "traceback": [
      "MethodError: no method matching +(::Float64, ::Vector{Float64})\nFor element-wise addition, use broadcasting with dot syntax: scalar .+ array\n\n\u001b[0mClosest candidates are:\n\u001b[0m  +(::Any, ::Any, \u001b[91m::Any\u001b[39m, \u001b[91m::Any...\u001b[39m)\n\u001b[0m\u001b[90m   @\u001b[39m \u001b[90mBase\u001b[39m \u001b[90m\u001b[4moperators.jl:578\u001b[24m\u001b[39m\n\u001b[0m  +(::T, \u001b[91m::T\u001b[39m) where T<:Union{Float16, Float32, Float64}\n\u001b[0m\u001b[90m   @\u001b[39m \u001b[90mBase\u001b[39m \u001b[90m\u001b[4mfloat.jl:408\u001b[24m\u001b[39m\n\u001b[0m  +(::Union{Float16, Float32, Float64}, \u001b[91m::BigFloat\u001b[39m)\n\u001b[0m\u001b[90m   @\u001b[39m \u001b[90mBase\u001b[39m \u001b[90m\u001b[4mmpfr.jl:423\u001b[24m\u001b[39m\n\u001b[0m  ...\n",
      "",
      "Stacktrace:",
      " [1] top-level scope",
      "   @ In[6]:1"
     ]
    }
   ],
   "source": [
    "cm = (moon.m * moon.r .+ earth.m*earth.r)/(moon.m + earth.r)"
   ]
  },
  {
   "cell_type": "markdown",
   "id": "adbeb483-7067-4ada-ae97-a47e3dfb1a81",
   "metadata": {},
   "source": [
    "So, now let's define our system of two bodies:"
   ]
  },
  {
   "cell_type": "code",
   "execution_count": 13,
   "id": "e3830a2a-2278-4f87-ba1a-f05cecb45292",
   "metadata": {
    "execution": {
     "iopub.execute_input": "2023-03-20T10:35:05.671000-04:00",
     "iopub.status.busy": "2023-03-20T10:35:05.671000-04:00",
     "iopub.status.idle": "2023-03-20T10:35:05.772000-04:00",
     "shell.execute_reply": "2023-03-20T10:35:05.772000-04:00"
    },
    "tags": []
   },
   "outputs": [
    {
     "data": {
      "text/plain": [
       "2-element Vector{Planet}:\n",
       " Planet(7.348e22, [3.84401e8, 0.0], [0.0, 1022.0])\n",
       " Planet(5.972e24, [0.0, 0.0], [0.0, 0.0])"
      ]
     },
     "execution_count": 13,
     "metadata": {},
     "output_type": "execute_result"
    }
   ],
   "source": [
    "bodies = [moon, earth]"
   ]
  },
  {
   "cell_type": "markdown",
   "id": "4ee34b29-45cc-48ae-ac9e-6552743fb5e5",
   "metadata": {},
   "source": [
    "Also, let's define time step, $\\Delta t$, the simulation time, *tmax*, and the number of steps in the simulation:"
   ]
  },
  {
   "cell_type": "code",
   "execution_count": 14,
   "id": "2c781aa6-6654-4d1a-b88b-e779bfbb28c2",
   "metadata": {
    "execution": {
     "iopub.execute_input": "2023-03-20T10:35:09.554000-04:00",
     "iopub.status.busy": "2023-03-20T10:35:09.554000-04:00",
     "iopub.status.idle": "2023-03-20T10:35:09.596000-04:00",
     "shell.execute_reply": "2023-03-20T10:35:09.596000-04:00"
    },
    "tags": []
   },
   "outputs": [
    {
     "data": {
      "text/plain": [
       "2160"
      ]
     },
     "execution_count": 14,
     "metadata": {},
     "output_type": "execute_result"
    }
   ],
   "source": [
    "Δt = 3600.0 # one hour\n",
    "tmax = 86400 * 90 # 90 days\n",
    "num_steps = Int(tmax/Δt)"
   ]
  },
  {
   "cell_type": "markdown",
   "id": "6f6d2ee2-5f8f-483f-9097-72cc2201b600",
   "metadata": {
    "execution": {
     "iopub.execute_input": "2023-03-20T10:35:10.806000-04:00",
     "iopub.status.busy": "2023-03-20T10:35:10.806000-04:00",
     "iopub.status.idle": "2023-03-20T10:35:10.994000-04:00",
     "shell.execute_reply": "2023-03-20T10:35:10.994000-04:00"
    },
    "tags": []
   },
   "source": [
    "We will need to compute the acceleration of each object, so let's make a function to do this:\n"
   ]
  },
  {
   "cell_type": "code",
   "execution_count": 19,
   "id": "f58bcaa7-ee22-4a88-a2ce-d86049a51da1",
   "metadata": {
    "execution": {
     "iopub.execute_input": "2023-03-20T10:46:46.073000-04:00",
     "iopub.status.busy": "2023-03-20T10:46:46.073000-04:00",
     "iopub.status.idle": "2023-03-20T10:46:46.169000-04:00",
     "shell.execute_reply": "2023-03-20T10:46:46.169000-04:00"
    },
    "tags": []
   },
   "outputs": [
    {
     "data": {
      "text/plain": [
       "accel (generic function with 1 method)"
      ]
     },
     "execution_count": 19,
     "metadata": {},
     "output_type": "execute_result"
    }
   ],
   "source": [
    "function accel(bodyi::Planet, bodyj::Planet)\n",
    "    rji = bodyj.r - bodyi.r\n",
    "    r = norm(rji)\n",
    "    aᵢ= - (G*bodyj.m/r^3)*rji\n",
    "end"
   ]
  },
  {
   "cell_type": "markdown",
   "id": "e1f29afd-4c8d-4a9d-b3c8-b7fb3c98f732",
   "metadata": {},
   "source": [
    "Now let's write a function to implement the Euler-Cromer method:"
   ]
  },
  {
   "cell_type": "code",
   "execution_count": 20,
   "id": "161adb29-8ae7-4779-84fa-a7232dd796fd",
   "metadata": {
    "execution": {
     "iopub.execute_input": "2023-03-20T10:51:04.760000-04:00",
     "iopub.status.busy": "2023-03-20T10:51:04.760000-04:00",
     "iopub.status.idle": "2023-03-20T10:51:04.878000-04:00",
     "shell.execute_reply": "2023-03-20T10:51:04.878000-04:00"
    },
    "tags": []
   },
   "outputs": [
    {
     "data": {
      "text/plain": [
       "simulate (generic function with 1 method)"
      ]
     },
     "execution_count": 20,
     "metadata": {},
     "output_type": "execute_result"
    }
   ],
   "source": [
    "function simulate(bodies, num_steps, Δt)\n",
    "    num_bodies = length(bodies)\n",
    "    positions = [zeros(num_steps, 2) for _ in 1:num_bodies]\n",
    "\n",
    "    for i in 1:num_bodies    # initialize positions for all objects\n",
    "        positions[i][1, :] = bodies[i].position\n",
    "    end\n",
    "\n",
    "    for step = 2:num_steps\n",
    "        for i in 1:num_bodies\n",
    "            a_total = zeros(2)\n",
    "            for j in 1:num_bodies\n",
    "                if i != j\n",
    "                    a = accel(bodies[i], bodies[j])\n",
    "                    a_total += a\n",
    "                end\n",
    "            end\n",
    "            bodies[i].velocity =  bodies[i].velocity .+ a_total * Δt\n",
    "            bodies[i].position = bodies[i].position .+bodies[i].velocity * Δt\n",
    "            positions[i][step, :] .= bodies[i].position\n",
    "        end\n",
    "    end\n",
    "\n",
    "    return positions\n",
    "end\n",
    "    "
   ]
  },
  {
   "cell_type": "code",
   "execution_count": 22,
   "id": "1e510fdb-cbb6-472d-b28b-83e6df85146f",
   "metadata": {
    "execution": {
     "iopub.execute_input": "2023-03-20T10:52:40.046000-04:00",
     "iopub.status.busy": "2023-03-20T10:52:40.046000-04:00",
     "iopub.status.idle": "2023-03-20T10:52:40.308000-04:00",
     "shell.execute_reply": "2023-03-20T10:52:40.308000-04:00"
    },
    "tags": []
   },
   "outputs": [
    {
     "ename": "LoadError",
     "evalue": "type Planet has no field position",
     "output_type": "error",
     "traceback": [
      "type Planet has no field position",
      "",
      "Stacktrace:",
      " [1] getproperty",
      "   @ ./Base.jl:37 [inlined]",
      " [2] simulate(bodies::Vector{Planet}, num_steps::Int64, Δt::Float64)",
      "   @ Main ./In[20]:6",
      " [3] top-level scope",
      "   @ In[22]:1"
     ]
    }
   ],
   "source": [
    "simulate(bodies, num_steps, Δt)\n"
   ]
  },
  {
   "cell_type": "code",
   "execution_count": null,
   "id": "109a2c55-680b-4576-be10-85b5a22a0891",
   "metadata": {},
   "outputs": [],
   "source": []
  }
 ],
 "metadata": {
  "kernelspec": {
   "display_name": "Julia 1.9.0-beta4",
   "language": "julia",
   "name": "julia-1.9"
  },
  "language_info": {
   "file_extension": ".jl",
   "mimetype": "application/julia",
   "name": "julia",
   "version": "1.9.0"
  }
 },
 "nbformat": 4,
 "nbformat_minor": 5
}
