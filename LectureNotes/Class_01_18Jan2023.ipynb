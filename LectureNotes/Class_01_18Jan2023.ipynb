{
 "cells": [
  {
   "cell_type": "markdown",
   "id": "58ce9e5d-c959-41a8-befc-5e8bb7be6ad5",
   "metadata": {},
   "source": [
    "# Phy 261: Computational Physics: Spring 2023\n",
    "## Class 01: 18 Jan 2023"
   ]
  },
  {
   "cell_type": "markdown",
   "id": "cc6657de-68b1-4332-a515-cc90c0f7cc24",
   "metadata": {},
   "source": [
    "# Why Computation?\n",
    "One of the important tools for learning any subject---whether that is physics, musical performance, mathematics, drawing, etc----is to practice. In music, this means learning new compositions, in drawing, practicing new techniques, and in mathematics and physics, solving many problems. In all of these areas, the learning happens through (typically) slow incremental improvement, and, importantly, with *mistakes*. Learning something new always takes practice and always involves making mistakes and learning from these mistakes while you build up an undertanding or skillset. \n",
    "\n",
    "In physics, the practice of solving problems has been restricted to questions whose solution is analytically solvable (meaning you can write down a \"simple\" algebraic expression as the solution). You've seen this in last semester's course, where you typically make approximations that simplify a physical situation so that it is possible to solve a problem; for instance, ignoring air resistance while throwing a ball and assuming that the acceleration due to gravity is constant independent of the height above the ground allows one to use constant acceleration kinematics to solve for the motion. Of course, it is **not** true that air resistance is ignorable, and it is **not** true that the acceleration due to gravity is constant independent of height. Nonetheless, the skills one obtains by working within these simplified limits are useful, as one builds an intuition and undertanding of physics that is extremely valuable. \n",
    "\n",
    "However, the downside of restricting practice to analytically solvable problems is that one misses being able to explore more realistic models of how nature works, and one misses the ability to obtain immediate graphical feedback about the solution to a problem. Computation also allows one to easily explore \"what if...\" questions in a manner that helps build intuition about the underlying physics, and to do so using a tool that is now an indespensible tool in modern society.\n",
    "\n",
    "## What this semester is about\n",
    "This semester, we will spend time doing the following:</br>\n",
    "* Learning the Julia language (5 weeeks),\n",
    "* Learning to be skeptical, and testing code carefully,\n",
    "* How to use Julia to plot and fit data (1 week),\n",
    "* How to model physical systems of various types (6 weeks),\n",
    "* A final project ( 2 weeks), and\n",
    "* A final exam.\n",
    "\n",
    "# Today's Class: Intro to Julia 1\n",
    "The goals for today:\n",
    "\n",
    "    * Introduce Julia\n",
    "    * Logging into the Department of Physics Server\n",
    "    * How to navigate the Terminal in Linux\n",
    "    * How to use Julia via the REPL \n",
    "    * How to use the Jupyterlab interface: markdown cells and code cells\n",
    "    \n",
    "## The Julia Language\n",
    "From the [WikiPedia page on Julia](https://en.wikipedia.org/wiki/Julia_(programming_language)): Work on Julia was started in 2009, by Jeff Bezanson, Stefan Karpinski, Viral B. Shah, and Alan Edelman, who set out to create a free language that was both high-level and fast. On 14 February 2012, the team launched a website with a blog post explaining the language's mission. Now, more than 10 years later, I have decided to completely switch all my computing to Julia. The rest of our department is doing the same. Why? See [this DataCamp article](v) about why Julia is so well-suited to computational physics, and data science in general.\n",
    "\n",
    "For those of you that have programmed in Python: you will find learning Julia very easy, as the syntax is very similar. For those of you new to programming, you can rest assured that Julia is one of the easiest computing languages to learn, due to it's clean syntax and the ability to use unicode characters (i.e. you can use greek letters like $\\alpha$, $\\beta$, $\\Delta$, etc.) as variable names. The code we will write will look very much what you would write as a physicist. \n",
    "\n",
    "The best way to learn a language is to jump in and start using it, so here we go...\n",
    "\n",
    "## Ways to interact with Julia\n",
    "There are several ways to perform calculations or write programs in Julia: \n",
    "\n",
    "    a. through the terminal and invoking the Julia REPL (Read Evaluate Print Loop) \n",
    "    b. through the Jupyter Lab interface \n",
    "    c. through an integrated development environment (VSCode is one of the most popular) \n",
    "All three methods can be run for free on your own computer if you would like; to simplify things,\n",
    "I've given each of you your own account on the Department of Physics  Linux Server, which is\n",
    "running JupyterHub, and allows you to login from almost anywhere, on almost any device using \n",
    "your USM credentials.  At the moment, you cannot easily use VSCode to connect with the server,\n",
    "but I believe it is possible in principle.\n",
    "\n",
    "## Logging into the Department Linux Server\n",
    "To login to [Einstein](https://einstein.phy.usm.maine.edu), use your USM username\n",
    "(without the @maine.edu), and use your USM password. \n",
    "This should open up a Jupyterlab window. We'll debug any issues with this in class. \n",
    "\n",
    "## The Linux terminal and the Julia REPL\n",
    "The first way in which we will interact with Julia is through a Linux terminal window. Before working with Julia itself, \n",
    "it is important for your computational literacy to know a little about the Linux terminal, as almost any scientific computing\n",
    "you will use often requires this (especially if you are logging into a remote server which has no GUI interface).\n",
    "\n",
    "### The Linux terminal (Bash)\n",
    "The terminal in Linux (or MacOSX, which is based on a flavor of unix) provides a way to interact with a local (or a remote) \n",
    "computer which you are logged into. A common terminal ''shell'' is called BASH (Bourne Again SHell), which is what is running \n",
    "on our server.\n",
    "\n",
    "Almost any task you would like to do can be accomplished by typing commands into the terminal. For instance, creating a file, deleting\n",
    "a file, making or deleting a folder, displaying the files in a directory, moving files, showing the time, how long the system has been up, hacking into another\n",
    "computer, deleting the entire file system on your own computer (not recommended!)...practically anything you can imagine. \n",
    "\n",
    "You can find a list of terminal commands by googling \"Bash cheat sheet\". Here's a\n",
    "[reasonable list of terminal commands](https://cheatography.com/davechild/cheat-sheets/linux-command-line/pdf/). \n",
    "Let's see a few of the more important commands:\n",
    "\n",
    "    * ls\n",
    "    * pwd\n",
    "    * cd\n",
    "    * mv \n",
    "    * rm\n",
    "-> open up a terminal to demonstrate the above commands."
   ]
  },
  {
   "cell_type": "markdown",
   "id": "4cf983ef-c94c-44dd-85d2-0aba51daa7be",
   "metadata": {},
   "source": [
    "### The Julia REPL\n",
    "Once you are on the department's server, you can open a new terminal by going to the File-> New Launcher menu and then clicking on the Terminal icon. Once the terminal is open, simply type *julia* at the prompt.\n",
    "\n",
    "From the *julia>* prompt, you can hit the right square bracket ( ] ) key to enter the built in julia package manager. This is where one can inspect, add, or remove packages. For the most part, you will not need to worry about this on the server, as I maintain the available packages in Julia for everyone. However, if you install Julia on your own machine, the built in package manager is something you will have to use yourself to add packages to Julia. Here are some common commands you'll need to know if installing Julia on your own machine:\n",
    "\n",
    "    * invoking the package manager:  ]\n",
    "    * adding packages (pkg > add PackageName )\n",
    "    * seeing the installed packages ( pkg> status )\n",
    "    * update all packages ( pkg> update )\n",
    "\n",
    "To exit the package manager, simply hit the backspace or delete key. \n",
    "\n",
    "Once back in the REPL, we can enter Julia commands, which we will now illustrate. \n",
    "\n",
    "-> demonstrate some features including\n",
    "\n",
    "    1. using as a calculator\n",
    "    2. defining variables including unicode characters\n",
    "    3. making a 1d array\n",
    "    4. defining a simple function\n",
    "    5. vectorizing the function\n",
    "    5. making a plot\n",
    "    \n",
    "\n"
   ]
  },
  {
   "cell_type": "markdown",
   "id": "13472e1e-612c-405f-bcb1-3c5abe590ca5",
   "metadata": {},
   "source": [
    "## The Jupyterlab interface"
   ]
  },
  {
   "cell_type": "code",
   "execution_count": null,
   "id": "0f488e18-db3c-4cb5-9973-10dfd4a33cdb",
   "metadata": {},
   "outputs": [],
   "source": []
  }
 ],
 "metadata": {
  "kernelspec": {
   "display_name": "Julia 1.8.4",
   "language": "julia",
   "name": "julia-1.8"
  },
  "language_info": {
   "file_extension": ".jl",
   "mimetype": "application/julia",
   "name": "julia",
   "version": "1.8.4"
  },
  "widgets": {
   "application/vnd.jupyter.widget-state+json": {
    "state": {},
    "version_major": 2,
    "version_minor": 0
   }
  }
 },
 "nbformat": 4,
 "nbformat_minor": 5
}
