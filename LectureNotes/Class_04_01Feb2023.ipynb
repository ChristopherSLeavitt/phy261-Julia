{
 "cells": [
  {
   "cell_type": "markdown",
   "metadata": {},
   "source": [
    "# Class 04: Logic, Conditionals and Recursion\n"
   ]
  },
  {
   "cell_type": "markdown",
   "metadata": {},
   "source": [
    "## Homework question discussion\n",
    "Try this: <br>\n",
    "    1. open a terminal window in Jupyterlab (or in a desktop terminal) <br>\n",
    "    2. type > julia<br>\n",
    "    3. type > using BenchmarkTools<br>\n",
    "    4. In the REPL, type > ?@benchmark<br>\n",
    "    5. Read through the three examples provided and make sure you understand what is different in the last two example cases. <br>\n",
    "    6. **To check your understanding:**  *Which of the cases is testing the speed of the sum function only?* <br>"
   ]
  },
  {
   "cell_type": "markdown",
   "metadata": {},
   "source": [
    "## Floor and Modulus\n",
    "The *floor division operator* \\div <Tab> which gives ÷ divides two numbers and rounds down to the nearest integer:"
   ]
  },
  {
   "cell_type": "code",
   "execution_count": 2,
   "metadata": {},
   "outputs": [
    {
     "data": {
      "text/plain": [
       "0"
      ]
     },
     "execution_count": 2,
     "metadata": {},
     "output_type": "execute_result"
    }
   ],
   "source": [
    "1÷2"
   ]
  },
  {
   "cell_type": "markdown",
   "metadata": {},
   "source": [
    "or, "
   ]
  },
  {
   "cell_type": "code",
   "execution_count": 7,
   "metadata": {},
   "outputs": [
    {
     "data": {
      "text/plain": [
       "3"
      ]
     },
     "execution_count": 7,
     "metadata": {},
     "output_type": "execute_result"
    }
   ],
   "source": [
    "32÷10"
   ]
  },
  {
   "cell_type": "markdown",
   "metadata": {},
   "source": [
    "The modulus operator % divides two numbers and gives the remainder:"
   ]
  },
  {
   "cell_type": "code",
   "execution_count": 8,
   "metadata": {},
   "outputs": [
    {
     "data": {
      "text/plain": [
       "1"
      ]
     },
     "execution_count": 8,
     "metadata": {},
     "output_type": "execute_result"
    }
   ],
   "source": [
    "1 % 2"
   ]
  },
  {
   "cell_type": "code",
   "execution_count": 9,
   "metadata": {},
   "outputs": [
    {
     "data": {
      "text/plain": [
       "2"
      ]
     },
     "execution_count": 9,
     "metadata": {},
     "output_type": "execute_result"
    }
   ],
   "source": [
    "32 % 10"
   ]
  },
  {
   "cell_type": "markdown",
   "metadata": {},
   "source": [
    "These two operations are super convienent if you want, for example, to convert a time in seconds into \n",
    "days, minutes, and seconds. For example, suppose I have $\\frac{\\pi}{2}\\times 10^7\\,\\mathrm{s}$ and I \n",
    "want to know how many days, minutes and seconds this is."
   ]
  },
  {
   "cell_type": "code",
   "execution_count": 17,
   "metadata": {},
   "outputs": [],
   "source": [
    "t = (0.5π)*1e7;"
   ]
  },
  {
   "cell_type": "markdown",
   "metadata": {},
   "source": [
    "Now we can compute the seconds remaining in two ways; one using floor division:"
   ]
  },
  {
   "cell_type": "code",
   "execution_count": null,
   "metadata": {},
   "outputs": [],
   "source": []
  },
  {
   "cell_type": "markdown",
   "metadata": {},
   "source": [
    "and one using the modulous:"
   ]
  },
  {
   "cell_type": "code",
   "execution_count": null,
   "metadata": {},
   "outputs": [],
   "source": []
  },
  {
   "cell_type": "markdown",
   "metadata": {},
   "source": [
    "(Linked to Exercise 04.01)"
   ]
  },
  {
   "cell_type": "markdown",
   "metadata": {},
   "source": [
    "## Boolean Expressions and Conditionals\n",
    "When writing a program, you often need to decide what to do based on how some variable compares to something else. Is the value equal to something else?\n",
    "Or is it less than or equal to something else? Etc. A **Boolean expression** is one that is either *true* or *false*. For example:"
   ]
  },
  {
   "cell_type": "code",
   "execution_count": 18,
   "metadata": {},
   "outputs": [
    {
     "data": {
      "text/plain": [
       "false"
      ]
     },
     "execution_count": 18,
     "metadata": {},
     "output_type": "execute_result"
    }
   ],
   "source": [
    "1==10"
   ]
  },
  {
   "cell_type": "code",
   "execution_count": 20,
   "metadata": {},
   "outputs": [
    {
     "data": {
      "text/plain": [
       "true"
      ]
     },
     "execution_count": 20,
     "metadata": {},
     "output_type": "execute_result"
    }
   ],
   "source": [
    "2 == 4/2"
   ]
  },
  {
   "cell_type": "code",
   "execution_count": 21,
   "metadata": {},
   "outputs": [
    {
     "data": {
      "text/plain": [
       "true"
      ]
     },
     "execution_count": 21,
     "metadata": {},
     "output_type": "execute_result"
    }
   ],
   "source": [
    "2 == 5÷2"
   ]
  },
  {
   "cell_type": "markdown",
   "metadata": {},
   "source": [
    "Note that *true* and *false* are not *strings* but a new variable type called *Boolean*:"
   ]
  },
  {
   "cell_type": "code",
   "execution_count": 22,
   "metadata": {},
   "outputs": [
    {
     "data": {
      "text/plain": [
       "Bool"
      ]
     },
     "execution_count": 22,
     "metadata": {},
     "output_type": "execute_result"
    }
   ],
   "source": [
    "typeof(true)"
   ]
  },
  {
   "cell_type": "markdown",
   "metadata": {},
   "source": [
    "### List of relational operators in Julia\n",
    "Fortunately in Julia, we have unicode character capability, so we can write the following:\n",
    "```julia\n",
    "x == y    # is x equal to y?\n",
    "x ≠ y     # is x not equal to y? (can also use != )\n",
    "x > y     # is x greater than y?\n",
    "x < y     # is x less than y?\n",
    "x ≥ y     # is x greater than or equal to y?  (can also use >= )\n",
    "x ≤ y     # is x less than or equal to y? (can also use <=)\n",
    "```"
   ]
  },
  {
   "cell_type": "markdown",
   "metadata": {},
   "source": [
    "## Logical operators\n",
    "In Julia (as in other languages) there are three *logical operators*: \n",
    "\n",
    "    and: &&\n",
    "    or  :  ||\n",
    "    not:  !\n",
    "    \n",
    "The meaning of these is exactly what you'd expect from what you may have learned in a \n",
    "philosophy, mathematics, or computer science course. For example, if you have two tests,\n",
    "x and y, then x && y is true if and only if *both* x and y are true; hence the following *truth table*:\n",
    "\n",
    "| x      | y             | x and y |\n",
    "| :---    |    :----:   |    :---:|\n",
    "| true   |true       | true  | \n",
    "| true   | false     | false  |\n",
    "| false  | true      | false  |\n",
    "| false  | false     | false  |\n",
    "\n",
    "another example: write a test so see if a number, n, is betwen 2 and 13:"
   ]
  },
  {
   "cell_type": "code",
   "execution_count": null,
   "metadata": {},
   "outputs": [],
   "source": []
  },
  {
   "cell_type": "markdown",
   "metadata": {},
   "source": [
    "write a test to see if a number is less than 2 or greater that 13:"
   ]
  },
  {
   "cell_type": "code",
   "execution_count": null,
   "metadata": {},
   "outputs": [],
   "source": []
  },
  {
   "cell_type": "markdown",
   "metadata": {},
   "source": [
    "## Conditional execution\n",
    "Now that we know how to execute Boolean tests, we can test conditions and create code that makes\n",
    "decisions based on the results of these tests. In Julia, this is done by the *if <some test is true> * construction\n",
    "which looks like this:\n",
    "    \n",
    "```Julia\n",
    "if  <some test is True>\n",
    "    <Do something>\n",
    "end\n",
    "```\n",
    "\n",
    "Another option is the *if ... else* construction:\n",
    "    \n",
    "```Julia\n",
    "if <some test is True>\n",
    "    <Do something>\n",
    "else\n",
    "    <Do some other thing>\n",
    "end\n",
    "```\n",
    "\n",
    "Or, even another option is the *if...elseif* construction:\n",
    "\n",
    " ```Julia\n",
    "if  <some test is True>\n",
    "    <Do something>\n",
    "elseif  <some other test is True>\n",
    "    <Do some other thing>\n",
    "end\n",
    "```\n",
    "    \n",
    "Let's do an example: Suppose you have two numbers: <br>\n",
    "*num1* and *num2*<br>\n",
    "Let's write code to determine the smallest number:"
   ]
  },
  {
   "cell_type": "code",
   "execution_count": null,
   "metadata": {},
   "outputs": [],
   "source": []
  },
  {
   "cell_type": "markdown",
   "metadata": {},
   "source": [
    "### Turn the test into a function"
   ]
  },
  {
   "cell_type": "code",
   "execution_count": null,
   "metadata": {},
   "outputs": [],
   "source": []
  },
  {
   "cell_type": "markdown",
   "metadata": {},
   "source": [
    "## Recursion\n",
    "Let's use all the tools from today to write a function to compute the factorial<br>\n",
    "(Julia has a built in function of the same name, so we'll call our function my_factorial):"
   ]
  },
  {
   "cell_type": "code",
   "execution_count": null,
   "metadata": {},
   "outputs": [],
   "source": [
    "\n",
    "        "
   ]
  }
 ],
 "metadata": {
  "kernelspec": {
   "display_name": "Julia 1.8.5",
   "language": "julia",
   "name": "julia-1.8"
  },
  "language_info": {
   "file_extension": ".jl",
   "mimetype": "application/julia",
   "name": "julia",
   "version": "1.8.5"
  }
 },
 "nbformat": 4,
 "nbformat_minor": 4
}
