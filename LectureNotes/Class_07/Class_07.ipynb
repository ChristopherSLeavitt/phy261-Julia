{
 "cells": [
  {
   "cell_type": "code",
   "execution_count": 1,
   "metadata": {},
   "outputs": [],
   "source": [
    "using Plots, LaTeXStrings, Distributions, BenchmarkTools\n",
    "gr()\n",
    "default(fontfamily = \"Computer Modern\", size=(600,400), titlefont = (16), legendfontsize = 10, \n",
    "        guidefont = (16, :darkgreen), tickfont = (12, :black), \n",
    "        framestyle = :box, yminorgrid = true, legend = :outertopright, dpi=600)"
   ]
  },
  {
   "cell_type": "markdown",
   "metadata": {},
   "source": [
    "\n",
    "# Class 07: 13 Feb 2023\n",
    "## More about Julia\n",
    "Items for today:<br>\n",
    "    1. Strings<br>\n",
    "    2. rand() & randstring() functions (part of base Julia and the Random package)<br>\n",
    "    3. Arrays <br>\n",
    "    4. Making a slider for a plot<br>\n",
    "    5. Generating a numerical password\n",
    "    \n",
    "\n",
    "\n",
    "### Cycling back: Strings\n",
    "We've talked about strings in Julia; a *string* is a set of *characters*; you can think of a string as an array or list of characters,\n",
    "and you address the individual characters by their position number in the string:"
   ]
  },
  {
   "cell_type": "code",
   "execution_count": 2,
   "metadata": {},
   "outputs": [
    {
     "data": {
      "text/plain": [
       "\"Baxter the Cat\""
      ]
     },
     "execution_count": 2,
     "metadata": {},
     "output_type": "execute_result"
    }
   ],
   "source": [
    "😺 = \"Baxter the Cat\"\n"
   ]
  },
  {
   "cell_type": "markdown",
   "metadata": {},
   "source": [
    "You can add to a string by the * operator:"
   ]
  },
  {
   "cell_type": "code",
   "execution_count": 3,
   "metadata": {},
   "outputs": [
    {
     "data": {
      "text/plain": [
       "\"Baxter the Cat is the best cat\""
      ]
     },
     "execution_count": 3,
     "metadata": {},
     "output_type": "execute_result"
    }
   ],
   "source": [
    "best_cat = 😺 * \" is the best cat\""
   ]
  },
  {
   "cell_type": "code",
   "execution_count": 4,
   "metadata": {},
   "outputs": [
    {
     "data": {
      "text/plain": [
       "'x': ASCII/Unicode U+0078 (category Ll: Letter, lowercase)"
      ]
     },
     "execution_count": 4,
     "metadata": {},
     "output_type": "execute_result"
    }
   ],
   "source": [
    "# pull out the third character in best_cat:\n",
    "best_cat[3]"
   ]
  },
  {
   "cell_type": "code",
   "execution_count": 5,
   "metadata": {},
   "outputs": [
    {
     "data": {
      "text/plain": [
       "\"axter\""
      ]
     },
     "execution_count": 5,
     "metadata": {},
     "output_type": "execute_result"
    }
   ],
   "source": [
    "# extract the second through 6th characters:\n",
    "best_cat[2:6]"
   ]
  },
  {
   "cell_type": "code",
   "execution_count": 13,
   "metadata": {},
   "outputs": [
    {
     "data": {
      "text/plain": [
       "\"Bxe h a stebs a\""
      ]
     },
     "execution_count": 13,
     "metadata": {},
     "output_type": "execute_result"
    }
   ],
   "source": [
    "# extract every other character starting from the first:\n",
    "best_cat[1:2:end]  \n"
   ]
  },
  {
   "cell_type": "code",
   "execution_count": 14,
   "metadata": {},
   "outputs": [
    {
     "data": {
      "text/plain": [
       "\" cat\""
      ]
     },
     "execution_count": 14,
     "metadata": {},
     "output_type": "execute_result"
    }
   ],
   "source": [
    "# last three characters\n",
    "best_cat[end-3:end]"
   ]
  },
  {
   "cell_type": "markdown",
   "metadata": {},
   "source": [
    "### The rand() and randstring() functions\n",
    "The rand() function is part of the base Julia distribution; you can see the documentation for this \n",
    "[here](https://docs.julialang.org/en/v1/stdlib/Random/#Random-generation-functions). Here are some examples\n",
    "of its usage:"
   ]
  },
  {
   "cell_type": "code",
   "execution_count": 15,
   "metadata": {},
   "outputs": [
    {
     "data": {
      "text/plain": [
       "4-element Vector{Int64}:\n",
       " 0\n",
       " 2\n",
       " 3\n",
       " 8"
      ]
     },
     "execution_count": 15,
     "metadata": {},
     "output_type": "execute_result"
    }
   ],
   "source": [
    "# vector of random digits of length 4 \n",
    "rand(0:9, 4)"
   ]
  },
  {
   "cell_type": "markdown",
   "metadata": {},
   "source": [
    "#### Create a password string composed created from a random numerical string of length n"
   ]
  },
  {
   "cell_type": "code",
   "execution_count": 18,
   "metadata": {},
   "outputs": [
    {
     "data": {
      "text/plain": [
       "\"093167638933300189\""
      ]
     },
     "execution_count": 18,
     "metadata": {},
     "output_type": "execute_result"
    }
   ],
   "source": [
    "function passwordGen(N)\n",
    "    password=\"\"\n",
    "    for i in 1:N\n",
    "        password = password * string(rand(0:9))\n",
    "    end\n",
    "    return password\n",
    "end\n",
    "passwordGen(18)"
   ]
  },
  {
   "cell_type": "code",
   "execution_count": 19,
   "metadata": {},
   "outputs": [
    {
     "data": {
      "text/plain": [
       "2×3 Matrix{Int64}:\n",
       " 0  0  5\n",
       " 6  5  8"
      ]
     },
     "execution_count": 19,
     "metadata": {},
     "output_type": "execute_result"
    }
   ],
   "source": [
    "# array of random digits of size 2x3\n",
    "rand(0:9, 2, 3)"
   ]
  },
  {
   "cell_type": "code",
   "execution_count": 20,
   "metadata": {},
   "outputs": [
    {
     "data": {
      "text/plain": [
       "5×2 Matrix{Float64}:\n",
       " 0.834561  0.6856\n",
       " 0.429994  0.671894\n",
       " 0.257707  0.293327\n",
       " 0.802226  0.0471516\n",
       " 0.995377  0.51955"
      ]
     },
     "execution_count": 20,
     "metadata": {},
     "output_type": "execute_result"
    }
   ],
   "source": [
    "# array of random floating point numbers of size 5x2\n",
    "rand(Float64,(5, 2))"
   ]
  },
  {
   "cell_type": "code",
   "execution_count": 23,
   "metadata": {},
   "outputs": [
    {
     "data": {
      "text/plain": [
       "\"ZnNic4hV\""
      ]
     },
     "execution_count": 23,
     "metadata": {},
     "output_type": "execute_result"
    }
   ],
   "source": [
    "# random string of length 8\n",
    "using Random\n",
    "randstring(8)"
   ]
  },
  {
   "cell_type": "markdown",
   "metadata": {},
   "source": [
    "### Arrays\n",
    "An array is a general object (of which a vector, is a special subset case). Let's make a 5 row by 3 column array of random integers\n",
    "between 0 and 9:"
   ]
  },
  {
   "cell_type": "code",
   "execution_count": 29,
   "metadata": {},
   "outputs": [
    {
     "data": {
      "text/plain": [
       "5×3 Matrix{Int64}:\n",
       " 2  8  6\n",
       " 3  3  8\n",
       " 5  7  5\n",
       " 0  2  9\n",
       " 3  2  7"
      ]
     },
     "execution_count": 29,
     "metadata": {},
     "output_type": "execute_result"
    }
   ],
   "source": [
    "A = rand(0:9, 5, 3)"
   ]
  },
  {
   "cell_type": "markdown",
   "metadata": {},
   "source": [
    "Now, suppose we want to extract the element (4,3); how do we do that?"
   ]
  },
  {
   "cell_type": "code",
   "execution_count": 30,
   "metadata": {},
   "outputs": [
    {
     "data": {
      "text/plain": [
       "9"
      ]
     },
     "execution_count": 30,
     "metadata": {},
     "output_type": "execute_result"
    }
   ],
   "source": [
    "A[4,3]"
   ]
  },
  {
   "cell_type": "markdown",
   "metadata": {},
   "source": [
    "Fill in the following:"
   ]
  },
  {
   "cell_type": "code",
   "execution_count": 32,
   "metadata": {},
   "outputs": [
    {
     "name": "stdout",
     "output_type": "stream",
     "text": [
      "[2, 8, 6]\n"
     ]
    }
   ],
   "source": [
    "# print out first row of A\n",
    "A[1, : ]\n",
    "println(A[1, : ])"
   ]
  },
  {
   "cell_type": "code",
   "execution_count": 33,
   "metadata": {},
   "outputs": [
    {
     "data": {
      "text/plain": [
       "5-element Vector{Int64}:\n",
       " 2\n",
       " 3\n",
       " 5\n",
       " 0\n",
       " 3"
      ]
     },
     "execution_count": 33,
     "metadata": {},
     "output_type": "execute_result"
    }
   ],
   "source": [
    "# print out first column of A\n",
    "A[ : ,1]"
   ]
  },
  {
   "cell_type": "code",
   "execution_count": 34,
   "metadata": {},
   "outputs": [
    {
     "data": {
      "text/plain": [
       "2×3 Matrix{Int64}:\n",
       " 3  3  8\n",
       " 5  7  5"
      ]
     },
     "execution_count": 34,
     "metadata": {},
     "output_type": "execute_result"
    }
   ],
   "source": [
    "# print out rows 2 and 3 of A\n",
    "A[2:3, : ]"
   ]
  },
  {
   "cell_type": "code",
   "execution_count": 35,
   "metadata": {},
   "outputs": [
    {
     "data": {
      "text/plain": [
       "5×2 Matrix{Int64}:\n",
       " 8  6\n",
       " 3  8\n",
       " 7  5\n",
       " 2  9\n",
       " 2  7"
      ]
     },
     "execution_count": 35,
     "metadata": {},
     "output_type": "execute_result"
    }
   ],
   "source": [
    "# print out columns 2 and 3 of A\n",
    "A[ :, 2:3]"
   ]
  },
  {
   "cell_type": "code",
   "execution_count": 38,
   "metadata": {},
   "outputs": [
    {
     "data": {
      "text/plain": [
       "2×3 Matrix{Int64}:\n",
       " 2  8  6\n",
       " 5  7  5"
      ]
     },
     "execution_count": 38,
     "metadata": {},
     "output_type": "execute_result"
    }
   ],
   "source": [
    "# print out the first and third rows of A\n",
    "A[1:2:3, :]\n",
    "A[[1,3], : ]"
   ]
  },
  {
   "cell_type": "markdown",
   "metadata": {},
   "source": [
    "### Creating a plot with a slider"
   ]
  },
  {
   "cell_type": "code",
   "execution_count": 1,
   "metadata": {},
   "outputs": [
    {
     "data": {
      "application/vnd.webio.node+json": {
       "children": [],
       "instanceArgs": {
        "namespace": "html",
        "tag": "div"
       },
       "nodeType": "DOM",
       "props": {},
       "type": "node"
      },
      "text/html": [
       "<div style=\"padding: 1em; background-color: #f8d6da; border: 1px solid #f5c6cb; font-weight: bold;\">\n",
       "<p>The WebIO Jupyter extension was not detected. See the\n",
       "<a href=\"https://juliagizmos.github.io/WebIO.jl/latest/providers/ijulia/\" target=\"_blank\">\n",
       "    WebIO Jupyter integration documentation\n",
       "</a>\n",
       "for more information.\n",
       "</div>\n"
      ],
      "text/plain": [
       "WebIO._IJuliaInit()"
      ]
     },
     "metadata": {
      "@webio": {
       "kernelId": "574bf2b2-40a8-49ca-b960-dde8331b44cf"
      }
     },
     "output_type": "display_data"
    }
   ],
   "source": [
    "using Interact, Plots, WebIO"
   ]
  },
  {
   "cell_type": "code",
   "execution_count": 10,
   "metadata": {},
   "outputs": [
    {
     "data": {
      "application/vnd.webio.node+json": {
       "children": [
        {
         "children": [
          {
           "children": [
            {
             "children": [
              {
               "children": [
                {
                 "children": [
                  "λ"
                 ],
                 "instanceArgs": {
                  "namespace": "html",
                  "tag": "label"
                 },
                 "nodeType": "DOM",
                 "props": {
                  "className": "interact ",
                  "style": {
                   "padding": "5px 10px 0px 10px"
                  }
                 },
                 "type": "node"
                }
               ],
               "instanceArgs": {
                "namespace": "html",
                "tag": "div"
               },
               "nodeType": "DOM",
               "props": {
                "className": "interact-flex-row-left"
               },
               "type": "node"
              },
              {
               "children": [
                {
                 "children": [],
                 "instanceArgs": {
                  "namespace": "html",
                  "tag": "input"
                 },
                 "nodeType": "DOM",
                 "props": {
                  "attributes": {
                   "data-bind": "numericValue: index, valueUpdate: 'input', event: {change: function (){this.changes(this.changes()+1)}}",
                   "orient": "horizontal",
                   "type": "range"
                  },
                  "className": "slider slider is-fullwidth",
                  "max": 50,
                  "min": 1,
                  "step": 1,
                  "style": {}
                 },
                 "type": "node"
                }
               ],
               "instanceArgs": {
                "namespace": "html",
                "tag": "div"
               },
               "nodeType": "DOM",
               "props": {
                "className": "interact-flex-row-center"
               },
               "type": "node"
              },
              {
               "children": [
                {
                 "children": [],
                 "instanceArgs": {
                  "namespace": "html",
                  "tag": "p"
                 },
                 "nodeType": "DOM",
                 "props": {
                  "attributes": {
                   "data-bind": "text: formatted_val"
                  }
                 },
                 "type": "node"
                }
               ],
               "instanceArgs": {
                "namespace": "html",
                "tag": "div"
               },
               "nodeType": "DOM",
               "props": {
                "className": "interact-flex-row-right"
               },
               "type": "node"
              }
             ],
             "instanceArgs": {
              "namespace": "html",
              "tag": "div"
             },
             "nodeType": "DOM",
             "props": {
              "className": "interact-flex-row interact-widget"
             },
             "type": "node"
            }
           ],
           "instanceArgs": {
            "handlers": {
             "changes": [
              "(function (val){return (val!=this.model[\"changes\"]()) ? (this.valueFromJulia[\"changes\"]=true, this.model[\"changes\"](val)) : undefined})"
             ],
             "index": [
              "(function (val){return (val!=this.model[\"index\"]()) ? (this.valueFromJulia[\"index\"]=true, this.model[\"index\"](val)) : undefined})"
             ]
            },
            "id": "9814050476510015638",
            "imports": {
             "data": [
              {
               "name": "knockout",
               "type": "js",
               "url": "/assetserver/29f2f9bc2710e2f2cb1485988fc1067fea65496a-knockout.js"
              },
              {
               "name": "knockout_punches",
               "type": "js",
               "url": "/assetserver/a0191d716088ea54b8651b8b4d21b48ebae443be-knockout_punches.js"
              },
              {
               "name": null,
               "type": "js",
               "url": "/assetserver/4b0cc8169ef62fdcea10b858b38bbe3fbacc6aec-all.js"
              },
              {
               "name": null,
               "type": "css",
               "url": "/assetserver/65c521d4d337d579e07c3ee9f17e725541a097cb-style.css"
              },
              {
               "name": null,
               "type": "css",
               "url": "/assetserver/52f6b8eddf5355f798a1caaa1ebb9d37bf135d6a-bulma_confined.min.css"
              }
             ],
             "type": "async_block"
            },
            "mount_callbacks": [
             "function () {\n    var handler = (function (ko, koPunches) {\n    ko.punches.enableAll();\n    ko.bindingHandlers.numericValue = {\n        init: function(element, valueAccessor, allBindings, data, context) {\n            var stringified = ko.observable(ko.unwrap(valueAccessor()));\n            stringified.subscribe(function(value) {\n                var val = parseFloat(value);\n                if (!isNaN(val)) {\n                    valueAccessor()(val);\n                }\n            });\n            valueAccessor().subscribe(function(value) {\n                var str = JSON.stringify(value);\n                if ((str == \"0\") && ([\"-0\", \"-0.\"].indexOf(stringified()) >= 0))\n                     return;\n                 if ([\"null\", \"\"].indexOf(str) >= 0)\n                     return;\n                stringified(str);\n            });\n            ko.applyBindingsToNode(\n                element,\n                {\n                    value: stringified,\n                    valueUpdate: allBindings.get('valueUpdate'),\n                },\n                context,\n            );\n        }\n    };\n    var json_data = {\"formatted_vals\":[\"0.1\",\"0.2\",\"0.3\",\"0.4\",\"0.5\",\"0.6\",\"0.7\",\"0.8\",\"0.9\",\"1.0\",\"1.1\",\"1.2\",\"1.3\",\"1.4\",\"1.5\",\"1.6\",\"1.7\",\"1.8\",\"1.9\",\"2.0\",\"2.1\",\"2.2\",\"2.3\",\"2.4\",\"2.5\",\"2.6\",\"2.7\",\"2.8\",\"2.9\",\"3.0\",\"3.1\",\"3.2\",\"3.3\",\"3.4\",\"3.5\",\"3.6\",\"3.7\",\"3.8\",\"3.9\",\"4.0\",\"4.1\",\"4.2\",\"4.3\",\"4.4\",\"4.5\",\"4.6\",\"4.7\",\"4.8\",\"4.9\",\"5.0\"],\"changes\":WebIO.getval({\"name\":\"changes\",\"scope\":\"9814050476510015638\",\"id\":\"5383363504802502826\",\"type\":\"observable\"}),\"index\":WebIO.getval({\"name\":\"index\",\"scope\":\"9814050476510015638\",\"id\":\"14258036597808198953\",\"type\":\"observable\"})};\n    var self = this;\n    function AppViewModel() {\n        for (var key in json_data) {\n            var el = json_data[key];\n            this[key] = Array.isArray(el) ? ko.observableArray(el) : ko.observable(el);\n        }\n        \n        [this[\"formatted_val\"]=ko.computed(    function(){\n        return this.formatted_vals()[parseInt(this.index())-(1)];\n    }\n,this)]\n        [this[\"changes\"].subscribe((function (val){!(this.valueFromJulia[\"changes\"]) ? (WebIO.setval({\"name\":\"changes\",\"scope\":\"9814050476510015638\",\"id\":\"5383363504802502826\",\"type\":\"observable\"},val)) : undefined; return this.valueFromJulia[\"changes\"]=false}),self),this[\"index\"].subscribe((function (val){!(this.valueFromJulia[\"index\"]) ? (WebIO.setval({\"name\":\"index\",\"scope\":\"9814050476510015638\",\"id\":\"14258036597808198953\",\"type\":\"observable\"},val)) : undefined; return this.valueFromJulia[\"index\"]=false}),self)]\n        \n    }\n    self.model = new AppViewModel();\n    self.valueFromJulia = {};\n    for (var key in json_data) {\n        self.valueFromJulia[key] = false;\n    }\n    ko.applyBindings(self.model, self.dom);\n}\n);\n    (WebIO.importBlock({\"data\":[{\"name\":\"knockout\",\"type\":\"js\",\"url\":\"/assetserver/29f2f9bc2710e2f2cb1485988fc1067fea65496a-knockout.js\"},{\"name\":\"knockout_punches\",\"type\":\"js\",\"url\":\"/assetserver/a0191d716088ea54b8651b8b4d21b48ebae443be-knockout_punches.js\"}],\"type\":\"async_block\"})).then((imports) => handler.apply(this, imports));\n}\n"
            ],
            "observables": {
             "changes": {
              "id": "5383363504802502826",
              "sync": false,
              "value": 0
             },
             "index": {
              "id": "14258036597808198953",
              "sync": true,
              "value": 25
             }
            },
            "systemjs_options": null
           },
           "nodeType": "Scope",
           "props": {},
           "type": "node"
          }
         ],
         "instanceArgs": {
          "namespace": "html",
          "tag": "div"
         },
         "nodeType": "DOM",
         "props": {
          "className": "field interact-widget"
         },
         "type": "node"
        },
        {
         "children": [
          {
           "children": [
            {
             "children": [
              {
               "children": [
                {
                 "children": [
                  "ϕ"
                 ],
                 "instanceArgs": {
                  "namespace": "html",
                  "tag": "label"
                 },
                 "nodeType": "DOM",
                 "props": {
                  "className": "interact ",
                  "style": {
                   "padding": "5px 10px 0px 10px"
                  }
                 },
                 "type": "node"
                }
               ],
               "instanceArgs": {
                "namespace": "html",
                "tag": "div"
               },
               "nodeType": "DOM",
               "props": {
                "className": "interact-flex-row-left"
               },
               "type": "node"
              },
              {
               "children": [
                {
                 "children": [],
                 "instanceArgs": {
                  "namespace": "html",
                  "tag": "input"
                 },
                 "nodeType": "DOM",
                 "props": {
                  "attributes": {
                   "data-bind": "numericValue: index, valueUpdate: 'input', event: {change: function (){this.changes(this.changes()+1)}}",
                   "orient": "horizontal",
                   "type": "range"
                  },
                  "className": "slider slider is-fullwidth",
                  "max": 51,
                  "min": 1,
                  "step": 1,
                  "style": {}
                 },
                 "type": "node"
                }
               ],
               "instanceArgs": {
                "namespace": "html",
                "tag": "div"
               },
               "nodeType": "DOM",
               "props": {
                "className": "interact-flex-row-center"
               },
               "type": "node"
              },
              {
               "children": [
                {
                 "children": [],
                 "instanceArgs": {
                  "namespace": "html",
                  "tag": "p"
                 },
                 "nodeType": "DOM",
                 "props": {
                  "attributes": {
                   "data-bind": "text: formatted_val"
                  }
                 },
                 "type": "node"
                }
               ],
               "instanceArgs": {
                "namespace": "html",
                "tag": "div"
               },
               "nodeType": "DOM",
               "props": {
                "className": "interact-flex-row-right"
               },
               "type": "node"
              }
             ],
             "instanceArgs": {
              "namespace": "html",
              "tag": "div"
             },
             "nodeType": "DOM",
             "props": {
              "className": "interact-flex-row interact-widget"
             },
             "type": "node"
            }
           ],
           "instanceArgs": {
            "handlers": {
             "changes": [
              "(function (val){return (val!=this.model[\"changes\"]()) ? (this.valueFromJulia[\"changes\"]=true, this.model[\"changes\"](val)) : undefined})"
             ],
             "index": [
              "(function (val){return (val!=this.model[\"index\"]()) ? (this.valueFromJulia[\"index\"]=true, this.model[\"index\"](val)) : undefined})"
             ]
            },
            "id": "6357289861823596709",
            "imports": {
             "data": [
              {
               "name": "knockout",
               "type": "js",
               "url": "/assetserver/29f2f9bc2710e2f2cb1485988fc1067fea65496a-knockout.js"
              },
              {
               "name": "knockout_punches",
               "type": "js",
               "url": "/assetserver/a0191d716088ea54b8651b8b4d21b48ebae443be-knockout_punches.js"
              },
              {
               "name": null,
               "type": "js",
               "url": "/assetserver/4b0cc8169ef62fdcea10b858b38bbe3fbacc6aec-all.js"
              },
              {
               "name": null,
               "type": "css",
               "url": "/assetserver/65c521d4d337d579e07c3ee9f17e725541a097cb-style.css"
              },
              {
               "name": null,
               "type": "css",
               "url": "/assetserver/52f6b8eddf5355f798a1caaa1ebb9d37bf135d6a-bulma_confined.min.css"
              }
             ],
             "type": "async_block"
            },
            "mount_callbacks": [
             "function () {\n    var handler = (function (ko, koPunches) {\n    ko.punches.enableAll();\n    ko.bindingHandlers.numericValue = {\n        init: function(element, valueAccessor, allBindings, data, context) {\n            var stringified = ko.observable(ko.unwrap(valueAccessor()));\n            stringified.subscribe(function(value) {\n                var val = parseFloat(value);\n                if (!isNaN(val)) {\n                    valueAccessor()(val);\n                }\n            });\n            valueAccessor().subscribe(function(value) {\n                var str = JSON.stringify(value);\n                if ((str == \"0\") && ([\"-0\", \"-0.\"].indexOf(stringified()) >= 0))\n                     return;\n                 if ([\"null\", \"\"].indexOf(str) >= 0)\n                     return;\n                stringified(str);\n            });\n            ko.applyBindingsToNode(\n                element,\n                {\n                    value: stringified,\n                    valueUpdate: allBindings.get('valueUpdate'),\n                },\n                context,\n            );\n        }\n    };\n    var json_data = {\"formatted_vals\":[\"0.0\",\"0.1\",\"0.2\",\"0.3\",\"0.4\",\"0.5\",\"0.6\",\"0.7\",\"0.8\",\"0.9\",\"1.0\",\"1.1\",\"1.2\",\"1.3\",\"1.4\",\"1.5\",\"1.6\",\"1.7\",\"1.8\",\"1.9\",\"2.0\",\"2.1\",\"2.2\",\"2.3\",\"2.4\",\"2.5\",\"2.6\",\"2.7\",\"2.8\",\"2.9\",\"3.0\",\"3.1\",\"3.2\",\"3.3\",\"3.4\",\"3.5\",\"3.6\",\"3.7\",\"3.8\",\"3.9\",\"4.0\",\"4.1\",\"4.2\",\"4.3\",\"4.4\",\"4.5\",\"4.6\",\"4.7\",\"4.8\",\"4.9\",\"5.0\"],\"changes\":WebIO.getval({\"name\":\"changes\",\"scope\":\"6357289861823596709\",\"id\":\"14407004027402472118\",\"type\":\"observable\"}),\"index\":WebIO.getval({\"name\":\"index\",\"scope\":\"6357289861823596709\",\"id\":\"781732082128051211\",\"type\":\"observable\"})};\n    var self = this;\n    function AppViewModel() {\n        for (var key in json_data) {\n            var el = json_data[key];\n            this[key] = Array.isArray(el) ? ko.observableArray(el) : ko.observable(el);\n        }\n        \n        [this[\"formatted_val\"]=ko.computed(    function(){\n        return this.formatted_vals()[parseInt(this.index())-(1)];\n    }\n,this)]\n        [this[\"changes\"].subscribe((function (val){!(this.valueFromJulia[\"changes\"]) ? (WebIO.setval({\"name\":\"changes\",\"scope\":\"6357289861823596709\",\"id\":\"14407004027402472118\",\"type\":\"observable\"},val)) : undefined; return this.valueFromJulia[\"changes\"]=false}),self),this[\"index\"].subscribe((function (val){!(this.valueFromJulia[\"index\"]) ? (WebIO.setval({\"name\":\"index\",\"scope\":\"6357289861823596709\",\"id\":\"781732082128051211\",\"type\":\"observable\"},val)) : undefined; return this.valueFromJulia[\"index\"]=false}),self)]\n        \n    }\n    self.model = new AppViewModel();\n    self.valueFromJulia = {};\n    for (var key in json_data) {\n        self.valueFromJulia[key] = false;\n    }\n    ko.applyBindings(self.model, self.dom);\n}\n);\n    (WebIO.importBlock({\"data\":[{\"name\":\"knockout\",\"type\":\"js\",\"url\":\"/assetserver/29f2f9bc2710e2f2cb1485988fc1067fea65496a-knockout.js\"},{\"name\":\"knockout_punches\",\"type\":\"js\",\"url\":\"/assetserver/a0191d716088ea54b8651b8b4d21b48ebae443be-knockout_punches.js\"}],\"type\":\"async_block\"})).then((imports) => handler.apply(this, imports));\n}\n"
            ],
            "observables": {
             "changes": {
              "id": "14407004027402472118",
              "sync": false,
              "value": 0
             },
             "index": {
              "id": "781732082128051211",
              "sync": true,
              "value": 26
             }
            },
            "systemjs_options": null
           },
           "nodeType": "Scope",
           "props": {},
           "type": "node"
          }
         ],
         "instanceArgs": {
          "namespace": "html",
          "tag": "div"
         },
         "nodeType": "DOM",
         "props": {
          "className": "field interact-widget"
         },
         "type": "node"
        },
        {
         "children": [
          {
           "children": [],
           "instanceArgs": {
            "id": "17851052287602782082",
            "name": "obs-node"
           },
           "nodeType": "ObservableNode",
           "props": {},
           "type": "node"
          }
         ],
         "instanceArgs": {
          "handlers": {},
          "id": "11879562999573352570",
          "imports": {
           "data": [],
           "type": "async_block"
          },
          "mount_callbacks": [],
          "observables": {
           "obs-node": {
            "id": "17851052287602782082",
            "sync": false,
            "value": {
             "children": [
              {
               "children": [],
               "instanceArgs": {
                "namespace": "html",
                "tag": "div"
               },
               "nodeType": "DOM",
               "props": {
                "setInnerHtml": "<?xml version=\"1.0\" encoding=\"utf-8\"?>\n<svg xmlns=\"http://www.w3.org/2000/svg\" xmlns:xlink=\"http://www.w3.org/1999/xlink\" width=\"600\" height=\"400\" viewBox=\"0 0 2400 1600\">\n<defs>\n  <clipPath id=\"clip240\">\n    <rect x=\"0\" y=\"0\" width=\"2400\" height=\"1600\"/>\n  </clipPath>\n</defs>\n<path clip-path=\"url(#clip240)\" d=\"M0 1600 L2400 1600 L2400 0 L0 0  Z\" fill=\"#ffffff\" fill-rule=\"evenodd\" fill-opacity=\"1\"/>\n<defs>\n  <clipPath id=\"clip241\">\n    <rect x=\"480\" y=\"0\" width=\"1681\" height=\"1600\"/>\n  </clipPath>\n</defs>\n<path clip-path=\"url(#clip240)\" d=\"M193.936 1486.45 L2352.76 1486.45 L2352.76 47.2441 L193.936 47.2441  Z\" fill=\"#ffffff\" fill-rule=\"evenodd\" fill-opacity=\"1\"/>\n<defs>\n  <clipPath id=\"clip242\">\n    <rect x=\"193\" y=\"47\" width=\"2160\" height=\"1440\"/>\n  </clipPath>\n</defs>\n<polyline clip-path=\"url(#clip242)\" style=\"stroke:#000000; stroke-linecap:round; stroke-linejoin:round; stroke-width:2; stroke-opacity:0.1; fill:none\" points=\"255.035,1486.45 255.035,47.2441 \"/>\n<polyline clip-path=\"url(#clip242)\" style=\"stroke:#000000; stroke-linecap:round; stroke-linejoin:round; stroke-width:2; stroke-opacity:0.1; fill:none\" points=\"764.19,1486.45 764.19,47.2441 \"/>\n<polyline clip-path=\"url(#clip242)\" style=\"stroke:#000000; stroke-linecap:round; stroke-linejoin:round; stroke-width:2; stroke-opacity:0.1; fill:none\" points=\"1273.35,1486.45 1273.35,47.2441 \"/>\n<polyline clip-path=\"url(#clip242)\" style=\"stroke:#000000; stroke-linecap:round; stroke-linejoin:round; stroke-width:2; stroke-opacity:0.1; fill:none\" points=\"1782.5,1486.45 1782.5,47.2441 \"/>\n<polyline clip-path=\"url(#clip242)\" style=\"stroke:#000000; stroke-linecap:round; stroke-linejoin:round; stroke-width:2; stroke-opacity:0.1; fill:none\" points=\"2291.66,1486.45 2291.66,47.2441 \"/>\n<polyline clip-path=\"url(#clip240)\" style=\"stroke:#000000; stroke-linecap:round; stroke-linejoin:round; stroke-width:4; stroke-opacity:1; fill:none\" points=\"193.936,1486.45 2352.76,1486.45 \"/>\n<polyline clip-path=\"url(#clip240)\" style=\"stroke:#000000; stroke-linecap:round; stroke-linejoin:round; stroke-width:4; stroke-opacity:1; fill:none\" points=\"255.035,1486.45 255.035,1467.55 \"/>\n<polyline clip-path=\"url(#clip240)\" style=\"stroke:#000000; stroke-linecap:round; stroke-linejoin:round; stroke-width:4; stroke-opacity:1; fill:none\" points=\"764.19,1486.45 764.19,1467.55 \"/>\n<polyline clip-path=\"url(#clip240)\" style=\"stroke:#000000; stroke-linecap:round; stroke-linejoin:round; stroke-width:4; stroke-opacity:1; fill:none\" points=\"1273.35,1486.45 1273.35,1467.55 \"/>\n<polyline clip-path=\"url(#clip240)\" style=\"stroke:#000000; stroke-linecap:round; stroke-linejoin:round; stroke-width:4; stroke-opacity:1; fill:none\" points=\"1782.5,1486.45 1782.5,1467.55 \"/>\n<polyline clip-path=\"url(#clip240)\" style=\"stroke:#000000; stroke-linecap:round; stroke-linejoin:round; stroke-width:4; stroke-opacity:1; fill:none\" points=\"2291.66,1486.45 2291.66,1467.55 \"/>\n<path clip-path=\"url(#clip240)\" d=\"M217.338 1517.37 Q213.727 1517.37 211.898 1520.93 Q210.093 1524.47 210.093 1531.6 Q210.093 1538.71 211.898 1542.27 Q213.727 1545.82 217.338 1545.82 Q220.972 1545.82 222.778 1542.27 Q224.607 1538.71 224.607 1531.6 Q224.607 1524.47 222.778 1520.93 Q220.972 1517.37 217.338 1517.37 M217.338 1513.66 Q223.148 1513.66 226.204 1518.27 Q229.282 1522.85 229.282 1531.6 Q229.282 1540.33 226.204 1544.94 Q223.148 1549.52 217.338 1549.52 Q211.528 1549.52 208.449 1544.94 Q205.394 1540.33 205.394 1531.6 Q205.394 1522.85 208.449 1518.27 Q211.528 1513.66 217.338 1513.66 Z\" fill=\"#000000\" fill-rule=\"evenodd\" fill-opacity=\"1\" /><path clip-path=\"url(#clip240)\" d=\"M237.5 1542.97 L242.384 1542.97 L242.384 1548.85 L237.5 1548.85 L237.5 1542.97 Z\" fill=\"#000000\" fill-rule=\"evenodd\" fill-opacity=\"1\" /><path clip-path=\"url(#clip240)\" d=\"M262.569 1517.37 Q258.958 1517.37 257.13 1520.93 Q255.324 1524.47 255.324 1531.6 Q255.324 1538.71 257.13 1542.27 Q258.958 1545.82 262.569 1545.82 Q266.204 1545.82 268.009 1542.27 Q269.838 1538.71 269.838 1531.6 Q269.838 1524.47 268.009 1520.93 Q266.204 1517.37 262.569 1517.37 M262.569 1513.66 Q268.38 1513.66 271.435 1518.27 Q274.514 1522.85 274.514 1531.6 Q274.514 1540.33 271.435 1544.94 Q268.38 1549.52 262.569 1549.52 Q256.759 1549.52 253.681 1544.94 Q250.625 1540.33 250.625 1531.6 Q250.625 1522.85 253.681 1518.27 Q256.759 1513.66 262.569 1513.66 Z\" fill=\"#000000\" fill-rule=\"evenodd\" fill-opacity=\"1\" /><path clip-path=\"url(#clip240)\" d=\"M292.731 1517.37 Q289.12 1517.37 287.291 1520.93 Q285.486 1524.47 285.486 1531.6 Q285.486 1538.71 287.291 1542.27 Q289.12 1545.82 292.731 1545.82 Q296.365 1545.82 298.171 1542.27 Q300 1538.71 300 1531.6 Q300 1524.47 298.171 1520.93 Q296.365 1517.37 292.731 1517.37 M292.731 1513.66 Q298.541 1513.66 301.597 1518.27 Q304.676 1522.85 304.676 1531.6 Q304.676 1540.33 301.597 1544.94 Q298.541 1549.52 292.731 1549.52 Q286.921 1549.52 283.842 1544.94 Q280.787 1540.33 280.787 1531.6 Q280.787 1522.85 283.842 1518.27 Q286.921 1513.66 292.731 1513.66 Z\" fill=\"#000000\" fill-rule=\"evenodd\" fill-opacity=\"1\" /><path clip-path=\"url(#clip240)\" d=\"M726.991 1517.37 Q723.38 1517.37 721.552 1520.93 Q719.746 1524.47 719.746 1531.6 Q719.746 1538.71 721.552 1542.27 Q723.38 1545.82 726.991 1545.82 Q730.626 1545.82 732.431 1542.27 Q734.26 1538.71 734.26 1531.6 Q734.26 1524.47 732.431 1520.93 Q730.626 1517.37 726.991 1517.37 M726.991 1513.66 Q732.802 1513.66 735.857 1518.27 Q738.936 1522.85 738.936 1531.6 Q738.936 1540.33 735.857 1544.94 Q732.802 1549.52 726.991 1549.52 Q721.181 1549.52 718.103 1544.94 Q715.047 1540.33 715.047 1531.6 Q715.047 1522.85 718.103 1518.27 Q721.181 1513.66 726.991 1513.66 Z\" fill=\"#000000\" fill-rule=\"evenodd\" fill-opacity=\"1\" /><path clip-path=\"url(#clip240)\" d=\"M747.153 1542.97 L752.038 1542.97 L752.038 1548.85 L747.153 1548.85 L747.153 1542.97 Z\" fill=\"#000000\" fill-rule=\"evenodd\" fill-opacity=\"1\" /><path clip-path=\"url(#clip240)\" d=\"M766.25 1544.91 L782.57 1544.91 L782.57 1548.85 L760.626 1548.85 L760.626 1544.91 Q763.288 1542.16 767.871 1537.53 Q772.477 1532.88 773.658 1531.53 Q775.903 1529.01 776.783 1527.27 Q777.686 1525.51 777.686 1523.82 Q777.686 1521.07 775.741 1519.33 Q773.82 1517.6 770.718 1517.6 Q768.519 1517.6 766.065 1518.36 Q763.635 1519.13 760.857 1520.68 L760.857 1515.95 Q763.681 1514.82 766.135 1514.24 Q768.588 1513.66 770.625 1513.66 Q775.996 1513.66 779.19 1516.35 Q782.385 1519.03 782.385 1523.52 Q782.385 1525.65 781.574 1527.57 Q780.787 1529.47 778.681 1532.07 Q778.102 1532.74 775 1535.95 Q771.899 1539.15 766.25 1544.91 Z\" fill=\"#000000\" fill-rule=\"evenodd\" fill-opacity=\"1\" /><path clip-path=\"url(#clip240)\" d=\"M792.431 1514.29 L810.787 1514.29 L810.787 1518.22 L796.713 1518.22 L796.713 1526.7 Q797.732 1526.35 798.75 1526.19 Q799.769 1526 800.787 1526 Q806.574 1526 809.954 1529.17 Q813.334 1532.34 813.334 1537.76 Q813.334 1543.34 809.861 1546.44 Q806.389 1549.52 800.07 1549.52 Q797.894 1549.52 795.625 1549.15 Q793.38 1548.78 790.973 1548.04 L790.973 1543.34 Q793.056 1544.47 795.278 1545.03 Q797.5 1545.58 799.977 1545.58 Q803.982 1545.58 806.32 1543.48 Q808.658 1541.37 808.658 1537.76 Q808.658 1534.15 806.32 1532.04 Q803.982 1529.94 799.977 1529.94 Q798.102 1529.94 796.227 1530.35 Q794.375 1530.77 792.431 1531.65 L792.431 1514.29 Z\" fill=\"#000000\" fill-rule=\"evenodd\" fill-opacity=\"1\" /><path clip-path=\"url(#clip240)\" d=\"M1235.65 1517.37 Q1232.04 1517.37 1230.21 1520.93 Q1228.4 1524.47 1228.4 1531.6 Q1228.4 1538.71 1230.21 1542.27 Q1232.04 1545.82 1235.65 1545.82 Q1239.28 1545.82 1241.09 1542.27 Q1242.92 1538.71 1242.92 1531.6 Q1242.92 1524.47 1241.09 1520.93 Q1239.28 1517.37 1235.65 1517.37 M1235.65 1513.66 Q1241.46 1513.66 1244.52 1518.27 Q1247.59 1522.85 1247.59 1531.6 Q1247.59 1540.33 1244.52 1544.94 Q1241.46 1549.52 1235.65 1549.52 Q1229.84 1549.52 1226.76 1544.94 Q1223.71 1540.33 1223.71 1531.6 Q1223.71 1522.85 1226.76 1518.27 Q1229.84 1513.66 1235.65 1513.66 Z\" fill=\"#000000\" fill-rule=\"evenodd\" fill-opacity=\"1\" /><path clip-path=\"url(#clip240)\" d=\"M1255.81 1542.97 L1260.7 1542.97 L1260.7 1548.85 L1255.81 1548.85 L1255.81 1542.97 Z\" fill=\"#000000\" fill-rule=\"evenodd\" fill-opacity=\"1\" /><path clip-path=\"url(#clip240)\" d=\"M1270.93 1514.29 L1289.28 1514.29 L1289.28 1518.22 L1275.21 1518.22 L1275.21 1526.7 Q1276.23 1526.35 1277.25 1526.19 Q1278.26 1526 1279.28 1526 Q1285.07 1526 1288.45 1529.17 Q1291.83 1532.34 1291.83 1537.76 Q1291.83 1543.34 1288.36 1546.44 Q1284.89 1549.52 1278.57 1549.52 Q1276.39 1549.52 1274.12 1549.15 Q1271.88 1548.78 1269.47 1548.04 L1269.47 1543.34 Q1271.55 1544.47 1273.77 1545.03 Q1276 1545.58 1278.47 1545.58 Q1282.48 1545.58 1284.82 1543.48 Q1287.15 1541.37 1287.15 1537.76 Q1287.15 1534.15 1284.82 1532.04 Q1282.48 1529.94 1278.47 1529.94 Q1276.6 1529.94 1274.72 1530.35 Q1272.87 1530.77 1270.93 1531.65 L1270.93 1514.29 Z\" fill=\"#000000\" fill-rule=\"evenodd\" fill-opacity=\"1\" /><path clip-path=\"url(#clip240)\" d=\"M1311.04 1517.37 Q1307.43 1517.37 1305.6 1520.93 Q1303.8 1524.47 1303.8 1531.6 Q1303.8 1538.71 1305.6 1542.27 Q1307.43 1545.82 1311.04 1545.82 Q1314.68 1545.82 1316.48 1542.27 Q1318.31 1538.71 1318.31 1531.6 Q1318.31 1524.47 1316.48 1520.93 Q1314.68 1517.37 1311.04 1517.37 M1311.04 1513.66 Q1316.85 1513.66 1319.91 1518.27 Q1322.99 1522.85 1322.99 1531.6 Q1322.99 1540.33 1319.91 1544.94 Q1316.85 1549.52 1311.04 1549.52 Q1305.23 1549.52 1302.15 1544.94 Q1299.1 1540.33 1299.1 1531.6 Q1299.1 1522.85 1302.15 1518.27 Q1305.23 1513.66 1311.04 1513.66 Z\" fill=\"#000000\" fill-rule=\"evenodd\" fill-opacity=\"1\" /><path clip-path=\"url(#clip240)\" d=\"M1745.3 1517.37 Q1741.69 1517.37 1739.86 1520.93 Q1738.06 1524.47 1738.06 1531.6 Q1738.06 1538.71 1739.86 1542.27 Q1741.69 1545.82 1745.3 1545.82 Q1748.94 1545.82 1750.74 1542.27 Q1752.57 1538.71 1752.57 1531.6 Q1752.57 1524.47 1750.74 1520.93 Q1748.94 1517.37 1745.3 1517.37 M1745.3 1513.66 Q1751.11 1513.66 1754.17 1518.27 Q1757.25 1522.85 1757.25 1531.6 Q1757.25 1540.33 1754.17 1544.94 Q1751.11 1549.52 1745.3 1549.52 Q1739.49 1549.52 1736.41 1544.94 Q1733.36 1540.33 1733.36 1531.6 Q1733.36 1522.85 1736.41 1518.27 Q1739.49 1513.66 1745.3 1513.66 Z\" fill=\"#000000\" fill-rule=\"evenodd\" fill-opacity=\"1\" /><path clip-path=\"url(#clip240)\" d=\"M1765.46 1542.97 L1770.35 1542.97 L1770.35 1548.85 L1765.46 1548.85 L1765.46 1542.97 Z\" fill=\"#000000\" fill-rule=\"evenodd\" fill-opacity=\"1\" /><path clip-path=\"url(#clip240)\" d=\"M1779.35 1514.29 L1801.58 1514.29 L1801.58 1516.28 L1789.03 1548.85 L1784.15 1548.85 L1795.95 1518.22 L1779.35 1518.22 L1779.35 1514.29 Z\" fill=\"#000000\" fill-rule=\"evenodd\" fill-opacity=\"1\" /><path clip-path=\"url(#clip240)\" d=\"M1810.74 1514.29 L1829.1 1514.29 L1829.1 1518.22 L1815.02 1518.22 L1815.02 1526.7 Q1816.04 1526.35 1817.06 1526.19 Q1818.08 1526 1819.1 1526 Q1824.89 1526 1828.27 1529.17 Q1831.64 1532.34 1831.64 1537.76 Q1831.64 1543.34 1828.17 1546.44 Q1824.7 1549.52 1818.38 1549.52 Q1816.21 1549.52 1813.94 1549.15 Q1811.69 1548.78 1809.28 1548.04 L1809.28 1543.34 Q1811.37 1544.47 1813.59 1545.03 Q1815.81 1545.58 1818.29 1545.58 Q1822.29 1545.58 1824.63 1543.48 Q1826.97 1541.37 1826.97 1537.76 Q1826.97 1534.15 1824.63 1532.04 Q1822.29 1529.94 1818.29 1529.94 Q1816.41 1529.94 1814.54 1530.35 Q1812.69 1530.77 1810.74 1531.65 L1810.74 1514.29 Z\" fill=\"#000000\" fill-rule=\"evenodd\" fill-opacity=\"1\" /><path clip-path=\"url(#clip240)\" d=\"M2243.73 1544.91 L2251.37 1544.91 L2251.37 1518.55 L2243.06 1520.21 L2243.06 1515.95 L2251.32 1514.29 L2256 1514.29 L2256 1544.91 L2263.64 1544.91 L2263.64 1548.85 L2243.73 1548.85 L2243.73 1544.91 Z\" fill=\"#000000\" fill-rule=\"evenodd\" fill-opacity=\"1\" /><path clip-path=\"url(#clip240)\" d=\"M2273.08 1542.97 L2277.97 1542.97 L2277.97 1548.85 L2273.08 1548.85 L2273.08 1542.97 Z\" fill=\"#000000\" fill-rule=\"evenodd\" fill-opacity=\"1\" /><path clip-path=\"url(#clip240)\" d=\"M2298.15 1517.37 Q2294.54 1517.37 2292.71 1520.93 Q2290.9 1524.47 2290.9 1531.6 Q2290.9 1538.71 2292.71 1542.27 Q2294.54 1545.82 2298.15 1545.82 Q2301.78 1545.82 2303.59 1542.27 Q2305.42 1538.71 2305.42 1531.6 Q2305.42 1524.47 2303.59 1520.93 Q2301.78 1517.37 2298.15 1517.37 M2298.15 1513.66 Q2303.96 1513.66 2307.02 1518.27 Q2310.09 1522.85 2310.09 1531.6 Q2310.09 1540.33 2307.02 1544.94 Q2303.96 1549.52 2298.15 1549.52 Q2292.34 1549.52 2289.26 1544.94 Q2286.21 1540.33 2286.21 1531.6 Q2286.21 1522.85 2289.26 1518.27 Q2292.34 1513.66 2298.15 1513.66 Z\" fill=\"#000000\" fill-rule=\"evenodd\" fill-opacity=\"1\" /><path clip-path=\"url(#clip240)\" d=\"M2328.31 1517.37 Q2324.7 1517.37 2322.87 1520.93 Q2321.07 1524.47 2321.07 1531.6 Q2321.07 1538.71 2322.87 1542.27 Q2324.7 1545.82 2328.31 1545.82 Q2331.95 1545.82 2333.75 1542.27 Q2335.58 1538.71 2335.58 1531.6 Q2335.58 1524.47 2333.75 1520.93 Q2331.95 1517.37 2328.31 1517.37 M2328.31 1513.66 Q2334.12 1513.66 2337.18 1518.27 Q2340.26 1522.85 2340.26 1531.6 Q2340.26 1540.33 2337.18 1544.94 Q2334.12 1549.52 2328.31 1549.52 Q2322.5 1549.52 2319.42 1544.94 Q2316.37 1540.33 2316.37 1531.6 Q2316.37 1522.85 2319.42 1518.27 Q2322.5 1513.66 2328.31 1513.66 Z\" fill=\"#000000\" fill-rule=\"evenodd\" fill-opacity=\"1\" /><polyline clip-path=\"url(#clip242)\" style=\"stroke:#000000; stroke-linecap:round; stroke-linejoin:round; stroke-width:2; stroke-opacity:0.1; fill:none\" points=\"193.936,1445.72 2352.76,1445.72 \"/>\n<polyline clip-path=\"url(#clip242)\" style=\"stroke:#000000; stroke-linecap:round; stroke-linejoin:round; stroke-width:2; stroke-opacity:0.1; fill:none\" points=\"193.936,1021.02 2352.76,1021.02 \"/>\n<polyline clip-path=\"url(#clip242)\" style=\"stroke:#000000; stroke-linecap:round; stroke-linejoin:round; stroke-width:2; stroke-opacity:0.1; fill:none\" points=\"193.936,596.318 2352.76,596.318 \"/>\n<polyline clip-path=\"url(#clip242)\" style=\"stroke:#000000; stroke-linecap:round; stroke-linejoin:round; stroke-width:2; stroke-opacity:0.1; fill:none\" points=\"193.936,171.618 2352.76,171.618 \"/>\n<polyline clip-path=\"url(#clip240)\" style=\"stroke:#000000; stroke-linecap:round; stroke-linejoin:round; stroke-width:4; stroke-opacity:1; fill:none\" points=\"193.936,1486.45 193.936,47.2441 \"/>\n<polyline clip-path=\"url(#clip240)\" style=\"stroke:#000000; stroke-linecap:round; stroke-linejoin:round; stroke-width:4; stroke-opacity:1; fill:none\" points=\"193.936,1445.72 212.834,1445.72 \"/>\n<polyline clip-path=\"url(#clip240)\" style=\"stroke:#000000; stroke-linecap:round; stroke-linejoin:round; stroke-width:4; stroke-opacity:1; fill:none\" points=\"193.936,1021.02 212.834,1021.02 \"/>\n<polyline clip-path=\"url(#clip240)\" style=\"stroke:#000000; stroke-linecap:round; stroke-linejoin:round; stroke-width:4; stroke-opacity:1; fill:none\" points=\"193.936,596.318 212.834,596.318 \"/>\n<polyline clip-path=\"url(#clip240)\" style=\"stroke:#000000; stroke-linecap:round; stroke-linejoin:round; stroke-width:4; stroke-opacity:1; fill:none\" points=\"193.936,171.618 212.834,171.618 \"/>\n<path clip-path=\"url(#clip240)\" d=\"M50.9921 1446.17 L80.6679 1446.17 L80.6679 1450.1 L50.9921 1450.1 L50.9921 1446.17 Z\" fill=\"#000000\" fill-rule=\"evenodd\" fill-opacity=\"1\" /><path clip-path=\"url(#clip240)\" d=\"M91.5706 1459.06 L99.2095 1459.06 L99.2095 1432.7 L90.8993 1434.36 L90.8993 1430.1 L99.1632 1428.44 L103.839 1428.44 L103.839 1459.06 L111.478 1459.06 L111.478 1463 L91.5706 1463 L91.5706 1459.06 Z\" fill=\"#000000\" fill-rule=\"evenodd\" fill-opacity=\"1\" /><path clip-path=\"url(#clip240)\" d=\"M120.922 1457.12 L125.807 1457.12 L125.807 1463 L120.922 1463 L120.922 1457.12 Z\" fill=\"#000000\" fill-rule=\"evenodd\" fill-opacity=\"1\" /><path clip-path=\"url(#clip240)\" d=\"M145.992 1431.51 Q142.381 1431.51 140.552 1435.08 Q138.746 1438.62 138.746 1445.75 Q138.746 1452.86 140.552 1456.42 Q142.381 1459.96 145.992 1459.96 Q149.626 1459.96 151.431 1456.42 Q153.26 1452.86 153.26 1445.75 Q153.26 1438.62 151.431 1435.08 Q149.626 1431.51 145.992 1431.51 M145.992 1427.81 Q151.802 1427.81 154.857 1432.42 Q157.936 1437 157.936 1445.75 Q157.936 1454.48 154.857 1459.08 Q151.802 1463.67 145.992 1463.67 Q140.181 1463.67 137.103 1459.08 Q134.047 1454.48 134.047 1445.75 Q134.047 1437 137.103 1432.42 Q140.181 1427.81 145.992 1427.81 Z\" fill=\"#000000\" fill-rule=\"evenodd\" fill-opacity=\"1\" /><path clip-path=\"url(#clip240)\" d=\"M51.9875 1021.47 L81.6633 1021.47 L81.6633 1025.4 L51.9875 1025.4 L51.9875 1021.47 Z\" fill=\"#000000\" fill-rule=\"evenodd\" fill-opacity=\"1\" /><path clip-path=\"url(#clip240)\" d=\"M101.756 1006.82 Q98.1447 1006.82 96.316 1010.38 Q94.5104 1013.92 94.5104 1021.05 Q94.5104 1028.16 96.316 1031.72 Q98.1447 1035.26 101.756 1035.26 Q105.39 1035.26 107.196 1031.72 Q109.024 1028.16 109.024 1021.05 Q109.024 1013.92 107.196 1010.38 Q105.39 1006.82 101.756 1006.82 M101.756 1003.11 Q107.566 1003.11 110.621 1007.72 Q113.7 1012.3 113.7 1021.05 Q113.7 1029.78 110.621 1034.38 Q107.566 1038.97 101.756 1038.97 Q95.9456 1038.97 92.8669 1034.38 Q89.8114 1029.78 89.8114 1021.05 Q89.8114 1012.3 92.8669 1007.72 Q95.9456 1003.11 101.756 1003.11 Z\" fill=\"#000000\" fill-rule=\"evenodd\" fill-opacity=\"1\" /><path clip-path=\"url(#clip240)\" d=\"M121.918 1032.42 L126.802 1032.42 L126.802 1038.3 L121.918 1038.3 L121.918 1032.42 Z\" fill=\"#000000\" fill-rule=\"evenodd\" fill-opacity=\"1\" /><path clip-path=\"url(#clip240)\" d=\"M137.033 1003.74 L155.39 1003.74 L155.39 1007.67 L141.316 1007.67 L141.316 1016.14 Q142.334 1015.8 143.353 1015.63 Q144.371 1015.45 145.39 1015.45 Q151.177 1015.45 154.556 1018.62 Q157.936 1021.79 157.936 1027.21 Q157.936 1032.79 154.464 1035.89 Q150.992 1038.97 144.672 1038.97 Q142.496 1038.97 140.228 1038.6 Q137.982 1038.23 135.575 1037.49 L135.575 1032.79 Q137.658 1033.92 139.881 1034.48 Q142.103 1035.03 144.58 1035.03 Q148.584 1035.03 150.922 1032.93 Q153.26 1030.82 153.26 1027.21 Q153.26 1023.6 150.922 1021.49 Q148.584 1019.38 144.58 1019.38 Q142.705 1019.38 140.83 1019.8 Q138.978 1020.22 137.033 1021.1 L137.033 1003.74 Z\" fill=\"#000000\" fill-rule=\"evenodd\" fill-opacity=\"1\" /><path clip-path=\"url(#clip240)\" d=\"M100.76 582.116 Q97.1493 582.116 95.3206 585.681 Q93.515 589.223 93.515 596.352 Q93.515 603.459 95.3206 607.023 Q97.1493 610.565 100.76 610.565 Q104.395 610.565 106.2 607.023 Q108.029 603.459 108.029 596.352 Q108.029 589.223 106.2 585.681 Q104.395 582.116 100.76 582.116 M100.76 578.413 Q106.571 578.413 109.626 583.019 Q112.705 587.602 112.705 596.352 Q112.705 605.079 109.626 609.686 Q106.571 614.269 100.76 614.269 Q94.9502 614.269 91.8715 609.686 Q88.816 605.079 88.816 596.352 Q88.816 587.602 91.8715 583.019 Q94.9502 578.413 100.76 578.413 Z\" fill=\"#000000\" fill-rule=\"evenodd\" fill-opacity=\"1\" /><path clip-path=\"url(#clip240)\" d=\"M120.922 607.718 L125.807 607.718 L125.807 613.598 L120.922 613.598 L120.922 607.718 Z\" fill=\"#000000\" fill-rule=\"evenodd\" fill-opacity=\"1\" /><path clip-path=\"url(#clip240)\" d=\"M145.992 582.116 Q142.381 582.116 140.552 585.681 Q138.746 589.223 138.746 596.352 Q138.746 603.459 140.552 607.023 Q142.381 610.565 145.992 610.565 Q149.626 610.565 151.431 607.023 Q153.26 603.459 153.26 596.352 Q153.26 589.223 151.431 585.681 Q149.626 582.116 145.992 582.116 M145.992 578.413 Q151.802 578.413 154.857 583.019 Q157.936 587.602 157.936 596.352 Q157.936 605.079 154.857 609.686 Q151.802 614.269 145.992 614.269 Q140.181 614.269 137.103 609.686 Q134.047 605.079 134.047 596.352 Q134.047 587.602 137.103 583.019 Q140.181 578.413 145.992 578.413 Z\" fill=\"#000000\" fill-rule=\"evenodd\" fill-opacity=\"1\" /><path clip-path=\"url(#clip240)\" d=\"M101.756 157.417 Q98.1447 157.417 96.316 160.982 Q94.5104 164.523 94.5104 171.653 Q94.5104 178.76 96.316 182.324 Q98.1447 185.866 101.756 185.866 Q105.39 185.866 107.196 182.324 Q109.024 178.76 109.024 171.653 Q109.024 164.523 107.196 160.982 Q105.39 157.417 101.756 157.417 M101.756 153.713 Q107.566 153.713 110.621 158.32 Q113.7 162.903 113.7 171.653 Q113.7 180.38 110.621 184.986 Q107.566 189.57 101.756 189.57 Q95.9456 189.57 92.8669 184.986 Q89.8114 180.38 89.8114 171.653 Q89.8114 162.903 92.8669 158.32 Q95.9456 153.713 101.756 153.713 Z\" fill=\"#000000\" fill-rule=\"evenodd\" fill-opacity=\"1\" /><path clip-path=\"url(#clip240)\" d=\"M121.918 183.019 L126.802 183.019 L126.802 188.898 L121.918 188.898 L121.918 183.019 Z\" fill=\"#000000\" fill-rule=\"evenodd\" fill-opacity=\"1\" /><path clip-path=\"url(#clip240)\" d=\"M137.033 154.338 L155.39 154.338 L155.39 158.274 L141.316 158.274 L141.316 166.746 Q142.334 166.398 143.353 166.236 Q144.371 166.051 145.39 166.051 Q151.177 166.051 154.556 169.223 Q157.936 172.394 157.936 177.81 Q157.936 183.389 154.464 186.491 Q150.992 189.57 144.672 189.57 Q142.496 189.57 140.228 189.199 Q137.982 188.829 135.575 188.088 L135.575 183.389 Q137.658 184.523 139.881 185.079 Q142.103 185.634 144.58 185.634 Q148.584 185.634 150.922 183.528 Q153.26 181.422 153.26 177.81 Q153.26 174.199 150.922 172.093 Q148.584 169.986 144.58 169.986 Q142.705 169.986 140.83 170.403 Q138.978 170.82 137.033 171.699 L137.033 154.338 Z\" fill=\"#000000\" fill-rule=\"evenodd\" fill-opacity=\"1\" /><polyline clip-path=\"url(#clip242)\" style=\"stroke:#009af9; stroke-linecap:round; stroke-linejoin:round; stroke-width:4; stroke-opacity:1; fill:none\" points=\"255.035,87.9763 257.071,89.6881 259.108,91.4032 261.145,93.1215 263.181,94.8429 265.218,96.5675 267.254,98.2952 269.291,100.026 271.328,101.76 273.364,103.497 275.401,105.238 277.438,106.981 279.474,108.727 281.511,110.477 283.547,112.23 285.584,113.985 287.621,115.744 289.657,117.506 291.694,119.271 293.731,121.038 295.767,122.809 297.804,124.583 299.84,126.36 301.877,128.139 303.914,129.922 305.95,131.708 307.987,133.496 310.023,135.288 312.06,137.082 314.097,138.879 316.133,140.68 318.17,142.483 320.207,144.289 322.243,146.097 324.28,147.909 326.316,149.724 328.353,151.541 330.39,153.361 332.426,155.184 334.463,157.01 336.5,158.838 338.536,160.669 340.573,162.503 342.609,164.34 344.646,166.179 346.683,168.022 348.719,169.866 350.756,171.714 352.793,173.564 354.829,175.417 356.866,177.273 358.902,179.131 360.939,180.992 362.976,182.855 365.012,184.721 367.049,186.59 369.086,188.461 371.122,190.335 373.159,192.212 375.195,194.091 377.232,195.972 379.269,197.856 381.305,199.743 383.342,201.632 385.379,203.523 387.415,205.417 389.452,207.314 391.488,209.213 393.525,211.114 395.562,213.018 397.598,214.924 399.635,216.833 401.671,218.744 403.708,220.658 405.745,222.573 407.781,224.492 409.818,226.412 411.855,228.335 413.891,230.26 415.928,232.188 417.964,234.117 420.001,236.05 422.038,237.984 424.074,239.921 426.111,241.859 428.148,243.801 430.184,245.744 432.221,247.689 434.257,249.637 436.294,251.587 438.331,253.539 440.367,255.494 442.404,257.45 444.441,259.409 446.477,261.369 448.514,263.332 450.55,265.297 452.587,267.264 454.624,269.233 456.66,271.205 458.697,273.178 460.734,275.153 462.77,277.13 464.807,279.11 466.843,281.091 468.88,283.074 470.917,285.06 472.953,287.047 474.99,289.036 477.027,291.027 479.063,293.02 481.1,295.015 483.136,297.012 485.173,299.011 487.21,301.012 489.246,303.014 491.283,305.019 493.32,307.025 495.356,309.033 497.393,311.043 499.429,313.054 501.466,315.068 503.503,317.083 505.539,319.1 507.576,321.119 509.612,323.139 511.649,325.161 513.686,327.185 515.722,329.211 517.759,331.238 519.796,333.267 521.832,335.298 523.869,337.33 525.905,339.364 527.942,341.4 529.979,343.437 532.015,345.476 534.052,347.516 536.089,349.558 538.125,351.601 540.162,353.646 542.198,355.693 544.235,357.741 546.272,359.791 548.308,361.842 550.345,363.894 552.382,365.948 554.418,368.004 556.455,370.061 558.491,372.119 560.528,374.179 562.565,376.24 564.601,378.303 566.638,380.367 568.675,382.432 570.711,384.499 572.748,386.567 574.784,388.636 576.821,390.706 578.858,392.778 580.894,394.852 582.931,396.926 584.968,399.002 587.004,401.079 589.041,403.157 591.077,405.237 593.114,407.317 595.151,409.399 597.187,411.482 599.224,413.566 601.261,415.652 603.297,417.738 605.334,419.826 607.37,421.914 609.407,424.004 611.444,426.095 613.48,428.187 615.517,430.28 617.553,432.374 619.59,434.47 621.627,436.566 623.663,438.663 625.7,440.761 627.737,442.86 629.773,444.96 631.81,447.061 633.846,449.163 635.883,451.266 637.92,453.37 639.956,455.475 641.993,457.581 644.03,459.687 646.066,461.795 648.103,463.903 650.139,466.012 652.176,468.122 654.213,470.233 656.249,472.344 658.286,474.456 660.323,476.569 662.359,478.683 664.396,480.798 666.432,482.913 668.469,485.029 670.506,487.146 672.542,489.263 674.579,491.381 676.616,493.5 678.652,495.62 680.689,497.74 682.725,499.86 684.762,501.981 686.799,504.103 688.835,506.226 690.872,508.349 692.909,510.472 694.945,512.596 696.982,514.721 699.018,516.846 701.055,518.972 703.092,521.098 705.128,523.225 707.165,525.352 709.202,527.479 711.238,529.607 713.275,531.736 715.311,533.864 717.348,535.994 719.385,538.123 721.421,540.253 723.458,542.383 725.494,544.514 727.531,546.645 729.568,548.776 731.604,550.908 733.641,553.04 735.678,555.172 737.714,557.304 739.751,559.437 741.787,561.57 743.824,563.703 745.861,565.836 747.897,567.97 749.934,570.103 751.971,572.237 754.007,574.371 756.044,576.505 758.08,578.639 760.117,580.774 762.154,582.908 764.19,585.043 766.227,587.177 768.264,589.312 770.3,591.447 772.337,593.582 774.373,595.716 776.41,597.851 778.447,599.986 780.483,602.121 782.52,604.255 784.557,606.39 786.593,608.525 788.63,610.659 790.666,612.794 792.703,614.928 794.74,617.062 796.776,619.196 798.813,621.33 800.85,623.464 802.886,625.597 804.923,627.731 806.959,629.864 808.996,631.997 811.033,634.13 813.069,636.262 815.106,638.395 817.142,640.527 819.179,642.658 821.216,644.79 823.252,646.921 825.289,649.052 827.326,651.182 829.362,653.312 831.399,655.442 833.435,657.572 835.472,659.701 837.509,661.829 839.545,663.957 841.582,666.085 843.619,668.212 845.655,670.339 847.692,672.466 849.728,674.592 851.765,676.717 853.802,678.842 855.838,680.966 857.875,683.09 859.912,685.214 861.948,687.336 863.985,689.459 866.021,691.58 868.058,693.701 870.095,695.822 872.131,697.941 874.168,700.06 876.205,702.179 878.241,704.297 880.278,706.414 882.314,708.53 884.351,710.646 886.388,712.761 888.424,714.875 890.461,716.989 892.498,719.101 894.534,721.213 896.571,723.325 898.607,725.435 900.644,727.544 902.681,729.653 904.717,731.761 906.754,733.868 908.791,735.974 910.827,738.08 912.864,740.184 914.9,742.287 916.937,744.39 918.974,746.492 921.01,748.592 923.047,750.692 925.083,752.791 927.12,754.888 929.157,756.985 931.193,759.081 933.23,761.176 935.267,763.269 937.303,765.362 939.34,767.453 941.376,769.544 943.413,771.633 945.45,773.721 947.486,775.808 949.523,777.894 951.56,779.979 953.596,782.063 955.633,784.146 957.669,786.227 959.706,788.307 961.743,790.386 963.779,792.464 965.816,794.54 967.853,796.615 969.889,798.689 971.926,800.762 973.962,802.833 975.999,804.903 978.036,806.972 980.072,809.039 982.109,811.105 984.146,813.17 986.182,815.234 988.219,817.295 990.255,819.356 992.292,821.415 994.329,823.473 996.365,825.529 998.402,827.584 1000.44,829.637 1002.48,831.689 1004.51,833.74 1006.55,835.789 1008.59,837.836 1010.62,839.882 1012.66,841.926 1014.69,843.969 1016.73,846.01 1018.77,848.05 1020.8,850.088 1022.84,852.125 1024.88,854.159 1026.91,856.193 1028.95,858.224 1030.99,860.254 1033.02,862.282 1035.06,864.309 1037.1,866.334 1039.13,868.357 1041.17,870.379 1043.21,872.398 1045.24,874.416 1047.28,876.432 1049.32,878.447 1051.35,880.46 1053.39,882.471 1055.43,884.48 1057.46,886.487 1059.5,888.492 1061.54,890.496 1063.57,892.498 1065.61,894.497 1067.65,896.495 1069.68,898.491 1071.72,900.486 1073.76,902.478 1075.79,904.468 1077.83,906.457 1079.87,908.443 1081.9,910.427 1083.94,912.41 1085.98,914.39 1088.01,916.369 1090.05,918.345 1092.09,920.319 1094.12,922.292 1096.16,924.262 1098.2,926.23 1100.23,928.196 1102.27,930.16 1104.31,932.122 1106.34,934.082 1108.38,936.04 1110.42,937.995 1112.45,939.949 1114.49,941.9 1116.53,943.849 1118.56,945.796 1120.6,947.74 1122.64,949.683 1124.67,951.623 1126.71,953.561 1128.75,955.496 1130.78,957.43 1132.82,959.361 1134.86,961.29 1136.89,963.216 1138.93,965.14 1140.97,967.062 1143,968.982 1145.04,970.899 1147.08,972.814 1149.11,974.726 1151.15,976.636 1153.19,978.544 1155.22,980.449 1157.26,982.352 1159.3,984.252 1161.33,986.15 1163.37,988.045 1165.4,989.938 1167.44,991.829 1169.48,993.717 1171.51,995.602 1173.55,997.485 1175.59,999.366 1177.62,1001.24 1179.66,1003.12 1181.7,1004.99 1183.73,1006.86 1185.77,1008.73 1187.81,1010.59 1189.84,1012.46 1191.88,1014.32 1193.92,1016.17 1195.95,1018.03 1197.99,1019.88 1200.03,1021.73 1202.06,1023.57 1204.1,1025.42 1206.14,1027.26 1208.17,1029.1 1210.21,1030.93 1212.25,1032.77 1214.28,1034.6 1216.32,1036.42 1218.36,1038.25 1220.39,1040.07 1222.43,1041.89 1224.47,1043.7 1226.5,1045.52 1228.54,1047.33 1230.58,1049.14 1232.61,1050.94 1234.65,1052.74 1236.69,1054.54 1238.72,1056.34 1240.76,1058.13 1242.8,1059.92 1244.83,1061.71 1246.87,1063.49 1248.91,1065.27 1250.94,1067.05 1252.98,1068.83 1255.02,1070.6 1257.05,1072.37 1259.09,1074.14 1261.13,1075.9 1263.16,1077.66 1265.2,1079.42 1267.24,1081.17 1269.27,1082.92 1271.31,1084.67 1273.35,1086.42 1275.38,1088.16 1277.42,1089.9 1279.46,1091.63 1281.49,1093.37 1283.53,1095.09 1285.57,1096.82 1287.6,1098.54 1289.64,1100.26 1291.68,1101.98 1293.71,1103.7 1295.75,1105.41 1297.79,1107.11 1299.82,1108.82 1301.86,1110.52 1303.9,1112.22 1305.93,1113.91 1307.97,1115.6 1310.01,1117.29 1312.04,1118.97 1314.08,1120.65 1316.12,1122.33 1318.15,1124.01 1320.19,1125.68 1322.22,1127.34 1324.26,1129.01 1326.3,1130.67 1328.33,1132.33 1330.37,1133.98 1332.41,1135.63 1334.44,1137.28 1336.48,1138.93 1338.52,1140.57 1340.55,1142.2 1342.59,1143.84 1344.63,1145.47 1346.66,1147.09 1348.7,1148.72 1350.74,1150.34 1352.77,1151.95 1354.81,1153.57 1356.85,1155.18 1358.88,1156.78 1360.92,1158.38 1362.96,1159.98 1364.99,1161.58 1367.03,1163.17 1369.07,1164.76 1371.1,1166.34 1373.14,1167.92 1375.18,1169.5 1377.21,1171.07 1379.25,1172.64 1381.29,1174.21 1383.32,1175.77 1385.36,1177.33 1387.4,1178.89 1389.43,1180.44 1391.47,1181.99 1393.51,1183.53 1395.54,1185.07 1397.58,1186.61 1399.62,1188.14 1401.65,1189.67 1403.69,1191.2 1405.73,1192.72 1407.76,1194.24 1409.8,1195.75 1411.84,1197.26 1413.87,1198.77 1415.91,1200.27 1417.95,1201.77 1419.98,1203.27 1422.02,1204.76 1424.06,1206.25 1426.09,1207.73 1428.13,1209.21 1430.17,1210.69 1432.2,1212.16 1434.24,1213.63 1436.28,1215.09 1438.31,1216.55 1440.35,1218.01 1442.39,1219.46 1444.42,1220.91 1446.46,1222.35 1448.5,1223.79 1450.53,1225.23 1452.57,1226.66 1454.61,1228.09 1456.64,1229.52 1458.68,1230.94 1460.72,1232.36 1462.75,1233.77 1464.79,1235.18 1466.83,1236.58 1468.86,1237.98 1470.9,1239.38 1472.93,1240.77 1474.97,1242.16 1477.01,1243.55 1479.04,1244.93 1481.08,1246.3 1483.12,1247.67 1485.15,1249.04 1487.19,1250.41 1489.23,1251.77 1491.26,1253.12 1493.3,1254.47 1495.34,1255.82 1497.37,1257.16 1499.41,1258.5 1501.45,1259.84 1503.48,1261.17 1505.52,1262.5 1507.56,1263.82 1509.59,1265.14 1511.63,1266.45 1513.67,1267.76 1515.7,1269.06 1517.74,1270.37 1519.78,1271.66 1521.81,1272.96 1523.85,1274.24 1525.89,1275.53 1527.92,1276.81 1529.96,1278.08 1532,1279.35 1534.03,1280.62 1536.07,1281.88 1538.11,1283.14 1540.14,1284.4 1542.18,1285.65 1544.22,1286.89 1546.25,1288.13 1548.29,1289.37 1550.33,1290.6 1552.36,1291.83 1554.4,1293.05 1556.44,1294.27 1558.47,1295.48 1560.51,1296.69 1562.55,1297.9 1564.58,1299.1 1566.62,1300.3 1568.66,1301.49 1570.69,1302.68 1572.73,1303.86 1574.77,1305.04 1576.8,1306.21 1578.84,1307.38 1580.88,1308.55 1582.91,1309.71 1584.95,1310.87 1586.99,1312.02 1589.02,1313.17 1591.06,1314.31 1593.1,1315.45 1595.13,1316.58 1597.17,1317.71 1599.21,1318.83 1601.24,1319.96 1603.28,1321.07 1605.32,1322.18 1607.35,1323.29 1609.39,1324.39 1611.43,1325.49 1613.46,1326.58 1615.5,1327.67 1617.54,1328.75 1619.57,1329.83 1621.61,1330.9 1623.65,1331.97 1625.68,1333.04 1627.72,1334.1 1629.75,1335.15 1631.79,1336.2 1633.83,1337.25 1635.86,1338.29 1637.9,1339.33 1639.94,1340.36 1641.97,1341.39 1644.01,1342.41 1646.05,1343.43 1648.08,1344.44 1650.12,1345.45 1652.16,1346.45 1654.19,1347.45 1656.23,1348.45 1658.27,1349.44 1660.3,1350.42 1662.34,1351.4 1664.38,1352.38 1666.41,1353.35 1668.45,1354.31 1670.49,1355.28 1672.52,1356.23 1674.56,1357.18 1676.6,1358.13 1678.63,1359.07 1680.67,1360.01 1682.71,1360.94 1684.74,1361.87 1686.78,1362.79 1688.82,1363.71 1690.85,1364.62 1692.89,1365.53 1694.93,1366.43 1696.96,1367.33 1699,1368.22 1701.04,1369.11 1703.07,1369.99 1705.11,1370.87 1707.15,1371.75 1709.18,1372.62 1711.22,1373.48 1713.26,1374.34 1715.29,1375.19 1717.33,1376.04 1719.37,1376.89 1721.4,1377.73 1723.44,1378.56 1725.48,1379.39 1727.51,1380.21 1729.55,1381.03 1731.59,1381.85 1733.62,1382.66 1735.66,1383.46 1737.7,1384.26 1739.73,1385.06 1741.77,1385.85 1743.81,1386.63 1745.84,1387.41 1747.88,1388.19 1749.92,1388.96 1751.95,1389.72 1753.99,1390.48 1756.03,1391.24 1758.06,1391.98 1760.1,1392.73 1762.14,1393.47 1764.17,1394.2 1766.21,1394.93 1768.25,1395.66 1770.28,1396.38 1772.32,1397.09 1774.36,1397.8 1776.39,1398.51 1778.43,1399.2 1780.46,1399.9 1782.5,1400.59 1784.54,1401.27 1786.57,1401.95 1788.61,1402.62 1790.65,1403.29 1792.68,1403.96 1794.72,1404.62 1796.76,1405.27 1798.79,1405.92 1800.83,1406.56 1802.87,1407.2 1804.9,1407.83 1806.94,1408.46 1808.98,1409.08 1811.01,1409.7 1813.05,1410.31 1815.09,1410.92 1817.12,1411.52 1819.16,1412.12 1821.2,1412.71 1823.23,1413.3 1825.27,1413.88 1827.31,1414.46 1829.34,1415.03 1831.38,1415.59 1833.42,1416.15 1835.45,1416.71 1837.49,1417.26 1839.53,1417.81 1841.56,1418.35 1843.6,1418.88 1845.64,1419.41 1847.67,1419.94 1849.71,1420.45 1851.75,1420.97 1853.78,1421.48 1855.82,1421.98 1857.86,1422.48 1859.89,1422.97 1861.93,1423.46 1863.97,1423.94 1866,1424.42 1868.04,1424.89 1870.08,1425.36 1872.11,1425.82 1874.15,1426.28 1876.19,1426.73 1878.22,1427.18 1880.26,1427.62 1882.3,1428.05 1884.33,1428.48 1886.37,1428.91 1888.41,1429.33 1890.44,1429.74 1892.48,1430.15 1894.52,1430.56 1896.55,1430.96 1898.59,1431.35 1900.63,1431.74 1902.66,1432.12 1904.7,1432.5 1906.74,1432.87 1908.77,1433.24 1910.81,1433.6 1912.85,1433.96 1914.88,1434.31 1916.92,1434.66 1918.96,1435 1920.99,1435.33 1923.03,1435.66 1925.07,1435.99 1927.1,1436.31 1929.14,1436.62 1931.18,1436.93 1933.21,1437.23 1935.25,1437.53 1937.28,1437.82 1939.32,1438.11 1941.36,1438.39 1943.39,1438.67 1945.43,1438.94 1947.47,1439.21 1949.5,1439.47 1951.54,1439.73 1953.58,1439.98 1955.61,1440.22 1957.65,1440.46 1959.69,1440.7 1961.72,1440.92 1963.76,1441.15 1965.8,1441.37 1967.83,1441.58 1969.87,1441.79 1971.91,1441.99 1973.94,1442.19 1975.98,1442.38 1978.02,1442.57 1980.05,1442.75 1982.09,1442.92 1984.13,1443.09 1986.16,1443.26 1988.2,1443.42 1990.24,1443.57 1992.27,1443.72 1994.31,1443.86 1996.35,1444 1998.38,1444.13 2000.42,1444.26 2002.46,1444.38 2004.49,1444.5 2006.53,1444.61 2008.57,1444.72 2010.6,1444.82 2012.64,1444.91 2014.68,1445 2016.71,1445.09 2018.75,1445.17 2020.79,1445.24 2022.82,1445.31 2024.86,1445.37 2026.9,1445.43 2028.93,1445.48 2030.97,1445.53 2033.01,1445.57 2035.04,1445.61 2037.08,1445.64 2039.12,1445.67 2041.15,1445.69 2043.19,1445.7 2045.23,1445.71 2047.26,1445.72 2049.3,1445.71 2051.34,1445.71 2053.37,1445.7 2055.41,1445.68 2057.45,1445.66 2059.48,1445.63 2061.52,1445.59 2063.56,1445.56 2065.59,1445.51 2067.63,1445.46 2069.67,1445.41 2071.7,1445.35 2073.74,1445.28 2075.78,1445.21 2077.81,1445.13 2079.85,1445.05 2081.89,1444.97 2083.92,1444.87 2085.96,1444.78 2087.99,1444.67 2090.03,1444.56 2092.07,1444.45 2094.1,1444.33 2096.14,1444.21 2098.18,1444.08 2100.21,1443.94 2102.25,1443.8 2104.29,1443.66 2106.32,1443.5 2108.36,1443.35 2110.4,1443.19 2112.43,1443.02 2114.47,1442.85 2116.51,1442.67 2118.54,1442.48 2120.58,1442.3 2122.62,1442.1 2124.65,1441.9 2126.69,1441.7 2128.73,1441.49 2130.76,1441.27 2132.8,1441.05 2134.84,1440.83 2136.87,1440.59 2138.91,1440.36 2140.95,1440.11 2142.98,1439.87 2145.02,1439.61 2147.06,1439.36 2149.09,1439.09 2151.13,1438.82 2153.17,1438.55 2155.2,1438.27 2157.24,1437.99 2159.28,1437.7 2161.31,1437.4 2163.35,1437.1 2165.39,1436.79 2167.42,1436.48 2169.46,1436.17 2171.5,1435.84 2173.53,1435.52 2175.57,1435.19 2177.61,1434.85 2179.64,1434.5 2181.68,1434.16 2183.72,1433.8 2185.75,1433.44 2187.79,1433.08 2189.83,1432.71 2191.86,1432.34 2193.9,1431.96 2195.94,1431.57 2197.97,1431.18 2200.01,1430.78 2202.05,1430.38 2204.08,1429.98 2206.12,1429.56 2208.16,1429.15 2210.19,1428.72 2212.23,1428.3 2214.27,1427.86 2216.3,1427.43 2218.34,1426.98 2220.38,1426.53 2222.41,1426.08 2224.45,1425.62 2226.49,1425.16 2228.52,1424.69 2230.56,1424.21 2232.6,1423.73 2234.63,1423.25 2236.67,1422.76 2238.71,1422.26 2240.74,1421.76 2242.78,1421.26 2244.81,1420.74 2246.85,1420.23 2248.89,1419.71 2250.92,1419.18 2252.96,1418.65 2255,1418.11 2257.03,1417.57 2259.07,1417.02 2261.11,1416.47 2263.14,1415.91 2265.18,1415.35 2267.22,1414.78 2269.25,1414.2 2271.29,1413.63 2273.33,1413.04 2275.36,1412.45 2277.4,1411.86 2279.44,1411.26 2281.47,1410.66 2283.51,1410.05 2285.55,1409.43 2287.58,1408.81 2289.62,1408.19 2291.66,1407.56 \"/>\n<path clip-path=\"url(#clip240)\" d=\"M2012.48 198.898 L2280.8 198.898 L2280.8 95.2176 L2012.48 95.2176  Z\" fill=\"#ffffff\" fill-rule=\"evenodd\" fill-opacity=\"1\"/>\n<polyline clip-path=\"url(#clip240)\" style=\"stroke:#000000; stroke-linecap:round; stroke-linejoin:round; stroke-width:4; stroke-opacity:1; fill:none\" points=\"2012.48,198.898 2280.8,198.898 2280.8,95.2176 2012.48,95.2176 2012.48,198.898 \"/>\n<polyline clip-path=\"url(#clip240)\" style=\"stroke:#009af9; stroke-linecap:round; stroke-linejoin:round; stroke-width:4; stroke-opacity:1; fill:none\" points=\"2036.47,147.058 2180.39,147.058 \"/>\n<path clip-path=\"url(#clip240)\" d=\"M2218.22 166.745 Q2216.42 171.375 2214.7 172.787 Q2212.99 174.199 2210.12 174.199 L2206.72 174.199 L2206.72 170.634 L2209.22 170.634 Q2210.98 170.634 2211.95 169.8 Q2212.92 168.967 2214.1 165.865 L2214.86 163.921 L2204.38 138.412 L2208.89 138.412 L2216.99 158.689 L2225.1 138.412 L2229.61 138.412 L2218.22 166.745 Z\" fill=\"#000000\" fill-rule=\"evenodd\" fill-opacity=\"1\" /><path clip-path=\"url(#clip240)\" d=\"M2236.9 160.402 L2244.54 160.402 L2244.54 134.037 L2236.23 135.703 L2236.23 131.444 L2244.49 129.778 L2249.17 129.778 L2249.17 160.402 L2256.81 160.402 L2256.81 164.338 L2236.9 164.338 L2236.9 160.402 Z\" fill=\"#000000\" fill-rule=\"evenodd\" fill-opacity=\"1\" /></svg>\n"
               },
               "type": "node"
              }
             ],
             "instanceArgs": {
              "namespace": "html",
              "tag": "div"
             },
             "nodeType": "DOM",
             "props": {
              "className": "interact-flex-row interact-widget"
             },
             "type": "node"
            }
           }
          },
          "systemjs_options": null
         },
         "nodeType": "Scope",
         "props": {},
         "type": "node"
        }
       ],
       "instanceArgs": {
        "namespace": "html",
        "tag": "div"
       },
       "nodeType": "DOM",
       "props": {},
       "type": "node"
      },
      "text/html": [
       "<div\n",
       "    class=\"webio-mountpoint\"\n",
       "    data-webio-mountpoint=\"2769536550707343185\"\n",
       ">\n",
       "    <script>\n",
       "    (function(){\n",
       "    // Some integrations (namely, IJulia/Jupyter) use an alternate render pathway than\n",
       "    // just putting the html on the page. If WebIO isn't defined, then it's pretty likely\n",
       "    // that we're in one of those situations and the integration just isn't installed\n",
       "    // correctly.\n",
       "    if (typeof window.WebIO === \"undefined\") {\n",
       "        document\n",
       "            .querySelector('[data-webio-mountpoint=\"2769536550707343185\"]')\n",
       "            .innerHTML = (\n",
       "                '<div style=\"padding: 1em; background-color: #f8d6da; border: 1px solid #f5c6cb; font-weight: bold;\">' +\n",
       "                '<p><strong>WebIO not detected.</strong></p>' +\n",
       "                '<p>Please read ' +\n",
       "                '<a href=\"https://juliagizmos.github.io/WebIO.jl/latest/troubleshooting/not-detected/\" target=\"_blank\">the troubleshooting guide</a> ' +\n",
       "                'for more information on how to resolve this issue.</p>' +\n",
       "                '<p><a href=\"https://juliagizmos.github.io/WebIO.jl/latest/troubleshooting/not-detected/\" target=\"_blank\">https://juliagizmos.github.io/WebIO.jl/latest/troubleshooting/not-detected/</a></p>' +\n",
       "                '</div>'\n",
       "            );\n",
       "        return;\n",
       "    }\n",
       "    WebIO.mount(\n",
       "        document.querySelector('[data-webio-mountpoint=\"2769536550707343185\"]'),\n",
       "        {\"props\":{},\"nodeType\":\"DOM\",\"type\":\"node\",\"instanceArgs\":{\"namespace\":\"html\",\"tag\":\"div\"},\"children\":[{\"props\":{\"className\":\"field interact-widget\"},\"nodeType\":\"DOM\",\"type\":\"node\",\"instanceArgs\":{\"namespace\":\"html\",\"tag\":\"div\"},\"children\":[{\"props\":{},\"nodeType\":\"Scope\",\"type\":\"node\",\"instanceArgs\":{\"imports\":{\"data\":[{\"name\":\"knockout\",\"type\":\"js\",\"url\":\"\\/assetserver\\/29f2f9bc2710e2f2cb1485988fc1067fea65496a-knockout.js\"},{\"name\":\"knockout_punches\",\"type\":\"js\",\"url\":\"\\/assetserver\\/a0191d716088ea54b8651b8b4d21b48ebae443be-knockout_punches.js\"},{\"name\":null,\"type\":\"js\",\"url\":\"\\/assetserver\\/4b0cc8169ef62fdcea10b858b38bbe3fbacc6aec-all.js\"},{\"name\":null,\"type\":\"css\",\"url\":\"\\/assetserver\\/65c521d4d337d579e07c3ee9f17e725541a097cb-style.css\"},{\"name\":null,\"type\":\"css\",\"url\":\"\\/assetserver\\/52f6b8eddf5355f798a1caaa1ebb9d37bf135d6a-bulma_confined.min.css\"}],\"type\":\"async_block\"},\"id\":\"9814050476510015638\",\"handlers\":{\"changes\":[\"(function (val){return (val!=this.model[\\\"changes\\\"]()) ? (this.valueFromJulia[\\\"changes\\\"]=true, this.model[\\\"changes\\\"](val)) : undefined})\"],\"index\":[\"(function (val){return (val!=this.model[\\\"index\\\"]()) ? (this.valueFromJulia[\\\"index\\\"]=true, this.model[\\\"index\\\"](val)) : undefined})\"]},\"systemjs_options\":null,\"mount_callbacks\":[\"function () {\\n    var handler = (function (ko, koPunches) {\\n    ko.punches.enableAll();\\n    ko.bindingHandlers.numericValue = {\\n        init: function(element, valueAccessor, allBindings, data, context) {\\n            var stringified = ko.observable(ko.unwrap(valueAccessor()));\\n            stringified.subscribe(function(value) {\\n                var val = parseFloat(value);\\n                if (!isNaN(val)) {\\n                    valueAccessor()(val);\\n                }\\n            });\\n            valueAccessor().subscribe(function(value) {\\n                var str = JSON.stringify(value);\\n                if ((str == \\\"0\\\") && ([\\\"-0\\\", \\\"-0.\\\"].indexOf(stringified()) >= 0))\\n                     return;\\n                 if ([\\\"null\\\", \\\"\\\"].indexOf(str) >= 0)\\n                     return;\\n                stringified(str);\\n            });\\n            ko.applyBindingsToNode(\\n                element,\\n                {\\n                    value: stringified,\\n                    valueUpdate: allBindings.get('valueUpdate'),\\n                },\\n                context,\\n            );\\n        }\\n    };\\n    var json_data = {\\\"formatted_vals\\\":[\\\"0.1\\\",\\\"0.2\\\",\\\"0.3\\\",\\\"0.4\\\",\\\"0.5\\\",\\\"0.6\\\",\\\"0.7\\\",\\\"0.8\\\",\\\"0.9\\\",\\\"1.0\\\",\\\"1.1\\\",\\\"1.2\\\",\\\"1.3\\\",\\\"1.4\\\",\\\"1.5\\\",\\\"1.6\\\",\\\"1.7\\\",\\\"1.8\\\",\\\"1.9\\\",\\\"2.0\\\",\\\"2.1\\\",\\\"2.2\\\",\\\"2.3\\\",\\\"2.4\\\",\\\"2.5\\\",\\\"2.6\\\",\\\"2.7\\\",\\\"2.8\\\",\\\"2.9\\\",\\\"3.0\\\",\\\"3.1\\\",\\\"3.2\\\",\\\"3.3\\\",\\\"3.4\\\",\\\"3.5\\\",\\\"3.6\\\",\\\"3.7\\\",\\\"3.8\\\",\\\"3.9\\\",\\\"4.0\\\",\\\"4.1\\\",\\\"4.2\\\",\\\"4.3\\\",\\\"4.4\\\",\\\"4.5\\\",\\\"4.6\\\",\\\"4.7\\\",\\\"4.8\\\",\\\"4.9\\\",\\\"5.0\\\"],\\\"changes\\\":WebIO.getval({\\\"name\\\":\\\"changes\\\",\\\"scope\\\":\\\"9814050476510015638\\\",\\\"id\\\":\\\"5383363504802502826\\\",\\\"type\\\":\\\"observable\\\"}),\\\"index\\\":WebIO.getval({\\\"name\\\":\\\"index\\\",\\\"scope\\\":\\\"9814050476510015638\\\",\\\"id\\\":\\\"14258036597808198953\\\",\\\"type\\\":\\\"observable\\\"})};\\n    var self = this;\\n    function AppViewModel() {\\n        for (var key in json_data) {\\n            var el = json_data[key];\\n            this[key] = Array.isArray(el) ? ko.observableArray(el) : ko.observable(el);\\n        }\\n        \\n        [this[\\\"formatted_val\\\"]=ko.computed(    function(){\\n        return this.formatted_vals()[parseInt(this.index())-(1)];\\n    }\\n,this)]\\n        [this[\\\"changes\\\"].subscribe((function (val){!(this.valueFromJulia[\\\"changes\\\"]) ? (WebIO.setval({\\\"name\\\":\\\"changes\\\",\\\"scope\\\":\\\"9814050476510015638\\\",\\\"id\\\":\\\"5383363504802502826\\\",\\\"type\\\":\\\"observable\\\"},val)) : undefined; return this.valueFromJulia[\\\"changes\\\"]=false}),self),this[\\\"index\\\"].subscribe((function (val){!(this.valueFromJulia[\\\"index\\\"]) ? (WebIO.setval({\\\"name\\\":\\\"index\\\",\\\"scope\\\":\\\"9814050476510015638\\\",\\\"id\\\":\\\"14258036597808198953\\\",\\\"type\\\":\\\"observable\\\"},val)) : undefined; return this.valueFromJulia[\\\"index\\\"]=false}),self)]\\n        \\n    }\\n    self.model = new AppViewModel();\\n    self.valueFromJulia = {};\\n    for (var key in json_data) {\\n        self.valueFromJulia[key] = false;\\n    }\\n    ko.applyBindings(self.model, self.dom);\\n}\\n);\\n    (WebIO.importBlock({\\\"data\\\":[{\\\"name\\\":\\\"knockout\\\",\\\"type\\\":\\\"js\\\",\\\"url\\\":\\\"\\/assetserver\\/29f2f9bc2710e2f2cb1485988fc1067fea65496a-knockout.js\\\"},{\\\"name\\\":\\\"knockout_punches\\\",\\\"type\\\":\\\"js\\\",\\\"url\\\":\\\"\\/assetserver\\/a0191d716088ea54b8651b8b4d21b48ebae443be-knockout_punches.js\\\"}],\\\"type\\\":\\\"async_block\\\"})).then((imports) => handler.apply(this, imports));\\n}\\n\"],\"observables\":{\"changes\":{\"sync\":false,\"id\":\"5383363504802502826\",\"value\":0},\"index\":{\"sync\":true,\"id\":\"14258036597808198953\",\"value\":25}}},\"children\":[{\"props\":{\"className\":\"interact-flex-row interact-widget\"},\"nodeType\":\"DOM\",\"type\":\"node\",\"instanceArgs\":{\"namespace\":\"html\",\"tag\":\"div\"},\"children\":[{\"props\":{\"className\":\"interact-flex-row-left\"},\"nodeType\":\"DOM\",\"type\":\"node\",\"instanceArgs\":{\"namespace\":\"html\",\"tag\":\"div\"},\"children\":[{\"props\":{\"className\":\"interact \",\"style\":{\"padding\":\"5px 10px 0px 10px\"}},\"nodeType\":\"DOM\",\"type\":\"node\",\"instanceArgs\":{\"namespace\":\"html\",\"tag\":\"label\"},\"children\":[\"λ\"]}]},{\"props\":{\"className\":\"interact-flex-row-center\"},\"nodeType\":\"DOM\",\"type\":\"node\",\"instanceArgs\":{\"namespace\":\"html\",\"tag\":\"div\"},\"children\":[{\"props\":{\"max\":50,\"min\":1,\"attributes\":{\"type\":\"range\",\"data-bind\":\"numericValue: index, valueUpdate: 'input', event: {change: function (){this.changes(this.changes()+1)}}\",\"orient\":\"horizontal\"},\"step\":1,\"className\":\"slider slider is-fullwidth\",\"style\":{}},\"nodeType\":\"DOM\",\"type\":\"node\",\"instanceArgs\":{\"namespace\":\"html\",\"tag\":\"input\"},\"children\":[]}]},{\"props\":{\"className\":\"interact-flex-row-right\"},\"nodeType\":\"DOM\",\"type\":\"node\",\"instanceArgs\":{\"namespace\":\"html\",\"tag\":\"div\"},\"children\":[{\"props\":{\"attributes\":{\"data-bind\":\"text: formatted_val\"}},\"nodeType\":\"DOM\",\"type\":\"node\",\"instanceArgs\":{\"namespace\":\"html\",\"tag\":\"p\"},\"children\":[]}]}]}]}]},{\"props\":{\"className\":\"field interact-widget\"},\"nodeType\":\"DOM\",\"type\":\"node\",\"instanceArgs\":{\"namespace\":\"html\",\"tag\":\"div\"},\"children\":[{\"props\":{},\"nodeType\":\"Scope\",\"type\":\"node\",\"instanceArgs\":{\"imports\":{\"data\":[{\"name\":\"knockout\",\"type\":\"js\",\"url\":\"\\/assetserver\\/29f2f9bc2710e2f2cb1485988fc1067fea65496a-knockout.js\"},{\"name\":\"knockout_punches\",\"type\":\"js\",\"url\":\"\\/assetserver\\/a0191d716088ea54b8651b8b4d21b48ebae443be-knockout_punches.js\"},{\"name\":null,\"type\":\"js\",\"url\":\"\\/assetserver\\/4b0cc8169ef62fdcea10b858b38bbe3fbacc6aec-all.js\"},{\"name\":null,\"type\":\"css\",\"url\":\"\\/assetserver\\/65c521d4d337d579e07c3ee9f17e725541a097cb-style.css\"},{\"name\":null,\"type\":\"css\",\"url\":\"\\/assetserver\\/52f6b8eddf5355f798a1caaa1ebb9d37bf135d6a-bulma_confined.min.css\"}],\"type\":\"async_block\"},\"id\":\"6357289861823596709\",\"handlers\":{\"changes\":[\"(function (val){return (val!=this.model[\\\"changes\\\"]()) ? (this.valueFromJulia[\\\"changes\\\"]=true, this.model[\\\"changes\\\"](val)) : undefined})\"],\"index\":[\"(function (val){return (val!=this.model[\\\"index\\\"]()) ? (this.valueFromJulia[\\\"index\\\"]=true, this.model[\\\"index\\\"](val)) : undefined})\"]},\"systemjs_options\":null,\"mount_callbacks\":[\"function () {\\n    var handler = (function (ko, koPunches) {\\n    ko.punches.enableAll();\\n    ko.bindingHandlers.numericValue = {\\n        init: function(element, valueAccessor, allBindings, data, context) {\\n            var stringified = ko.observable(ko.unwrap(valueAccessor()));\\n            stringified.subscribe(function(value) {\\n                var val = parseFloat(value);\\n                if (!isNaN(val)) {\\n                    valueAccessor()(val);\\n                }\\n            });\\n            valueAccessor().subscribe(function(value) {\\n                var str = JSON.stringify(value);\\n                if ((str == \\\"0\\\") && ([\\\"-0\\\", \\\"-0.\\\"].indexOf(stringified()) >= 0))\\n                     return;\\n                 if ([\\\"null\\\", \\\"\\\"].indexOf(str) >= 0)\\n                     return;\\n                stringified(str);\\n            });\\n            ko.applyBindingsToNode(\\n                element,\\n                {\\n                    value: stringified,\\n                    valueUpdate: allBindings.get('valueUpdate'),\\n                },\\n                context,\\n            );\\n        }\\n    };\\n    var json_data = {\\\"formatted_vals\\\":[\\\"0.0\\\",\\\"0.1\\\",\\\"0.2\\\",\\\"0.3\\\",\\\"0.4\\\",\\\"0.5\\\",\\\"0.6\\\",\\\"0.7\\\",\\\"0.8\\\",\\\"0.9\\\",\\\"1.0\\\",\\\"1.1\\\",\\\"1.2\\\",\\\"1.3\\\",\\\"1.4\\\",\\\"1.5\\\",\\\"1.6\\\",\\\"1.7\\\",\\\"1.8\\\",\\\"1.9\\\",\\\"2.0\\\",\\\"2.1\\\",\\\"2.2\\\",\\\"2.3\\\",\\\"2.4\\\",\\\"2.5\\\",\\\"2.6\\\",\\\"2.7\\\",\\\"2.8\\\",\\\"2.9\\\",\\\"3.0\\\",\\\"3.1\\\",\\\"3.2\\\",\\\"3.3\\\",\\\"3.4\\\",\\\"3.5\\\",\\\"3.6\\\",\\\"3.7\\\",\\\"3.8\\\",\\\"3.9\\\",\\\"4.0\\\",\\\"4.1\\\",\\\"4.2\\\",\\\"4.3\\\",\\\"4.4\\\",\\\"4.5\\\",\\\"4.6\\\",\\\"4.7\\\",\\\"4.8\\\",\\\"4.9\\\",\\\"5.0\\\"],\\\"changes\\\":WebIO.getval({\\\"name\\\":\\\"changes\\\",\\\"scope\\\":\\\"6357289861823596709\\\",\\\"id\\\":\\\"14407004027402472118\\\",\\\"type\\\":\\\"observable\\\"}),\\\"index\\\":WebIO.getval({\\\"name\\\":\\\"index\\\",\\\"scope\\\":\\\"6357289861823596709\\\",\\\"id\\\":\\\"781732082128051211\\\",\\\"type\\\":\\\"observable\\\"})};\\n    var self = this;\\n    function AppViewModel() {\\n        for (var key in json_data) {\\n            var el = json_data[key];\\n            this[key] = Array.isArray(el) ? ko.observableArray(el) : ko.observable(el);\\n        }\\n        \\n        [this[\\\"formatted_val\\\"]=ko.computed(    function(){\\n        return this.formatted_vals()[parseInt(this.index())-(1)];\\n    }\\n,this)]\\n        [this[\\\"changes\\\"].subscribe((function (val){!(this.valueFromJulia[\\\"changes\\\"]) ? (WebIO.setval({\\\"name\\\":\\\"changes\\\",\\\"scope\\\":\\\"6357289861823596709\\\",\\\"id\\\":\\\"14407004027402472118\\\",\\\"type\\\":\\\"observable\\\"},val)) : undefined; return this.valueFromJulia[\\\"changes\\\"]=false}),self),this[\\\"index\\\"].subscribe((function (val){!(this.valueFromJulia[\\\"index\\\"]) ? (WebIO.setval({\\\"name\\\":\\\"index\\\",\\\"scope\\\":\\\"6357289861823596709\\\",\\\"id\\\":\\\"781732082128051211\\\",\\\"type\\\":\\\"observable\\\"},val)) : undefined; return this.valueFromJulia[\\\"index\\\"]=false}),self)]\\n        \\n    }\\n    self.model = new AppViewModel();\\n    self.valueFromJulia = {};\\n    for (var key in json_data) {\\n        self.valueFromJulia[key] = false;\\n    }\\n    ko.applyBindings(self.model, self.dom);\\n}\\n);\\n    (WebIO.importBlock({\\\"data\\\":[{\\\"name\\\":\\\"knockout\\\",\\\"type\\\":\\\"js\\\",\\\"url\\\":\\\"\\/assetserver\\/29f2f9bc2710e2f2cb1485988fc1067fea65496a-knockout.js\\\"},{\\\"name\\\":\\\"knockout_punches\\\",\\\"type\\\":\\\"js\\\",\\\"url\\\":\\\"\\/assetserver\\/a0191d716088ea54b8651b8b4d21b48ebae443be-knockout_punches.js\\\"}],\\\"type\\\":\\\"async_block\\\"})).then((imports) => handler.apply(this, imports));\\n}\\n\"],\"observables\":{\"changes\":{\"sync\":false,\"id\":\"14407004027402472118\",\"value\":0},\"index\":{\"sync\":true,\"id\":\"781732082128051211\",\"value\":26}}},\"children\":[{\"props\":{\"className\":\"interact-flex-row interact-widget\"},\"nodeType\":\"DOM\",\"type\":\"node\",\"instanceArgs\":{\"namespace\":\"html\",\"tag\":\"div\"},\"children\":[{\"props\":{\"className\":\"interact-flex-row-left\"},\"nodeType\":\"DOM\",\"type\":\"node\",\"instanceArgs\":{\"namespace\":\"html\",\"tag\":\"div\"},\"children\":[{\"props\":{\"className\":\"interact \",\"style\":{\"padding\":\"5px 10px 0px 10px\"}},\"nodeType\":\"DOM\",\"type\":\"node\",\"instanceArgs\":{\"namespace\":\"html\",\"tag\":\"label\"},\"children\":[\"ϕ\"]}]},{\"props\":{\"className\":\"interact-flex-row-center\"},\"nodeType\":\"DOM\",\"type\":\"node\",\"instanceArgs\":{\"namespace\":\"html\",\"tag\":\"div\"},\"children\":[{\"props\":{\"max\":51,\"min\":1,\"attributes\":{\"type\":\"range\",\"data-bind\":\"numericValue: index, valueUpdate: 'input', event: {change: function (){this.changes(this.changes()+1)}}\",\"orient\":\"horizontal\"},\"step\":1,\"className\":\"slider slider is-fullwidth\",\"style\":{}},\"nodeType\":\"DOM\",\"type\":\"node\",\"instanceArgs\":{\"namespace\":\"html\",\"tag\":\"input\"},\"children\":[]}]},{\"props\":{\"className\":\"interact-flex-row-right\"},\"nodeType\":\"DOM\",\"type\":\"node\",\"instanceArgs\":{\"namespace\":\"html\",\"tag\":\"div\"},\"children\":[{\"props\":{\"attributes\":{\"data-bind\":\"text: formatted_val\"}},\"nodeType\":\"DOM\",\"type\":\"node\",\"instanceArgs\":{\"namespace\":\"html\",\"tag\":\"p\"},\"children\":[]}]}]}]}]},{\"props\":{},\"nodeType\":\"Scope\",\"type\":\"node\",\"instanceArgs\":{\"imports\":{\"data\":[],\"type\":\"async_block\"},\"id\":\"18277599891612804340\",\"handlers\":{},\"systemjs_options\":null,\"mount_callbacks\":[],\"observables\":{\"obs-node\":{\"sync\":false,\"id\":\"14398106641114548840\",\"value\":{\"props\":{\"className\":\"interact-flex-row interact-widget\"},\"nodeType\":\"DOM\",\"type\":\"node\",\"instanceArgs\":{\"namespace\":\"html\",\"tag\":\"div\"},\"children\":[{\"props\":{\"setInnerHtml\":\"<?xml version=\\\"1.0\\\" encoding=\\\"utf-8\\\"?>\\n<svg xmlns=\\\"http:\\/\\/www.w3.org\\/2000\\/svg\\\" xmlns:xlink=\\\"http:\\/\\/www.w3.org\\/1999\\/xlink\\\" width=\\\"600\\\" height=\\\"400\\\" viewBox=\\\"0 0 2400 1600\\\">\\n<defs>\\n  <clipPath id=\\\"clip200\\\">\\n    <rect x=\\\"0\\\" y=\\\"0\\\" width=\\\"2400\\\" height=\\\"1600\\\"\\/>\\n  <\\/clipPath>\\n<\\/defs>\\n<path clip-path=\\\"url(#clip200)\\\" d=\\\"M0 1600 L2400 1600 L2400 0 L0 0  Z\\\" fill=\\\"#ffffff\\\" fill-rule=\\\"evenodd\\\" fill-opacity=\\\"1\\\"\\/>\\n<defs>\\n  <clipPath id=\\\"clip201\\\">\\n    <rect x=\\\"480\\\" y=\\\"0\\\" width=\\\"1681\\\" height=\\\"1600\\\"\\/>\\n  <\\/clipPath>\\n<\\/defs>\\n<path clip-path=\\\"url(#clip200)\\\" d=\\\"M193.936 1486.45 L2352.76 1486.45 L2352.76 47.2441 L193.936 47.2441  Z\\\" fill=\\\"#ffffff\\\" fill-rule=\\\"evenodd\\\" fill-opacity=\\\"1\\\"\\/>\\n<defs>\\n  <clipPath id=\\\"clip202\\\">\\n    <rect x=\\\"193\\\" y=\\\"47\\\" width=\\\"2160\\\" height=\\\"1440\\\"\\/>\\n  <\\/clipPath>\\n<\\/defs>\\n<polyline clip-path=\\\"url(#clip202)\\\" style=\\\"stroke:#000000; stroke-linecap:round; stroke-linejoin:round; stroke-width:2; stroke-opacity:0.1; fill:none\\\" points=\\\"255.035,1486.45 255.035,47.2441 \\\"\\/>\\n<polyline clip-path=\\\"url(#clip202)\\\" style=\\\"stroke:#000000; stroke-linecap:round; stroke-linejoin:round; stroke-width:2; stroke-opacity:0.1; fill:none\\\" points=\\\"764.19,1486.45 764.19,47.2441 \\\"\\/>\\n<polyline clip-path=\\\"url(#clip202)\\\" style=\\\"stroke:#000000; stroke-linecap:round; stroke-linejoin:round; stroke-width:2; stroke-opacity:0.1; fill:none\\\" points=\\\"1273.35,1486.45 1273.35,47.2441 \\\"\\/>\\n<polyline clip-path=\\\"url(#clip202)\\\" style=\\\"stroke:#000000; stroke-linecap:round; stroke-linejoin:round; stroke-width:2; stroke-opacity:0.1; fill:none\\\" points=\\\"1782.5,1486.45 1782.5,47.2441 \\\"\\/>\\n<polyline clip-path=\\\"url(#clip202)\\\" style=\\\"stroke:#000000; stroke-linecap:round; stroke-linejoin:round; stroke-width:2; stroke-opacity:0.1; fill:none\\\" points=\\\"2291.66,1486.45 2291.66,47.2441 \\\"\\/>\\n<polyline clip-path=\\\"url(#clip200)\\\" style=\\\"stroke:#000000; stroke-linecap:round; stroke-linejoin:round; stroke-width:4; stroke-opacity:1; fill:none\\\" points=\\\"193.936,1486.45 2352.76,1486.45 \\\"\\/>\\n<polyline clip-path=\\\"url(#clip200)\\\" style=\\\"stroke:#000000; stroke-linecap:round; stroke-linejoin:round; stroke-width:4; stroke-opacity:1; fill:none\\\" points=\\\"255.035,1486.45 255.035,1467.55 \\\"\\/>\\n<polyline clip-path=\\\"url(#clip200)\\\" style=\\\"stroke:#000000; stroke-linecap:round; stroke-linejoin:round; stroke-width:4; stroke-opacity:1; fill:none\\\" points=\\\"764.19,1486.45 764.19,1467.55 \\\"\\/>\\n<polyline clip-path=\\\"url(#clip200)\\\" style=\\\"stroke:#000000; stroke-linecap:round; stroke-linejoin:round; stroke-width:4; stroke-opacity:1; fill:none\\\" points=\\\"1273.35,1486.45 1273.35,1467.55 \\\"\\/>\\n<polyline clip-path=\\\"url(#clip200)\\\" style=\\\"stroke:#000000; stroke-linecap:round; stroke-linejoin:round; stroke-width:4; stroke-opacity:1; fill:none\\\" points=\\\"1782.5,1486.45 1782.5,1467.55 \\\"\\/>\\n<polyline clip-path=\\\"url(#clip200)\\\" style=\\\"stroke:#000000; stroke-linecap:round; stroke-linejoin:round; stroke-width:4; stroke-opacity:1; fill:none\\\" points=\\\"2291.66,1486.45 2291.66,1467.55 \\\"\\/>\\n<path clip-path=\\\"url(#clip200)\\\" d=\\\"M217.338 1517.37 Q213.727 1517.37 211.898 1520.93 Q210.093 1524.47 210.093 1531.6 Q210.093 1538.71 211.898 1542.27 Q213.727 1545.82 217.338 1545.82 Q220.972 1545.82 222.778 1542.27 Q224.607 1538.71 224.607 1531.6 Q224.607 1524.47 222.778 1520.93 Q220.972 1517.37 217.338 1517.37 M217.338 1513.66 Q223.148 1513.66 226.204 1518.27 Q229.282 1522.85 229.282 1531.6 Q229.282 1540.33 226.204 1544.94 Q223.148 1549.52 217.338 1549.52 Q211.528 1549.52 208.449 1544.94 Q205.394 1540.33 205.394 1531.6 Q205.394 1522.85 208.449 1518.27 Q211.528 1513.66 217.338 1513.66 Z\\\" fill=\\\"#000000\\\" fill-rule=\\\"evenodd\\\" fill-opacity=\\\"1\\\" \\/><path clip-path=\\\"url(#clip200)\\\" d=\\\"M237.5 1542.97 L242.384 1542.97 L242.384 1548.85 L237.5 1548.85 L237.5 1542.97 Z\\\" fill=\\\"#000000\\\" fill-rule=\\\"evenodd\\\" fill-opacity=\\\"1\\\" \\/><path clip-path=\\\"url(#clip200)\\\" d=\\\"M262.569 1517.37 Q258.958 1517.37 257.13 1520.93 Q255.324 1524.47 255.324 1531.6 Q255.324 1538.71 257.13 1542.27 Q258.958 1545.82 262.569 1545.82 Q266.204 1545.82 268.009 1542.27 Q269.838 1538.71 269.838 1531.6 Q269.838 1524.47 268.009 1520.93 Q266.204 1517.37 262.569 1517.37 M262.569 1513.66 Q268.38 1513.66 271.435 1518.27 Q274.514 1522.85 274.514 1531.6 Q274.514 1540.33 271.435 1544.94 Q268.38 1549.52 262.569 1549.52 Q256.759 1549.52 253.681 1544.94 Q250.625 1540.33 250.625 1531.6 Q250.625 1522.85 253.681 1518.27 Q256.759 1513.66 262.569 1513.66 Z\\\" fill=\\\"#000000\\\" fill-rule=\\\"evenodd\\\" fill-opacity=\\\"1\\\" \\/><path clip-path=\\\"url(#clip200)\\\" d=\\\"M292.731 1517.37 Q289.12 1517.37 287.291 1520.93 Q285.486 1524.47 285.486 1531.6 Q285.486 1538.71 287.291 1542.27 Q289.12 1545.82 292.731 1545.82 Q296.365 1545.82 298.171 1542.27 Q300 1538.71 300 1531.6 Q300 1524.47 298.171 1520.93 Q296.365 1517.37 292.731 1517.37 M292.731 1513.66 Q298.541 1513.66 301.597 1518.27 Q304.676 1522.85 304.676 1531.6 Q304.676 1540.33 301.597 1544.94 Q298.541 1549.52 292.731 1549.52 Q286.921 1549.52 283.842 1544.94 Q280.787 1540.33 280.787 1531.6 Q280.787 1522.85 283.842 1518.27 Q286.921 1513.66 292.731 1513.66 Z\\\" fill=\\\"#000000\\\" fill-rule=\\\"evenodd\\\" fill-opacity=\\\"1\\\" \\/><path clip-path=\\\"url(#clip200)\\\" d=\\\"M726.991 1517.37 Q723.38 1517.37 721.552 1520.93 Q719.746 1524.47 719.746 1531.6 Q719.746 1538.71 721.552 1542.27 Q723.38 1545.82 726.991 1545.82 Q730.626 1545.82 732.431 1542.27 Q734.26 1538.71 734.26 1531.6 Q734.26 1524.47 732.431 1520.93 Q730.626 1517.37 726.991 1517.37 M726.991 1513.66 Q732.802 1513.66 735.857 1518.27 Q738.936 1522.85 738.936 1531.6 Q738.936 1540.33 735.857 1544.94 Q732.802 1549.52 726.991 1549.52 Q721.181 1549.52 718.103 1544.94 Q715.047 1540.33 715.047 1531.6 Q715.047 1522.85 718.103 1518.27 Q721.181 1513.66 726.991 1513.66 Z\\\" fill=\\\"#000000\\\" fill-rule=\\\"evenodd\\\" fill-opacity=\\\"1\\\" \\/><path clip-path=\\\"url(#clip200)\\\" d=\\\"M747.153 1542.97 L752.038 1542.97 L752.038 1548.85 L747.153 1548.85 L747.153 1542.97 Z\\\" fill=\\\"#000000\\\" fill-rule=\\\"evenodd\\\" fill-opacity=\\\"1\\\" \\/><path clip-path=\\\"url(#clip200)\\\" d=\\\"M766.25 1544.91 L782.57 1544.91 L782.57 1548.85 L760.626 1548.85 L760.626 1544.91 Q763.288 1542.16 767.871 1537.53 Q772.477 1532.88 773.658 1531.53 Q775.903 1529.01 776.783 1527.27 Q777.686 1525.51 777.686 1523.82 Q777.686 1521.07 775.741 1519.33 Q773.82 1517.6 770.718 1517.6 Q768.519 1517.6 766.065 1518.36 Q763.635 1519.13 760.857 1520.68 L760.857 1515.95 Q763.681 1514.82 766.135 1514.24 Q768.588 1513.66 770.625 1513.66 Q775.996 1513.66 779.19 1516.35 Q782.385 1519.03 782.385 1523.52 Q782.385 1525.65 781.574 1527.57 Q780.787 1529.47 778.681 1532.07 Q778.102 1532.74 775 1535.95 Q771.899 1539.15 766.25 1544.91 Z\\\" fill=\\\"#000000\\\" fill-rule=\\\"evenodd\\\" fill-opacity=\\\"1\\\" \\/><path clip-path=\\\"url(#clip200)\\\" d=\\\"M792.431 1514.29 L810.787 1514.29 L810.787 1518.22 L796.713 1518.22 L796.713 1526.7 Q797.732 1526.35 798.75 1526.19 Q799.769 1526 800.787 1526 Q806.574 1526 809.954 1529.17 Q813.334 1532.34 813.334 1537.76 Q813.334 1543.34 809.861 1546.44 Q806.389 1549.52 800.07 1549.52 Q797.894 1549.52 795.625 1549.15 Q793.38 1548.78 790.973 1548.04 L790.973 1543.34 Q793.056 1544.47 795.278 1545.03 Q797.5 1545.58 799.977 1545.58 Q803.982 1545.58 806.32 1543.48 Q808.658 1541.37 808.658 1537.76 Q808.658 1534.15 806.32 1532.04 Q803.982 1529.94 799.977 1529.94 Q798.102 1529.94 796.227 1530.35 Q794.375 1530.77 792.431 1531.65 L792.431 1514.29 Z\\\" fill=\\\"#000000\\\" fill-rule=\\\"evenodd\\\" fill-opacity=\\\"1\\\" \\/><path clip-path=\\\"url(#clip200)\\\" d=\\\"M1235.65 1517.37 Q1232.04 1517.37 1230.21 1520.93 Q1228.4 1524.47 1228.4 1531.6 Q1228.4 1538.71 1230.21 1542.27 Q1232.04 1545.82 1235.65 1545.82 Q1239.28 1545.82 1241.09 1542.27 Q1242.92 1538.71 1242.92 1531.6 Q1242.92 1524.47 1241.09 1520.93 Q1239.28 1517.37 1235.65 1517.37 M1235.65 1513.66 Q1241.46 1513.66 1244.52 1518.27 Q1247.59 1522.85 1247.59 1531.6 Q1247.59 1540.33 1244.52 1544.94 Q1241.46 1549.52 1235.65 1549.52 Q1229.84 1549.52 1226.76 1544.94 Q1223.71 1540.33 1223.71 1531.6 Q1223.71 1522.85 1226.76 1518.27 Q1229.84 1513.66 1235.65 1513.66 Z\\\" fill=\\\"#000000\\\" fill-rule=\\\"evenodd\\\" fill-opacity=\\\"1\\\" \\/><path clip-path=\\\"url(#clip200)\\\" d=\\\"M1255.81 1542.97 L1260.7 1542.97 L1260.7 1548.85 L1255.81 1548.85 L1255.81 1542.97 Z\\\" fill=\\\"#000000\\\" fill-rule=\\\"evenodd\\\" fill-opacity=\\\"1\\\" \\/><path clip-path=\\\"url(#clip200)\\\" d=\\\"M1270.93 1514.29 L1289.28 1514.29 L1289.28 1518.22 L1275.21 1518.22 L1275.21 1526.7 Q1276.23 1526.35 1277.25 1526.19 Q1278.26 1526 1279.28 1526 Q1285.07 1526 1288.45 1529.17 Q1291.83 1532.34 1291.83 1537.76 Q1291.83 1543.34 1288.36 1546.44 Q1284.89 1549.52 1278.57 1549.52 Q1276.39 1549.52 1274.12 1549.15 Q1271.88 1548.78 1269.47 1548.04 L1269.47 1543.34 Q1271.55 1544.47 1273.77 1545.03 Q1276 1545.58 1278.47 1545.58 Q1282.48 1545.58 1284.82 1543.48 Q1287.15 1541.37 1287.15 1537.76 Q1287.15 1534.15 1284.82 1532.04 Q1282.48 1529.94 1278.47 1529.94 Q1276.6 1529.94 1274.72 1530.35 Q1272.87 1530.77 1270.93 1531.65 L1270.93 1514.29 Z\\\" fill=\\\"#000000\\\" fill-rule=\\\"evenodd\\\" fill-opacity=\\\"1\\\" \\/><path clip-path=\\\"url(#clip200)\\\" d=\\\"M1311.04 1517.37 Q1307.43 1517.37 1305.6 1520.93 Q1303.8 1524.47 1303.8 1531.6 Q1303.8 1538.71 1305.6 1542.27 Q1307.43 1545.82 1311.04 1545.82 Q1314.68 1545.82 1316.48 1542.27 Q1318.31 1538.71 1318.31 1531.6 Q1318.31 1524.47 1316.48 1520.93 Q1314.68 1517.37 1311.04 1517.37 M1311.04 1513.66 Q1316.85 1513.66 1319.91 1518.27 Q1322.99 1522.85 1322.99 1531.6 Q1322.99 1540.33 1319.91 1544.94 Q1316.85 1549.52 1311.04 1549.52 Q1305.23 1549.52 1302.15 1544.94 Q1299.1 1540.33 1299.1 1531.6 Q1299.1 1522.85 1302.15 1518.27 Q1305.23 1513.66 1311.04 1513.66 Z\\\" fill=\\\"#000000\\\" fill-rule=\\\"evenodd\\\" fill-opacity=\\\"1\\\" \\/><path clip-path=\\\"url(#clip200)\\\" d=\\\"M1745.3 1517.37 Q1741.69 1517.37 1739.86 1520.93 Q1738.06 1524.47 1738.06 1531.6 Q1738.06 1538.71 1739.86 1542.27 Q1741.69 1545.82 1745.3 1545.82 Q1748.94 1545.82 1750.74 1542.27 Q1752.57 1538.71 1752.57 1531.6 Q1752.57 1524.47 1750.74 1520.93 Q1748.94 1517.37 1745.3 1517.37 M1745.3 1513.66 Q1751.11 1513.66 1754.17 1518.27 Q1757.25 1522.85 1757.25 1531.6 Q1757.25 1540.33 1754.17 1544.94 Q1751.11 1549.52 1745.3 1549.52 Q1739.49 1549.52 1736.41 1544.94 Q1733.36 1540.33 1733.36 1531.6 Q1733.36 1522.85 1736.41 1518.27 Q1739.49 1513.66 1745.3 1513.66 Z\\\" fill=\\\"#000000\\\" fill-rule=\\\"evenodd\\\" fill-opacity=\\\"1\\\" \\/><path clip-path=\\\"url(#clip200)\\\" d=\\\"M1765.46 1542.97 L1770.35 1542.97 L1770.35 1548.85 L1765.46 1548.85 L1765.46 1542.97 Z\\\" fill=\\\"#000000\\\" fill-rule=\\\"evenodd\\\" fill-opacity=\\\"1\\\" \\/><path clip-path=\\\"url(#clip200)\\\" d=\\\"M1779.35 1514.29 L1801.58 1514.29 L1801.58 1516.28 L1789.03 1548.85 L1784.15 1548.85 L1795.95 1518.22 L1779.35 1518.22 L1779.35 1514.29 Z\\\" fill=\\\"#000000\\\" fill-rule=\\\"evenodd\\\" fill-opacity=\\\"1\\\" \\/><path clip-path=\\\"url(#clip200)\\\" d=\\\"M1810.74 1514.29 L1829.1 1514.29 L1829.1 1518.22 L1815.02 1518.22 L1815.02 1526.7 Q1816.04 1526.35 1817.06 1526.19 Q1818.08 1526 1819.1 1526 Q1824.89 1526 1828.27 1529.17 Q1831.64 1532.34 1831.64 1537.76 Q1831.64 1543.34 1828.17 1546.44 Q1824.7 1549.52 1818.38 1549.52 Q1816.21 1549.52 1813.94 1549.15 Q1811.69 1548.78 1809.28 1548.04 L1809.28 1543.34 Q1811.37 1544.47 1813.59 1545.03 Q1815.81 1545.58 1818.29 1545.58 Q1822.29 1545.58 1824.63 1543.48 Q1826.97 1541.37 1826.97 1537.76 Q1826.97 1534.15 1824.63 1532.04 Q1822.29 1529.94 1818.29 1529.94 Q1816.41 1529.94 1814.54 1530.35 Q1812.69 1530.77 1810.74 1531.65 L1810.74 1514.29 Z\\\" fill=\\\"#000000\\\" fill-rule=\\\"evenodd\\\" fill-opacity=\\\"1\\\" \\/><path clip-path=\\\"url(#clip200)\\\" d=\\\"M2243.73 1544.91 L2251.37 1544.91 L2251.37 1518.55 L2243.06 1520.21 L2243.06 1515.95 L2251.32 1514.29 L2256 1514.29 L2256 1544.91 L2263.64 1544.91 L2263.64 1548.85 L2243.73 1548.85 L2243.73 1544.91 Z\\\" fill=\\\"#000000\\\" fill-rule=\\\"evenodd\\\" fill-opacity=\\\"1\\\" \\/><path clip-path=\\\"url(#clip200)\\\" d=\\\"M2273.08 1542.97 L2277.97 1542.97 L2277.97 1548.85 L2273.08 1548.85 L2273.08 1542.97 Z\\\" fill=\\\"#000000\\\" fill-rule=\\\"evenodd\\\" fill-opacity=\\\"1\\\" \\/><path clip-path=\\\"url(#clip200)\\\" d=\\\"M2298.15 1517.37 Q2294.54 1517.37 2292.71 1520.93 Q2290.9 1524.47 2290.9 1531.6 Q2290.9 1538.71 2292.71 1542.27 Q2294.54 1545.82 2298.15 1545.82 Q2301.78 1545.82 2303.59 1542.27 Q2305.42 1538.71 2305.42 1531.6 Q2305.42 1524.47 2303.59 1520.93 Q2301.78 1517.37 2298.15 1517.37 M2298.15 1513.66 Q2303.96 1513.66 2307.02 1518.27 Q2310.09 1522.85 2310.09 1531.6 Q2310.09 1540.33 2307.02 1544.94 Q2303.96 1549.52 2298.15 1549.52 Q2292.34 1549.52 2289.26 1544.94 Q2286.21 1540.33 2286.21 1531.6 Q2286.21 1522.85 2289.26 1518.27 Q2292.34 1513.66 2298.15 1513.66 Z\\\" fill=\\\"#000000\\\" fill-rule=\\\"evenodd\\\" fill-opacity=\\\"1\\\" \\/><path clip-path=\\\"url(#clip200)\\\" d=\\\"M2328.31 1517.37 Q2324.7 1517.37 2322.87 1520.93 Q2321.07 1524.47 2321.07 1531.6 Q2321.07 1538.71 2322.87 1542.27 Q2324.7 1545.82 2328.31 1545.82 Q2331.95 1545.82 2333.75 1542.27 Q2335.58 1538.71 2335.58 1531.6 Q2335.58 1524.47 2333.75 1520.93 Q2331.95 1517.37 2328.31 1517.37 M2328.31 1513.66 Q2334.12 1513.66 2337.18 1518.27 Q2340.26 1522.85 2340.26 1531.6 Q2340.26 1540.33 2337.18 1544.94 Q2334.12 1549.52 2328.31 1549.52 Q2322.5 1549.52 2319.42 1544.94 Q2316.37 1540.33 2316.37 1531.6 Q2316.37 1522.85 2319.42 1518.27 Q2322.5 1513.66 2328.31 1513.66 Z\\\" fill=\\\"#000000\\\" fill-rule=\\\"evenodd\\\" fill-opacity=\\\"1\\\" \\/><polyline clip-path=\\\"url(#clip202)\\\" style=\\\"stroke:#000000; stroke-linecap:round; stroke-linejoin:round; stroke-width:2; stroke-opacity:0.1; fill:none\\\" points=\\\"193.936,1445.72 2352.76,1445.72 \\\"\\/>\\n<polyline clip-path=\\\"url(#clip202)\\\" style=\\\"stroke:#000000; stroke-linecap:round; stroke-linejoin:round; stroke-width:2; stroke-opacity:0.1; fill:none\\\" points=\\\"193.936,1021.02 2352.76,1021.02 \\\"\\/>\\n<polyline clip-path=\\\"url(#clip202)\\\" style=\\\"stroke:#000000; stroke-linecap:round; stroke-linejoin:round; stroke-width:2; stroke-opacity:0.1; fill:none\\\" points=\\\"193.936,596.318 2352.76,596.318 \\\"\\/>\\n<polyline clip-path=\\\"url(#clip202)\\\" style=\\\"stroke:#000000; stroke-linecap:round; stroke-linejoin:round; stroke-width:2; stroke-opacity:0.1; fill:none\\\" points=\\\"193.936,171.618 2352.76,171.618 \\\"\\/>\\n<polyline clip-path=\\\"url(#clip200)\\\" style=\\\"stroke:#000000; stroke-linecap:round; stroke-linejoin:round; stroke-width:4; stroke-opacity:1; fill:none\\\" points=\\\"193.936,1486.45 193.936,47.2441 \\\"\\/>\\n<polyline clip-path=\\\"url(#clip200)\\\" style=\\\"stroke:#000000; stroke-linecap:round; stroke-linejoin:round; stroke-width:4; stroke-opacity:1; fill:none\\\" points=\\\"193.936,1445.72 212.834,1445.72 \\\"\\/>\\n<polyline clip-path=\\\"url(#clip200)\\\" style=\\\"stroke:#000000; stroke-linecap:round; stroke-linejoin:round; stroke-width:4; stroke-opacity:1; fill:none\\\" points=\\\"193.936,1021.02 212.834,1021.02 \\\"\\/>\\n<polyline clip-path=\\\"url(#clip200)\\\" style=\\\"stroke:#000000; stroke-linecap:round; stroke-linejoin:round; stroke-width:4; stroke-opacity:1; fill:none\\\" points=\\\"193.936,596.318 212.834,596.318 \\\"\\/>\\n<polyline clip-path=\\\"url(#clip200)\\\" style=\\\"stroke:#000000; stroke-linecap:round; stroke-linejoin:round; stroke-width:4; stroke-opacity:1; fill:none\\\" points=\\\"193.936,171.618 212.834,171.618 \\\"\\/>\\n<path clip-path=\\\"url(#clip200)\\\" d=\\\"M50.9921 1446.17 L80.6679 1446.17 L80.6679 1450.1 L50.9921 1450.1 L50.9921 1446.17 Z\\\" fill=\\\"#000000\\\" fill-rule=\\\"evenodd\\\" fill-opacity=\\\"1\\\" \\/><path clip-path=\\\"url(#clip200)\\\" d=\\\"M91.5706 1459.06 L99.2095 1459.06 L99.2095 1432.7 L90.8993 1434.36 L90.8993 1430.1 L99.1632 1428.44 L103.839 1428.44 L103.839 1459.06 L111.478 1459.06 L111.478 1463 L91.5706 1463 L91.5706 1459.06 Z\\\" fill=\\\"#000000\\\" fill-rule=\\\"evenodd\\\" fill-opacity=\\\"1\\\" \\/><path clip-path=\\\"url(#clip200)\\\" d=\\\"M120.922 1457.12 L125.807 1457.12 L125.807 1463 L120.922 1463 L120.922 1457.12 Z\\\" fill=\\\"#000000\\\" fill-rule=\\\"evenodd\\\" fill-opacity=\\\"1\\\" \\/><path clip-path=\\\"url(#clip200)\\\" d=\\\"M145.992 1431.51 Q142.381 1431.51 140.552 1435.08 Q138.746 1438.62 138.746 1445.75 Q138.746 1452.86 140.552 1456.42 Q142.381 1459.96 145.992 1459.96 Q149.626 1459.96 151.431 1456.42 Q153.26 1452.86 153.26 1445.75 Q153.26 1438.62 151.431 1435.08 Q149.626 1431.51 145.992 1431.51 M145.992 1427.81 Q151.802 1427.81 154.857 1432.42 Q157.936 1437 157.936 1445.75 Q157.936 1454.48 154.857 1459.08 Q151.802 1463.67 145.992 1463.67 Q140.181 1463.67 137.103 1459.08 Q134.047 1454.48 134.047 1445.75 Q134.047 1437 137.103 1432.42 Q140.181 1427.81 145.992 1427.81 Z\\\" fill=\\\"#000000\\\" fill-rule=\\\"evenodd\\\" fill-opacity=\\\"1\\\" \\/><path clip-path=\\\"url(#clip200)\\\" d=\\\"M51.9875 1021.47 L81.6633 1021.47 L81.6633 1025.4 L51.9875 1025.4 L51.9875 1021.47 Z\\\" fill=\\\"#000000\\\" fill-rule=\\\"evenodd\\\" fill-opacity=\\\"1\\\" \\/><path clip-path=\\\"url(#clip200)\\\" d=\\\"M101.756 1006.82 Q98.1447 1006.82 96.316 1010.38 Q94.5104 1013.92 94.5104 1021.05 Q94.5104 1028.16 96.316 1031.72 Q98.1447 1035.26 101.756 1035.26 Q105.39 1035.26 107.196 1031.72 Q109.024 1028.16 109.024 1021.05 Q109.024 1013.92 107.196 1010.38 Q105.39 1006.82 101.756 1006.82 M101.756 1003.11 Q107.566 1003.11 110.621 1007.72 Q113.7 1012.3 113.7 1021.05 Q113.7 1029.78 110.621 1034.38 Q107.566 1038.97 101.756 1038.97 Q95.9456 1038.97 92.8669 1034.38 Q89.8114 1029.78 89.8114 1021.05 Q89.8114 1012.3 92.8669 1007.72 Q95.9456 1003.11 101.756 1003.11 Z\\\" fill=\\\"#000000\\\" fill-rule=\\\"evenodd\\\" fill-opacity=\\\"1\\\" \\/><path clip-path=\\\"url(#clip200)\\\" d=\\\"M121.918 1032.42 L126.802 1032.42 L126.802 1038.3 L121.918 1038.3 L121.918 1032.42 Z\\\" fill=\\\"#000000\\\" fill-rule=\\\"evenodd\\\" fill-opacity=\\\"1\\\" \\/><path clip-path=\\\"url(#clip200)\\\" d=\\\"M137.033 1003.74 L155.39 1003.74 L155.39 1007.67 L141.316 1007.67 L141.316 1016.14 Q142.334 1015.8 143.353 1015.63 Q144.371 1015.45 145.39 1015.45 Q151.177 1015.45 154.556 1018.62 Q157.936 1021.79 157.936 1027.21 Q157.936 1032.79 154.464 1035.89 Q150.992 1038.97 144.672 1038.97 Q142.496 1038.97 140.228 1038.6 Q137.982 1038.23 135.575 1037.49 L135.575 1032.79 Q137.658 1033.92 139.881 1034.48 Q142.103 1035.03 144.58 1035.03 Q148.584 1035.03 150.922 1032.93 Q153.26 1030.82 153.26 1027.21 Q153.26 1023.6 150.922 1021.49 Q148.584 1019.38 144.58 1019.38 Q142.705 1019.38 140.83 1019.8 Q138.978 1020.22 137.033 1021.1 L137.033 1003.74 Z\\\" fill=\\\"#000000\\\" fill-rule=\\\"evenodd\\\" fill-opacity=\\\"1\\\" \\/><path clip-path=\\\"url(#clip200)\\\" d=\\\"M100.76 582.116 Q97.1493 582.116 95.3206 585.681 Q93.515 589.223 93.515 596.352 Q93.515 603.459 95.3206 607.023 Q97.1493 610.565 100.76 610.565 Q104.395 610.565 106.2 607.023 Q108.029 603.459 108.029 596.352 Q108.029 589.223 106.2 585.681 Q104.395 582.116 100.76 582.116 M100.76 578.413 Q106.571 578.413 109.626 583.019 Q112.705 587.602 112.705 596.352 Q112.705 605.079 109.626 609.686 Q106.571 614.269 100.76 614.269 Q94.9502 614.269 91.8715 609.686 Q88.816 605.079 88.816 596.352 Q88.816 587.602 91.8715 583.019 Q94.9502 578.413 100.76 578.413 Z\\\" fill=\\\"#000000\\\" fill-rule=\\\"evenodd\\\" fill-opacity=\\\"1\\\" \\/><path clip-path=\\\"url(#clip200)\\\" d=\\\"M120.922 607.718 L125.807 607.718 L125.807 613.598 L120.922 613.598 L120.922 607.718 Z\\\" fill=\\\"#000000\\\" fill-rule=\\\"evenodd\\\" fill-opacity=\\\"1\\\" \\/><path clip-path=\\\"url(#clip200)\\\" d=\\\"M145.992 582.116 Q142.381 582.116 140.552 585.681 Q138.746 589.223 138.746 596.352 Q138.746 603.459 140.552 607.023 Q142.381 610.565 145.992 610.565 Q149.626 610.565 151.431 607.023 Q153.26 603.459 153.26 596.352 Q153.26 589.223 151.431 585.681 Q149.626 582.116 145.992 582.116 M145.992 578.413 Q151.802 578.413 154.857 583.019 Q157.936 587.602 157.936 596.352 Q157.936 605.079 154.857 609.686 Q151.802 614.269 145.992 614.269 Q140.181 614.269 137.103 609.686 Q134.047 605.079 134.047 596.352 Q134.047 587.602 137.103 583.019 Q140.181 578.413 145.992 578.413 Z\\\" fill=\\\"#000000\\\" fill-rule=\\\"evenodd\\\" fill-opacity=\\\"1\\\" \\/><path clip-path=\\\"url(#clip200)\\\" d=\\\"M101.756 157.417 Q98.1447 157.417 96.316 160.982 Q94.5104 164.523 94.5104 171.653 Q94.5104 178.76 96.316 182.324 Q98.1447 185.866 101.756 185.866 Q105.39 185.866 107.196 182.324 Q109.024 178.76 109.024 171.653 Q109.024 164.523 107.196 160.982 Q105.39 157.417 101.756 157.417 M101.756 153.713 Q107.566 153.713 110.621 158.32 Q113.7 162.903 113.7 171.653 Q113.7 180.38 110.621 184.986 Q107.566 189.57 101.756 189.57 Q95.9456 189.57 92.8669 184.986 Q89.8114 180.38 89.8114 171.653 Q89.8114 162.903 92.8669 158.32 Q95.9456 153.713 101.756 153.713 Z\\\" fill=\\\"#000000\\\" fill-rule=\\\"evenodd\\\" fill-opacity=\\\"1\\\" \\/><path clip-path=\\\"url(#clip200)\\\" d=\\\"M121.918 183.019 L126.802 183.019 L126.802 188.898 L121.918 188.898 L121.918 183.019 Z\\\" fill=\\\"#000000\\\" fill-rule=\\\"evenodd\\\" fill-opacity=\\\"1\\\" \\/><path clip-path=\\\"url(#clip200)\\\" d=\\\"M137.033 154.338 L155.39 154.338 L155.39 158.274 L141.316 158.274 L141.316 166.746 Q142.334 166.398 143.353 166.236 Q144.371 166.051 145.39 166.051 Q151.177 166.051 154.556 169.223 Q157.936 172.394 157.936 177.81 Q157.936 183.389 154.464 186.491 Q150.992 189.57 144.672 189.57 Q142.496 189.57 140.228 189.199 Q137.982 188.829 135.575 188.088 L135.575 183.389 Q137.658 184.523 139.881 185.079 Q142.103 185.634 144.58 185.634 Q148.584 185.634 150.922 183.528 Q153.26 181.422 153.26 177.81 Q153.26 174.199 150.922 172.093 Q148.584 169.986 144.58 169.986 Q142.705 169.986 140.83 170.403 Q138.978 170.82 137.033 171.699 L137.033 154.338 Z\\\" fill=\\\"#000000\\\" fill-rule=\\\"evenodd\\\" fill-opacity=\\\"1\\\" \\/><polyline clip-path=\\\"url(#clip202)\\\" style=\\\"stroke:#009af9; stroke-linecap:round; stroke-linejoin:round; stroke-width:4; stroke-opacity:1; fill:none\\\" points=\\\"255.035,87.9763 257.071,89.6881 259.108,91.4032 261.145,93.1215 263.181,94.8429 265.218,96.5675 267.254,98.2952 269.291,100.026 271.328,101.76 273.364,103.497 275.401,105.238 277.438,106.981 279.474,108.727 281.511,110.477 283.547,112.23 285.584,113.985 287.621,115.744 289.657,117.506 291.694,119.271 293.731,121.038 295.767,122.809 297.804,124.583 299.84,126.36 301.877,128.139 303.914,129.922 305.95,131.708 307.987,133.496 310.023,135.288 312.06,137.082 314.097,138.879 316.133,140.68 318.17,142.483 320.207,144.289 322.243,146.097 324.28,147.909 326.316,149.724 328.353,151.541 330.39,153.361 332.426,155.184 334.463,157.01 336.5,158.838 338.536,160.669 340.573,162.503 342.609,164.34 344.646,166.179 346.683,168.022 348.719,169.866 350.756,171.714 352.793,173.564 354.829,175.417 356.866,177.273 358.902,179.131 360.939,180.992 362.976,182.855 365.012,184.721 367.049,186.59 369.086,188.461 371.122,190.335 373.159,192.212 375.195,194.091 377.232,195.972 379.269,197.856 381.305,199.743 383.342,201.632 385.379,203.523 387.415,205.417 389.452,207.314 391.488,209.213 393.525,211.114 395.562,213.018 397.598,214.924 399.635,216.833 401.671,218.744 403.708,220.658 405.745,222.573 407.781,224.492 409.818,226.412 411.855,228.335 413.891,230.26 415.928,232.188 417.964,234.117 420.001,236.05 422.038,237.984 424.074,239.921 426.111,241.859 428.148,243.801 430.184,245.744 432.221,247.689 434.257,249.637 436.294,251.587 438.331,253.539 440.367,255.494 442.404,257.45 444.441,259.409 446.477,261.369 448.514,263.332 450.55,265.297 452.587,267.264 454.624,269.233 456.66,271.205 458.697,273.178 460.734,275.153 462.77,277.13 464.807,279.11 466.843,281.091 468.88,283.074 470.917,285.06 472.953,287.047 474.99,289.036 477.027,291.027 479.063,293.02 481.1,295.015 483.136,297.012 485.173,299.011 487.21,301.012 489.246,303.014 491.283,305.019 493.32,307.025 495.356,309.033 497.393,311.043 499.429,313.054 501.466,315.068 503.503,317.083 505.539,319.1 507.576,321.119 509.612,323.139 511.649,325.161 513.686,327.185 515.722,329.211 517.759,331.238 519.796,333.267 521.832,335.298 523.869,337.33 525.905,339.364 527.942,341.4 529.979,343.437 532.015,345.476 534.052,347.516 536.089,349.558 538.125,351.601 540.162,353.646 542.198,355.693 544.235,357.741 546.272,359.791 548.308,361.842 550.345,363.894 552.382,365.948 554.418,368.004 556.455,370.061 558.491,372.119 560.528,374.179 562.565,376.24 564.601,378.303 566.638,380.367 568.675,382.432 570.711,384.499 572.748,386.567 574.784,388.636 576.821,390.706 578.858,392.778 580.894,394.852 582.931,396.926 584.968,399.002 587.004,401.079 589.041,403.157 591.077,405.237 593.114,407.317 595.151,409.399 597.187,411.482 599.224,413.566 601.261,415.652 603.297,417.738 605.334,419.826 607.37,421.914 609.407,424.004 611.444,426.095 613.48,428.187 615.517,430.28 617.553,432.374 619.59,434.47 621.627,436.566 623.663,438.663 625.7,440.761 627.737,442.86 629.773,444.96 631.81,447.061 633.846,449.163 635.883,451.266 637.92,453.37 639.956,455.475 641.993,457.581 644.03,459.687 646.066,461.795 648.103,463.903 650.139,466.012 652.176,468.122 654.213,470.233 656.249,472.344 658.286,474.456 660.323,476.569 662.359,478.683 664.396,480.798 666.432,482.913 668.469,485.029 670.506,487.146 672.542,489.263 674.579,491.381 676.616,493.5 678.652,495.62 680.689,497.74 682.725,499.86 684.762,501.981 686.799,504.103 688.835,506.226 690.872,508.349 692.909,510.472 694.945,512.596 696.982,514.721 699.018,516.846 701.055,518.972 703.092,521.098 705.128,523.225 707.165,525.352 709.202,527.479 711.238,529.607 713.275,531.736 715.311,533.864 717.348,535.994 719.385,538.123 721.421,540.253 723.458,542.383 725.494,544.514 727.531,546.645 729.568,548.776 731.604,550.908 733.641,553.04 735.678,555.172 737.714,557.304 739.751,559.437 741.787,561.57 743.824,563.703 745.861,565.836 747.897,567.97 749.934,570.103 751.971,572.237 754.007,574.371 756.044,576.505 758.08,578.639 760.117,580.774 762.154,582.908 764.19,585.043 766.227,587.177 768.264,589.312 770.3,591.447 772.337,593.582 774.373,595.716 776.41,597.851 778.447,599.986 780.483,602.121 782.52,604.255 784.557,606.39 786.593,608.525 788.63,610.659 790.666,612.794 792.703,614.928 794.74,617.062 796.776,619.196 798.813,621.33 800.85,623.464 802.886,625.597 804.923,627.731 806.959,629.864 808.996,631.997 811.033,634.13 813.069,636.262 815.106,638.395 817.142,640.527 819.179,642.658 821.216,644.79 823.252,646.921 825.289,649.052 827.326,651.182 829.362,653.312 831.399,655.442 833.435,657.572 835.472,659.701 837.509,661.829 839.545,663.957 841.582,666.085 843.619,668.212 845.655,670.339 847.692,672.466 849.728,674.592 851.765,676.717 853.802,678.842 855.838,680.966 857.875,683.09 859.912,685.214 861.948,687.336 863.985,689.459 866.021,691.58 868.058,693.701 870.095,695.822 872.131,697.941 874.168,700.06 876.205,702.179 878.241,704.297 880.278,706.414 882.314,708.53 884.351,710.646 886.388,712.761 888.424,714.875 890.461,716.989 892.498,719.101 894.534,721.213 896.571,723.325 898.607,725.435 900.644,727.544 902.681,729.653 904.717,731.761 906.754,733.868 908.791,735.974 910.827,738.08 912.864,740.184 914.9,742.287 916.937,744.39 918.974,746.492 921.01,748.592 923.047,750.692 925.083,752.791 927.12,754.888 929.157,756.985 931.193,759.081 933.23,761.176 935.267,763.269 937.303,765.362 939.34,767.453 941.376,769.544 943.413,771.633 945.45,773.721 947.486,775.808 949.523,777.894 951.56,779.979 953.596,782.063 955.633,784.146 957.669,786.227 959.706,788.307 961.743,790.386 963.779,792.464 965.816,794.54 967.853,796.615 969.889,798.689 971.926,800.762 973.962,802.833 975.999,804.903 978.036,806.972 980.072,809.039 982.109,811.105 984.146,813.17 986.182,815.234 988.219,817.295 990.255,819.356 992.292,821.415 994.329,823.473 996.365,825.529 998.402,827.584 1000.44,829.637 1002.48,831.689 1004.51,833.74 1006.55,835.789 1008.59,837.836 1010.62,839.882 1012.66,841.926 1014.69,843.969 1016.73,846.01 1018.77,848.05 1020.8,850.088 1022.84,852.125 1024.88,854.159 1026.91,856.193 1028.95,858.224 1030.99,860.254 1033.02,862.282 1035.06,864.309 1037.1,866.334 1039.13,868.357 1041.17,870.379 1043.21,872.398 1045.24,874.416 1047.28,876.432 1049.32,878.447 1051.35,880.46 1053.39,882.471 1055.43,884.48 1057.46,886.487 1059.5,888.492 1061.54,890.496 1063.57,892.498 1065.61,894.497 1067.65,896.495 1069.68,898.491 1071.72,900.486 1073.76,902.478 1075.79,904.468 1077.83,906.457 1079.87,908.443 1081.9,910.427 1083.94,912.41 1085.98,914.39 1088.01,916.369 1090.05,918.345 1092.09,920.319 1094.12,922.292 1096.16,924.262 1098.2,926.23 1100.23,928.196 1102.27,930.16 1104.31,932.122 1106.34,934.082 1108.38,936.04 1110.42,937.995 1112.45,939.949 1114.49,941.9 1116.53,943.849 1118.56,945.796 1120.6,947.74 1122.64,949.683 1124.67,951.623 1126.71,953.561 1128.75,955.496 1130.78,957.43 1132.82,959.361 1134.86,961.29 1136.89,963.216 1138.93,965.14 1140.97,967.062 1143,968.982 1145.04,970.899 1147.08,972.814 1149.11,974.726 1151.15,976.636 1153.19,978.544 1155.22,980.449 1157.26,982.352 1159.3,984.252 1161.33,986.15 1163.37,988.045 1165.4,989.938 1167.44,991.829 1169.48,993.717 1171.51,995.602 1173.55,997.485 1175.59,999.366 1177.62,1001.24 1179.66,1003.12 1181.7,1004.99 1183.73,1006.86 1185.77,1008.73 1187.81,1010.59 1189.84,1012.46 1191.88,1014.32 1193.92,1016.17 1195.95,1018.03 1197.99,1019.88 1200.03,1021.73 1202.06,1023.57 1204.1,1025.42 1206.14,1027.26 1208.17,1029.1 1210.21,1030.93 1212.25,1032.77 1214.28,1034.6 1216.32,1036.42 1218.36,1038.25 1220.39,1040.07 1222.43,1041.89 1224.47,1043.7 1226.5,1045.52 1228.54,1047.33 1230.58,1049.14 1232.61,1050.94 1234.65,1052.74 1236.69,1054.54 1238.72,1056.34 1240.76,1058.13 1242.8,1059.92 1244.83,1061.71 1246.87,1063.49 1248.91,1065.27 1250.94,1067.05 1252.98,1068.83 1255.02,1070.6 1257.05,1072.37 1259.09,1074.14 1261.13,1075.9 1263.16,1077.66 1265.2,1079.42 1267.24,1081.17 1269.27,1082.92 1271.31,1084.67 1273.35,1086.42 1275.38,1088.16 1277.42,1089.9 1279.46,1091.63 1281.49,1093.37 1283.53,1095.09 1285.57,1096.82 1287.6,1098.54 1289.64,1100.26 1291.68,1101.98 1293.71,1103.7 1295.75,1105.41 1297.79,1107.11 1299.82,1108.82 1301.86,1110.52 1303.9,1112.22 1305.93,1113.91 1307.97,1115.6 1310.01,1117.29 1312.04,1118.97 1314.08,1120.65 1316.12,1122.33 1318.15,1124.01 1320.19,1125.68 1322.22,1127.34 1324.26,1129.01 1326.3,1130.67 1328.33,1132.33 1330.37,1133.98 1332.41,1135.63 1334.44,1137.28 1336.48,1138.93 1338.52,1140.57 1340.55,1142.2 1342.59,1143.84 1344.63,1145.47 1346.66,1147.09 1348.7,1148.72 1350.74,1150.34 1352.77,1151.95 1354.81,1153.57 1356.85,1155.18 1358.88,1156.78 1360.92,1158.38 1362.96,1159.98 1364.99,1161.58 1367.03,1163.17 1369.07,1164.76 1371.1,1166.34 1373.14,1167.92 1375.18,1169.5 1377.21,1171.07 1379.25,1172.64 1381.29,1174.21 1383.32,1175.77 1385.36,1177.33 1387.4,1178.89 1389.43,1180.44 1391.47,1181.99 1393.51,1183.53 1395.54,1185.07 1397.58,1186.61 1399.62,1188.14 1401.65,1189.67 1403.69,1191.2 1405.73,1192.72 1407.76,1194.24 1409.8,1195.75 1411.84,1197.26 1413.87,1198.77 1415.91,1200.27 1417.95,1201.77 1419.98,1203.27 1422.02,1204.76 1424.06,1206.25 1426.09,1207.73 1428.13,1209.21 1430.17,1210.69 1432.2,1212.16 1434.24,1213.63 1436.28,1215.09 1438.31,1216.55 1440.35,1218.01 1442.39,1219.46 1444.42,1220.91 1446.46,1222.35 1448.5,1223.79 1450.53,1225.23 1452.57,1226.66 1454.61,1228.09 1456.64,1229.52 1458.68,1230.94 1460.72,1232.36 1462.75,1233.77 1464.79,1235.18 1466.83,1236.58 1468.86,1237.98 1470.9,1239.38 1472.93,1240.77 1474.97,1242.16 1477.01,1243.55 1479.04,1244.93 1481.08,1246.3 1483.12,1247.67 1485.15,1249.04 1487.19,1250.41 1489.23,1251.77 1491.26,1253.12 1493.3,1254.47 1495.34,1255.82 1497.37,1257.16 1499.41,1258.5 1501.45,1259.84 1503.48,1261.17 1505.52,1262.5 1507.56,1263.82 1509.59,1265.14 1511.63,1266.45 1513.67,1267.76 1515.7,1269.06 1517.74,1270.37 1519.78,1271.66 1521.81,1272.96 1523.85,1274.24 1525.89,1275.53 1527.92,1276.81 1529.96,1278.08 1532,1279.35 1534.03,1280.62 1536.07,1281.88 1538.11,1283.14 1540.14,1284.4 1542.18,1285.65 1544.22,1286.89 1546.25,1288.13 1548.29,1289.37 1550.33,1290.6 1552.36,1291.83 1554.4,1293.05 1556.44,1294.27 1558.47,1295.48 1560.51,1296.69 1562.55,1297.9 1564.58,1299.1 1566.62,1300.3 1568.66,1301.49 1570.69,1302.68 1572.73,1303.86 1574.77,1305.04 1576.8,1306.21 1578.84,1307.38 1580.88,1308.55 1582.91,1309.71 1584.95,1310.87 1586.99,1312.02 1589.02,1313.17 1591.06,1314.31 1593.1,1315.45 1595.13,1316.58 1597.17,1317.71 1599.21,1318.83 1601.24,1319.96 1603.28,1321.07 1605.32,1322.18 1607.35,1323.29 1609.39,1324.39 1611.43,1325.49 1613.46,1326.58 1615.5,1327.67 1617.54,1328.75 1619.57,1329.83 1621.61,1330.9 1623.65,1331.97 1625.68,1333.04 1627.72,1334.1 1629.75,1335.15 1631.79,1336.2 1633.83,1337.25 1635.86,1338.29 1637.9,1339.33 1639.94,1340.36 1641.97,1341.39 1644.01,1342.41 1646.05,1343.43 1648.08,1344.44 1650.12,1345.45 1652.16,1346.45 1654.19,1347.45 1656.23,1348.45 1658.27,1349.44 1660.3,1350.42 1662.34,1351.4 1664.38,1352.38 1666.41,1353.35 1668.45,1354.31 1670.49,1355.28 1672.52,1356.23 1674.56,1357.18 1676.6,1358.13 1678.63,1359.07 1680.67,1360.01 1682.71,1360.94 1684.74,1361.87 1686.78,1362.79 1688.82,1363.71 1690.85,1364.62 1692.89,1365.53 1694.93,1366.43 1696.96,1367.33 1699,1368.22 1701.04,1369.11 1703.07,1369.99 1705.11,1370.87 1707.15,1371.75 1709.18,1372.62 1711.22,1373.48 1713.26,1374.34 1715.29,1375.19 1717.33,1376.04 1719.37,1376.89 1721.4,1377.73 1723.44,1378.56 1725.48,1379.39 1727.51,1380.21 1729.55,1381.03 1731.59,1381.85 1733.62,1382.66 1735.66,1383.46 1737.7,1384.26 1739.73,1385.06 1741.77,1385.85 1743.81,1386.63 1745.84,1387.41 1747.88,1388.19 1749.92,1388.96 1751.95,1389.72 1753.99,1390.48 1756.03,1391.24 1758.06,1391.98 1760.1,1392.73 1762.14,1393.47 1764.17,1394.2 1766.21,1394.93 1768.25,1395.66 1770.28,1396.38 1772.32,1397.09 1774.36,1397.8 1776.39,1398.51 1778.43,1399.2 1780.46,1399.9 1782.5,1400.59 1784.54,1401.27 1786.57,1401.95 1788.61,1402.62 1790.65,1403.29 1792.68,1403.96 1794.72,1404.62 1796.76,1405.27 1798.79,1405.92 1800.83,1406.56 1802.87,1407.2 1804.9,1407.83 1806.94,1408.46 1808.98,1409.08 1811.01,1409.7 1813.05,1410.31 1815.09,1410.92 1817.12,1411.52 1819.16,1412.12 1821.2,1412.71 1823.23,1413.3 1825.27,1413.88 1827.31,1414.46 1829.34,1415.03 1831.38,1415.59 1833.42,1416.15 1835.45,1416.71 1837.49,1417.26 1839.53,1417.81 1841.56,1418.35 1843.6,1418.88 1845.64,1419.41 1847.67,1419.94 1849.71,1420.45 1851.75,1420.97 1853.78,1421.48 1855.82,1421.98 1857.86,1422.48 1859.89,1422.97 1861.93,1423.46 1863.97,1423.94 1866,1424.42 1868.04,1424.89 1870.08,1425.36 1872.11,1425.82 1874.15,1426.28 1876.19,1426.73 1878.22,1427.18 1880.26,1427.62 1882.3,1428.05 1884.33,1428.48 1886.37,1428.91 1888.41,1429.33 1890.44,1429.74 1892.48,1430.15 1894.52,1430.56 1896.55,1430.96 1898.59,1431.35 1900.63,1431.74 1902.66,1432.12 1904.7,1432.5 1906.74,1432.87 1908.77,1433.24 1910.81,1433.6 1912.85,1433.96 1914.88,1434.31 1916.92,1434.66 1918.96,1435 1920.99,1435.33 1923.03,1435.66 1925.07,1435.99 1927.1,1436.31 1929.14,1436.62 1931.18,1436.93 1933.21,1437.23 1935.25,1437.53 1937.28,1437.82 1939.32,1438.11 1941.36,1438.39 1943.39,1438.67 1945.43,1438.94 1947.47,1439.21 1949.5,1439.47 1951.54,1439.73 1953.58,1439.98 1955.61,1440.22 1957.65,1440.46 1959.69,1440.7 1961.72,1440.92 1963.76,1441.15 1965.8,1441.37 1967.83,1441.58 1969.87,1441.79 1971.91,1441.99 1973.94,1442.19 1975.98,1442.38 1978.02,1442.57 1980.05,1442.75 1982.09,1442.92 1984.13,1443.09 1986.16,1443.26 1988.2,1443.42 1990.24,1443.57 1992.27,1443.72 1994.31,1443.86 1996.35,1444 1998.38,1444.13 2000.42,1444.26 2002.46,1444.38 2004.49,1444.5 2006.53,1444.61 2008.57,1444.72 2010.6,1444.82 2012.64,1444.91 2014.68,1445 2016.71,1445.09 2018.75,1445.17 2020.79,1445.24 2022.82,1445.31 2024.86,1445.37 2026.9,1445.43 2028.93,1445.48 2030.97,1445.53 2033.01,1445.57 2035.04,1445.61 2037.08,1445.64 2039.12,1445.67 2041.15,1445.69 2043.19,1445.7 2045.23,1445.71 2047.26,1445.72 2049.3,1445.71 2051.34,1445.71 2053.37,1445.7 2055.41,1445.68 2057.45,1445.66 2059.48,1445.63 2061.52,1445.59 2063.56,1445.56 2065.59,1445.51 2067.63,1445.46 2069.67,1445.41 2071.7,1445.35 2073.74,1445.28 2075.78,1445.21 2077.81,1445.13 2079.85,1445.05 2081.89,1444.97 2083.92,1444.87 2085.96,1444.78 2087.99,1444.67 2090.03,1444.56 2092.07,1444.45 2094.1,1444.33 2096.14,1444.21 2098.18,1444.08 2100.21,1443.94 2102.25,1443.8 2104.29,1443.66 2106.32,1443.5 2108.36,1443.35 2110.4,1443.19 2112.43,1443.02 2114.47,1442.85 2116.51,1442.67 2118.54,1442.48 2120.58,1442.3 2122.62,1442.1 2124.65,1441.9 2126.69,1441.7 2128.73,1441.49 2130.76,1441.27 2132.8,1441.05 2134.84,1440.83 2136.87,1440.59 2138.91,1440.36 2140.95,1440.11 2142.98,1439.87 2145.02,1439.61 2147.06,1439.36 2149.09,1439.09 2151.13,1438.82 2153.17,1438.55 2155.2,1438.27 2157.24,1437.99 2159.28,1437.7 2161.31,1437.4 2163.35,1437.1 2165.39,1436.79 2167.42,1436.48 2169.46,1436.17 2171.5,1435.84 2173.53,1435.52 2175.57,1435.19 2177.61,1434.85 2179.64,1434.5 2181.68,1434.16 2183.72,1433.8 2185.75,1433.44 2187.79,1433.08 2189.83,1432.71 2191.86,1432.34 2193.9,1431.96 2195.94,1431.57 2197.97,1431.18 2200.01,1430.78 2202.05,1430.38 2204.08,1429.98 2206.12,1429.56 2208.16,1429.15 2210.19,1428.72 2212.23,1428.3 2214.27,1427.86 2216.3,1427.43 2218.34,1426.98 2220.38,1426.53 2222.41,1426.08 2224.45,1425.62 2226.49,1425.16 2228.52,1424.69 2230.56,1424.21 2232.6,1423.73 2234.63,1423.25 2236.67,1422.76 2238.71,1422.26 2240.74,1421.76 2242.78,1421.26 2244.81,1420.74 2246.85,1420.23 2248.89,1419.71 2250.92,1419.18 2252.96,1418.65 2255,1418.11 2257.03,1417.57 2259.07,1417.02 2261.11,1416.47 2263.14,1415.91 2265.18,1415.35 2267.22,1414.78 2269.25,1414.2 2271.29,1413.63 2273.33,1413.04 2275.36,1412.45 2277.4,1411.86 2279.44,1411.26 2281.47,1410.66 2283.51,1410.05 2285.55,1409.43 2287.58,1408.81 2289.62,1408.19 2291.66,1407.56 \\\"\\/>\\n<path clip-path=\\\"url(#clip200)\\\" d=\\\"M2012.48 198.898 L2280.8 198.898 L2280.8 95.2176 L2012.48 95.2176  Z\\\" fill=\\\"#ffffff\\\" fill-rule=\\\"evenodd\\\" fill-opacity=\\\"1\\\"\\/>\\n<polyline clip-path=\\\"url(#clip200)\\\" style=\\\"stroke:#000000; stroke-linecap:round; stroke-linejoin:round; stroke-width:4; stroke-opacity:1; fill:none\\\" points=\\\"2012.48,198.898 2280.8,198.898 2280.8,95.2176 2012.48,95.2176 2012.48,198.898 \\\"\\/>\\n<polyline clip-path=\\\"url(#clip200)\\\" style=\\\"stroke:#009af9; stroke-linecap:round; stroke-linejoin:round; stroke-width:4; stroke-opacity:1; fill:none\\\" points=\\\"2036.47,147.058 2180.39,147.058 \\\"\\/>\\n<path clip-path=\\\"url(#clip200)\\\" d=\\\"M2218.22 166.745 Q2216.42 171.375 2214.7 172.787 Q2212.99 174.199 2210.12 174.199 L2206.72 174.199 L2206.72 170.634 L2209.22 170.634 Q2210.98 170.634 2211.95 169.8 Q2212.92 168.967 2214.1 165.865 L2214.86 163.921 L2204.38 138.412 L2208.89 138.412 L2216.99 158.689 L2225.1 138.412 L2229.61 138.412 L2218.22 166.745 Z\\\" fill=\\\"#000000\\\" fill-rule=\\\"evenodd\\\" fill-opacity=\\\"1\\\" \\/><path clip-path=\\\"url(#clip200)\\\" d=\\\"M2236.9 160.402 L2244.54 160.402 L2244.54 134.037 L2236.23 135.703 L2236.23 131.444 L2244.49 129.778 L2249.17 129.778 L2249.17 160.402 L2256.81 160.402 L2256.81 164.338 L2236.9 164.338 L2236.9 160.402 Z\\\" fill=\\\"#000000\\\" fill-rule=\\\"evenodd\\\" fill-opacity=\\\"1\\\" \\/><\\/svg>\\n\"},\"nodeType\":\"DOM\",\"type\":\"node\",\"instanceArgs\":{\"namespace\":\"html\",\"tag\":\"div\"},\"children\":[]}]}}}},\"children\":[{\"props\":{},\"nodeType\":\"ObservableNode\",\"type\":\"node\",\"instanceArgs\":{\"id\":\"14398106641114548840\",\"name\":\"obs-node\"},\"children\":[]}]}]},\n",
       "        window,\n",
       "    );\n",
       "    })()\n",
       "    </script>\n",
       "</div>\n"
      ],
      "text/plain": [
       "Node{WebIO.DOM}(WebIO.DOM(:html, :div), Any[Node{WebIO.DOM}(WebIO.DOM(:html, :div), Any[Scope(Node{WebIO.DOM}(WebIO.DOM(:html, :div), Any[Node{WebIO.DOM}(WebIO.DOM(:html, :div), Any[Node{WebIO.DOM}(WebIO.DOM(:html, :label), Any[\"λ\"], Dict{Symbol, Any}(:className => \"interact \", :style => Dict{Any, Any}(:padding => \"5px 10px 0px 10px\")))], Dict{Symbol, Any}(:className => \"interact-flex-row-left\")), Node{WebIO.DOM}(WebIO.DOM(:html, :div), Any[Node{WebIO.DOM}(WebIO.DOM(:html, :input), Any[], Dict{Symbol, Any}(:max => 50, :min => 1, :attributes => Dict{Any, Any}(:type => \"range\", Symbol(\"data-bind\") => \"numericValue: index, valueUpdate: 'input', event: {change: function (){this.changes(this.changes()+1)}}\", \"orient\" => \"horizontal\"), :step => 1, :className => \"slider slider is-fullwidth\", :style => Dict{Any, Any}()))], Dict{Symbol, Any}(:className => \"interact-flex-row-center\")), Node{WebIO.DOM}(WebIO.DOM(:html, :div), Any[Node{WebIO.DOM}(WebIO.DOM(:html, :p), Any[], Dict{Symbol, Any}(:attributes => Dict(\"data-bind\" => \"text: formatted_val\")))], Dict{Symbol, Any}(:className => \"interact-flex-row-right\"))], Dict{Symbol, Any}(:className => \"interact-flex-row interact-widget\")), Dict{String, Tuple{AbstractObservable, Union{Nothing, Bool}}}(\"changes\" => (Observable(0), nothing), \"index\" => (Observable{Any}(25), nothing)), Set{String}(), nothing, Asset[Asset(\"js\", \"knockout\", \"/Users/pauln/.julia/packages/Knockout/HReiN/src/../assets/knockout.js\"), Asset(\"js\", \"knockout_punches\", \"/Users/pauln/.julia/packages/Knockout/HReiN/src/../assets/knockout_punches.js\"), Asset(\"js\", nothing, \"/Users/pauln/.julia/packages/InteractBase/Qhvxg/src/../assets/all.js\"), Asset(\"css\", nothing, \"/Users/pauln/.julia/packages/InteractBase/Qhvxg/src/../assets/style.css\"), Asset(\"css\", nothing, \"/Users/pauln/.julia/packages/Interact/PENUy/src/../assets/bulma_confined.min.css\")], Dict{Any, Any}(\"changes\" => Any[WebIO.JSString(\"(function (val){return (val!=this.model[\\\"changes\\\"]()) ? (this.valueFromJulia[\\\"changes\\\"]=true, this.model[\\\"changes\\\"](val)) : undefined})\")], \"index\" => Any[WebIO.JSString(\"(function (val){return (val!=this.model[\\\"index\\\"]()) ? (this.valueFromJulia[\\\"index\\\"]=true, this.model[\\\"index\\\"](val)) : undefined})\")]), WebIO.ConnectionPool(Channel{Any}(32), Set{AbstractConnection}(), Condition(Base.InvasiveLinkedList{Task}(Task (runnable) @0x000000014c801cf0, Task (runnable) @0x000000014c801cf0), Base.AlwaysLockedST(1))), WebIO.JSString[WebIO.JSString(\"function () {\\n    var handler = (function (ko, koPunches) {\\n    ko.punches.enableAll();\\n    ko.bindingHandlers.numericValue = {\\n        init: function(element, valueAccessor, allBindings, data, context) {\\n            var stringified = ko.observable(ko.unwrap(valueAccessor()));\\n            stringified.subscribe(function(value) {\\n                var val = parseFloat(value);\\n                if (!isNaN(val)) {\\n                    valueAccessor()(val);\\n                }\\n            });\\n            valueAccessor().subscribe(function(value) {\\n                var str = JSON.stringify(value);\\n                if ((str == \\\"0\\\") && ([\\\"-0\\\", \\\"-0.\\\"].indexOf(stringified()) >= 0))\\n                     return;\\n                 if ([\\\"null\\\", \\\"\\\"].indexOf(str) >= 0)\\n                     return;\\n                stringified(str);\\n            });\\n            ko.applyBindingsToNode(\\n                element,\\n                {\\n                    value: stringified,\\n                    valueUpdate: allBindings.get('valueUpdate'),\\n                },\\n                context,\\n            );\\n        }\\n    };\\n    var json_data = {\\\"formatted_vals\\\":[\\\"0.1\\\",\\\"0.2\\\",\\\"0.3\\\",\\\"0.4\\\",\\\"0.5\\\",\\\"0.6\\\",\\\"0.7\\\",\\\"0.8\\\",\\\"0.9\\\",\\\"1.0\\\",\\\"1.1\\\",\\\"1.2\\\",\\\"1.3\\\",\\\"1.4\\\",\\\"1.5\\\",\\\"1.6\\\",\\\"1.7\\\",\\\"1.8\\\",\\\"1.9\\\",\\\"2.0\\\",\\\"2.1\\\",\\\"2.2\\\",\\\"2.3\\\",\\\"2.4\\\",\\\"2.5\\\",\\\"2.6\\\",\\\"2.7\\\",\\\"2.8\\\",\\\"2.9\\\",\\\"3.0\\\",\\\"3.1\\\",\\\"3.2\\\",\\\"3.3\\\",\\\"3.4\\\",\\\"3.5\\\",\\\"3.6\\\",\\\"3.7\\\",\\\"3.8\\\",\\\"3.9\\\",\\\"4.0\\\",\\\"4.1\\\",\\\"4.2\\\",\\\"4.3\\\",\\\"4.4\\\",\\\"4.5\\\",\\\"4.6\\\",\\\"4.7\\\",\\\"4.8\\\",\\\"4.9\\\",\\\"5.0\\\"],\\\"changes\\\":WebIO.getval({\\\"name\\\":\\\"changes\\\",\\\"scope\\\":\\\"9814050476510015638\\\",\\\"id\\\":\\\"5383363504802502826\\\",\\\"type\\\":\\\"observable\\\"}),\\\"index\\\":WebIO.getval({\\\"name\\\":\\\"index\\\",\\\"scope\\\":\\\"9814050476510015638\\\",\\\"id\\\":\\\"14258036597808198953\\\",\\\"type\\\":\\\"observable\\\"})};\\n    var self = this;\\n    function AppViewModel() {\\n        for (var key in json_data) {\\n            var el = json_data[key];\\n            this[key] = Array.isArray(el) ? ko.observableArray(el) : ko.observable(el);\\n        }\\n        \\n        [this[\\\"formatted_val\\\"]=ko.computed(    function(){\\n        return this.formatted_vals()[parseInt(this.index())-(1)];\\n    }\\n,this)]\\n        [this[\\\"changes\\\"].subscribe((function (val){!(this.valueFromJulia[\\\"changes\\\"]) ? (WebIO.setval({\\\"name\\\":\\\"changes\\\",\\\"scope\\\":\\\"9814050476510015638\\\",\\\"id\\\":\\\"5383363504802502826\\\",\\\"type\\\":\\\"observable\\\"},val)) : undefined; return this.valueFromJulia[\\\"changes\\\"]=false}),self),this[\\\"index\\\"].subscribe((function (val){!(this.valueFromJulia[\\\"index\\\"]) ? (WebIO.setval({\\\"name\\\":\\\"index\\\",\\\"scope\\\":\\\"9814050476510015638\\\",\\\"id\\\":\\\"14258036597808198953\\\",\\\"type\\\":\\\"observable\\\"},val)) : undefined; return this.valueFromJulia[\\\"index\\\"]=false}),self)]\\n        \\n    }\\n    self.model = new AppViewModel();\\n    self.valueFromJulia = {};\\n    for (var key in json_data) {\\n        self.valueFromJulia[key] = false;\\n    }\\n    ko.applyBindings(self.model, self.dom);\\n}\\n);\\n    (WebIO.importBlock({\\\"data\\\":[{\\\"name\\\":\\\"knockout\\\",\\\"type\\\":\\\"js\\\",\\\"url\\\":\\\"/assetserver/29f2f9bc2710e2f2cb1485988fc1067fea65496a-knockout.js\\\"},{\\\"name\\\":\\\"knockout_punches\\\",\\\"type\\\":\\\"js\\\",\\\"url\\\":\\\"/assetserver/a0191d716088ea54b8651b8b4d21b48ebae443be-knockout_punches.js\\\"}],\\\"type\\\":\\\"async_block\\\"})).then((imports) => handler.apply(this, imports));\\n}\\n\")])], Dict{Symbol, Any}(:className => \"field interact-widget\")), Node{WebIO.DOM}(WebIO.DOM(:html, :div), Any[Scope(Node{WebIO.DOM}(WebIO.DOM(:html, :div), Any[Node{WebIO.DOM}(WebIO.DOM(:html, :div), Any[Node{WebIO.DOM}(WebIO.DOM(:html, :label), Any[\"ϕ\"], Dict{Symbol, Any}(:className => \"interact \", :style => Dict{Any, Any}(:padding => \"5px 10px 0px 10px\")))], Dict{Symbol, Any}(:className => \"interact-flex-row-left\")), Node{WebIO.DOM}(WebIO.DOM(:html, :div), Any[Node{WebIO.DOM}(WebIO.DOM(:html, :input), Any[], Dict{Symbol, Any}(:max => 51, :min => 1, :attributes => Dict{Any, Any}(:type => \"range\", Symbol(\"data-bind\") => \"numericValue: index, valueUpdate: 'input', event: {change: function (){this.changes(this.changes()+1)}}\", \"orient\" => \"horizontal\"), :step => 1, :className => \"slider slider is-fullwidth\", :style => Dict{Any, Any}()))], Dict{Symbol, Any}(:className => \"interact-flex-row-center\")), Node{WebIO.DOM}(WebIO.DOM(:html, :div), Any[Node{WebIO.DOM}(WebIO.DOM(:html, :p), Any[], Dict{Symbol, Any}(:attributes => Dict(\"data-bind\" => \"text: formatted_val\")))], Dict{Symbol, Any}(:className => \"interact-flex-row-right\"))], Dict{Symbol, Any}(:className => \"interact-flex-row interact-widget\")), Dict{String, Tuple{AbstractObservable, Union{Nothing, Bool}}}(\"changes\" => (Observable(0), nothing), \"index\" => (Observable{Any}(26), nothing)), Set{String}(), nothing, Asset[Asset(\"js\", \"knockout\", \"/Users/pauln/.julia/packages/Knockout/HReiN/src/../assets/knockout.js\"), Asset(\"js\", \"knockout_punches\", \"/Users/pauln/.julia/packages/Knockout/HReiN/src/../assets/knockout_punches.js\"), Asset(\"js\", nothing, \"/Users/pauln/.julia/packages/InteractBase/Qhvxg/src/../assets/all.js\"), Asset(\"css\", nothing, \"/Users/pauln/.julia/packages/InteractBase/Qhvxg/src/../assets/style.css\"), Asset(\"css\", nothing, \"/Users/pauln/.julia/packages/Interact/PENUy/src/../assets/bulma_confined.min.css\")], Dict{Any, Any}(\"changes\" => Any[WebIO.JSString(\"(function (val){return (val!=this.model[\\\"changes\\\"]()) ? (this.valueFromJulia[\\\"changes\\\"]=true, this.model[\\\"changes\\\"](val)) : undefined})\")], \"index\" => Any[WebIO.JSString(\"(function (val){return (val!=this.model[\\\"index\\\"]()) ? (this.valueFromJulia[\\\"index\\\"]=true, this.model[\\\"index\\\"](val)) : undefined})\")]), WebIO.ConnectionPool(Channel{Any}(32), Set{AbstractConnection}(), Condition(Base.InvasiveLinkedList{Task}(Task (runnable) @0x000000014c801e40, Task (runnable) @0x000000014c801e40), Base.AlwaysLockedST(1))), WebIO.JSString[WebIO.JSString(\"function () {\\n    var handler = (function (ko, koPunches) {\\n    ko.punches.enableAll();\\n    ko.bindingHandlers.numericValue = {\\n        init: function(element, valueAccessor, allBindings, data, context) {\\n            var stringified = ko.observable(ko.unwrap(valueAccessor()));\\n            stringified.subscribe(function(value) {\\n                var val = parseFloat(value);\\n                if (!isNaN(val)) {\\n                    valueAccessor()(val);\\n                }\\n            });\\n            valueAccessor().subscribe(function(value) {\\n                var str = JSON.stringify(value);\\n                if ((str == \\\"0\\\") && ([\\\"-0\\\", \\\"-0.\\\"].indexOf(stringified()) >= 0))\\n                     return;\\n                 if ([\\\"null\\\", \\\"\\\"].indexOf(str) >= 0)\\n                     return;\\n                stringified(str);\\n            });\\n            ko.applyBindingsToNode(\\n                element,\\n                {\\n                    value: stringified,\\n                    valueUpdate: allBindings.get('valueUpdate'),\\n                },\\n                context,\\n            );\\n        }\\n    };\\n    var json_data = {\\\"formatted_vals\\\":[\\\"0.0\\\",\\\"0.1\\\",\\\"0.2\\\",\\\"0.3\\\",\\\"0.4\\\",\\\"0.5\\\",\\\"0.6\\\",\\\"0.7\\\",\\\"0.8\\\",\\\"0.9\\\",\\\"1.0\\\",\\\"1.1\\\",\\\"1.2\\\",\\\"1.3\\\",\\\"1.4\\\",\\\"1.5\\\",\\\"1.6\\\",\\\"1.7\\\",\\\"1.8\\\",\\\"1.9\\\",\\\"2.0\\\",\\\"2.1\\\",\\\"2.2\\\",\\\"2.3\\\",\\\"2.4\\\",\\\"2.5\\\",\\\"2.6\\\",\\\"2.7\\\",\\\"2.8\\\",\\\"2.9\\\",\\\"3.0\\\",\\\"3.1\\\",\\\"3.2\\\",\\\"3.3\\\",\\\"3.4\\\",\\\"3.5\\\",\\\"3.6\\\",\\\"3.7\\\",\\\"3.8\\\",\\\"3.9\\\",\\\"4.0\\\",\\\"4.1\\\",\\\"4.2\\\",\\\"4.3\\\",\\\"4.4\\\",\\\"4.5\\\",\\\"4.6\\\",\\\"4.7\\\",\\\"4.8\\\",\\\"4.9\\\",\\\"5.0\\\"],\\\"changes\\\":WebIO.getval({\\\"name\\\":\\\"changes\\\",\\\"scope\\\":\\\"6357289861823596709\\\",\\\"id\\\":\\\"14407004027402472118\\\",\\\"type\\\":\\\"observable\\\"}),\\\"index\\\":WebIO.getval({\\\"name\\\":\\\"index\\\",\\\"scope\\\":\\\"6357289861823596709\\\",\\\"id\\\":\\\"781732082128051211\\\",\\\"type\\\":\\\"observable\\\"})};\\n    var self = this;\\n    function AppViewModel() {\\n        for (var key in json_data) {\\n            var el = json_data[key];\\n            this[key] = Array.isArray(el) ? ko.observableArray(el) : ko.observable(el);\\n        }\\n        \\n        [this[\\\"formatted_val\\\"]=ko.computed(    function(){\\n        return this.formatted_vals()[parseInt(this.index())-(1)];\\n    }\\n,this)]\\n        [this[\\\"changes\\\"].subscribe((function (val){!(this.valueFromJulia[\\\"changes\\\"]) ? (WebIO.setval({\\\"name\\\":\\\"changes\\\",\\\"scope\\\":\\\"6357289861823596709\\\",\\\"id\\\":\\\"14407004027402472118\\\",\\\"type\\\":\\\"observable\\\"},val)) : undefined; return this.valueFromJulia[\\\"changes\\\"]=false}),self),this[\\\"index\\\"].subscribe((function (val){!(this.valueFromJulia[\\\"index\\\"]) ? (WebIO.setval({\\\"name\\\":\\\"index\\\",\\\"scope\\\":\\\"6357289861823596709\\\",\\\"id\\\":\\\"781732082128051211\\\",\\\"type\\\":\\\"observable\\\"},val)) : undefined; return this.valueFromJulia[\\\"index\\\"]=false}),self)]\\n        \\n    }\\n    self.model = new AppViewModel();\\n    self.valueFromJulia = {};\\n    for (var key in json_data) {\\n        self.valueFromJulia[key] = false;\\n    }\\n    ko.applyBindings(self.model, self.dom);\\n}\\n);\\n    (WebIO.importBlock({\\\"data\\\":[{\\\"name\\\":\\\"knockout\\\",\\\"type\\\":\\\"js\\\",\\\"url\\\":\\\"/assetserver/29f2f9bc2710e2f2cb1485988fc1067fea65496a-knockout.js\\\"},{\\\"name\\\":\\\"knockout_punches\\\",\\\"type\\\":\\\"js\\\",\\\"url\\\":\\\"/assetserver/a0191d716088ea54b8651b8b4d21b48ebae443be-knockout_punches.js\\\"}],\\\"type\\\":\\\"async_block\\\"})).then((imports) => handler.apply(this, imports));\\n}\\n\")])], Dict{Symbol, Any}(:className => \"field interact-widget\")), Observable(Node{WebIO.DOM}(WebIO.DOM(:html, :div), Any[Plot{Plots.GRBackend() n=1}], Dict{Symbol, Any}(:className => \"interact-flex-row interact-widget\")))], Dict{Symbol, Any}())"
      ]
     },
     "execution_count": 10,
     "metadata": {
      "@webio": {
       "kernelId": "574bf2b2-40a8-49ca-b960-dde8331b44cf"
      }
     },
     "output_type": "execute_result"
    }
   ],
   "source": [
    "@manipulate for λ=0.1:0.1:5, ϕ=0:0.1:5\n",
    "    xs = range(0.0, 1.0, length=1001)\n",
    "    plot(xs, sin.((2π/λ)*xs .+ϕ))\n",
    "end"
   ]
  },
  {
   "cell_type": "code",
   "execution_count": null,
   "metadata": {},
   "outputs": [],
   "source": []
  }
 ],
 "metadata": {
  "@webio": {
   "lastCommId": "acd41be4-a91d-4257-8fea-2828462fd307",
   "lastKernelId": "574bf2b2-40a8-49ca-b960-dde8331b44cf"
  },
  "kernelspec": {
   "display_name": "Julia 1.8.5",
   "language": "julia",
   "name": "julia-1.8"
  },
  "language_info": {
   "file_extension": ".jl",
   "mimetype": "application/julia",
   "name": "julia",
   "version": "1.8.5"
  }
 },
 "nbformat": 4,
 "nbformat_minor": 4
}
