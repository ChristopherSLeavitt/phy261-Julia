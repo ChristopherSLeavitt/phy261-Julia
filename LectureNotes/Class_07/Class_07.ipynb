{
 "cells": [
  {
   "cell_type": "code",
   "execution_count": 3,
   "metadata": {},
   "outputs": [],
   "source": [
    "using Plots, LaTeXStrings, Distributions, BenchmarkTools\n",
    "gr()\n",
    "default(fontfamily = \"Computer Modern\", size=(600,400), titlefont = (16), legendfontsize = 10, \n",
    "        guidefont = (16, :darkgreen), tickfont = (12, :black), \n",
    "        framestyle = :box, yminorgrid = true, legend = :outertopright, dpi=600)"
   ]
  },
  {
   "attachments": {},
   "cell_type": "markdown",
   "metadata": {},
   "source": [
    "\n",
    "# Class 07: 13 Feb 2023\n",
    "## More about Julia\n",
    "Items for today:<br>\n",
    "    1. Strings<br>\n",
    "    2. rand() & randstring() functions (part of base Julia and the Random package)<br>\n",
    "    3. Arrays <br>\n",
    "    4. Making a slider for a plot<br>\n",
    "    5. Cracking a password\n",
    "\n",
    "\n",
    "### Cycling back: Strings\n",
    "We've talked about strings in Julia; a *string* is a set of *characters*; you can think of a string as an array or list of characters,\n",
    "and you address the individual characters by their position number in the string:"
   ]
  },
  {
   "cell_type": "code",
   "execution_count": 4,
   "metadata": {},
   "outputs": [
    {
     "data": {
      "text/plain": [
       "\"Baxt\""
      ]
     },
     "execution_count": 4,
     "metadata": {},
     "output_type": "execute_result"
    }
   ],
   "source": [
    "😺 = \"Baxter the Cat\"\n",
    "\n"
   ]
  },
  {
   "attachments": {},
   "cell_type": "markdown",
   "metadata": {},
   "source": [
    "You can add to a string by the * operator:"
   ]
  },
  {
   "cell_type": "code",
   "execution_count": 6,
   "metadata": {},
   "outputs": [
    {
     "data": {
      "text/plain": [
       "\"Baxter the Cat is the best cat\""
      ]
     },
     "execution_count": 6,
     "metadata": {},
     "output_type": "execute_result"
    }
   ],
   "source": [
    "best_cat = 😺 * \" is the best cat\""
   ]
  },
  {
   "attachments": {},
   "cell_type": "markdown",
   "metadata": {},
   "source": [
    "### The rand() and randstring() functions\n",
    "The rand() function is part of the base Julia distribution; you can see the documentation for this \n",
    "[here](https://docs.julialang.org/en/v1/stdlib/Random/#Random-generation-functions). Here are some examples\n",
    "of its usage:"
   ]
  },
  {
   "cell_type": "code",
   "execution_count": 37,
   "metadata": {},
   "outputs": [
    {
     "data": {
      "text/plain": [
       "4-element Vector{Int64}:\n",
       " 4\n",
       " 7\n",
       " 7\n",
       " 3"
      ]
     },
     "execution_count": 37,
     "metadata": {},
     "output_type": "execute_result"
    }
   ],
   "source": [
    "# vector of random digits of length 4 \n",
    "rand(0:9, 4)\n"
   ]
  },
  {
   "attachments": {},
   "cell_type": "markdown",
   "metadata": {},
   "source": [
    "#### Create a password string composed created from a random numerical string of length n"
   ]
  },
  {
   "cell_type": "code",
   "execution_count": null,
   "metadata": {},
   "outputs": [],
   "source": []
  },
  {
   "cell_type": "code",
   "execution_count": 39,
   "metadata": {},
   "outputs": [
    {
     "data": {
      "text/plain": [
       "2×3 Matrix{Int64}:\n",
       " 2  5  2\n",
       " 9  9  6"
      ]
     },
     "execution_count": 39,
     "metadata": {},
     "output_type": "execute_result"
    }
   ],
   "source": [
    "# array of random digits of size 2x3\n",
    "rand(0:9, 2, 3)"
   ]
  },
  {
   "cell_type": "code",
   "execution_count": 41,
   "metadata": {},
   "outputs": [
    {
     "data": {
      "text/plain": [
       "5×2 Matrix{Float64}:\n",
       " 0.854583  0.657002\n",
       " 0.938057  0.342105\n",
       " 0.727025  0.513163\n",
       " 0.90376   0.209821\n",
       " 0.548795  0.788829"
      ]
     },
     "execution_count": 41,
     "metadata": {},
     "output_type": "execute_result"
    }
   ],
   "source": [
    "# array of random floating point numbers of size 5x2\n",
    "rand(Float64,(5, 2))"
   ]
  },
  {
   "cell_type": "code",
   "execution_count": 44,
   "metadata": {},
   "outputs": [
    {
     "data": {
      "text/plain": [
       "\"EK4rgOIE\""
      ]
     },
     "execution_count": 44,
     "metadata": {},
     "output_type": "execute_result"
    }
   ],
   "source": [
    "# random string of length 8\n",
    "randstring(8)"
   ]
  },
  {
   "attachments": {},
   "cell_type": "markdown",
   "metadata": {},
   "source": [
    "### Arrays\n",
    "An array is a general object (of which a vector, is a special subset case). Let's make a 5 row by 3 column array of random integers\n",
    "between 0 and 9:"
   ]
  },
  {
   "cell_type": "code",
   "execution_count": 50,
   "metadata": {},
   "outputs": [
    {
     "data": {
      "text/plain": [
       "5×3 Matrix{Int64}:\n",
       " 4  2  3\n",
       " 7  4  3\n",
       " 6  9  5\n",
       " 7  1  6\n",
       " 2  3  4"
      ]
     },
     "execution_count": 50,
     "metadata": {},
     "output_type": "execute_result"
    }
   ],
   "source": [
    "A = rand(0:9, 5, 3)\n"
   ]
  },
  {
   "attachments": {},
   "cell_type": "markdown",
   "metadata": {},
   "source": [
    "Now, suppose we want to extract the element (4,3); how do we do that?"
   ]
  },
  {
   "cell_type": "code",
   "execution_count": 48,
   "metadata": {},
   "outputs": [
    {
     "data": {
      "text/plain": [
       "5"
      ]
     },
     "execution_count": 48,
     "metadata": {},
     "output_type": "execute_result"
    }
   ],
   "source": [
    "\n"
   ]
  },
  {
   "attachments": {},
   "cell_type": "markdown",
   "metadata": {},
   "source": [
    "Fill in the following:"
   ]
  },
  {
   "cell_type": "code",
   "execution_count": 52,
   "metadata": {},
   "outputs": [],
   "source": [
    "# print out first row of A\n",
    "\n",
    "# print out first column of A\n",
    "\n",
    "# print out rows 2 and 3 of A\n",
    "\n",
    "# print out columns 2 and 3 of A\n",
    "\n",
    "# print out the first and third rows of A\n"
   ]
  },
  {
   "attachments": {},
   "cell_type": "markdown",
   "metadata": {},
   "source": [
    "### Creating a plot with a slider"
   ]
  },
  {
   "cell_type": "code",
   "execution_count": 53,
   "metadata": {},
   "outputs": [
    {
     "ename": "LoadError",
     "evalue": "ArgumentError: Package Interact not found in current path.\n- Run `import Pkg; Pkg.add(\"Interact\")` to install the Interact package.",
     "output_type": "error",
     "traceback": [
      "ArgumentError: Package Interact not found in current path.\n- Run `import Pkg; Pkg.add(\"Interact\")` to install the Interact package.",
      "",
      "Stacktrace:",
      " [1] macro expansion",
      "   @ ./loading.jl:1580 [inlined]",
      " [2] macro expansion",
      "   @ ./lock.jl:267 [inlined]",
      " [3] require(into::Module, mod::Symbol)",
      "   @ Base ./loading.jl:1561"
     ]
    }
   ],
   "source": [
    "using Interact, Plots, WebIO\n",
    "\n",
    "@manipulate throttle=0.05 for λ=0.1:0.1:5, ϕ=0:0.1:5\n",
    "    xs = range(0.0, 1.0, length=1000)\n",
    "    plot(xs, sin.((2π/λ)*xs .+ϕ))\n",
    "end"
   ]
  },
  {
   "cell_type": "code",
   "execution_count": null,
   "metadata": {},
   "outputs": [],
   "source": []
  }
 ],
 "metadata": {
  "kernelspec": {
   "display_name": "Julia 1.9.0-beta4",
   "language": "julia",
   "name": "julia-1.9"
  },
  "language_info": {
   "file_extension": ".jl",
   "mimetype": "application/julia",
   "name": "julia",
   "version": "1.9.0"
  },
  "orig_nbformat": 4
 },
 "nbformat": 4,
 "nbformat_minor": 2
}
