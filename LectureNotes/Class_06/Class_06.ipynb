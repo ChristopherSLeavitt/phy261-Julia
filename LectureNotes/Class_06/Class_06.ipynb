{
 "cells": [
  {
   "cell_type": "markdown",
   "id": "c57dd800-0505-406a-bb5f-899eaab371e4",
   "metadata": {},
   "source": [
    "# More about vectors and plotting"
   ]
  },
  {
   "cell_type": "markdown",
   "id": "b29dfcda-2a30-4c6b-882c-5258abd1edb7",
   "metadata": {},
   "source": [
    "## Vectors in Julia\n",
    "You can manipulate vectors (otherwise known as lists) easily in Julia. Adding, subtracting, and dot product are built in. But cross product is not, but this is contained in the LinearAlgebra package."
   ]
  },
  {
   "cell_type": "code",
   "execution_count": 10,
   "id": "5c36efae-58d3-47f0-b430-223734a7b96b",
   "metadata": {},
   "outputs": [],
   "source": [
    "using LinearAlgebra\n",
    "using LaTeXStrings, Measures"
   ]
  },
  {
   "cell_type": "code",
   "execution_count": 11,
   "id": "1d610c2f-ee5d-46dd-a300-7e8a5116a594",
   "metadata": {},
   "outputs": [],
   "source": [
    "#default(fontfamily = \"Computer Modern\", size=(800,500), titlefont = (16), legendfontsize = 10, \n",
    "#        guidefont = (16, :darkgreen), tickfont = (12, :black), \n",
    "#        framestyle = :box, yminorgrid = true)"
   ]
  },
  {
   "cell_type": "code",
   "execution_count": null,
   "id": "e9e9d98f-13dd-4869-a5be-95f6940e90de",
   "metadata": {},
   "outputs": [],
   "source": []
  }
 ],
 "metadata": {
  "kernelspec": {
   "display_name": "Julia 1.8.5",
   "language": "julia",
   "name": "julia-1.8"
  },
  "language_info": {
   "file_extension": ".jl",
   "mimetype": "application/julia",
   "name": "julia",
   "version": "1.8.5"
  }
 },
 "nbformat": 4,
 "nbformat_minor": 5
}
