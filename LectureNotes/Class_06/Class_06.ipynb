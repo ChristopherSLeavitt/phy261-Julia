{
 "cells": [
  {
   "cell_type": "markdown",
   "id": "c57dd800-0505-406a-bb5f-899eaab371e4",
   "metadata": {},
   "source": [
    "# More about vectors and plotting"
   ]
  },
  {
   "cell_type": "markdown",
   "id": "b29dfcda-2a30-4c6b-882c-5258abd1edb7",
   "metadata": {},
   "source": [
    "## Vectors in Julia\n",
    "You can manipulate vectors (otherwise known as lists) easily in Julia. Adding, subtracting, and dot product are built in. But cross product is not, but this is contained in the LinearAlgebra package."
   ]
  },
  {
   "cell_type": "code",
   "execution_count": 2,
   "id": "5c36efae-58d3-47f0-b430-223734a7b96b",
   "metadata": {},
   "outputs": [],
   "source": [
    "using LinearAlgebra\n",
    "using LaTeXStrings, Measures"
   ]
  },
  {
   "cell_type": "markdown",
   "id": "1830c144-3905-4118-a6e3-5ce19adc0155",
   "metadata": {},
   "source": [
    "The linear algebra package provides several functions relevant to vector mathematics:\n",
    "\n",
    "    norm(v)   : the length of a vector v\n",
    "    cross(v,w): the cross product v x w\n",
    "    dot(v, w) : the dot product v • w\n",
    "    \n",
    "Simple examples:"
   ]
  },
  {
   "cell_type": "code",
   "execution_count": 4,
   "id": "6aa1580b-55a2-48a3-ad75-81c3ab347999",
   "metadata": {},
   "outputs": [
    {
     "name": "stdout",
     "output_type": "stream",
     "text": [
      "v•w = 0\n",
      "vxw = [0, 0, 1]\n",
      "|u| = 1.7321\n"
     ]
    }
   ],
   "source": [
    "u = [1,1,1]\n",
    "v = [1,0,0]\n",
    "w = [0,1,0]\n",
    "\n",
    "println(\"v•w = \",dot(v,w))\n",
    "println(\"vxw = \",cross(v,w))\n",
    "println(\"|u| = \",round(norm(u),digits=4))"
   ]
  },
  {
   "cell_type": "markdown",
   "id": "b1991f70-1685-44ce-b816-353bcf92ff19",
   "metadata": {},
   "source": [
    "## Plotting in Julia\n",
    "### Electric field and potential for a finite charged stick\n",
    "Let's consider a finite charged (charge=q$) line segment of length L situated on the x-axis. \n",
    "The geometry is shown below:"
   ]
  },
  {
   "attachments": {
    "2428b0f4-0172-4af3-8b6d-dd4818741f00.png": {
     "image/png": "[encoded data removed]"
    }
   },
   "cell_type": "markdown",
   "id": "8765edbe-1f14-496c-8707-1056af16c97a",
   "metadata": {},
   "source": [
    "![Charged Rod.drawio.png](attachment:2428b0f4-0172-4af3-8b6d-dd4818741f00.png)"
   ]
  },
  {
   "cell_type": "markdown",
   "id": "0d4ccf93-8c99-41d7-a58d-6014ed433711",
   "metadata": {},
   "source": [
    "The electric field and potential can be computed using the following:\n",
    "$$ dE = \\frac{1}{4\\pi\\epsilon_0} \\frac{\\lambda dx}{(r-x^{\\prime})^3} (\\vec{r}-\\vec{x}^{\\prime})$$\n",
    "and\n",
    "$$ dE = \\frac{1}{4\\pi\\epsilon_0} \\frac{\\lambda dx}{(r-x^{\\prime})} $$\n",
    "Note that $\\lambda dx = \\frac{q}{L} \\frac{L}{N} = \\frac{q}{N}$, and \n",
    "we can now write two functions to compute these two quantities; we'll break up the stick into N chunks and sum the effects from the first chunk (whose center is at $x_1 = -\\frac{L}{2} + \\frac{\\Delta x}{2}$) to the Nth chunk. The $i^{th}$ chunk is at \n",
    "$$x_{i} =  -\\frac{L}{2} + \\frac{(2i-1)}{2}\\Delta x,$$ and now we can define functions for the \n",
    "electric field and the electric potential:"
   ]
  },
  {
   "cell_type": "code",
   "execution_count": 13,
   "id": "32ef64ec-1220-41cb-8b90-485b4523e2b8",
   "metadata": {},
   "outputs": [
    {
     "data": {
      "text/plain": [
       "V (generic function with 3 methods)"
      ]
     },
     "execution_count": 13,
     "metadata": {},
     "output_type": "execute_result"
    }
   ],
   "source": [
    "ϵ₀ = 8.854187817e-12\n",
    "\n",
    "function E(r, N, q=1.0e-9, L=0.10) \n",
    "    E = [0.0, 0.0] # initialize E as a 2d vector\n",
    "    Δx = L/N       # step size\n",
    "    for i in range(1,N)\n",
    "        xᵢ = [-L/2 + 0.5*(2i-1)*Δx, 0.0] # coordinate of i-th chunck of charge\n",
    "        E = E + (q/N)/(4π*ϵ₀) * (r-xᵢ)./(norm(r-xᵢ)).^3 \n",
    "    end\n",
    "    return E\n",
    "end \n",
    "\n",
    "function V(r, N, q=1.0e-9, L=0.10) \n",
    "    V = 0\n",
    "    Δx = L/N\n",
    "    for i in range(1,N)\n",
    "        xᵢ = [-L/2 + 0.5*(2i-1)*Δx, 0.0]\n",
    "        V = V + (q/N)/(4π*ϵ₀)/(norm(r-xᵢ))\n",
    "    end\n",
    "    return V\n",
    "end "
   ]
  },
  {
   "cell_type": "code",
   "execution_count": 14,
   "id": "409ca4c5-7811-4f12-a0d1-6e8a525ddb85",
   "metadata": {},
   "outputs": [
    {
     "data": {
      "text/plain": [
       "8.983811554490737"
      ]
     },
     "execution_count": 14,
     "metadata": {},
     "output_type": "execute_result"
    }
   ],
   "source": [
    "E([0,1], 100)\n",
    "V([0,1], 100)"
   ]
  },
  {
   "cell_type": "code",
   "execution_count": null,
   "id": "c1d8d8e8-c1d2-451c-9dd6-b69ec9c1eb06",
   "metadata": {},
   "outputs": [],
   "source": []
  }
 ],
 "metadata": {
  "kernelspec": {
   "display_name": "Julia 1.8.5",
   "language": "julia",
   "name": "julia-1.8"
  },
  "language_info": {
   "file_extension": ".jl",
   "mimetype": "application/julia",
   "name": "julia",
   "version": "1.8.5"
  }
 },
 "nbformat": 4,
 "nbformat_minor": 5
}
