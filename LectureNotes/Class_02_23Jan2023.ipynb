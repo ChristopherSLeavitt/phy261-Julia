{
 "cells": [
  {
   "cell_type": "markdown",
   "id": "cc6657de-68b1-4332-a515-cc90c0f7cc24",
   "metadata": {},
   "source": [
    "# <span style='color:purple'>   Introduction to Julia II  </span>\n",
    "<hr style=\"border-top: 3px solid purple; margin-top: 1px; margin-bottom: 1px\"></hr>\n",
    " The goals for today:\n",
    "\n",
    "    0. Questions from last class\n",
    "    1. How to print output\n",
    "    2. Variables: \n",
    "            * variables: how to define, using $\\LaTeX$, and other unicode characters; naming conventions\n",
    "            * types: Strings, Characters, Integers, Floating Point, 1D Vectors, Tuples\n",
    "            * indexing arrays\n",
    "            * How to find out the type of a variable\n",
    "    3. Commenting code\n",
    "    4. Basic math, trig functions\n",
    "    5. Defining functions\n",
    "    \n",
    "<hr style=\"border-top: 3px solid purple; margin-top: 1px; margin-bottom: 1px\"></hr>\n"
   ]
  },
  {
   "cell_type": "markdown",
   "id": "7f38aaa9-2180-4bb8-b28e-032cd4a66fb7",
   "metadata": {
    "jp-MarkdownHeadingCollapsed": true,
    "tags": []
   },
   "source": [
    "## <span style='color:purple'>   Questions from last class  </span>\n",
    "\n",
    "\n",
    "\n"
   ]
  },
  {
   "cell_type": "markdown",
   "id": "13472e1e-612c-405f-bcb1-3c5abe590ca5",
   "metadata": {
    "tags": []
   },
   "source": [
    "##  <span style='color:purple'>The *print()* and the *println()* functions </span>\n",
    "In the REPL (Read Evaluate Print Loop), if you want to display some message on the screen, you can use\n",
    "the *print()* **or** *print()* function. \n",
    "\n",
    "**Demonstrate this**\n",
    "\n",
    "In a Jupyter Notebook, you will typically only use the *println()* function\n",
    "because it adds a new line after printing to the screen what is requested. \n",
    "\n",
    "**Demonstrate this**"
   ]
  },
  {
   "cell_type": "code",
   "execution_count": null,
   "id": "0389219d",
   "metadata": {},
   "outputs": [],
   "source": []
  },
  {
   "cell_type": "markdown",
   "id": "3572a91b-c07d-4d7f-9d3c-5a829485c883",
   "metadata": {
    "tags": []
   },
   "source": [
    "##  <span style='color:purple'>  Variable naming and assigning in Julia </span>\n",
    "### Standard naming conventions with alphanumeric labels; protected names\n",
    "In most computer languages, you are only allowed to use alphanumeric variable names such as\n",
    "x, y1, myName, x_position, yPosition1, etc... In these schemes, the only rule is that a variable cannot\n",
    "start with a number.\n",
    "So, for instance, the following are legitimate statements in Julia:\n",
    "\n",
    "```julia\n",
    "x = 2.0\n",
    "y1 = 400\n",
    "myName = \"Marie Curie\"\n",
    "x_1 = 32.7e6\n",
    "```\n",
    "\n",
    "However, the following are not allowed:\n",
    "```julia\n",
    "2x = 4.02\n",
    "72y = \"weird\"\n",
    "```\n",
    "[See the text](https://benlauwens.github.io/ThinkJulia.jl/latest/book.html#_variable_names) about *protected* variable names in Julia. \n",
    "The following keywords cannot be used, as they are a part of the Julia language: \n",
    "\n",
    "abstract type &emsp;   baremodule &emsp;  begin &emsp;     break     &emsp;  catch\n",
    "\n",
    "const  &emsp;          continue   &emsp;  do &emsp;        else  &emsp;      elseif\n",
    "\n",
    "end      &emsp;        export &emsp;      finally &emsp;    for   &emsp;      function\n",
    "\n",
    "global    &emsp;       if     &emsp;      import &emsp;    importall &emsp;  in\n",
    "\n",
    "let      &emsp;        local   &emsp;     macro    &emsp;  module &emsp;     mutable struct\n",
    "\n",
    "primitive type  &emsp; quote    &emsp;    return  &emsp;   try  &emsp;       using\n",
    "\n",
    "struct &emsp;          where&emsp;        while"
   ]
  },
  {
   "cell_type": "markdown",
   "id": "73f594e1-8019-4ea3-82e5-f396e35c4536",
   "metadata": {
    "tags": []
   },
   "source": [
    "### Using Greek Letters\n",
    "One of the wonderful features of Julia is that you can use Greek Letters as variable names. In this way, the code\n",
    "you write can more closely resemble how you would write equations as a scientist. For example, you can write"
   ]
  },
  {
   "cell_type": "code",
   "execution_count": 3,
   "id": "f3562191-0a42-4182-bb1b-c1ea1738a589",
   "metadata": {
    "tags": []
   },
   "outputs": [
    {
     "name": "stdout",
     "output_type": "stream",
     "text": [
      "12.566370614359172\n"
     ]
    }
   ],
   "source": [
    "θ = 2.0\n",
    "θₘ = 2π\n",
    "t² = 4\n",
    "println(θ*θₘ)"
   ]
  },
  {
   "cell_type": "markdown",
   "id": "ae80d9ce",
   "metadata": {},
   "source": [
    "### Using unicode variables\n",
    "Julia also has an extensive set of available Unicode characters available. \n",
    "See [https://docs.julialang.org/en/v1/manual/unicode-input/](https://docs.julialang.org/en/v1/manual/unicode-input/)\n",
    "for a list. \n",
    "A few examples:"
   ]
  },
  {
   "cell_type": "code",
   "execution_count": 2,
   "id": "dac94c0a",
   "metadata": {},
   "outputs": [],
   "source": [
    "ℏ = 1.0545718176461565e-34\n",
    "ϵ₀ = 8.854188f-12 \n",
    "🌲 = \"Maine State Tree\"\n",
    "🐝 = \"Maine State Insect\"\n",
    "🤷 = \"Not sure why one would use this as a variable name\";"
   ]
  },
  {
   "cell_type": "markdown",
   "id": "3a89f8a9-fafc-4ac6-a621-db936bca23f9",
   "metadata": {},
   "source": [
    "If you do not know how a unicode character is typed, you can open a Julia REPL and type a ? followed by pasting in a copy of the unicode character and the REPL will show you how to create it. Do this!"
   ]
  },
  {
   "cell_type": "markdown",
   "id": "7b786a70-703b-4872-9baf-327d7b57d576",
   "metadata": {},
   "source": [
    "### Stylistic conventions\n",
    "Although Julia does not impose many restrictions on variable names (even allowing you to redefine $\\pi$ --- which is not recommended)\n",
    "there are some standard conventions (read more about this and more at [doc.julialang.org](https://docs.julialang.org/en/v1/manual/variables/) )\n",
    "These points are directly copied from the Julia Language documentation on variables:\n",
    "\n",
    "    a. Names of variables are in lower case\n",
    "    b. Word separation can be indicated by underscores (_) but use of underscores is discouraged unless the name would be hard to read otherwise.\n",
    "    c.  Names of Types and Modules begin with a capital letter and word separation is shown with upper camel case instead of underscores.\n",
    "    d.  Names of functions and macros are in lower case, without underscores. \n",
    "    e. Functions that write to their arguments have names that end in !. These are sometimes called \"mutating\" or \"in-place\" functions, becuase they are indended to produce changes in their arguments after the function is called, not just return a value. \n",
    "\n"
   ]
  },
  {
   "cell_type": "markdown",
   "id": "e635f270-8d6c-4fa8-9d8e-48e9acee8cd9",
   "metadata": {},
   "source": [
    "##  <span style='color:purple'>  Variable types </span>\n",
    "Computer languages generally fall into two camps; *static* type systems (all variable types must be explicitly declared before running the program)  \n",
    "or *dynamic* type systems (where the variable types are not known until execution). Julia is a dynamically typed language, but it also allows the user to \n",
    "explicitly define types. We'll see this capability later in the course. \n",
    "### Integers\n",
    "Integers are the set of positive or negative counting numbers with the inclusion of zero. We use the *typeof()* function to see the type of a value:"
   ]
  },
  {
   "cell_type": "code",
   "execution_count": 38,
   "id": "e3c08da6-378f-4c55-aacd-143810690649",
   "metadata": {},
   "outputs": [
    {
     "data": {
      "text/plain": [
       "Int64"
      ]
     },
     "execution_count": 38,
     "metadata": {},
     "output_type": "execute_result"
    }
   ],
   "source": [
    "typeof(2)  # This is the default on a 64 bit machine "
   ]
  },
  {
   "cell_type": "markdown",
   "id": "3bae6965-d21d-4732-8815-a1222e899f87",
   "metadata": {},
   "source": [
    "There are several integer types in Julia (see  [Julia Language Documentation](https://docs.julialang.org/en/v1/manual/integers-and-floating-point-numbers/)) for more detail. \n",
    "You can define a variable to have a specific type if you want; for instance:"
   ]
  },
  {
   "cell_type": "code",
   "execution_count": 47,
   "id": "3b78f913-bbec-47ad-929f-aebd4e64d577",
   "metadata": {},
   "outputs": [
    {
     "data": {
      "text/plain": [
       "Int8"
      ]
     },
     "execution_count": 47,
     "metadata": {},
     "output_type": "execute_result"
    }
   ],
   "source": [
    "x::Int8 = 22 \n",
    "typeof(x)"
   ]
  },
  {
   "cell_type": "code",
   "execution_count": 6,
   "id": "fe8ecaac-df16-4927-8871-8c7b10a016dd",
   "metadata": {},
   "outputs": [
    {
     "name": "stdout",
     "output_type": "stream",
     "text": [
      "Max value for Int8 is 127\n",
      "Min value for Int8 is -128\n"
     ]
    }
   ],
   "source": [
    "println(\"Max value for Int8 is \", typemax(Int8)) \n",
    "println(\"Min value for Int8 is \", typemin(Int8)) "
   ]
  },
  {
   "cell_type": "markdown",
   "id": "62275249-a77c-4456-b236-170fc0e5774d",
   "metadata": {},
   "source": [
    " <span style='background :wheat' > Question: Why is typemax(Int8) not equal to 128?  </span>"
   ]
  },
  {
   "cell_type": "code",
   "execution_count": null,
   "id": "71d088db-48ed-46a1-bc58-7aeb73a9f937",
   "metadata": {},
   "outputs": [],
   "source": []
  },
  {
   "cell_type": "markdown",
   "id": "ebef987a-ff2c-46ae-87b2-67f5f770be94",
   "metadata": {},
   "source": [
    "### Floating Point numbers\n",
    "Floating point numbers are the real numbers you know and love from using your pocket calculator. \n",
    "The default value on all modern computers is Float64:"
   ]
  },
  {
   "cell_type": "code",
   "execution_count": 7,
   "id": "d2cd321c-0765-48e5-9c31-4f5aa54a28e8",
   "metadata": {},
   "outputs": [
    {
     "data": {
      "text/plain": [
       "20.5"
      ]
     },
     "execution_count": 7,
     "metadata": {},
     "output_type": "execute_result"
    }
   ],
   "source": [
    "snowDepth = 20.5 # in cm"
   ]
  },
  {
   "cell_type": "code",
   "execution_count": 8,
   "id": "84ed30ad-b9f3-441b-90f5-1783f09d8501",
   "metadata": {},
   "outputs": [
    {
     "data": {
      "text/plain": [
       "Float64"
      ]
     },
     "execution_count": 8,
     "metadata": {},
     "output_type": "execute_result"
    }
   ],
   "source": [
    "typeof(snowDepth)"
   ]
  },
  {
   "cell_type": "code",
   "execution_count": 12,
   "id": "4f8a05a2-800d-47bb-a985-be56d65dbe39",
   "metadata": {},
   "outputs": [
    {
     "data": {
      "text/plain": [
       "9.1093837e-31"
      ]
     },
     "execution_count": 12,
     "metadata": {},
     "output_type": "execute_result"
    }
   ],
   "source": [
    "massElectron = 9.1093837e-31  # this is how to use scientific notation in Julia"
   ]
  }
 ],
 "metadata": {
  "kernelspec": {
   "display_name": "Julia 1.8.5",
   "language": "julia",
   "name": "julia-1.8"
  },
  "language_info": {
   "file_extension": ".jl",
   "mimetype": "application/julia",
   "name": "julia",
   "version": "1.8.5"
  },
  "widgets": {
   "application/vnd.jupyter.widget-state+json": {
    "state": {},
    "version_major": 2,
    "version_minor": 0
   }
  }
 },
 "nbformat": 4,
 "nbformat_minor": 5
}
