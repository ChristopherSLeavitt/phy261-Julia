{
 "cells": [
  {
   "cell_type": "code",
   "execution_count": null,
   "id": "3654cd2e-c4de-4c78-82d8-f76f0bf20f8b",
   "metadata": {},
   "outputs": [],
   "source": []
  },
  {
   "cell_type": "code",
   "execution_count": null,
   "id": "4db5183d-27ee-4a6e-b0d8-3ff0395cf9fd",
   "metadata": {},
   "outputs": [],
   "source": [
    "#Jasons edits\n"
   ]
  },
  {
   "cell_type": "markdown",
   "id": "f8dd9640-6e9e-4592-922e-747e616ea9b6",
   "metadata": {},
   "source": [
    "To represent vectors in a cartesian plane in code, the convention is the same as writing: the first element of the vector is the "
   ]
  }
 ],
 "metadata": {
  "kernelspec": {
   "display_name": "Julia 1.7.2",
   "language": "julia",
   "name": "julia-1.7"
  },
  "language_info": {
   "file_extension": ".jl",
   "mimetype": "application/julia",
   "name": "julia",
   "version": "1.7.2"
  }
 },
 "nbformat": 4,
 "nbformat_minor": 5
}
