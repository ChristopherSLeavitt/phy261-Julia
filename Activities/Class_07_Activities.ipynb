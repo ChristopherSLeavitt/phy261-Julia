{
 "cells": [
  {
   "cell_type": "markdown",
   "id": "8f7601eb-59d2-45b7-9167-3e4826d4476f",
   "metadata": {},
   "source": [
    "# Class 07 13 Feb 2023\n",
    "## Exercise 8-8\n",
    "\n",
    "There is a built-in function called [count](https://docs.julialang.org/en/v1/base/collections/#Base.count) that is similar to the function in [Looping and Counting](https://benlauwens.github.io/ThinkJulia.jl/latest/book.html#looping_and_counting). Read the documentation of this function and use it to count the number of a’s in \"banana\".\n",
    "\n"
   ]
  },
  {
   "cell_type": "code",
   "execution_count": null,
   "id": "9f42acee-6029-424e-8b87-e942340a02a3",
   "metadata": {},
   "outputs": [],
   "source": []
  },
  {
   "cell_type": "markdown",
   "id": "d6a6e3da-bb63-4921-86d8-cb2473d5c743",
   "metadata": {},
   "source": [
    "## Exercise 10.1\n",
    "Write a function called *nestedsum*\n",
    "that takes an array of arrays of integers and adds up the elements from all of the nested arrays. For example:\n",
    "```julia\n",
    "julia> t = [[1, 2], [3], [4, 5, 6]];\n",
    "\n",
    "julia> nestedsum(t)\n",
    "21\n",
    "```"
   ]
  },
  {
   "cell_type": "code",
   "execution_count": null,
   "id": "6a61cd69-fad4-4bc7-8123-f37f06e9081d",
   "metadata": {},
   "outputs": [],
   "source": []
  },
  {
   "cell_type": "markdown",
   "id": "94fae09d-30d4-44df-837a-ba07cc7cebdb",
   "metadata": {},
   "source": [
    "## Crack a password\n",
    "Write a function called *password_crack(n)* which cracks an n-digit numerical password.\n"
   ]
  },
  {
   "cell_type": "code",
   "execution_count": null,
   "id": "bf63b03a-4aae-4903-9c52-72b158d55014",
   "metadata": {},
   "outputs": [],
   "source": []
  }
 ],
 "metadata": {
  "kernelspec": {
   "display_name": "Julia 1.9.0-beta4",
   "language": "julia",
   "name": "julia-1.9"
  },
  "language_info": {
   "file_extension": ".jl",
   "mimetype": "application/julia",
   "name": "julia",
   "version": "1.9.0"
  }
 },
 "nbformat": 4,
 "nbformat_minor": 5
}
