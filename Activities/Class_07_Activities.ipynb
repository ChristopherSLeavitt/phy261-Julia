{
 "cells": [
  {
   "cell_type": "markdown",
   "id": "8f7601eb-59d2-45b7-9167-3e4826d4476f",
   "metadata": {},
   "source": [
    "# Class 07 13 Feb 2023\n",
    "## Exercise 8-8\n",
    "\n",
    "There is a built-in function called [count](https://docs.julialang.org/en/v1/base/collections/#Base.count) that is similar to the function in [Looping and Counting](https://benlauwens.github.io/ThinkJulia.jl/latest/book.html#looping_and_counting). Read the documentation of this function and use it to count the number of a’s in \"banana\".\n",
    "\n"
   ]
  },
  {
   "cell_type": "code",
   "execution_count": 2,
   "id": "9f42acee-6029-424e-8b87-e942340a02a3",
   "metadata": {},
   "outputs": [
    {
     "data": {
      "text/plain": [
       "3"
      ]
     },
     "execution_count": 2,
     "metadata": {},
     "output_type": "execute_result"
    }
   ],
   "source": [
    "count('a', \"banana\")"
   ]
  },
  {
   "cell_type": "markdown",
   "id": "d6a6e3da-bb63-4921-86d8-cb2473d5c743",
   "metadata": {},
   "source": [
    "## Exercise 10.1\n",
    "Write a function called *nestedsum*\n",
    "that takes an array of arrays of integers and adds up the elements from all of the nested arrays. For example:\n",
    "```julia\n",
    "julia> t = [[1, 2], [3], [4, 5, 6]];\n",
    "\n",
    "julia> nestedsum(t)\n",
    "21\n",
    "```"
   ]
  },
  {
   "cell_type": "code",
   "execution_count": 1,
   "id": "6a61cd69-fad4-4bc7-8123-f37f06e9081d",
   "metadata": {},
   "outputs": [
    {
     "data": {
      "text/plain": [
       "nestedsum (generic function with 1 method)"
      ]
     },
     "execution_count": 1,
     "metadata": {},
     "output_type": "execute_result"
    }
   ],
   "source": [
    "function nestedsum(A)\n",
    "    sum = 0\n",
    "    for i in 1:length(A)\n",
    "        for j in 1:length(A[i])\n",
    "            sum =  sum + A[i][j]\n",
    "        end\n",
    "    end\n",
    "    return sum\n",
    "end"
   ]
  },
  {
   "cell_type": "code",
   "execution_count": 2,
   "id": "53ff50e8-3343-4222-8c95-5e643338e8f5",
   "metadata": {},
   "outputs": [
    {
     "data": {
      "text/plain": [
       "21"
      ]
     },
     "execution_count": 2,
     "metadata": {},
     "output_type": "execute_result"
    }
   ],
   "source": [
    "t = [[1, 2], [3], [4, 5, 6]];\n",
    "nestedsum(t)"
   ]
  },
  {
   "cell_type": "markdown",
   "id": "94fae09d-30d4-44df-837a-ba07cc7cebdb",
   "metadata": {},
   "source": [
    "## Homework for Wednesday: Crack a password\n",
    "Recall the function we wrote today to generate a random N-digit numerical password:\n",
    "```Julia\n",
    "function passwordGen(N)\n",
    "    password = \"\"\n",
    "    for i in 1:N\n",
    "        password = password * string(rand(0:9))\n",
    "    end\n",
    "    return password\n",
    "end\n",
    "```\n",
    "Write a function called *password_crack_R(n)* which cracks an n-digit numerical password by random guessing."
   ]
  },
  {
   "cell_type": "code",
   "execution_count": null,
   "id": "bf63b03a-4aae-4903-9c52-72b158d55014",
   "metadata": {},
   "outputs": [],
   "source": []
  },
  {
   "cell_type": "markdown",
   "id": "edf996c8-2757-4272-aefb-cda5a89e3c97",
   "metadata": {},
   "source": [
    "Write a function called *password_crack_S(n)* which cracks an n-digit numerical password by sequentially testing from 0 up to the maximum possible numerical value for an n-digit numerical string."
   ]
  },
  {
   "cell_type": "code",
   "execution_count": null,
   "id": "04bbceb2-ff6e-46a8-b0c4-4bcff6a32fb3",
   "metadata": {},
   "outputs": [],
   "source": []
  },
  {
   "cell_type": "markdown",
   "id": "3d796fd6-0d12-40b6-b0e9-bd2e3b1b2c54",
   "metadata": {},
   "source": [
    "Now write code to time the two functions. Note that it's no good to time the functions for just one trial; you'll have to use BenchmarkTools.jl to properly time the functions and see the average time for each method. "
   ]
  },
  {
   "cell_type": "code",
   "execution_count": null,
   "id": "7b24f126-7e71-4bc9-8d61-49009d171ff1",
   "metadata": {},
   "outputs": [],
   "source": []
  }
 ],
 "metadata": {
  "kernelspec": {
   "display_name": "Julia 1.9.0-beta4",
   "language": "julia",
   "name": "julia-1.9"
  },
  "language_info": {
   "file_extension": ".jl",
   "mimetype": "application/julia",
   "name": "julia",
   "version": "1.9.0"
  }
 },
 "nbformat": 4,
 "nbformat_minor": 5
}
