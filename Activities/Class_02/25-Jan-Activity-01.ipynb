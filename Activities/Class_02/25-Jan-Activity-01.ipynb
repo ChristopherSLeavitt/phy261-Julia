{
 "cells": [
  {
   "cell_type": "markdown",
   "id": "f717bfb9-434d-4295-8f85-646b9baa678e",
   "metadata": {},
   "source": [
    "# Physics 261  Computational Physics in Julia\n",
    "## Intro to Julia, Jupyter, and Bash\n",
    "### 25-Jan-2023"
   ]
  }
 ],
 "metadata": {
  "kernelspec": {
   "display_name": "Julia 1.8.3",
   "language": "julia",
   "name": "julia-1.8.3"
  },
  "language_info": {
   "file_extension": ".jl",
   "mimetype": "application/julia",
   "name": "julia",
   "version": "1.8.3"
  },
  "widgets": {
   "application/vnd.jupyter.widget-state+json": {
    "state": {},
    "version_major": 2,
    "version_minor": 0
   }
  }
 },
 "nbformat": 4,
 "nbformat_minor": 5
}
