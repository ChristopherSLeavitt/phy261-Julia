{
 "cells": [
  {
   "cell_type": "markdown",
   "id": "cc437830",
   "metadata": {},
   "source": [
    "# Class 04: 1 Feb 2023"
   ]
  },
  {
   "cell_type": "markdown",
   "id": "a9facc3b",
   "metadata": {},
   "source": [
    "## Exercise 1\n",
    "Write a function that takes three numbers, $n_1, n_2,$ and $n_3$ and returns the highest value.\n",
    "Make sure to test whether two are equal or all three are equal, and return the obvious result. "
   ]
  },
  {
   "cell_type": "code",
   "execution_count": 10,
   "id": "f19a58aa",
   "metadata": {},
   "outputs": [
    {
     "data": {
      "text/plain": [
       "11"
      ]
     },
     "execution_count": 10,
     "metadata": {},
     "output_type": "execute_result"
    }
   ],
   "source": [
    "n₁ = 3\n",
    "n₂ = 9\n",
    "n₃ = 11\n",
    "if n₁ == n₂ || n₁ == n₃ || n₂ == n₃\n",
    "    return println(\"Highest Values are Equal\")\n",
    "elseif n₁ > n₂ && n₁ > n₃\n",
    "    return n₁\n",
    "elseif n₂ > n₁ && n₂ > n₃\n",
    "    return n₂\n",
    "elseif n₃ > n₁ && n₃ > n₂\n",
    "    return n₃\n",
    "end\n",
    "    "
   ]
  },
  {
   "cell_type": "markdown",
   "id": "7c0c65bf",
   "metadata": {},
   "source": [
    "## Exercise 2\n",
    "Use the factorial function we developed in class to plot the factorial function for n=1 to n=8.\n",
    "Label your axes. "
   ]
  },
  {
   "cell_type": "code",
   "execution_count": 15,
   "id": "7e371e3a",
   "metadata": {},
   "outputs": [
    {
     "data": {
      "text/plain": [
       "my_factorial (generic function with 1 method)"
      ]
     },
     "execution_count": 15,
     "metadata": {},
     "output_type": "execute_result"
    }
   ],
   "source": [
    "function my_factorial(n)\n",
    "    if n==1 || n==0\n",
    "        return 1\n",
    "    else\n",
    "        return n*my_factorial(n-1)\n",
    "    end\n",
    "end   "
   ]
  },
  {
   "cell_type": "code",
   "execution_count": 10,
   "id": "789845ab",
   "metadata": {},
   "outputs": [
    {
     "data": {
      "text/plain": [
       "120"
      ]
     },
     "execution_count": 10,
     "metadata": {},
     "output_type": "execute_result"
    }
   ],
   "source": [
    "my_factorial(5)"
   ]
  },
  {
   "cell_type": "code",
   "execution_count": 29,
   "id": "8f6a892a",
   "metadata": {},
   "outputs": [
    {
     "data": {
      "text/plain": [
       "my_factorial (generic function with 1 method)"
      ]
     },
     "execution_count": 29,
     "metadata": {},
     "output_type": "execute_result"
    }
   ],
   "source": [
    "function my_factorial(n)\n",
    "    if !(n isa Int64)\n",
    "        error(\"Factorial is only defined for integers.\")\n",
    "    elseif n < 0\n",
    "        error(\"Factorial is not defined for negative integers.\")\n",
    "    elseif n == 0\n",
    "        return 1\n",
    "    else\n",
    "        return n * my_factorial(n-1)\n",
    "    end\n",
    "end"
   ]
  },
  {
   "cell_type": "code",
   "execution_count": 30,
   "id": "fc9984b0",
   "metadata": {},
   "outputs": [
    {
     "data": {
      "text/plain": [
       "6"
      ]
     },
     "execution_count": 30,
     "metadata": {},
     "output_type": "execute_result"
    }
   ],
   "source": [
    "my_factorial(3)"
   ]
  },
  {
   "cell_type": "code",
   "execution_count": 45,
   "id": "c2436b74",
   "metadata": {},
   "outputs": [
    {
     "data": {
      "text/plain": [
       "1"
      ]
     },
     "execution_count": 45,
     "metadata": {},
     "output_type": "execute_result"
    }
   ],
   "source": [
    "n==1\n",
    "my_factorial(n)"
   ]
  },
  {
   "cell_type": "code",
   "execution_count": 46,
   "id": "6d15c271",
   "metadata": {},
   "outputs": [
    {
     "ename": "LoadError",
     "evalue": "Factorial is only defined for integers.",
     "output_type": "error",
     "traceback": [
      "Factorial is only defined for integers.",
      "",
      "Stacktrace:",
      "  [1] error(s::String)",
      "    @ Base .\\error.jl:35",
      "  [2] my_factorial",
      "    @ .\\In[29]:3 [inlined]",
      "  [3] #41",
      "    @ .\\In[46]:4 [inlined]",
      "  [4] call_composed",
      "    @ .\\operators.jl:1039 [inlined]",
      "  [5] #_#95",
      "    @ .\\operators.jl:1035 [inlined]",
      "  [6] ComposedFunction",
      "    @ .\\operators.jl:1033 [inlined]",
      "  [7] (::PlotUtils.var\"#21#23\"{ComposedFunction{ComposedFunction{RecipesPipeline.var\"#1#2\"{Symbol}, var\"#41#42\"}, RecipesPipeline.var\"#3#4\"{Symbol}}})(x::Float64)",
      "    @ PlotUtils C:\\Users\\LENOVO\\.julia\\packages\\PlotUtils\\bZEEj\\src\\adapted_grid.jl:49",
      "  [8] _broadcast_getindex_evalf",
      "    @ .\\broadcast.jl:670 [inlined]",
      "  [9] _broadcast_getindex",
      "    @ .\\broadcast.jl:643 [inlined]",
      " [10] getindex",
      "    @ .\\broadcast.jl:597 [inlined]",
      " [11] copy",
      "    @ .\\broadcast.jl:899 [inlined]",
      " [12] materialize(bc::Base.Broadcast.Broadcasted{Base.Broadcast.DefaultArrayStyle{1}, Nothing, PlotUtils.var\"#21#23\"{ComposedFunction{ComposedFunction{RecipesPipeline.var\"#1#2\"{Symbol}, var\"#41#42\"}, RecipesPipeline.var\"#3#4\"{Symbol}}}, Tuple{Vector{Float64}}})",
      "    @ Base.Broadcast .\\broadcast.jl:860",
      " [13] adapted_grid(f::Any, minmax::Tuple{Float64, Float64}; max_recursions::Int64, max_curvature::Float64, n_points::Int64)",
      "    @ PlotUtils C:\\Users\\LENOVO\\.julia\\packages\\PlotUtils\\bZEEj\\src\\adapted_grid.jl:60",
      " [14] adapted_grid(f::Any, minmax::Tuple{Float64, Float64})",
      "    @ PlotUtils C:\\Users\\LENOVO\\.julia\\packages\\PlotUtils\\bZEEj\\src\\adapted_grid.jl:14",
      " [15] _scaled_adapted_grid(f::Function, xscale::Symbol, yscale::Symbol, xmin::Int64, xmax::Int64)",
      "    @ RecipesPipeline C:\\Users\\LENOVO\\.julia\\packages\\RecipesPipeline\\XxUHt\\src\\user_recipe.jl:322",
      " [16] macro expansion",
      "    @ C:\\Users\\LENOVO\\.julia\\packages\\RecipesPipeline\\XxUHt\\src\\user_recipe.jl:265 [inlined]",
      " [17] apply_recipe(plotattributes::AbstractDict{Symbol, Any}, f::Function, xmin::Number, xmax::Number)",
      "    @ RecipesPipeline C:\\Users\\LENOVO\\.julia\\packages\\RecipesBase\\z10lo\\src\\RecipesBase.jl:300",
      " [18] _process_userrecipes!(plt::Any, plotattributes::Any, args::Any)",
      "    @ RecipesPipeline C:\\Users\\LENOVO\\.julia\\packages\\RecipesPipeline\\XxUHt\\src\\user_recipe.jl:38",
      " [19] recipe_pipeline!(plt::Any, plotattributes::Any, args::Any)",
      "    @ RecipesPipeline C:\\Users\\LENOVO\\.julia\\packages\\RecipesPipeline\\XxUHt\\src\\RecipesPipeline.jl:72",
      " [20] _plot!(plt::Plots.Plot, plotattributes::Any, args::Any)",
      "    @ Plots C:\\Users\\LENOVO\\.julia\\packages\\Plots\\modjX\\src\\plot.jl:223",
      " [21] plot(::Any, ::Vararg{Any}; kw::Base.Pairs{Symbol, V, Tuple{Vararg{Symbol, N}}, NamedTuple{names, T}} where {V, N, names, T<:Tuple{Vararg{Any, N}}})",
      "    @ Plots C:\\Users\\LENOVO\\.julia\\packages\\Plots\\modjX\\src\\plot.jl:102",
      " [22] top-level scope",
      "    @ In[46]:4"
     ]
    }
   ],
   "source": [
    "using Plots\n",
    "gr()\n",
    "n == [1,2,3,4,5,6,7,8]\n",
    "plot(n -> my_factorial(n), 1 , 8 , xlabel = \"n\" , ylabel = \"Factorial value\")"
   ]
  },
  {
   "cell_type": "markdown",
   "id": "48f8f739",
   "metadata": {},
   "source": [
    "## Exercise 3\n",
    "(a) Write a function that computes the x and y position at any time $t$ for a projectile launched from the edge of a 100 m high cliff.\n",
    "The projectile is launched with initial speed 20 m/s at an angle of $30^o$. Assume air resistance is negligible and this is happening on Earth. \n",
    "\n",
    "(b) Plot the path; stop the plot when the projectile hits the ground. Label your axes. "
   ]
  }
 ],
 "metadata": {
  "kernelspec": {
   "display_name": "Julia 1.8.5",
   "language": "julia",
   "name": "julia-1.8"
  },
  "language_info": {
   "file_extension": ".jl",
   "mimetype": "application/julia",
   "name": "julia",
   "version": "1.8.5"
  }
 },
 "nbformat": 4,
 "nbformat_minor": 5
}
