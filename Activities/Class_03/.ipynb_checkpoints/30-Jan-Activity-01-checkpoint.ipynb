{
 "cells": [
  {
   "cell_type": "markdown",
   "id": "f717bfb9-434d-4295-8f85-646b9baa678e",
   "metadata": {},
   "source": [
    "# Physics 261  Computational Physics in Julia\n",
    "## Intro to Julia, Jupyter, and Bash\n",
    "### 30-Jan-2023"
   ]
  },
  {
   "cell_type": "markdown",
   "id": "c815975e-4d0f-4807-838c-71c2428d9183",
   "metadata": {},
   "source": [
    "## Configuring your server account to use github with an SSH key"
   ]
  },
  {
   "cell_type": "code",
   "execution_count": null,
   "id": "06ed104d-362f-43e5-8b0e-873608eef31d",
   "metadata": {},
   "outputs": [],
   "source": []
  }
 ],
 "metadata": {
  "kernelspec": {
   "display_name": "Julia 1.8.3",
   "language": "julia",
   "name": "julia-1.8.3"
  },
  "language_info": {
   "file_extension": ".jl",
   "mimetype": "application/julia",
   "name": "julia",
   "version": "1.8.3"
  },
  "widgets": {
   "application/vnd.jupyter.widget-state+json": {
    "state": {},
    "version_major": 2,
    "version_minor": 0
   }
  }
 },
 "nbformat": 4,
 "nbformat_minor": 5
}
