{
 "cells": [
  {
   "cell_type": "markdown",
   "id": "f717bfb9-434d-4295-8f85-646b9baa678e",
   "metadata": {},
   "source": [
    "# Physics 261  Computational Physics in Julia\n",
    "## Intro to Julia, Jupyter, and Bash\n",
    "### 30-Jan-2023"
   ]
  },
  {
   "cell_type": "markdown",
   "id": "c815975e-4d0f-4807-838c-71c2428d9183",
   "metadata": {},
   "source": [
    "## Configuring your server account to use github with an SSH key"
   ]
  },
  {
   "cell_type": "markdown",
   "id": "b2cbafb0-0d99-44ad-b0ce-7c59b759c381",
   "metadata": {},
   "source": [
    "## Step 1: Creating an SSH\n",
    "To begin, we must create an \"SSH\" key. This will automatically authenticate your identity- it is essentially a password file that will exist on the einstein server. \n",
    "First, open a new terminal window on the einstein server. All of the terminal commands in this notebook must be run in the einstein server. \n",
    "\n",
    "Type in this command, with your_email@example.com replaced with your email linked to your github account.\n",
    "```bash\n",
    "$ ssh-keygen -t ed25519 -C \"your_email@example.com\"\n",
    "```\n",
    "\n",
    "Note that all of these bash commands begin with a $ and a space. This indicates that it is in a bash terminal. \n",
    "\n",
    "**Never include this \"$ \" when copying the command**\n",
    "\n",
    "This will create your SSH Key. The terminal will then ask you where to save the key; simply hit enter to accept the default location. <br>\n",
    "**Note**: Accept the default location! Other commands in this notebook rely on the SSH being created with its default name and location.\n",
    "\n",
    "You will also be prompted to put in a passphrase (basically a password as a second form of authentication\") <br>\n",
    "Put in whatever you want, but keep in mind you have to enter this whenever you use this SSH. <br>\n",
    "**You can choose to not have a passphrase by pressing enter twice when prompted.**\n",
    "\n",
    "You have now created your SSH in the einstein server!"
   ]
  },
  {
   "cell_type": "markdown",
   "id": "ec2710b5-b547-479b-ab64-6d47617d9570",
   "metadata": {},
   "source": [
    "## Step 2: Adding SSH to the \"ssh-agent\"\n",
    "Now, we have to add the SSH we created to the SSH-Agent, which mangaes the SSH. <br> \n",
    "This is very simple. First we start the agent by entering this command:\n",
    "```bash\n",
    "$ eval \"$(ssh-agent -s)\"\n",
    "```\n",
    "Then, we add the SSH key we just created to the agent with this command:\n",
    "```bash \n",
    "$ ssh-add ~/.ssh/id_ed25519\n",
    "```\n",
    "Your SSH is now added to the SSH agent!"
   ]
  },
  {
   "cell_type": "markdown",
   "id": "fd34170f-e8d5-4124-a152-8f2af4b1425c",
   "metadata": {},
   "source": [
    "## Step 3: Attaching the SSH to your Github Account\n",
    "Next, we have to associate this SSH with your github account.<br>\n",
    "The first step is to copy your SSH. To get your key, enter this command:\n",
    "```bash\n",
    "$ cat ~/.ssh/id_ed25519.pub\n",
    "```\n",
    "\n",
    "This should give you a line of output. **Copy this entire line of output**, and take care not to accidentally add any spaces or extra characters to it. \n",
    "\n",
    "Now, we need this information you copied to your github account.<br>\n",
    "Go your github page, and in the top right should be your profile picture. Click on this to bring up a dropdown menu, and select **Settings**.<br>\n",
    "Now, there should be a list of menus on the left side of your screen.<br>\n",
    "Look for: **\"SSH and GPG keys\", it should have a key icon next to it.** Click on it. <br>\n",
    "Next, select the green box that says \"New SSH\". This should bring you to a new page. <br>\n",
    "Here, give your key a title, and make sure the **key type is set to \"Authentication Key\"**. <br>\n",
    "Finally, **paste the output line you copied earlier in this step in the \"Key\" text field.**<br>\n",
    "\n",
    "Press Add SSH Key at the bottom, and you have linked your SSH to your Github account!"
   ]
  },
  {
   "cell_type": "code",
   "execution_count": null,
   "id": "8fd347f4-eb13-4883-b63b-74d426e34656",
   "metadata": {},
   "outputs": [],
   "source": []
  },
  {
   "cell_type": "markdown",
   "id": "1f316aaf-29b9-4a9c-856e-c251c38249b7",
   "metadata": {},
   "source": [
    "## Writing functions\n",
    "Work together to write functions to do the following. \n",
    "### Compute the electric field magnitude\n",
    "Coulomb's law says that the electric field at a distance $r$ from a point charge $q$ is given by\n",
    "\n",
    "$$ E = \\frac{1}{4\\pi\\epsilon_0} \\frac{q}{r^2}, $$\n",
    "\n",
    "where $\\epsilon_0 = 8.8541878128\\times 10^{-12}\\;\\mathrm{\\frac{C^2}{N \\cdot m^2}}$\n",
    "Your function should take *as inputs* the chage $q$ and the distance from the charge $r$. The function should return the electric field $E$ in N/C.\n",
    "\n",
    "#### Test your function \n",
    "\n",
    "(1) for $q = 1.0\\,\\mathrm{nC}$, and $r = 1.0\\,\\mathrm{m}$, compute (by hand) the value of the electric field, and check that your function returns the correct value. <br>\n",
    "(2) If you double the distance $r$, what should happen to the value of E? Check that your code works. <br>\n",
    "(3) If you now also reduce $q$ by a factor of 10, what should the new value of E be? Check that your code works.  <br>\n",
    "(4) Make a plot of the electric field magnitude for $q = 0.10\\,\\mathrm{nC}$ and for $r$ values ranging from $1.0\\,\\mathrm{mm}$ to $10.0\\,\\mathrm{mm}$. Label your axes and include units! <br>\n",
    "\n",
    "Add code and markdown cells to define and test your function."
   ]
  },
  {
   "cell_type": "code",
   "execution_count": null,
   "id": "84040e41-3fb6-4ead-8363-019a7da472bd",
   "metadata": {},
   "outputs": [],
   "source": [
    "# your function code in this cell"
   ]
  },
  {
   "cell_type": "markdown",
   "id": "1ec3d745-751a-4153-ab7f-b1f40da5cd46",
   "metadata": {},
   "source": [
    "### Compute the electric field vector in 2D\n",
    "Now suppose that a point charge $q$ is at position $(x_0, y_0)$ (in meters), and write a function to compute\n",
    "the electric field vector at point $(x, y)$. Your function should return the electric field as a 2d vector.\n",
    "\n",
    "#### Test your function\n",
    "(1) for $q = 1.0\\,\\mathrm{nC}$, placed at the origin and $(x,y) = (1.0, 1.0)\\,\\mathrm{m}$, compute (by hand) the value of the electric field, and check that your function returns the correct value.  <br>\n",
    "(2) Now move the charge $q$ to $(x_0,y_0) = (1.0, 1.0)\\,\\mathrm{m}$ and evaluate the electric field vector at  $(x,y) = (2.0, 2.0)\\,\\mathrm{m}$. What should your code return? Check that it works properly. <br>\n",
    "(3) Now move the field point to $(2.0, 1.0)$. What should your code return?  <br>\n",
    "(4) Now move the field point to $(1.0, 2.0)$. What should your code return?  <br>\n",
    "(5) Now move the field point to $(1.0, 0.0)$. What should your code return?  <br>"
   ]
  }
 ],
 "metadata": {
  "kernelspec": {
   "display_name": "Julia 1.8.3",
   "language": "julia",
   "name": "julia-1.8.3"
  },
  "language_info": {
   "file_extension": ".jl",
   "mimetype": "application/julia",
   "name": "julia",
   "version": "1.8.3"
  },
  "widgets": {
   "application/vnd.jupyter.widget-state+json": {
    "state": {},
    "version_major": 2,
    "version_minor": 0
   }
  }
 },
 "nbformat": 4,
 "nbformat_minor": 5
}
