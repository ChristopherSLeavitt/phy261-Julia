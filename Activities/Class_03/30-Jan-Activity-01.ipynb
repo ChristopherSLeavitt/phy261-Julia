{
 "cells": [
  {
   "cell_type": "markdown",
   "id": "f717bfb9-434d-4295-8f85-646b9baa678e",
   "metadata": {},
   "source": [
    "# Physics 261  Computational Physics in Julia\n",
    "## Intro to Julia, Jupyter, and Bash\n",
    "### 30-Jan-2023\n"
   ]
  },
  {
   "cell_type": "markdown",
   "id": "1f316aaf-29b9-4a9c-856e-c251c38249b7",
   "metadata": {},
   "source": [
    "## Writing functions\n",
    "Work together to write functions to do the following. "
   ]
  },
  {
   "cell_type": "markdown",
   "id": "743a4ba8",
   "metadata": {},
   "source": [
    "### Create N random numbers, sum them, and return the time needed\n",
    "Write a function to create and array of N floating point numbers, \n",
    "and them time how long it takes to sum the numbers."
   ]
  },
  {
   "cell_type": "markdown",
   "id": "747580b0",
   "metadata": {},
   "source": [
    "\n",
    "### Compute the electric field magnitude\n",
    "Coulomb's law says that the electric field at a distance $r$ from a point charge $q$ is given by\n",
    "\n",
    "$$ E = \\frac{1}{4\\pi\\epsilon_0} \\frac{q}{r^2}, $$\n",
    "\n",
    "where $\\epsilon_0 = 8.8541878128\\times 10^{-12}\\;\\mathrm{\\frac{C^2}{N \\cdot m^2}}$\n",
    "Your function should take *as inputs* the chage $q$ and the distance from the charge $r$. The function should return the electric field $E$ in N/C.\n",
    "\n",
    "#### Test your function \n",
    "\n",
    "(1) for $q = 1.0\\,\\mathrm{nC}$, and $r = 1.0\\,\\mathrm{m}$, compute (by hand) the value of the electric field, and check that your function returns the correct value. <br>\n",
    "(2) If you double the distance $r$, what should happen to the value of E? Check that your code works. <br>\n",
    "(3) If you now also reduce $q$ by a factor of 10, what should the new value of E be? Check that your code works.  <br>\n",
    "(4) Make a plot of the electric field magnitude for $q = 0.10\\,\\mathrm{nC}$ and for $r$ values ranging from $1.0\\,\\mathrm{mm}$ to $10.0\\,\\mathrm{mm}$. Label your axes and include units! <br>\n",
    "\n",
    "Add code and markdown cells to define and test your function."
   ]
  },
  {
   "cell_type": "markdown",
   "id": "1ec3d745-751a-4153-ab7f-b1f40da5cd46",
   "metadata": {},
   "source": [
    "### Compute the electric field vector in 2D\n",
    "Now suppose that a point charge $q$ is at position $(x_0, y_0)$ (in meters), and write a function to compute\n",
    "the electric field vector at point $(x, y)$. Your function should return the electric field as a 2d vector.\n",
    "\n",
    "#### Test your function\n",
    "(1) for $q = 1.0\\,\\mathrm{nC}$, placed at the origin and $(x,y) = (1.0, 1.0)\\,\\mathrm{m}$, compute (by hand) the value of the electric field, and check that your function returns the correct value.  <br>\n",
    "(2) Now move the charge $q$ to $(x_0,y_0) = (1.0, 1.0)\\,\\mathrm{m}$ and evaluate the electric field vector at  $(x,y) = (2.0, 2.0)\\,\\mathrm{m}$. What should your code return? Check that it works properly. <br>\n",
    "(3) Now move the field point to $(2.0, 1.0)$. What should your code return?  <br>\n",
    "(4) Now move the field point to $(1.0, 2.0)$. What should your code return?  <br>\n",
    "(5) Now move the field point to $(1.0, 0.0)$. What should your code return?  <br>"
   ]
  },
  {
   "cell_type": "code",
   "execution_count": null,
   "id": "84040e41-3fb6-4ead-8363-019a7da472bd",
   "metadata": {},
   "outputs": [],
   "source": [
    "# your function code in this cell"
   ]
  }
 ],
 "metadata": {
  "kernelspec": {
   "display_name": "Julia 1.7.2",
   "language": "julia",
   "name": "julia-1.7"
  },
  "language_info": {
   "file_extension": ".jl",
   "mimetype": "application/julia",
   "name": "julia",
   "version": "1.7.2"
  },
  "widgets": {
   "application/vnd.jupyter.widget-state+json": {
    "state": {},
    "version_major": 2,
    "version_minor": 0
   }
  }
 },
 "nbformat": 4,
 "nbformat_minor": 5
}
