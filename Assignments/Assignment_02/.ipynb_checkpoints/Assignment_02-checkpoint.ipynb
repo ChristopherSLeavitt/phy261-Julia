{
 "cells": [
  {
   "cell_type": "markdown",
   "id": "887201ad-8a1d-492c-afd2-3b7eade2c153",
   "metadata": {},
   "source": [
    "# Assignment 2: Numerical Integration\n",
    "## Due: 11:00 Monday 13 Feb 2023"
   ]
  },
  {
   "attachments": {
    "208c1ff6-1737-4232-af5c-91c11664dc30.png": {
     "image/png": "[encoded data removed]"
    }
   },
   "cell_type": "markdown",
   "id": "ac3ff2d5-beec-4b3a-a277-0cfb26623486",
   "metadata": {},
   "source": [
    "This assignment consists of one problem with several pieces; you will be computing the electric field on the axis of symmetry of a ring of charge (lying in the x-y plane). <br>\n",
    "\n",
    "![RingOfCharge.png](attachment:208c1ff6-1737-4232-af5c-91c11664dc30.png)\n",
    "\n",
    "This will be done in two ways:<br>\n",
    "    1. by standard physics 123 methods to compute the exact analytic value.<br>\n",
    "    2. by numerical integration similar to the method we outlined in class. <br>"
   ]
  },
  {
   "cell_type": "markdown",
   "id": "0d0b677f-8c8d-40d8-8386-4a54f0cba73c",
   "metadata": {},
   "source": [
    "## Part 1: Analytic calculation\n",
    "Whenever one uses a computer to solve a problem, it is important to test your numerical solution.\n",
    "In this case, it it a straightforward computation to calculate the electric field at a point on the z-axis. The geometry is shown in the figure above. \n",
    "\n",
    "Use your knowledge of physics 123 to describe to me in a markdown cell below (using $\\LaTeX$ to explain the steps in your argument!) This should be written as if your audience is a student at another university taking physics 123. In other words, lead me through the solution to the problem. \n",
    "Your answer for the electric field should be a function of the charge, Q, of the ring, its radius, R, and the coordinate, z, of the field point. Your answer shoudld be a vector, and should work for values of z between $-\\infty$ and $+\\infty$.\n"
   ]
  },
  {
   "cell_type": "markdown",
   "id": "141296cf-9b29-4022-aab8-912400da8f65",
   "metadata": {},
   "source": [
    "<put your solution here>"
   ]
  },
  {
   "cell_type": "markdown",
   "id": "32809154-d9de-456e-a495-fa0076d2264d",
   "metadata": {},
   "source": [
    "## Part 2: Computational solution\n",
    "In this part, you need to write a function called r(θ,N,z,Q,R) which computes the electric field on the z-axis by dividing the ring of charge into N chuncks, and sums the electric field contribution of each chunk of charge. Note that you will have to keep track of the x,y, and z components of the field as you go. \n"
   ]
  },
  {
   "cell_type": "markdown",
   "id": "66aab08b-751d-4cdb-9316-c5d00c3050c7",
   "metadata": {},
   "source": [
    "## Part 3: Checking your solution\n",
    "Now you have to convince me of the correctness of your solution. \n",
    "\n",
    "### Check 1: \n",
    "From Part 1, you know that the electric field should only have a z-component ($+\\hat{z}$ for positive $z$, and $-\\hat{z}$ for negative $z$). Does your solution satisfy this requirement? \n",
    "\n",
    "### Check 2:\n",
    "Your numerical solution should equal the analytic solution in the limit where $N\\rightarrow \\infty$; \n",
    "to show this, make a plot where you draw a curve for the analytic solution (Let's all use $R = 1\\,\\mathrm{cm}$, $Q = 1\\,\\mathrm{nC}$), and then add the numerical result for $N = 20$, $N=100$, and $N=1000$. "
   ]
  },
  {
   "cell_type": "code",
   "execution_count": null,
   "id": "948b1b49-b00d-49eb-9860-572d2ab5af1d",
   "metadata": {},
   "outputs": [],
   "source": []
  }
 ],
 "metadata": {
  "kernelspec": {
   "display_name": "Julia 1.8.5",
   "language": "julia",
   "name": "julia-1.8"
  },
  "language_info": {
   "file_extension": ".jl",
   "mimetype": "application/julia",
   "name": "julia",
   "version": "1.8.5"
  }
 },
 "nbformat": 4,
 "nbformat_minor": 5
}
