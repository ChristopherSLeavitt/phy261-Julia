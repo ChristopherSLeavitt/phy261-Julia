{
 "cells": [
  {
   "cell_type": "markdown",
   "id": "6fd6aae8-0555-464e-accb-ee72e5f9fea7",
   "metadata": {},
   "source": [
    "# Physics 261: Assignment 4\n",
    "# Numerical Integration with the Euler and Euler-Cromer methods\n"
   ]
  },
  {
   "cell_type": "markdown",
   "id": "4829482e-8ffb-4924-a170-0520c7951eb3",
   "metadata": {},
   "source": [
    "## Part 1: The Euler Method for the Simple Harmonic Oscillator\n",
    "Suppose you have a mass free to slide on a frictionless surface. The mass is attached to a spring \n",
    "and the other end of the spring is attached to the wall as shown below:"
   ]
  },
  {
   "attachments": {
    "40e47057-feb7-4ba5-83a4-7405e177d0f7.png": {
     "image/png": "[encoded data removed]"
    }
   },
   "cell_type": "markdown",
   "id": "a2863722-5ff6-45cc-a6cc-e7683e2b6301",
   "metadata": {},
   "source": [
    "![SHO.png](attachment:40e47057-feb7-4ba5-83a4-7405e177d0f7.png)"
   ]
  },
  {
   "cell_type": "markdown",
   "id": "a2793c7e-ccb6-4c8e-ad78-7309e7d49c7f",
   "metadata": {},
   "source": [
    "### Step 1\n",
    "Write down Newton's law for the mass on the spring, and then split it into two first order equations. \n",
    "Show your work in the markdown cell below:"
   ]
  },
  {
   "cell_type": "markdown",
   "id": "e2e3574c-db6d-4b97-9030-6c56359c1a39",
   "metadata": {},
   "source": []
  },
  {
   "cell_type": "markdown",
   "id": "e6f42774-88d8-4afe-b6c4-78db0b75aed3",
   "metadata": {},
   "source": [
    "### Step 2 \n",
    "Now write a function called<br>\n",
    "```Julia\n",
    "euler(x₀, v₀, tmax, Δt)\n",
    "```\n",
    "which computes and returns the:<br>\n",
    "    a) position<br>\n",
    "    b) velocity<br>\n",
    "    c) kinetic energy, $K$<br>\n",
    "    d) potential energy, $U$<br>\n",
    "    e) total energy, $E=K+U$<br>\n",
    "as functions of time.\n",
    "The input parameters to this function are<br>\n",
    "`x₀, v₀, tmax, Δt` <br>\n",
    "the initial position ($x_0$), velocity ($v_0$), and the maximum simulation time (tmax), and the time step ($\\Delta t$).\n"
   ]
  },
  {
   "cell_type": "code",
   "execution_count": null,
   "id": "21987333-0468-462b-9e03-a6e3b00bae56",
   "metadata": {},
   "outputs": [],
   "source": []
  },
  {
   "cell_type": "markdown",
   "id": "05a0f20b-f45b-43b5-a24a-a1367a7e6511",
   "metadata": {},
   "source": [
    "### Step 3\n",
    "Make a compound 2x2 plot containing 4 plots as follows. <br>\\\n",
    "    a. The upper left plot should be $x$ vs $t$,<br>\n",
    "    b. Just below that (bottom left) should be $v$ vs $t$,<br>\n",
    "    c. On the right side top should be  plot containing three curves: $K, U$ and $E$ vs t,<br>\n",
    "    d. At the bottom right: A plot of $\\frac{v}{\\omega x_0}$ vs $\\frac{x}{x_0}$.<br>\n",
    "    \n",
    "The lower right plot is called a *phase space* plot. It represents all the possible states of the system in terms of its \n",
    "position and velocity. I've had you plot not $v$ vs $x$, but a dimensionless version of each."
   ]
  },
  {
   "cell_type": "code",
   "execution_count": null,
   "id": "678048b7-b2f9-4e0b-8803-96abc5d23ffd",
   "metadata": {},
   "outputs": [],
   "source": []
  },
  {
   "cell_type": "markdown",
   "id": "8cd136fa-4926-4f54-a892-35f592e8321a",
   "metadata": {},
   "source": [
    "### Step 4\n",
    "Questions to answer based on your simulation:<br>\n",
    "    a. Investigate the conservation of energy plot. Is there a value of \n",
    "        $\\Delta t$ that will have the system conserve energy?<br>\n",
    "    b. If you think your answer to (a) is yes, then increase the simulation time $tmax$ \n",
    "        to see if you are correct.<br>\n",
    "    c. How does non-conservation of energy visually apparent in each of the other three plots?"
   ]
  },
  {
   "cell_type": "markdown",
   "id": "09f9c6c3-ea2e-445c-bcbd-ddd4bb0fb94e",
   "metadata": {},
   "source": [
    "## Part 1: The Euler-Cromer Method for the Simple Harmonic Oscillator\n",
    "Now re-do parts 2-4 but using the Euler-Cromer method. In other words, write a Julia function called\n",
    "```Julia\n",
    "euler-cromer(x₀, v₀, tmax, Δt)\n",
    "```\n",
    "and then do parts 3 and 4 again. "
   ]
  },
  {
   "cell_type": "code",
   "execution_count": null,
   "id": "7462740c-f740-4540-b6e6-4d0140ead527",
   "metadata": {},
   "outputs": [],
   "source": []
  }
 ],
 "metadata": {
  "kernelspec": {
   "display_name": "Julia 1.8.5",
   "language": "julia",
   "name": "julia-1.8"
  },
  "language_info": {
   "file_extension": ".jl",
   "mimetype": "application/julia",
   "name": "julia",
   "version": "1.8.5"
  }
 },
 "nbformat": 4,
 "nbformat_minor": 5
}
