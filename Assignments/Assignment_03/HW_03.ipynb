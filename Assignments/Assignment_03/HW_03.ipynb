{
 "cells": [
  {
   "cell_type": "markdown",
   "id": "94c987ad-b0d3-4999-8250-a1c3e2bf2366",
   "metadata": {},
   "source": [
    "# Homework 03\n",
    "This is literally the Activity notebook from class on 15 Feb. Due by 7 pm Wed 22 Feb.\n"
   ]
  },
  {
   "cell_type": "code",
   "execution_count": 2,
   "id": "f624e7a2-e640-46e7-8213-ed95d9c15f5c",
   "metadata": {
    "execution": {
     "iopub.execute_input": "2023-02-15T09:40:20.268000-05:00",
     "iopub.status.busy": "2023-02-15T09:40:20.086000-05:00",
     "iopub.status.idle": "2023-02-15T09:40:20.270000-05:00",
     "shell.execute_reply": "2023-02-15T09:40:20.270000-05:00"
    },
    "tags": []
   },
   "outputs": [],
   "source": [
    "using Plots, LaTeXStrings, BenchmarkTools, Measures\n",
    "using Random,  Distributions, \n",
    "gr()\n",
    "default(fontfamily = \"Computer Modern\", size=(600,400), titlefont = (16), legendfontsize = 10, \n",
    "        guidefont = (16, :darkgreen), tickfont = (12, :black), \n",
    "        framestyle = :box, yminorgrid = true, legend = :outertopright, dpi=600)"
   ]
  },
  {
   "cell_type": "markdown",
   "id": "dd5d3ec6-68e5-4d66-84ab-38fe48e19932",
   "metadata": {},
   "source": [
    "## Activity 1: Defining a function\n",
    "In the cell below, define a function $y(t,p)$ which defines the decay in amplitude of a damped simple harmonic oscillator\n",
    "defined by \n",
    "\n",
    "$$ y(t) = Ae^{-bt} \\cos(ct + \\phi).$$\n",
    "\n",
    "In your Julia function, the parameter $p$ is a vector whose elements are the constants $A, b, c, \\,\\mathrm{and}\\,\\phi$."
   ]
  },
  {
   "cell_type": "code",
   "execution_count": null,
   "id": "a2a1f9ab-bd59-43b0-b8ee-f1060948856c",
   "metadata": {},
   "outputs": [],
   "source": []
  },
  {
   "cell_type": "markdown",
   "id": "efe7e3af-e80d-499b-85c7-e8a7b00e7bf8",
   "metadata": {},
   "source": [
    "### Testing your function\n",
    "Now, let $A = 1$, $b=0.5$, $c=2\\pi$, and $\\phi = 0$. Evaluate your function at $t=0$ in the cell below. "
   ]
  },
  {
   "cell_type": "code",
   "execution_count": null,
   "id": "0bcca33b-6582-4e21-844d-da3e99d2f3b4",
   "metadata": {},
   "outputs": [],
   "source": []
  },
  {
   "cell_type": "markdown",
   "id": "8c728470-17d0-47b4-8430-be9bb2598d9d",
   "metadata": {},
   "source": [
    "Does your function give the correct value for $y(0,p)$? (what value should it return?)"
   ]
  },
  {
   "cell_type": "markdown",
   "id": "b341640b-b79f-4ea0-b6aa-087d01eb3a5d",
   "metadata": {},
   "source": [
    "## Activity 2: Plotting a function\n",
    "An even better test of your function is to make a plot of the function $y(t,p)$ from $t=0$ to $t=10$. Include the following features:<br>\n",
    "    1. Label the axes (assume time is in seconds, and y is in meters)<br>\n",
    "    2. Plot the curve with a 2pt linewidth in green<br>\n",
    "    3. Make the curve's transparency 0.4<br>\n",
    "    4. Include a legend which shows the curve's equation; use $\\LaTeX$ to typeset it: $ Ae^{-bt} \\cos(ct + \\phi).$\n",
    "Does the plot look correct? Test it by using different parameters for $A, b, c, \\,\\mathrm{and}\\, \\phi$."
   ]
  },
  {
   "cell_type": "code",
   "execution_count": null,
   "id": "9626f061-458f-493e-abd0-4af019aa802a",
   "metadata": {},
   "outputs": [],
   "source": []
  },
  {
   "cell_type": "markdown",
   "id": "50df95b6-717f-4d93-82ea-c0b9c512d04f",
   "metadata": {},
   "source": [
    "## Activity 3: Computing the numerical derivative at some time t\n",
    "Write a function called $dydt(t, p)$ which computes a numerical estimate for the derivative of $y(t)$ at any time t. "
   ]
  },
  {
   "cell_type": "code",
   "execution_count": null,
   "id": "f0b4f8a2-7d47-4bfa-bed1-e0221e5e1068",
   "metadata": {},
   "outputs": [],
   "source": []
  },
  {
   "cell_type": "markdown",
   "id": "b3a31a50-f7fc-43bf-9fad-d7d9f423f527",
   "metadata": {},
   "source": [
    "### Testing your derivative function\n",
    "Test your derivative function by creating a plot (from $t=0$ to $t=10s$) which includes $y(t)$ and $dydt(t)$. \n",
    "Add a legend for for the derivative. "
   ]
  },
  {
   "cell_type": "code",
   "execution_count": null,
   "id": "12654e79-8f02-4293-8373-568574b6a502",
   "metadata": {},
   "outputs": [],
   "source": []
  },
  {
   "cell_type": "markdown",
   "id": "1ba4bafd-b9d1-4ba0-9203-2ab3ec6cf0d0",
   "metadata": {},
   "source": [
    "## Activity 4:  Projectile motion\n",
    "Suppose a rock is tossed off a cliff with height 100 meters. The initial velocity vector has magnitude 20 m/s at an angle of $30^o$ above the horizontal. \n",
    "Assuming no air resistance, write a function that computes the x and y coordinates of the rock as a function of time; have the function stop computing the \n",
    "position of the rock when it hits the ground. Assume, as in the figure below, that\n",
    "the origin is at the base of the cliff and +x and +y are as indicated. You'll want to use a *while* loop for this. Remember that the general equation for constant \n",
    "acceleration is $y = y_0 + v_{0y} t + \\frac{1}{2}a_y t^2$.\n",
    "<div>\n",
    "<img src=\"Cliff.png\" width=\"400\"/>\n",
    "</div>\n"
   ]
  },
  {
   "cell_type": "code",
   "execution_count": null,
   "id": "0990d585-2106-4342-9b31-04009f576ba0",
   "metadata": {},
   "outputs": [],
   "source": []
  },
  {
   "cell_type": "markdown",
   "id": "4d7293bf-b89f-4888-a066-ecf56813e15d",
   "metadata": {},
   "source": [
    "### Test your function\n",
    "Plot the trajectory of the rock while it is in the air. "
   ]
  },
  {
   "cell_type": "code",
   "execution_count": null,
   "id": "af6f1edb-cede-43d6-87f0-941138e9b0e2",
   "metadata": {},
   "outputs": [],
   "source": []
  },
  {
   "cell_type": "markdown",
   "id": "1edcc2ac-65ad-400a-bfa5-b2266cd8a526",
   "metadata": {},
   "source": [
    "## Activity 5: Generating and plotting random numbers\n",
    "Many times, one wants to test a piece of code by generating fake data. For instance, suppose you want to fit some data to a curve,\n",
    "and you want to test the curve fitting function. An easy way to do this is to add some computer generated noise to the data. Generally speaking, \n",
    "one typically adds Gaussian noise, "
   ]
  },
  {
   "cell_type": "code",
   "execution_count": 26,
   "id": "8f9d4aba-33cd-49e2-bd19-1f68f064b99c",
   "metadata": {
    "execution": {
     "iopub.execute_input": "2023-02-15T10:38:50.031000-05:00",
     "iopub.status.busy": "2023-02-15T10:38:50.030000-05:00",
     "iopub.status.idle": "2023-02-15T10:38:50.041000-05:00",
     "shell.execute_reply": "2023-02-15T10:38:50.041000-05:00"
    },
    "tags": []
   },
   "outputs": [
    {
     "data": {
      "image/svg+xml": [
       "<?xml version=\"1.0\" encoding=\"utf-8\"?>\n",
       "<svg xmlns=\"http://www.w3.org/2000/svg\" xmlns:xlink=\"http://www.w3.org/1999/xlink\" width=\"600\" height=\"400\" viewBox=\"0 0 2400 1600\">\n",
       "<defs>\n",
       "  <clipPath id=\"clip100\">\n",
       "    <rect x=\"0\" y=\"0\" width=\"2400\" height=\"1600\"/>\n",
       "  </clipPath>\n",
       "</defs>\n",
       "<path clip-path=\"url(#clip100)\" d=\"M0 1600 L2400 1600 L2400 0 L0 0  Z\" fill=\"#ffffff\" fill-rule=\"evenodd\" fill-opacity=\"1\"/>\n",
       "<defs>\n",
       "  <clipPath id=\"clip101\">\n",
       "    <rect x=\"480\" y=\"0\" width=\"1681\" height=\"1600\"/>\n",
       "  </clipPath>\n",
       "</defs>\n",
       "<path clip-path=\"url(#clip100)\" d=\"M231.951 1469.17 L2011.37 1469.17 L2011.37 47.2441 L231.951 47.2441  Z\" fill=\"#ffffff\" fill-rule=\"evenodd\" fill-opacity=\"1\"/>\n",
       "<defs>\n",
       "  <clipPath id=\"clip102\">\n",
       "    <rect x=\"231\" y=\"47\" width=\"1780\" height=\"1423\"/>\n",
       "  </clipPath>\n",
       "</defs>\n",
       "<polyline clip-path=\"url(#clip102)\" style=\"stroke:#000000; stroke-linecap:round; stroke-linejoin:round; stroke-width:2; stroke-opacity:0.1; fill:none\" points=\"488.191,1469.17 488.191,47.2441 \"/>\n",
       "<polyline clip-path=\"url(#clip102)\" style=\"stroke:#000000; stroke-linecap:round; stroke-linejoin:round; stroke-width:2; stroke-opacity:0.1; fill:none\" points=\"804.927,1469.17 804.927,47.2441 \"/>\n",
       "<polyline clip-path=\"url(#clip102)\" style=\"stroke:#000000; stroke-linecap:round; stroke-linejoin:round; stroke-width:2; stroke-opacity:0.1; fill:none\" points=\"1121.66,1469.17 1121.66,47.2441 \"/>\n",
       "<polyline clip-path=\"url(#clip102)\" style=\"stroke:#000000; stroke-linecap:round; stroke-linejoin:round; stroke-width:2; stroke-opacity:0.1; fill:none\" points=\"1438.4,1469.17 1438.4,47.2441 \"/>\n",
       "<polyline clip-path=\"url(#clip102)\" style=\"stroke:#000000; stroke-linecap:round; stroke-linejoin:round; stroke-width:2; stroke-opacity:0.1; fill:none\" points=\"1755.13,1469.17 1755.13,47.2441 \"/>\n",
       "<polyline clip-path=\"url(#clip100)\" style=\"stroke:#000000; stroke-linecap:round; stroke-linejoin:round; stroke-width:4; stroke-opacity:1; fill:none\" points=\"231.951,1469.17 2011.37,1469.17 \"/>\n",
       "<polyline clip-path=\"url(#clip100)\" style=\"stroke:#000000; stroke-linecap:round; stroke-linejoin:round; stroke-width:4; stroke-opacity:1; fill:none\" points=\"231.951,47.2441 2011.37,47.2441 \"/>\n",
       "<polyline clip-path=\"url(#clip100)\" style=\"stroke:#000000; stroke-linecap:round; stroke-linejoin:round; stroke-width:4; stroke-opacity:1; fill:none\" points=\"488.191,1469.17 488.191,1450.27 \"/>\n",
       "<polyline clip-path=\"url(#clip100)\" style=\"stroke:#000000; stroke-linecap:round; stroke-linejoin:round; stroke-width:4; stroke-opacity:1; fill:none\" points=\"804.927,1469.17 804.927,1450.27 \"/>\n",
       "<polyline clip-path=\"url(#clip100)\" style=\"stroke:#000000; stroke-linecap:round; stroke-linejoin:round; stroke-width:4; stroke-opacity:1; fill:none\" points=\"1121.66,1469.17 1121.66,1450.27 \"/>\n",
       "<polyline clip-path=\"url(#clip100)\" style=\"stroke:#000000; stroke-linecap:round; stroke-linejoin:round; stroke-width:4; stroke-opacity:1; fill:none\" points=\"1438.4,1469.17 1438.4,1450.27 \"/>\n",
       "<polyline clip-path=\"url(#clip100)\" style=\"stroke:#000000; stroke-linecap:round; stroke-linejoin:round; stroke-width:4; stroke-opacity:1; fill:none\" points=\"1755.13,1469.17 1755.13,1450.27 \"/>\n",
       "<path clip-path=\"url(#clip100)\" d=\"M493.026 1533.12 Q493.471 1533.57 493.471 1534.2 Q493.471 1534.83 493.026 1535.27 Q492.582 1535.71 491.952 1535.71 L444.447 1535.71 Q443.817 1535.71 443.373 1535.27 Q442.928 1534.83 442.928 1534.2 Q442.928 1533.57 443.373 1533.12 Q443.817 1532.68 444.447 1532.68 L491.952 1532.68 Q492.582 1532.68 493.026 1533.12 Z\" fill=\"#000000\" fill-rule=\"evenodd\" fill-opacity=\"1\" /><path clip-path=\"url(#clip100)\" d=\"M499.807 1540.64 L499.807 1538.31 L523.115 1502.7 Q523.708 1501.77 524.634 1501.81 Q525.487 1501.81 525.672 1502.14 Q525.857 1502.48 525.857 1503.77 L525.857 1538.31 L533.453 1538.31 L533.453 1540.64 L525.857 1540.64 L525.857 1547.24 Q525.857 1549.43 526.746 1550.13 Q527.673 1550.83 531.601 1550.83 L533.194 1550.83 L533.194 1553.17 Q530.081 1552.95 522.893 1552.95 Q515.741 1552.95 512.629 1553.17 L512.629 1550.83 L514.222 1550.83 Q518.15 1550.83 519.076 1550.17 Q520.002 1549.46 520.002 1547.24 L520.002 1540.64 L499.807 1540.64 M501.957 1538.31 L520.447 1538.31 L520.447 1510 L501.957 1538.31 Z\" fill=\"#000000\" fill-rule=\"evenodd\" fill-opacity=\"1\" /><path clip-path=\"url(#clip100)\" d=\"M810.596 1533.12 Q811.041 1533.57 811.041 1534.2 Q811.041 1534.83 810.596 1535.27 Q810.151 1535.71 809.521 1535.71 L762.017 1535.71 Q761.387 1535.71 760.942 1535.27 Q760.498 1534.83 760.498 1534.2 Q760.498 1533.57 760.942 1533.12 Q761.387 1532.68 762.017 1532.68 L809.521 1532.68 Q810.151 1532.68 810.596 1533.12 Z\" fill=\"#000000\" fill-rule=\"evenodd\" fill-opacity=\"1\" /><path clip-path=\"url(#clip100)\" d=\"M819.045 1553.17 Q819.045 1551.8 819.156 1551.39 Q819.304 1550.98 819.897 1550.35 L834.459 1534.12 Q842.426 1525.15 842.426 1517.34 Q842.426 1512.26 839.758 1508.63 Q837.127 1505 832.273 1505 Q828.938 1505 826.122 1507.03 Q823.306 1509.07 822.009 1512.7 Q822.231 1512.63 823.009 1512.63 Q824.899 1512.63 825.937 1513.82 Q827.011 1515 827.011 1516.59 Q827.011 1518.63 825.677 1519.63 Q824.38 1520.6 823.084 1520.6 Q822.565 1520.6 821.861 1520.49 Q821.194 1520.37 820.119 1519.34 Q819.045 1518.26 819.045 1516.37 Q819.045 1511.07 823.046 1506.85 Q827.085 1502.62 833.237 1502.62 Q840.203 1502.62 844.761 1506.77 Q849.356 1510.89 849.356 1517.34 Q849.356 1519.6 848.651 1521.67 Q847.984 1523.71 847.058 1525.3 Q846.169 1526.9 843.723 1529.45 Q841.278 1532.01 839.314 1533.83 Q837.35 1535.64 832.94 1539.49 L824.899 1547.31 L838.573 1547.31 Q845.242 1547.31 845.761 1546.72 Q846.502 1545.65 847.429 1539.98 L849.356 1539.98 L847.206 1553.17 L819.045 1553.17 Z\" fill=\"#000000\" fill-rule=\"evenodd\" fill-opacity=\"1\" /><path clip-path=\"url(#clip100)\" d=\"M1105.69 1528.9 Q1105.69 1517.74 1108.51 1511.67 Q1112.44 1502.62 1121.7 1502.62 Q1123.66 1502.62 1125.7 1503.18 Q1127.78 1503.7 1130.37 1505.74 Q1133 1507.78 1134.59 1511.11 Q1137.63 1517.56 1137.63 1528.9 Q1137.63 1539.98 1134.82 1546.02 Q1130.7 1554.84 1121.63 1554.84 Q1118.22 1554.84 1114.73 1553.09 Q1111.29 1551.35 1109.1 1547.16 Q1105.69 1540.9 1105.69 1528.9 M1111.99 1527.97 Q1111.99 1539.42 1112.81 1543.98 Q1113.73 1548.91 1116.25 1551.06 Q1118.81 1553.17 1121.63 1553.17 Q1124.66 1553.17 1127.18 1550.91 Q1129.74 1548.61 1130.52 1543.68 Q1131.37 1538.83 1131.33 1527.97 Q1131.33 1517.41 1130.59 1513.19 Q1129.59 1508.26 1126.92 1506.29 Q1124.29 1504.29 1121.63 1504.29 Q1120.62 1504.29 1119.55 1504.59 Q1118.51 1504.89 1116.99 1505.74 Q1115.47 1506.59 1114.29 1508.7 Q1113.14 1510.81 1112.58 1514 Q1111.99 1518.11 1111.99 1527.97 Z\" fill=\"#000000\" fill-rule=\"evenodd\" fill-opacity=\"1\" /><path clip-path=\"url(#clip100)\" d=\"M1423.24 1553.17 Q1423.24 1551.8 1423.35 1551.39 Q1423.5 1550.98 1424.09 1550.35 L1438.66 1534.12 Q1446.62 1525.15 1446.62 1517.34 Q1446.62 1512.26 1443.96 1508.63 Q1441.33 1505 1436.47 1505 Q1433.14 1505 1430.32 1507.03 Q1427.5 1509.07 1426.21 1512.7 Q1426.43 1512.63 1427.21 1512.63 Q1429.1 1512.63 1430.13 1513.82 Q1431.21 1515 1431.21 1516.59 Q1431.21 1518.63 1429.88 1519.63 Q1428.58 1520.6 1427.28 1520.6 Q1426.76 1520.6 1426.06 1520.49 Q1425.39 1520.37 1424.32 1519.34 Q1423.24 1518.26 1423.24 1516.37 Q1423.24 1511.07 1427.24 1506.85 Q1431.28 1502.62 1437.43 1502.62 Q1444.4 1502.62 1448.96 1506.77 Q1453.55 1510.89 1453.55 1517.34 Q1453.55 1519.6 1452.85 1521.67 Q1452.18 1523.71 1451.26 1525.3 Q1450.37 1526.9 1447.92 1529.45 Q1445.48 1532.01 1443.51 1533.83 Q1441.55 1535.64 1437.14 1539.49 L1429.1 1547.31 L1442.77 1547.31 Q1449.44 1547.31 1449.96 1546.72 Q1450.7 1545.65 1451.63 1539.98 L1453.55 1539.98 L1451.4 1553.17 L1423.24 1553.17 Z\" fill=\"#000000\" fill-rule=\"evenodd\" fill-opacity=\"1\" /><path clip-path=\"url(#clip100)\" d=\"M1738.31 1540.64 L1738.31 1538.31 L1761.62 1502.7 Q1762.21 1501.77 1763.14 1501.81 Q1763.99 1501.81 1764.18 1502.14 Q1764.36 1502.48 1764.36 1503.77 L1764.36 1538.31 L1771.96 1538.31 L1771.96 1540.64 L1764.36 1540.64 L1764.36 1547.24 Q1764.36 1549.43 1765.25 1550.13 Q1766.18 1550.83 1770.1 1550.83 L1771.7 1550.83 L1771.7 1553.17 Q1768.58 1552.95 1761.4 1552.95 Q1754.24 1552.95 1751.13 1553.17 L1751.13 1550.83 L1752.73 1550.83 Q1756.65 1550.83 1757.58 1550.17 Q1758.51 1549.46 1758.51 1547.24 L1758.51 1540.64 L1738.31 1540.64 M1740.46 1538.31 L1758.95 1538.31 L1758.95 1510 L1740.46 1538.31 Z\" fill=\"#000000\" fill-rule=\"evenodd\" fill-opacity=\"1\" /><polyline clip-path=\"url(#clip102)\" style=\"stroke:#000000; stroke-linecap:round; stroke-linejoin:round; stroke-width:2; stroke-opacity:0.1; fill:none\" points=\"231.951,1428.92 2011.37,1428.92 \"/>\n",
       "<polyline clip-path=\"url(#clip102)\" style=\"stroke:#000000; stroke-linecap:round; stroke-linejoin:round; stroke-width:2; stroke-opacity:0.1; fill:none\" points=\"231.951,1146.75 2011.37,1146.75 \"/>\n",
       "<polyline clip-path=\"url(#clip102)\" style=\"stroke:#000000; stroke-linecap:round; stroke-linejoin:round; stroke-width:2; stroke-opacity:0.1; fill:none\" points=\"231.951,864.584 2011.37,864.584 \"/>\n",
       "<polyline clip-path=\"url(#clip102)\" style=\"stroke:#000000; stroke-linecap:round; stroke-linejoin:round; stroke-width:2; stroke-opacity:0.1; fill:none\" points=\"231.951,582.414 2011.37,582.414 \"/>\n",
       "<polyline clip-path=\"url(#clip102)\" style=\"stroke:#000000; stroke-linecap:round; stroke-linejoin:round; stroke-width:2; stroke-opacity:0.1; fill:none\" points=\"231.951,300.244 2011.37,300.244 \"/>\n",
       "<polyline clip-path=\"url(#clip102)\" style=\"stroke:#000000; stroke-linecap:round; stroke-linejoin:round; stroke-width:2; stroke-opacity:0.05; fill:none\" points=\"231.951,1372.49 2011.37,1372.49 \"/>\n",
       "<polyline clip-path=\"url(#clip102)\" style=\"stroke:#000000; stroke-linecap:round; stroke-linejoin:round; stroke-width:2; stroke-opacity:0.05; fill:none\" points=\"231.951,1316.06 2011.37,1316.06 \"/>\n",
       "<polyline clip-path=\"url(#clip102)\" style=\"stroke:#000000; stroke-linecap:round; stroke-linejoin:round; stroke-width:2; stroke-opacity:0.05; fill:none\" points=\"231.951,1259.62 2011.37,1259.62 \"/>\n",
       "<polyline clip-path=\"url(#clip102)\" style=\"stroke:#000000; stroke-linecap:round; stroke-linejoin:round; stroke-width:2; stroke-opacity:0.05; fill:none\" points=\"231.951,1203.19 2011.37,1203.19 \"/>\n",
       "<polyline clip-path=\"url(#clip102)\" style=\"stroke:#000000; stroke-linecap:round; stroke-linejoin:round; stroke-width:2; stroke-opacity:0.05; fill:none\" points=\"231.951,1090.32 2011.37,1090.32 \"/>\n",
       "<polyline clip-path=\"url(#clip102)\" style=\"stroke:#000000; stroke-linecap:round; stroke-linejoin:round; stroke-width:2; stroke-opacity:0.05; fill:none\" points=\"231.951,1033.89 2011.37,1033.89 \"/>\n",
       "<polyline clip-path=\"url(#clip102)\" style=\"stroke:#000000; stroke-linecap:round; stroke-linejoin:round; stroke-width:2; stroke-opacity:0.05; fill:none\" points=\"231.951,977.452 2011.37,977.452 \"/>\n",
       "<polyline clip-path=\"url(#clip102)\" style=\"stroke:#000000; stroke-linecap:round; stroke-linejoin:round; stroke-width:2; stroke-opacity:0.05; fill:none\" points=\"231.951,921.018 2011.37,921.018 \"/>\n",
       "<polyline clip-path=\"url(#clip102)\" style=\"stroke:#000000; stroke-linecap:round; stroke-linejoin:round; stroke-width:2; stroke-opacity:0.05; fill:none\" points=\"231.951,808.15 2011.37,808.15 \"/>\n",
       "<polyline clip-path=\"url(#clip102)\" style=\"stroke:#000000; stroke-linecap:round; stroke-linejoin:round; stroke-width:2; stroke-opacity:0.05; fill:none\" points=\"231.951,751.716 2011.37,751.716 \"/>\n",
       "<polyline clip-path=\"url(#clip102)\" style=\"stroke:#000000; stroke-linecap:round; stroke-linejoin:round; stroke-width:2; stroke-opacity:0.05; fill:none\" points=\"231.951,695.282 2011.37,695.282 \"/>\n",
       "<polyline clip-path=\"url(#clip102)\" style=\"stroke:#000000; stroke-linecap:round; stroke-linejoin:round; stroke-width:2; stroke-opacity:0.05; fill:none\" points=\"231.951,638.848 2011.37,638.848 \"/>\n",
       "<polyline clip-path=\"url(#clip102)\" style=\"stroke:#000000; stroke-linecap:round; stroke-linejoin:round; stroke-width:2; stroke-opacity:0.05; fill:none\" points=\"231.951,525.98 2011.37,525.98 \"/>\n",
       "<polyline clip-path=\"url(#clip102)\" style=\"stroke:#000000; stroke-linecap:round; stroke-linejoin:round; stroke-width:2; stroke-opacity:0.05; fill:none\" points=\"231.951,469.546 2011.37,469.546 \"/>\n",
       "<polyline clip-path=\"url(#clip102)\" style=\"stroke:#000000; stroke-linecap:round; stroke-linejoin:round; stroke-width:2; stroke-opacity:0.05; fill:none\" points=\"231.951,413.112 2011.37,413.112 \"/>\n",
       "<polyline clip-path=\"url(#clip102)\" style=\"stroke:#000000; stroke-linecap:round; stroke-linejoin:round; stroke-width:2; stroke-opacity:0.05; fill:none\" points=\"231.951,356.678 2011.37,356.678 \"/>\n",
       "<polyline clip-path=\"url(#clip102)\" style=\"stroke:#000000; stroke-linecap:round; stroke-linejoin:round; stroke-width:2; stroke-opacity:0.05; fill:none\" points=\"231.951,243.81 2011.37,243.81 \"/>\n",
       "<polyline clip-path=\"url(#clip102)\" style=\"stroke:#000000; stroke-linecap:round; stroke-linejoin:round; stroke-width:2; stroke-opacity:0.05; fill:none\" points=\"231.951,187.376 2011.37,187.376 \"/>\n",
       "<polyline clip-path=\"url(#clip102)\" style=\"stroke:#000000; stroke-linecap:round; stroke-linejoin:round; stroke-width:2; stroke-opacity:0.05; fill:none\" points=\"231.951,130.941 2011.37,130.941 \"/>\n",
       "<polyline clip-path=\"url(#clip102)\" style=\"stroke:#000000; stroke-linecap:round; stroke-linejoin:round; stroke-width:2; stroke-opacity:0.05; fill:none\" points=\"231.951,74.5074 2011.37,74.5074 \"/>\n",
       "<polyline clip-path=\"url(#clip100)\" style=\"stroke:#000000; stroke-linecap:round; stroke-linejoin:round; stroke-width:4; stroke-opacity:1; fill:none\" points=\"231.951,1469.17 231.951,47.2441 \"/>\n",
       "<polyline clip-path=\"url(#clip100)\" style=\"stroke:#000000; stroke-linecap:round; stroke-linejoin:round; stroke-width:4; stroke-opacity:1; fill:none\" points=\"2011.37,1469.17 2011.37,47.2441 \"/>\n",
       "<polyline clip-path=\"url(#clip100)\" style=\"stroke:#000000; stroke-linecap:round; stroke-linejoin:round; stroke-width:4; stroke-opacity:1; fill:none\" points=\"231.951,1428.92 247.807,1428.92 \"/>\n",
       "<polyline clip-path=\"url(#clip100)\" style=\"stroke:#000000; stroke-linecap:round; stroke-linejoin:round; stroke-width:4; stroke-opacity:1; fill:none\" points=\"231.951,1146.75 247.807,1146.75 \"/>\n",
       "<polyline clip-path=\"url(#clip100)\" style=\"stroke:#000000; stroke-linecap:round; stroke-linejoin:round; stroke-width:4; stroke-opacity:1; fill:none\" points=\"231.951,864.584 247.807,864.584 \"/>\n",
       "<polyline clip-path=\"url(#clip100)\" style=\"stroke:#000000; stroke-linecap:round; stroke-linejoin:round; stroke-width:4; stroke-opacity:1; fill:none\" points=\"231.951,582.414 247.807,582.414 \"/>\n",
       "<polyline clip-path=\"url(#clip100)\" style=\"stroke:#000000; stroke-linecap:round; stroke-linejoin:round; stroke-width:4; stroke-opacity:1; fill:none\" points=\"231.951,300.244 247.807,300.244 \"/>\n",
       "<polyline clip-path=\"url(#clip100)\" style=\"stroke:#000000; stroke-linecap:round; stroke-linejoin:round; stroke-width:4; stroke-opacity:1; fill:none\" points=\"231.951,1372.49 239.879,1372.49 \"/>\n",
       "<polyline clip-path=\"url(#clip100)\" style=\"stroke:#000000; stroke-linecap:round; stroke-linejoin:round; stroke-width:4; stroke-opacity:1; fill:none\" points=\"231.951,1316.06 239.879,1316.06 \"/>\n",
       "<polyline clip-path=\"url(#clip100)\" style=\"stroke:#000000; stroke-linecap:round; stroke-linejoin:round; stroke-width:4; stroke-opacity:1; fill:none\" points=\"231.951,1259.62 239.879,1259.62 \"/>\n",
       "<polyline clip-path=\"url(#clip100)\" style=\"stroke:#000000; stroke-linecap:round; stroke-linejoin:round; stroke-width:4; stroke-opacity:1; fill:none\" points=\"231.951,1203.19 239.879,1203.19 \"/>\n",
       "<polyline clip-path=\"url(#clip100)\" style=\"stroke:#000000; stroke-linecap:round; stroke-linejoin:round; stroke-width:4; stroke-opacity:1; fill:none\" points=\"231.951,1090.32 239.879,1090.32 \"/>\n",
       "<polyline clip-path=\"url(#clip100)\" style=\"stroke:#000000; stroke-linecap:round; stroke-linejoin:round; stroke-width:4; stroke-opacity:1; fill:none\" points=\"231.951,1033.89 239.879,1033.89 \"/>\n",
       "<polyline clip-path=\"url(#clip100)\" style=\"stroke:#000000; stroke-linecap:round; stroke-linejoin:round; stroke-width:4; stroke-opacity:1; fill:none\" points=\"231.951,977.452 239.879,977.452 \"/>\n",
       "<polyline clip-path=\"url(#clip100)\" style=\"stroke:#000000; stroke-linecap:round; stroke-linejoin:round; stroke-width:4; stroke-opacity:1; fill:none\" points=\"231.951,921.018 239.879,921.018 \"/>\n",
       "<polyline clip-path=\"url(#clip100)\" style=\"stroke:#000000; stroke-linecap:round; stroke-linejoin:round; stroke-width:4; stroke-opacity:1; fill:none\" points=\"231.951,808.15 239.879,808.15 \"/>\n",
       "<polyline clip-path=\"url(#clip100)\" style=\"stroke:#000000; stroke-linecap:round; stroke-linejoin:round; stroke-width:4; stroke-opacity:1; fill:none\" points=\"231.951,751.716 239.879,751.716 \"/>\n",
       "<polyline clip-path=\"url(#clip100)\" style=\"stroke:#000000; stroke-linecap:round; stroke-linejoin:round; stroke-width:4; stroke-opacity:1; fill:none\" points=\"231.951,695.282 239.879,695.282 \"/>\n",
       "<polyline clip-path=\"url(#clip100)\" style=\"stroke:#000000; stroke-linecap:round; stroke-linejoin:round; stroke-width:4; stroke-opacity:1; fill:none\" points=\"231.951,638.848 239.879,638.848 \"/>\n",
       "<polyline clip-path=\"url(#clip100)\" style=\"stroke:#000000; stroke-linecap:round; stroke-linejoin:round; stroke-width:4; stroke-opacity:1; fill:none\" points=\"231.951,525.98 239.879,525.98 \"/>\n",
       "<polyline clip-path=\"url(#clip100)\" style=\"stroke:#000000; stroke-linecap:round; stroke-linejoin:round; stroke-width:4; stroke-opacity:1; fill:none\" points=\"231.951,469.546 239.879,469.546 \"/>\n",
       "<polyline clip-path=\"url(#clip100)\" style=\"stroke:#000000; stroke-linecap:round; stroke-linejoin:round; stroke-width:4; stroke-opacity:1; fill:none\" points=\"231.951,413.112 239.879,413.112 \"/>\n",
       "<polyline clip-path=\"url(#clip100)\" style=\"stroke:#000000; stroke-linecap:round; stroke-linejoin:round; stroke-width:4; stroke-opacity:1; fill:none\" points=\"231.951,356.678 239.879,356.678 \"/>\n",
       "<polyline clip-path=\"url(#clip100)\" style=\"stroke:#000000; stroke-linecap:round; stroke-linejoin:round; stroke-width:4; stroke-opacity:1; fill:none\" points=\"231.951,243.81 239.879,243.81 \"/>\n",
       "<polyline clip-path=\"url(#clip100)\" style=\"stroke:#000000; stroke-linecap:round; stroke-linejoin:round; stroke-width:4; stroke-opacity:1; fill:none\" points=\"231.951,187.376 239.879,187.376 \"/>\n",
       "<polyline clip-path=\"url(#clip100)\" style=\"stroke:#000000; stroke-linecap:round; stroke-linejoin:round; stroke-width:4; stroke-opacity:1; fill:none\" points=\"231.951,130.941 239.879,130.941 \"/>\n",
       "<polyline clip-path=\"url(#clip100)\" style=\"stroke:#000000; stroke-linecap:round; stroke-linejoin:round; stroke-width:4; stroke-opacity:1; fill:none\" points=\"231.951,74.5074 239.879,74.5074 \"/>\n",
       "<path clip-path=\"url(#clip100)\" d=\"M164.01 1430.57 Q164.01 1419.42 166.826 1413.34 Q170.754 1404.3 180.018 1404.3 Q181.982 1404.3 184.02 1404.86 Q186.095 1405.38 188.689 1407.41 Q191.32 1409.45 192.913 1412.79 Q195.951 1419.23 195.951 1430.57 Q195.951 1441.65 193.135 1447.69 Q189.022 1456.51 179.944 1456.51 Q176.535 1456.51 173.051 1454.77 Q169.605 1453.03 167.419 1448.84 Q164.01 1442.58 164.01 1430.57 M170.309 1429.65 Q170.309 1441.1 171.125 1445.66 Q172.051 1450.58 174.571 1452.73 Q177.127 1454.84 179.944 1454.84 Q182.982 1454.84 185.502 1452.58 Q188.059 1450.29 188.837 1445.36 Q189.689 1440.5 189.652 1429.65 Q189.652 1419.09 188.911 1414.86 Q187.91 1409.93 185.243 1407.97 Q182.612 1405.97 179.944 1405.97 Q178.943 1405.97 177.869 1406.27 Q176.831 1406.56 175.312 1407.41 Q173.793 1408.27 172.607 1410.38 Q171.458 1412.49 170.902 1415.68 Q170.309 1419.79 170.309 1429.65 Z\" fill=\"#000000\" fill-rule=\"evenodd\" fill-opacity=\"1\" /><path clip-path=\"url(#clip100)\" d=\"M88.9365 1160.45 Q88.9365 1158.19 90.1593 1157.33 Q91.3821 1156.44 92.679 1156.44 Q94.4206 1156.44 95.4211 1157.56 Q96.4587 1158.63 96.4587 1160.15 Q96.4587 1161.67 95.4211 1162.78 Q94.4206 1163.86 92.679 1163.86 Q91.8268 1163.86 91.3821 1163.71 Q92.3826 1167.19 95.4211 1169.71 Q98.4967 1172.23 102.536 1172.23 Q107.612 1172.23 110.651 1167.3 Q112.466 1164.11 112.466 1156.89 Q112.466 1150.52 111.095 1147.33 Q108.983 1142.47 104.648 1142.47 Q98.4967 1142.47 94.8653 1147.77 Q94.4206 1148.44 93.9019 1148.48 Q93.1608 1148.48 92.9755 1148.07 Q92.8273 1147.63 92.8273 1146.48 L92.8273 1124.02 Q92.8273 1122.21 93.5684 1122.21 Q93.8648 1122.21 94.4947 1122.43 Q99.2748 1124.54 104.574 1124.58 Q110.021 1124.58 114.912 1122.35 Q115.283 1122.13 115.505 1122.13 Q116.246 1122.13 116.283 1122.98 Q116.283 1123.28 115.653 1124.17 Q115.06 1125.02 113.763 1126.17 Q112.466 1127.28 110.799 1128.36 Q109.131 1129.43 106.686 1130.17 Q104.277 1130.88 101.609 1130.88 Q98.4226 1130.88 95.1617 1129.88 L95.1617 1144.66 Q99.0896 1140.81 104.796 1140.81 Q110.873 1140.81 115.06 1145.7 Q119.248 1150.59 119.248 1157.41 Q119.248 1164.56 114.282 1169.45 Q109.354 1174.34 102.684 1174.34 Q96.6069 1174.34 92.7532 1170.01 Q88.9365 1165.67 88.9365 1160.45 Z\" fill=\"#000000\" fill-rule=\"evenodd\" fill-opacity=\"1\" /><path clip-path=\"url(#clip100)\" d=\"M126.066 1148.4 Q126.066 1137.25 128.882 1131.17 Q132.81 1122.13 142.073 1122.13 Q144.037 1122.13 146.075 1122.69 Q148.15 1123.21 150.744 1125.24 Q153.375 1127.28 154.969 1130.62 Q158.007 1137.06 158.007 1148.4 Q158.007 1159.48 155.191 1165.52 Q151.078 1174.34 141.999 1174.34 Q138.59 1174.34 135.107 1172.6 Q131.661 1170.86 129.475 1166.67 Q126.066 1160.41 126.066 1148.4 M132.365 1147.48 Q132.365 1158.93 133.18 1163.48 Q134.107 1168.41 136.626 1170.56 Q139.183 1172.67 141.999 1172.67 Q145.038 1172.67 147.558 1170.41 Q150.114 1168.12 150.893 1163.19 Q151.745 1158.33 151.708 1147.48 Q151.708 1136.92 150.967 1132.69 Q149.966 1127.76 147.298 1125.8 Q144.667 1123.8 141.999 1123.8 Q140.999 1123.8 139.924 1124.1 Q138.887 1124.39 137.367 1125.24 Q135.848 1126.1 134.662 1128.21 Q133.514 1130.32 132.958 1133.51 Q132.365 1137.62 132.365 1147.48 Z\" fill=\"#000000\" fill-rule=\"evenodd\" fill-opacity=\"1\" /><path clip-path=\"url(#clip100)\" d=\"M164.01 1148.4 Q164.01 1137.25 166.826 1131.17 Q170.754 1122.13 180.018 1122.13 Q181.982 1122.13 184.02 1122.69 Q186.095 1123.21 188.689 1125.24 Q191.32 1127.28 192.913 1130.62 Q195.951 1137.06 195.951 1148.4 Q195.951 1159.48 193.135 1165.52 Q189.022 1174.34 179.944 1174.34 Q176.535 1174.34 173.051 1172.6 Q169.605 1170.86 167.419 1166.67 Q164.01 1160.41 164.01 1148.4 M170.309 1147.48 Q170.309 1158.93 171.125 1163.48 Q172.051 1168.41 174.571 1170.56 Q177.127 1172.67 179.944 1172.67 Q182.982 1172.67 185.502 1170.41 Q188.059 1168.12 188.837 1163.19 Q189.689 1158.33 189.652 1147.48 Q189.652 1136.92 188.911 1132.69 Q187.91 1127.76 185.243 1125.8 Q182.612 1123.8 179.944 1123.8 Q178.943 1123.8 177.869 1124.1 Q176.831 1124.39 175.312 1125.24 Q173.793 1126.1 172.607 1128.21 Q171.458 1130.32 170.902 1133.51 Q170.309 1137.62 170.309 1147.48 Z\" fill=\"#000000\" fill-rule=\"evenodd\" fill-opacity=\"1\" /><path clip-path=\"url(#clip100)\" d=\"M53.9565 847.187 L53.9565 844.815 Q63.0721 844.815 67.7781 839.961 Q69.075 839.961 69.2973 840.258 Q69.5196 840.554 69.5196 841.925 L69.5196 884.501 Q69.5196 886.762 70.6313 887.466 Q71.7429 888.17 76.5972 888.17 L79.0057 888.17 L79.0057 890.504 Q76.3378 890.282 66.7035 890.282 Q57.0692 890.282 54.4382 890.504 L54.4382 888.17 L56.8468 888.17 Q61.6269 888.17 62.7756 887.503 Q63.9243 886.799 63.9243 884.501 L63.9243 845.186 Q59.9594 847.187 53.9565 847.187 Z\" fill=\"#000000\" fill-rule=\"evenodd\" fill-opacity=\"1\" /><path clip-path=\"url(#clip100)\" d=\"M88.1213 866.233 Q88.1213 855.08 90.9375 849.003 Q94.8653 839.961 104.129 839.961 Q106.093 839.961 108.131 840.517 Q110.206 841.036 112.8 843.074 Q115.431 845.112 117.024 848.447 Q120.063 854.894 120.063 866.233 Q120.063 877.313 117.247 883.353 Q113.133 892.172 104.055 892.172 Q100.646 892.172 97.1627 890.43 Q93.7166 888.688 91.5303 884.501 Q88.1213 878.239 88.1213 866.233 M94.4206 865.307 Q94.4206 876.757 95.2358 881.315 Q96.1622 886.243 98.682 888.392 Q101.239 890.504 104.055 890.504 Q107.093 890.504 109.613 888.244 Q112.17 885.946 112.948 881.018 Q113.8 876.164 113.763 865.307 Q113.763 854.746 113.022 850.522 Q112.022 845.593 109.354 843.63 Q106.723 841.629 104.055 841.629 Q103.054 841.629 101.98 841.925 Q100.942 842.221 99.4231 843.074 Q97.9038 843.926 96.718 846.038 Q95.5693 848.15 95.0135 851.337 Q94.4206 855.45 94.4206 865.307 Z\" fill=\"#000000\" fill-rule=\"evenodd\" fill-opacity=\"1\" /><path clip-path=\"url(#clip100)\" d=\"M126.066 866.233 Q126.066 855.08 128.882 849.003 Q132.81 839.961 142.073 839.961 Q144.037 839.961 146.075 840.517 Q148.15 841.036 150.744 843.074 Q153.375 845.112 154.969 848.447 Q158.007 854.894 158.007 866.233 Q158.007 877.313 155.191 883.353 Q151.078 892.172 141.999 892.172 Q138.59 892.172 135.107 890.43 Q131.661 888.688 129.475 884.501 Q126.066 878.239 126.066 866.233 M132.365 865.307 Q132.365 876.757 133.18 881.315 Q134.107 886.243 136.626 888.392 Q139.183 890.504 141.999 890.504 Q145.038 890.504 147.558 888.244 Q150.114 885.946 150.893 881.018 Q151.745 876.164 151.708 865.307 Q151.708 854.746 150.967 850.522 Q149.966 845.593 147.298 843.63 Q144.667 841.629 141.999 841.629 Q140.999 841.629 139.924 841.925 Q138.887 842.221 137.367 843.074 Q135.848 843.926 134.662 846.038 Q133.514 848.15 132.958 851.337 Q132.365 855.45 132.365 865.307 Z\" fill=\"#000000\" fill-rule=\"evenodd\" fill-opacity=\"1\" /><path clip-path=\"url(#clip100)\" d=\"M164.01 866.233 Q164.01 855.08 166.826 849.003 Q170.754 839.961 180.018 839.961 Q181.982 839.961 184.02 840.517 Q186.095 841.036 188.689 843.074 Q191.32 845.112 192.913 848.447 Q195.951 854.894 195.951 866.233 Q195.951 877.313 193.135 883.353 Q189.022 892.172 179.944 892.172 Q176.535 892.172 173.051 890.43 Q169.605 888.688 167.419 884.501 Q164.01 878.239 164.01 866.233 M170.309 865.307 Q170.309 876.757 171.125 881.315 Q172.051 886.243 174.571 888.392 Q177.127 890.504 179.944 890.504 Q182.982 890.504 185.502 888.244 Q188.059 885.946 188.837 881.018 Q189.689 876.164 189.652 865.307 Q189.652 854.746 188.911 850.522 Q187.91 845.593 185.243 843.63 Q182.612 841.629 179.944 841.629 Q178.943 841.629 177.869 841.925 Q176.831 842.221 175.312 843.074 Q173.793 843.926 172.607 846.038 Q171.458 848.15 170.902 851.337 Q170.309 855.45 170.309 865.307 Z\" fill=\"#000000\" fill-rule=\"evenodd\" fill-opacity=\"1\" /><path clip-path=\"url(#clip100)\" d=\"M53.9565 565.017 L53.9565 562.645 Q63.0721 562.645 67.7781 557.791 Q69.075 557.791 69.2973 558.087 Q69.5196 558.384 69.5196 559.755 L69.5196 602.331 Q69.5196 604.591 70.6313 605.295 Q71.7429 605.999 76.5972 605.999 L79.0057 605.999 L79.0057 608.334 Q76.3378 608.112 66.7035 608.112 Q57.0692 608.112 54.4382 608.334 L54.4382 605.999 L56.8468 605.999 Q61.6269 605.999 62.7756 605.332 Q63.9243 604.628 63.9243 602.331 L63.9243 563.016 Q59.9594 565.017 53.9565 565.017 Z\" fill=\"#000000\" fill-rule=\"evenodd\" fill-opacity=\"1\" /><path clip-path=\"url(#clip100)\" d=\"M88.9365 596.106 Q88.9365 593.845 90.1593 592.993 Q91.3821 592.104 92.679 592.104 Q94.4206 592.104 95.4211 593.215 Q96.4587 594.29 96.4587 595.809 Q96.4587 597.329 95.4211 598.44 Q94.4206 599.515 92.679 599.515 Q91.8268 599.515 91.3821 599.367 Q92.3826 602.85 95.4211 605.369 Q98.4967 607.889 102.536 607.889 Q107.612 607.889 110.651 602.961 Q112.466 599.774 112.466 592.548 Q112.466 586.175 111.095 582.988 Q108.983 578.134 104.648 578.134 Q98.4967 578.134 94.8653 583.433 Q94.4206 584.1 93.9019 584.137 Q93.1608 584.137 92.9755 583.729 Q92.8273 583.285 92.8273 582.136 L92.8273 559.681 Q92.8273 557.865 93.5684 557.865 Q93.8648 557.865 94.4947 558.087 Q99.2748 560.199 104.574 560.236 Q110.021 560.236 114.912 558.013 Q115.283 557.791 115.505 557.791 Q116.246 557.791 116.283 558.643 Q116.283 558.94 115.653 559.829 Q115.06 560.681 113.763 561.83 Q112.466 562.941 110.799 564.016 Q109.131 565.091 106.686 565.832 Q104.277 566.536 101.609 566.536 Q98.4226 566.536 95.1617 565.535 L95.1617 580.32 Q99.0896 576.467 104.796 576.467 Q110.873 576.467 115.06 581.358 Q119.248 586.249 119.248 593.067 Q119.248 600.219 114.282 605.11 Q109.354 610.001 102.684 610.001 Q96.6069 610.001 92.7532 605.666 Q88.9365 601.33 88.9365 596.106 Z\" fill=\"#000000\" fill-rule=\"evenodd\" fill-opacity=\"1\" /><path clip-path=\"url(#clip100)\" d=\"M126.066 584.063 Q126.066 572.909 128.882 566.832 Q132.81 557.791 142.073 557.791 Q144.037 557.791 146.075 558.347 Q148.15 558.865 150.744 560.903 Q153.375 562.941 154.969 566.276 Q158.007 572.724 158.007 584.063 Q158.007 595.142 155.191 601.182 Q151.078 610.001 141.999 610.001 Q138.59 610.001 135.107 608.26 Q131.661 606.518 129.475 602.331 Q126.066 596.069 126.066 584.063 M132.365 583.136 Q132.365 594.586 133.18 599.144 Q134.107 604.073 136.626 606.222 Q139.183 608.334 141.999 608.334 Q145.038 608.334 147.558 606.074 Q150.114 603.776 150.893 598.848 Q151.745 593.994 151.708 583.136 Q151.708 572.576 150.967 568.352 Q149.966 563.423 147.298 561.459 Q144.667 559.458 141.999 559.458 Q140.999 559.458 139.924 559.755 Q138.887 560.051 137.367 560.903 Q135.848 561.756 134.662 563.868 Q133.514 565.98 132.958 569.167 Q132.365 573.28 132.365 583.136 Z\" fill=\"#000000\" fill-rule=\"evenodd\" fill-opacity=\"1\" /><path clip-path=\"url(#clip100)\" d=\"M164.01 584.063 Q164.01 572.909 166.826 566.832 Q170.754 557.791 180.018 557.791 Q181.982 557.791 184.02 558.347 Q186.095 558.865 188.689 560.903 Q191.32 562.941 192.913 566.276 Q195.951 572.724 195.951 584.063 Q195.951 595.142 193.135 601.182 Q189.022 610.001 179.944 610.001 Q176.535 610.001 173.051 608.26 Q169.605 606.518 167.419 602.331 Q164.01 596.069 164.01 584.063 M170.309 583.136 Q170.309 594.586 171.125 599.144 Q172.051 604.073 174.571 606.222 Q177.127 608.334 179.944 608.334 Q182.982 608.334 185.502 606.074 Q188.059 603.776 188.837 598.848 Q189.689 593.994 189.652 583.136 Q189.652 572.576 188.911 568.352 Q187.91 563.423 185.243 561.459 Q182.612 559.458 179.944 559.458 Q178.943 559.458 177.869 559.755 Q176.831 560.051 175.312 560.903 Q173.793 561.756 172.607 563.868 Q171.458 565.98 170.902 569.167 Q170.309 573.28 170.309 583.136 Z\" fill=\"#000000\" fill-rule=\"evenodd\" fill-opacity=\"1\" /><path clip-path=\"url(#clip100)\" d=\"M50.9921 326.164 Q50.9921 324.793 51.1033 324.385 Q51.2515 323.977 51.8444 323.347 L66.407 307.117 Q74.3739 298.15 74.3739 290.331 Q74.3739 285.255 71.7059 281.623 Q69.075 277.992 64.2208 277.992 Q60.8858 277.992 58.0696 280.03 Q55.2535 282.068 53.9565 285.7 Q54.1789 285.625 54.957 285.625 Q56.8468 285.625 57.8844 286.811 Q58.959 287.997 58.959 289.59 Q58.959 291.628 57.625 292.629 Q56.3281 293.592 55.0311 293.592 Q54.5124 293.592 53.8083 293.481 Q53.1413 293.37 52.0667 292.332 Q50.9921 291.258 50.9921 289.368 Q50.9921 284.069 54.9941 279.845 Q59.0331 275.621 65.1842 275.621 Q72.1506 275.621 76.7083 279.771 Q81.3031 283.884 81.3031 290.331 Q81.3031 292.592 80.5991 294.667 Q79.9321 296.705 79.0057 298.298 Q78.1164 299.892 75.6708 302.448 Q73.2251 305.005 71.2612 306.821 Q69.2973 308.637 64.8878 312.49 L56.8468 320.309 L70.5201 320.309 Q77.19 320.309 77.7088 319.716 Q78.4499 318.641 79.3763 312.972 L81.3031 312.972 L79.154 326.164 L50.9921 326.164 Z\" fill=\"#000000\" fill-rule=\"evenodd\" fill-opacity=\"1\" /><path clip-path=\"url(#clip100)\" d=\"M88.1213 301.893 Q88.1213 290.739 90.9375 284.662 Q94.8653 275.621 104.129 275.621 Q106.093 275.621 108.131 276.176 Q110.206 276.695 112.8 278.733 Q115.431 280.771 117.024 284.106 Q120.063 290.554 120.063 301.893 Q120.063 312.972 117.247 319.012 Q113.133 327.831 104.055 327.831 Q100.646 327.831 97.1627 326.09 Q93.7166 324.348 91.5303 320.161 Q88.1213 313.898 88.1213 301.893 M94.4206 300.966 Q94.4206 312.416 95.2358 316.974 Q96.1622 321.902 98.682 324.051 Q101.239 326.164 104.055 326.164 Q107.093 326.164 109.613 323.903 Q112.17 321.606 112.948 316.678 Q113.8 311.823 113.763 300.966 Q113.763 290.406 113.022 286.181 Q112.022 281.253 109.354 279.289 Q106.723 277.288 104.055 277.288 Q103.054 277.288 101.98 277.584 Q100.942 277.881 99.4231 278.733 Q97.9038 279.585 96.718 281.698 Q95.5693 283.81 95.0135 286.996 Q94.4206 291.11 94.4206 300.966 Z\" fill=\"#000000\" fill-rule=\"evenodd\" fill-opacity=\"1\" /><path clip-path=\"url(#clip100)\" d=\"M126.066 301.893 Q126.066 290.739 128.882 284.662 Q132.81 275.621 142.073 275.621 Q144.037 275.621 146.075 276.176 Q148.15 276.695 150.744 278.733 Q153.375 280.771 154.969 284.106 Q158.007 290.554 158.007 301.893 Q158.007 312.972 155.191 319.012 Q151.078 327.831 141.999 327.831 Q138.59 327.831 135.107 326.09 Q131.661 324.348 129.475 320.161 Q126.066 313.898 126.066 301.893 M132.365 300.966 Q132.365 312.416 133.18 316.974 Q134.107 321.902 136.626 324.051 Q139.183 326.164 141.999 326.164 Q145.038 326.164 147.558 323.903 Q150.114 321.606 150.893 316.678 Q151.745 311.823 151.708 300.966 Q151.708 290.406 150.967 286.181 Q149.966 281.253 147.298 279.289 Q144.667 277.288 141.999 277.288 Q140.999 277.288 139.924 277.584 Q138.887 277.881 137.367 278.733 Q135.848 279.585 134.662 281.698 Q133.514 283.81 132.958 286.996 Q132.365 291.11 132.365 300.966 Z\" fill=\"#000000\" fill-rule=\"evenodd\" fill-opacity=\"1\" /><path clip-path=\"url(#clip100)\" d=\"M164.01 301.893 Q164.01 290.739 166.826 284.662 Q170.754 275.621 180.018 275.621 Q181.982 275.621 184.02 276.176 Q186.095 276.695 188.689 278.733 Q191.32 280.771 192.913 284.106 Q195.951 290.554 195.951 301.893 Q195.951 312.972 193.135 319.012 Q189.022 327.831 179.944 327.831 Q176.535 327.831 173.051 326.09 Q169.605 324.348 167.419 320.161 Q164.01 313.898 164.01 301.893 M170.309 300.966 Q170.309 312.416 171.125 316.974 Q172.051 321.902 174.571 324.051 Q177.127 326.164 179.944 326.164 Q182.982 326.164 185.502 323.903 Q188.059 321.606 188.837 316.678 Q189.689 311.823 189.652 300.966 Q189.652 290.406 188.911 286.181 Q187.91 281.253 185.243 279.289 Q182.612 277.288 179.944 277.288 Q178.943 277.288 177.869 277.584 Q176.831 277.881 175.312 278.733 Q173.793 279.585 172.607 281.698 Q171.458 283.81 170.902 286.996 Q170.309 291.11 170.309 300.966 Z\" fill=\"#000000\" fill-rule=\"evenodd\" fill-opacity=\"1\" /><path clip-path=\"url(#clip102)\" d=\"M329.823 1428.92 L329.823 1428.92 L428.803 1428.92 L428.803 1428.92 L329.823 1428.92 L329.823 1428.92  Z\" fill=\"#009af9\" fill-rule=\"evenodd\" fill-opacity=\"1\"/>\n",
       "<polyline clip-path=\"url(#clip102)\" style=\"stroke:#000000; stroke-linecap:round; stroke-linejoin:round; stroke-width:4; stroke-opacity:1; fill:none\" points=\"329.823,1428.92 329.823,1428.92 428.803,1428.92 329.823,1428.92 \"/>\n",
       "<path clip-path=\"url(#clip102)\" d=\"M428.803 1428.36 L428.803 1428.92 L527.783 1428.92 L527.783 1428.36 L428.803 1428.36 L428.803 1428.36  Z\" fill=\"#009af9\" fill-rule=\"evenodd\" fill-opacity=\"1\"/>\n",
       "<polyline clip-path=\"url(#clip102)\" style=\"stroke:#000000; stroke-linecap:round; stroke-linejoin:round; stroke-width:4; stroke-opacity:1; fill:none\" points=\"428.803,1428.36 428.803,1428.92 527.783,1428.92 527.783,1428.36 428.803,1428.36 \"/>\n",
       "<path clip-path=\"url(#clip102)\" d=\"M527.783 1425.54 L527.783 1428.92 L626.763 1428.92 L626.763 1425.54 L527.783 1425.54 L527.783 1425.54  Z\" fill=\"#009af9\" fill-rule=\"evenodd\" fill-opacity=\"1\"/>\n",
       "<polyline clip-path=\"url(#clip102)\" style=\"stroke:#000000; stroke-linecap:round; stroke-linejoin:round; stroke-width:4; stroke-opacity:1; fill:none\" points=\"527.783,1425.54 527.783,1428.92 626.763,1428.92 626.763,1425.54 527.783,1425.54 \"/>\n",
       "<path clip-path=\"url(#clip102)\" d=\"M626.763 1392.81 L626.763 1428.92 L725.743 1428.92 L725.743 1392.81 L626.763 1392.81 L626.763 1392.81  Z\" fill=\"#009af9\" fill-rule=\"evenodd\" fill-opacity=\"1\"/>\n",
       "<polyline clip-path=\"url(#clip102)\" style=\"stroke:#000000; stroke-linecap:round; stroke-linejoin:round; stroke-width:4; stroke-opacity:1; fill:none\" points=\"626.763,1392.81 626.763,1428.92 725.743,1428.92 725.743,1392.81 626.763,1392.81 \"/>\n",
       "<path clip-path=\"url(#clip102)\" d=\"M725.743 1283.89 L725.743 1428.92 L824.723 1428.92 L824.723 1283.89 L725.743 1283.89 L725.743 1283.89  Z\" fill=\"#009af9\" fill-rule=\"evenodd\" fill-opacity=\"1\"/>\n",
       "<polyline clip-path=\"url(#clip102)\" style=\"stroke:#000000; stroke-linecap:round; stroke-linejoin:round; stroke-width:4; stroke-opacity:1; fill:none\" points=\"725.743,1283.89 725.743,1428.92 824.723,1428.92 824.723,1283.89 725.743,1283.89 \"/>\n",
       "<path clip-path=\"url(#clip102)\" d=\"M824.723 1004.54 L824.723 1428.92 L923.702 1428.92 L923.702 1004.54 L824.723 1004.54 L824.723 1004.54  Z\" fill=\"#009af9\" fill-rule=\"evenodd\" fill-opacity=\"1\"/>\n",
       "<polyline clip-path=\"url(#clip102)\" style=\"stroke:#000000; stroke-linecap:round; stroke-linejoin:round; stroke-width:4; stroke-opacity:1; fill:none\" points=\"824.723,1004.54 824.723,1428.92 923.702,1428.92 923.702,1004.54 824.723,1004.54 \"/>\n",
       "<path clip-path=\"url(#clip102)\" d=\"M923.702 541.781 L923.702 1428.92 L1022.68 1428.92 L1022.68 541.781 L923.702 541.781 L923.702 541.781  Z\" fill=\"#009af9\" fill-rule=\"evenodd\" fill-opacity=\"1\"/>\n",
       "<polyline clip-path=\"url(#clip102)\" style=\"stroke:#000000; stroke-linecap:round; stroke-linejoin:round; stroke-width:4; stroke-opacity:1; fill:none\" points=\"923.702,541.781 923.702,1428.92 1022.68,1428.92 1022.68,541.781 923.702,541.781 \"/>\n",
       "<path clip-path=\"url(#clip102)\" d=\"M1022.68 87.4872 L1022.68 1428.92 L1121.66 1428.92 L1121.66 87.4872 L1022.68 87.4872 L1022.68 87.4872  Z\" fill=\"#009af9\" fill-rule=\"evenodd\" fill-opacity=\"1\"/>\n",
       "<polyline clip-path=\"url(#clip102)\" style=\"stroke:#000000; stroke-linecap:round; stroke-linejoin:round; stroke-width:4; stroke-opacity:1; fill:none\" points=\"1022.68,87.4872 1022.68,1428.92 1121.66,1428.92 1121.66,87.4872 1022.68,87.4872 \"/>\n",
       "<path clip-path=\"url(#clip102)\" d=\"M1121.66 117.962 L1121.66 1428.92 L1220.64 1428.92 L1220.64 117.962 L1121.66 117.962 L1121.66 117.962  Z\" fill=\"#009af9\" fill-rule=\"evenodd\" fill-opacity=\"1\"/>\n",
       "<polyline clip-path=\"url(#clip102)\" style=\"stroke:#000000; stroke-linecap:round; stroke-linejoin:round; stroke-width:4; stroke-opacity:1; fill:none\" points=\"1121.66,117.962 1121.66,1428.92 1220.64,1428.92 1220.64,117.962 1121.66,117.962 \"/>\n",
       "<path clip-path=\"url(#clip102)\" d=\"M1220.64 535.574 L1220.64 1428.92 L1319.62 1428.92 L1319.62 535.574 L1220.64 535.574 L1220.64 535.574  Z\" fill=\"#009af9\" fill-rule=\"evenodd\" fill-opacity=\"1\"/>\n",
       "<polyline clip-path=\"url(#clip102)\" style=\"stroke:#000000; stroke-linecap:round; stroke-linejoin:round; stroke-width:4; stroke-opacity:1; fill:none\" points=\"1220.64,535.574 1220.64,1428.92 1319.62,1428.92 1319.62,535.574 1220.64,535.574 \"/>\n",
       "<path clip-path=\"url(#clip102)\" d=\"M1319.62 986.482 L1319.62 1428.92 L1418.6 1428.92 L1418.6 986.482 L1319.62 986.482 L1319.62 986.482  Z\" fill=\"#009af9\" fill-rule=\"evenodd\" fill-opacity=\"1\"/>\n",
       "<polyline clip-path=\"url(#clip102)\" style=\"stroke:#000000; stroke-linecap:round; stroke-linejoin:round; stroke-width:4; stroke-opacity:1; fill:none\" points=\"1319.62,986.482 1319.62,1428.92 1418.6,1428.92 1418.6,986.482 1319.62,986.482 \"/>\n",
       "<path clip-path=\"url(#clip102)\" d=\"M1418.6 1303.08 L1418.6 1428.92 L1517.58 1428.92 L1517.58 1303.08 L1418.6 1303.08 L1418.6 1303.08  Z\" fill=\"#009af9\" fill-rule=\"evenodd\" fill-opacity=\"1\"/>\n",
       "<polyline clip-path=\"url(#clip102)\" style=\"stroke:#000000; stroke-linecap:round; stroke-linejoin:round; stroke-width:4; stroke-opacity:1; fill:none\" points=\"1418.6,1303.08 1418.6,1428.92 1517.58,1428.92 1517.58,1303.08 1418.6,1303.08 \"/>\n",
       "<path clip-path=\"url(#clip102)\" d=\"M1517.58 1401.27 L1517.58 1428.92 L1616.56 1428.92 L1616.56 1401.27 L1517.58 1401.27 L1517.58 1401.27  Z\" fill=\"#009af9\" fill-rule=\"evenodd\" fill-opacity=\"1\"/>\n",
       "<polyline clip-path=\"url(#clip102)\" style=\"stroke:#000000; stroke-linecap:round; stroke-linejoin:round; stroke-width:4; stroke-opacity:1; fill:none\" points=\"1517.58,1401.27 1517.58,1428.92 1616.56,1428.92 1616.56,1401.27 1517.58,1401.27 \"/>\n",
       "<path clip-path=\"url(#clip102)\" d=\"M1616.56 1424.41 L1616.56 1428.92 L1715.54 1428.92 L1715.54 1424.41 L1616.56 1424.41 L1616.56 1424.41  Z\" fill=\"#009af9\" fill-rule=\"evenodd\" fill-opacity=\"1\"/>\n",
       "<polyline clip-path=\"url(#clip102)\" style=\"stroke:#000000; stroke-linecap:round; stroke-linejoin:round; stroke-width:4; stroke-opacity:1; fill:none\" points=\"1616.56,1424.41 1616.56,1428.92 1715.54,1428.92 1715.54,1424.41 1616.56,1424.41 \"/>\n",
       "<path clip-path=\"url(#clip102)\" d=\"M1715.54 1428.36 L1715.54 1428.92 L1814.52 1428.92 L1814.52 1428.36 L1715.54 1428.36 L1715.54 1428.36  Z\" fill=\"#009af9\" fill-rule=\"evenodd\" fill-opacity=\"1\"/>\n",
       "<polyline clip-path=\"url(#clip102)\" style=\"stroke:#000000; stroke-linecap:round; stroke-linejoin:round; stroke-width:4; stroke-opacity:1; fill:none\" points=\"1715.54,1428.36 1715.54,1428.92 1814.52,1428.92 1814.52,1428.36 1715.54,1428.36 \"/>\n",
       "<path clip-path=\"url(#clip102)\" d=\"M1814.52 1428.92 L1814.52 1428.92 L1913.5 1428.92 L1913.5 1428.92 L1814.52 1428.92 L1814.52 1428.92  Z\" fill=\"#009af9\" fill-rule=\"evenodd\" fill-opacity=\"1\"/>\n",
       "<polyline clip-path=\"url(#clip102)\" style=\"stroke:#000000; stroke-linecap:round; stroke-linejoin:round; stroke-width:4; stroke-opacity:1; fill:none\" points=\"1814.52,1428.92 1814.52,1428.92 1913.5,1428.92 1814.52,1428.92 \"/>\n",
       "<circle clip-path=\"url(#clip102)\" style=\"fill:#009af9; stroke:none; fill-opacity:0\" cx=\"379.313\" cy=\"1428.92\" r=\"2\"/>\n",
       "<circle clip-path=\"url(#clip102)\" style=\"fill:#009af9; stroke:none; fill-opacity:0\" cx=\"478.293\" cy=\"1428.36\" r=\"2\"/>\n",
       "<circle clip-path=\"url(#clip102)\" style=\"fill:#009af9; stroke:none; fill-opacity:0\" cx=\"577.273\" cy=\"1425.54\" r=\"2\"/>\n",
       "<circle clip-path=\"url(#clip102)\" style=\"fill:#009af9; stroke:none; fill-opacity:0\" cx=\"676.253\" cy=\"1392.81\" r=\"2\"/>\n",
       "<circle clip-path=\"url(#clip102)\" style=\"fill:#009af9; stroke:none; fill-opacity:0\" cx=\"775.233\" cy=\"1283.89\" r=\"2\"/>\n",
       "<circle clip-path=\"url(#clip102)\" style=\"fill:#009af9; stroke:none; fill-opacity:0\" cx=\"874.212\" cy=\"1004.54\" r=\"2\"/>\n",
       "<circle clip-path=\"url(#clip102)\" style=\"fill:#009af9; stroke:none; fill-opacity:0\" cx=\"973.192\" cy=\"541.781\" r=\"2\"/>\n",
       "<circle clip-path=\"url(#clip102)\" style=\"fill:#009af9; stroke:none; fill-opacity:0\" cx=\"1072.17\" cy=\"87.4872\" r=\"2\"/>\n",
       "<circle clip-path=\"url(#clip102)\" style=\"fill:#009af9; stroke:none; fill-opacity:0\" cx=\"1171.15\" cy=\"117.962\" r=\"2\"/>\n",
       "<circle clip-path=\"url(#clip102)\" style=\"fill:#009af9; stroke:none; fill-opacity:0\" cx=\"1270.13\" cy=\"535.574\" r=\"2\"/>\n",
       "<circle clip-path=\"url(#clip102)\" style=\"fill:#009af9; stroke:none; fill-opacity:0\" cx=\"1369.11\" cy=\"986.482\" r=\"2\"/>\n",
       "<circle clip-path=\"url(#clip102)\" style=\"fill:#009af9; stroke:none; fill-opacity:0\" cx=\"1468.09\" cy=\"1303.08\" r=\"2\"/>\n",
       "<circle clip-path=\"url(#clip102)\" style=\"fill:#009af9; stroke:none; fill-opacity:0\" cx=\"1567.07\" cy=\"1401.27\" r=\"2\"/>\n",
       "<circle clip-path=\"url(#clip102)\" style=\"fill:#009af9; stroke:none; fill-opacity:0\" cx=\"1666.05\" cy=\"1424.41\" r=\"2\"/>\n",
       "<circle clip-path=\"url(#clip102)\" style=\"fill:#009af9; stroke:none; fill-opacity:0\" cx=\"1765.03\" cy=\"1428.36\" r=\"2\"/>\n",
       "<circle clip-path=\"url(#clip102)\" style=\"fill:#009af9; stroke:none; fill-opacity:0\" cx=\"1864.01\" cy=\"1428.92\" r=\"2\"/>\n",
       "<path clip-path=\"url(#clip100)\" d=\"M2082.07 224.242 L2352.76 224.242 L2352.76 94.6416 L2082.07 94.6416  Z\" fill=\"#ffffff\" fill-rule=\"evenodd\" fill-opacity=\"1\"/>\n",
       "<polyline clip-path=\"url(#clip100)\" style=\"stroke:#000000; stroke-linecap:round; stroke-linejoin:round; stroke-width:4; stroke-opacity:1; fill:none\" points=\"2082.07,224.242 2352.76,224.242 2352.76,94.6416 2082.07,94.6416 2082.07,224.242 \"/>\n",
       "<path clip-path=\"url(#clip100)\" d=\"M2105.63 185.362 L2247.02 185.362 L2247.02 133.522 L2105.63 133.522 L2105.63 185.362  Z\" fill=\"#009af9\" fill-rule=\"evenodd\" fill-opacity=\"1\"/>\n",
       "<polyline clip-path=\"url(#clip100)\" style=\"stroke:#000000; stroke-linecap:round; stroke-linejoin:round; stroke-width:5; stroke-opacity:1; fill:none\" points=\"2105.63,185.362 2247.02,185.362 2247.02,133.522 2105.63,133.522 2105.63,185.362 \"/>\n",
       "<path clip-path=\"url(#clip100)\" d=\"M2270.58 188.885 Q2270.58 187.557 2271.35 186.847 Q2272.16 186.168 2273.24 186.168 Q2274.38 186.168 2275.12 186.878 Q2275.89 187.619 2275.89 188.823 Q2275.89 191.17 2273.42 191.479 Q2274.63 192.621 2276.39 192.621 Q2278.27 192.621 2279.78 191.232 Q2281.33 189.842 2281.98 188.514 Q2282.66 187.187 2283.61 184.778 Q2284.51 182.894 2285.19 181.042 L2275.71 157.944 Q2275.09 156.431 2274.13 156.091 Q2273.18 155.751 2270.58 155.751 L2270.58 153.775 Q2273.42 153.96 2276.73 153.96 Q2278.67 153.96 2283.61 153.775 L2283.61 155.751 Q2280.06 155.751 2280.06 157.388 Q2280.06 157.573 2280.43 158.531 L2287.47 175.545 L2293.87 159.982 Q2294.24 159.086 2294.24 158.469 Q2294.24 155.875 2291.27 155.751 L2291.27 153.775 Q2295.44 153.96 2296.77 153.96 Q2299.36 153.96 2301.49 153.775 L2301.49 155.751 Q2297.26 155.751 2295.63 159.797 L2284.48 186.785 Q2281.45 193.98 2276.39 194.011 Q2273.98 194.011 2272.28 192.529 Q2270.58 191.046 2270.58 188.885 Z\" fill=\"#000000\" fill-rule=\"evenodd\" fill-opacity=\"1\" /><path clip-path=\"url(#clip100)\" d=\"M2308.32 144.944 L2308.32 142.968 Q2315.91 142.968 2319.84 138.922 Q2320.92 138.922 2321.1 139.169 Q2321.29 139.416 2321.29 140.559 L2321.29 176.039 Q2321.29 177.923 2322.21 178.509 Q2323.14 179.096 2327.18 179.096 L2329.19 179.096 L2329.19 181.042 Q2326.97 180.856 2318.94 180.856 Q2310.91 180.856 2308.72 181.042 L2308.72 179.096 L2310.73 179.096 Q2314.71 179.096 2315.67 178.54 Q2316.62 177.954 2316.62 176.039 L2316.62 143.276 Q2313.32 144.944 2308.32 144.944 Z\" fill=\"#000000\" fill-rule=\"evenodd\" fill-opacity=\"1\" /></svg>\n"
      ]
     },
     "execution_count": 26,
     "metadata": {},
     "output_type": "execute_result"
    }
   ],
   "source": [
    "x = rand(Normal(0, 1), 10000)\n",
    "bin_range= range(-5, 5, length=17)\n",
    "histogram(x, bins = bin_range)"
   ]
  },
  {
   "cell_type": "markdown",
   "id": "362a8c8b-9489-468b-b182-05afa4bbba89",
   "metadata": {
    "execution": {
     "iopub.execute_input": "2023-02-15T10:34:16.756000-05:00",
     "iopub.status.busy": "2023-02-15T10:34:16.756000-05:00",
     "iopub.status.idle": "2023-02-15T10:34:17.369000-05:00",
     "shell.execute_reply": "2023-02-15T10:34:17.368000-05:00"
    }
   },
   "source": [
    "### Add Gaussian noise to damped oscillator curve\n",
    "Re-plot your damped exponential curve as a scatter plot with added Gaussian noise with mean 0 and standard deviation 0.5."
   ]
  },
  {
   "cell_type": "code",
   "execution_count": null,
   "id": "55aab05c-5384-4001-a6bb-8e20a9486870",
   "metadata": {},
   "outputs": [],
   "source": []
  },
  {
   "cell_type": "markdown",
   "id": "c6453219-dbc1-4810-9672-331e6a647a60",
   "metadata": {},
   "source": [
    "### Generate uniformly distributed data points on the unit square\n",
    "Now write a function which plots the unit square and adds N randomly chosen points\n",
    "that are uniformly distributed in (x,y). Make the points colored green with alpha transparency 0.8 if they\n",
    "fall within a distance 1 of the origin, and color the points red with alpha transparency 0.2 otherwise."
   ]
  },
  {
   "cell_type": "code",
   "execution_count": null,
   "id": "fb119cf5-063d-476b-9baf-a203ca7852ae",
   "metadata": {},
   "outputs": [],
   "source": []
  }
 ],
 "metadata": {
  "kernelspec": {
   "display_name": "Julia 1.9.0-beta4",
   "language": "julia",
   "name": "julia-1.9"
  },
  "language_info": {
   "file_extension": ".jl",
   "mimetype": "application/julia",
   "name": "julia",
   "version": "1.9.0"
  },
  "nteract": {
   "version": "0.28.0"
  }
 },
 "nbformat": 4,
 "nbformat_minor": 5
}
