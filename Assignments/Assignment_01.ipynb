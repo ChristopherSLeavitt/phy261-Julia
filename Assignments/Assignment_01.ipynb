{
 "cells": [
  {
   "cell_type": "markdown",
   "metadata": {
    "colab_type": "text",
    "id": "cmoZVkBbcW-T"
   },
   "source": [
    "# Assignment 1: Julia Exercises\n",
    "## Due: Tuesday, 20 Jan. 2023 at beginning of class."
   ]
  },
  {
   "cell_type": "markdown",
   "metadata": {
    "colab_type": "text",
    "id": "71fA3ibycW-T"
   },
   "source": [
    "## Finding errors in code\n",
    "For each of the following cells, <br>\n",
    "a) run the cell and see the error message,<br>\n",
    "b) add a new markdown cell describing the error, and describing what you need to do to fix the problem, and<br>\n",
    "c) add a new code cell fixing the error. find the error, and correct it in a new cell below the original.<br>"
   ]
  },
  {
   "cell_type": "code",
   "execution_count": null,
   "metadata": {
    "colab": {
     "autoexec": {
      "startup": false,
      "wait_interval": 0
     }
    },
    "colab_type": "code",
    "id": "WTelHESicW-U"
   },
   "outputs": [],
   "source": [
    "z = x + y\n",
    "x = 6\n",
    "y = 8\n",
    "print(z)"
   ]
  },
  {
   "cell_type": "code",
   "execution_count": null,
   "metadata": {
    "colab": {
     "autoexec": {
      "startup": false,
      "wait_interval": 0
     }
    },
    "colab_type": "code",
    "id": "5jvG7AbDcW-X"
   },
   "outputs": [],
   "source": [
    "for i in range(10):\n",
    "    print i"
   ]
  },
  {
   "cell_type": "code",
   "execution_count": null,
   "metadata": {
    "colab": {
     "autoexec": {
      "startup": false,
      "wait_interval": 0
     }
    },
    "colab_type": "code",
    "id": "h8kItX78cW-Y"
   },
   "outputs": [],
   "source": [
    "values = (2,3,4)\n",
    "print values(2)\n",
    "print values(3)\n"
   ]
  },
  {
   "cell_type": "markdown",
   "metadata": {
    "colab_type": "text",
    "id": "cIWJwFqNcW-a"
   },
   "source": [
    "## Short Julia snippets\n",
    "Below each markdow cell, write a short python snippet to perform the indicated action.<br>\n",
    "Add a markdown cell to explain your thinking if this is needed."
   ]
  },
  {
   "cell_type": "markdown",
   "metadata": {
    "colab_type": "text",
    "id": "pFRbu4rPcW-a"
   },
   "source": [
    "### Write a piece of code to decide if an integer is even or odd. \n",
    "(Print out \"true\" if the number is odd, and \"false\" if it is even.)"
   ]
  },
  {
   "cell_type": "raw",
   "metadata": {
    "colab": {
     "autoexec": {
      "startup": false,
      "wait_interval": 0
     }
    },
    "colab_type": "code",
    "id": "8PoUMOAucW-b"
   },
   "source": []
  },
  {
   "cell_type": "markdown",
   "metadata": {
    "colab_type": "text",
    "id": "NSBAVqbDcW-d"
   },
   "source": [
    "#### Sum all of the numbers from 1 to 1,000,000"
   ]
  },
  {
   "cell_type": "code",
   "execution_count": null,
   "metadata": {
    "colab": {
     "autoexec": {
      "startup": false,
      "wait_interval": 0
     }
    },
    "colab_type": "code",
    "id": "9-1pTsX0cW-d"
   },
   "outputs": [],
   "source": []
  },
  {
   "cell_type": "markdown",
   "metadata": {
    "colab_type": "text",
    "id": "obc3bq9ZcW-f"
   },
   "source": [
    "#### Sum all of the odd numbers from 1 to 1,000,000"
   ]
  },
  {
   "cell_type": "code",
   "execution_count": null,
   "metadata": {
    "colab": {
     "autoexec": {
      "startup": false,
      "wait_interval": 0
     }
    },
    "colab_type": "code",
    "id": "j6sXki9EcW-f"
   },
   "outputs": [],
   "source": []
  },
  {
   "cell_type": "markdown",
   "metadata": {
    "colab_type": "text",
    "id": "b_TYTDp7cW-h"
   },
   "source": [
    "#### Define a string variable s; assign the value 'fishy snack' to it, and then print out the characters one by one"
   ]
  },
  {
   "cell_type": "code",
   "execution_count": null,
   "metadata": {
    "colab": {
     "autoexec": {
      "startup": false,
      "wait_interval": 0
     }
    },
    "colab_type": "code",
    "id": "PnZldSSZcW-h"
   },
   "outputs": [],
   "source": []
  },
  {
   "cell_type": "markdown",
   "metadata": {
    "colab_type": "text",
    "id": "ipXrlj7TcW-k"
   },
   "source": [
    "#### For the string s above, print out the first 4 characters"
   ]
  },
  {
   "cell_type": "code",
   "execution_count": null,
   "metadata": {
    "colab": {
     "autoexec": {
      "startup": false,
      "wait_interval": 0
     }
    },
    "colab_type": "code",
    "id": "wNkLuKracW-k"
   },
   "outputs": [],
   "source": []
  },
  {
   "cell_type": "markdown",
   "metadata": {
    "colab_type": "text",
    "id": "SKSafv0CcW-m"
   },
   "source": [
    "#### For the string s above, print out the last 4 characters"
   ]
  },
  {
   "cell_type": "code",
   "execution_count": null,
   "metadata": {
    "colab": {
     "autoexec": {
      "startup": false,
      "wait_interval": 0
     }
    },
    "colab_type": "code",
    "id": "Hrp6M7zScW-m"
   },
   "outputs": [],
   "source": []
  },
  {
   "cell_type": "markdown",
   "metadata": {
    "colab_type": "text",
    "id": "OBhLE_J5cW-o"
   },
   "source": [
    "#### Define a list called months and have each entry of the list contain the three letter abbreviation for each month. Then write a loop to print out each month's abbreviation."
   ]
  },
  {
   "cell_type": "code",
   "execution_count": null,
   "metadata": {
    "colab": {
     "autoexec": {
      "startup": false,
      "wait_interval": 0
     }
    },
    "colab_type": "code",
    "id": "t6lTIRPMcW-o"
   },
   "outputs": [],
   "source": []
  },
  {
   "cell_type": "markdown",
   "metadata": {
    "colab_type": "text",
    "id": "1Eu2MUBQcW-q"
   },
   "source": [
    "As we move forward, the following cell will typically be at the top of each notebook. \n",
    "This cell imports the Plots package, sets the backend to gr(), and defines some nice plot defaults\n",
    "which you can alter or overwrite on a plot-by-plot basis. \n",
    "To execute the cell press shift-enter."
   ]
  },
  {
   "cell_type": "code",
   "execution_count": 5,
   "metadata": {
    "colab": {
     "autoexec": {
      "startup": false,
      "wait_interval": 0
     }
    },
    "colab_type": "code",
    "id": "wOafJ-GxcW-q"
   },
   "outputs": [
    {
     "data": {
      "image/svg+xml": [
       "<?xml version=\"1.0\" encoding=\"utf-8\"?>\n",
       "<svg xmlns=\"http://www.w3.org/2000/svg\" xmlns:xlink=\"http://www.w3.org/1999/xlink\" width=\"800\" height=\"500\" viewBox=\"0 0 3200 2000\">\n",
       "<defs>\n",
       "  <clipPath id=\"clip080\">\n",
       "    <rect x=\"0\" y=\"0\" width=\"3200\" height=\"2000\"/>\n",
       "  </clipPath>\n",
       "</defs>\n",
       "<path clip-path=\"url(#clip080)\" d=\"\n",
       "M0 2000 L3200 2000 L3200 0 L0 0  Z\n",
       "  \" fill=\"#ffffff\" fill-rule=\"evenodd\" fill-opacity=\"1\"/>\n",
       "<defs>\n",
       "  <clipPath id=\"clip081\">\n",
       "    <rect x=\"640\" y=\"0\" width=\"2241\" height=\"2000\"/>\n",
       "  </clipPath>\n",
       "</defs>\n",
       "<defs>\n",
       "  <clipPath id=\"clip082\">\n",
       "    <rect x=\"324\" y=\"127\" width=\"2300\" height=\"1661\"/>\n",
       "  </clipPath>\n",
       "</defs>\n",
       "<path clip-path=\"url(#clip080)\" d=\"\n",
       "M324.242 1787.86 L2623.06 1787.86 L2623.06 127.792 L324.242 127.792  Z\n",
       "  \" fill=\"#ffffff\" fill-rule=\"evenodd\" fill-opacity=\"1\"/>\n",
       "<polyline clip-path=\"url(#clip082)\" style=\"stroke:#000000; stroke-linecap:round; stroke-linejoin:round; stroke-width:2; stroke-opacity:0.1; fill:none\" points=\"\n",
       "  610.754,1787.86 610.754,127.792 \n",
       "  \"/>\n",
       "<polyline clip-path=\"url(#clip082)\" style=\"stroke:#000000; stroke-linecap:round; stroke-linejoin:round; stroke-width:2; stroke-opacity:0.1; fill:none\" points=\"\n",
       "  1042.2,1787.86 1042.2,127.792 \n",
       "  \"/>\n",
       "<polyline clip-path=\"url(#clip082)\" style=\"stroke:#000000; stroke-linecap:round; stroke-linejoin:round; stroke-width:2; stroke-opacity:0.1; fill:none\" points=\"\n",
       "  1473.65,1787.86 1473.65,127.792 \n",
       "  \"/>\n",
       "<polyline clip-path=\"url(#clip082)\" style=\"stroke:#000000; stroke-linecap:round; stroke-linejoin:round; stroke-width:2; stroke-opacity:0.1; fill:none\" points=\"\n",
       "  1905.1,1787.86 1905.1,127.792 \n",
       "  \"/>\n",
       "<polyline clip-path=\"url(#clip082)\" style=\"stroke:#000000; stroke-linecap:round; stroke-linejoin:round; stroke-width:2; stroke-opacity:0.1; fill:none\" points=\"\n",
       "  2336.55,1787.86 2336.55,127.792 \n",
       "  \"/>\n",
       "<polyline clip-path=\"url(#clip080)\" style=\"stroke:#000000; stroke-linecap:round; stroke-linejoin:round; stroke-width:4; stroke-opacity:1; fill:none\" points=\"\n",
       "  324.242,1787.86 2623.06,1787.86 \n",
       "  \"/>\n",
       "<polyline clip-path=\"url(#clip080)\" style=\"stroke:#000000; stroke-linecap:round; stroke-linejoin:round; stroke-width:4; stroke-opacity:1; fill:none\" points=\"\n",
       "  324.242,127.792 2623.06,127.792 \n",
       "  \"/>\n",
       "<polyline clip-path=\"url(#clip080)\" style=\"stroke:#000000; stroke-linecap:round; stroke-linejoin:round; stroke-width:4; stroke-opacity:1; fill:none\" points=\"\n",
       "  610.754,1787.86 610.754,1768.96 \n",
       "  \"/>\n",
       "<polyline clip-path=\"url(#clip080)\" style=\"stroke:#000000; stroke-linecap:round; stroke-linejoin:round; stroke-width:4; stroke-opacity:1; fill:none\" points=\"\n",
       "  1042.2,1787.86 1042.2,1768.96 \n",
       "  \"/>\n",
       "<polyline clip-path=\"url(#clip080)\" style=\"stroke:#000000; stroke-linecap:round; stroke-linejoin:round; stroke-width:4; stroke-opacity:1; fill:none\" points=\"\n",
       "  1473.65,1787.86 1473.65,1768.96 \n",
       "  \"/>\n",
       "<polyline clip-path=\"url(#clip080)\" style=\"stroke:#000000; stroke-linecap:round; stroke-linejoin:round; stroke-width:4; stroke-opacity:1; fill:none\" points=\"\n",
       "  1905.1,1787.86 1905.1,1768.96 \n",
       "  \"/>\n",
       "<polyline clip-path=\"url(#clip080)\" style=\"stroke:#000000; stroke-linecap:round; stroke-linejoin:round; stroke-width:4; stroke-opacity:1; fill:none\" points=\"\n",
       "  2336.55,1787.86 2336.55,1768.96 \n",
       "  \"/>\n",
       "<path clip-path=\"url(#clip080)\" d=\"M586.502 1858.21 Q586.947 1858.66 586.947 1859.29 Q586.947 1859.92 586.502 1860.36 Q586.057 1860.81 585.427 1860.81 L537.923 1860.81 Q537.293 1860.81 536.848 1860.36 Q536.403 1859.92 536.403 1859.29 Q536.403 1858.66 536.848 1858.21 Q537.293 1857.77 537.923 1857.77 L585.427 1857.77 Q586.057 1857.77 586.502 1858.21 Z\" fill=\"#000000\" fill-rule=\"evenodd\" fill-opacity=\"1\" /><path clip-path=\"url(#clip080)\" d=\"M594.95 1866.03 Q594.95 1863.77 596.173 1862.92 Q597.396 1862.03 598.693 1862.03 Q600.435 1862.03 601.435 1863.14 Q602.473 1864.22 602.473 1865.74 Q602.473 1867.25 601.435 1868.37 Q600.435 1869.44 598.693 1869.44 Q597.841 1869.44 597.396 1869.29 Q598.397 1872.78 601.435 1875.3 Q604.511 1877.82 608.55 1877.82 Q613.626 1877.82 616.665 1872.89 Q618.48 1869.7 618.48 1862.47 Q618.48 1856.1 617.109 1852.91 Q614.997 1848.06 610.662 1848.06 Q604.511 1848.06 600.879 1853.36 Q600.435 1854.03 599.916 1854.06 Q599.175 1854.06 598.989 1853.66 Q598.841 1853.21 598.841 1852.06 L598.841 1829.61 Q598.841 1827.79 599.582 1827.79 Q599.879 1827.79 600.509 1828.01 Q605.289 1830.13 610.588 1830.16 Q616.035 1830.16 620.926 1827.94 Q621.297 1827.72 621.519 1827.72 Q622.26 1827.72 622.297 1828.57 Q622.297 1828.87 621.667 1829.75 Q621.074 1830.61 619.777 1831.76 Q618.48 1832.87 616.813 1833.94 Q615.145 1835.02 612.7 1835.76 Q610.291 1836.46 607.623 1836.46 Q604.437 1836.46 601.176 1835.46 L601.176 1850.25 Q605.104 1846.39 610.81 1846.39 Q616.887 1846.39 621.074 1851.28 Q625.261 1856.18 625.261 1862.99 Q625.261 1870.14 620.296 1875.04 Q615.368 1879.93 608.698 1879.93 Q602.621 1879.93 598.767 1875.59 Q594.95 1871.26 594.95 1866.03 Z\" fill=\"#000000\" fill-rule=\"evenodd\" fill-opacity=\"1\" /><path clip-path=\"url(#clip080)\" d=\"M636.711 1877.04 Q635.563 1875.81 635.563 1874.22 Q635.563 1872.63 636.711 1871.48 Q637.86 1870.29 639.602 1870.29 Q641.269 1870.29 642.381 1871.4 Q643.53 1872.48 643.53 1874.26 Q643.53 1876 642.307 1877.15 Q641.121 1878.26 639.602 1878.26 Q637.86 1878.26 636.711 1877.04 Z\" fill=\"#000000\" fill-rule=\"evenodd\" fill-opacity=\"1\" /><path clip-path=\"url(#clip080)\" d=\"M653.164 1853.99 Q653.164 1842.84 655.98 1836.76 Q659.908 1827.72 669.172 1827.72 Q671.136 1827.72 673.174 1828.27 Q675.249 1828.79 677.843 1830.83 Q680.473 1832.87 682.067 1836.2 Q685.105 1842.65 685.105 1853.99 Q685.105 1865.07 682.289 1871.11 Q678.176 1879.93 669.098 1879.93 Q665.689 1879.93 662.205 1878.19 Q658.759 1876.44 656.573 1872.26 Q653.164 1865.99 653.164 1853.99 M659.463 1853.06 Q659.463 1864.51 660.278 1869.07 Q661.205 1874 663.725 1876.15 Q666.281 1878.26 669.098 1878.26 Q672.136 1878.26 674.656 1876 Q677.213 1873.7 677.991 1868.77 Q678.843 1863.92 678.806 1853.06 Q678.806 1842.5 678.065 1838.28 Q677.064 1833.35 674.396 1831.39 Q671.766 1829.38 669.098 1829.38 Q668.097 1829.38 667.022 1829.68 Q665.985 1829.98 664.466 1830.83 Q662.946 1831.68 661.761 1833.79 Q660.612 1835.91 660.056 1839.09 Q659.463 1843.21 659.463 1853.06 Z\" fill=\"#000000\" fill-rule=\"evenodd\" fill-opacity=\"1\" /><path clip-path=\"url(#clip080)\" d=\"M1018.36 1858.21 Q1018.8 1858.66 1018.8 1859.29 Q1018.8 1859.92 1018.36 1860.36 Q1017.91 1860.81 1017.28 1860.81 L969.779 1860.81 Q969.149 1860.81 968.704 1860.36 Q968.26 1859.92 968.26 1859.29 Q968.26 1858.66 968.704 1858.21 Q969.149 1857.77 969.779 1857.77 L1017.28 1857.77 Q1017.91 1857.77 1018.36 1858.21 Z\" fill=\"#000000\" fill-rule=\"evenodd\" fill-opacity=\"1\" /><path clip-path=\"url(#clip080)\" d=\"M1026.81 1878.26 Q1026.81 1876.89 1026.92 1876.48 Q1027.07 1876.07 1027.66 1875.44 L1042.22 1859.21 Q1050.19 1850.25 1050.19 1842.43 Q1050.19 1837.35 1047.52 1833.72 Q1044.89 1830.09 1040.04 1830.09 Q1036.7 1830.09 1033.88 1832.13 Q1031.07 1834.16 1029.77 1837.8 Q1029.99 1837.72 1030.77 1837.72 Q1032.66 1837.72 1033.7 1838.91 Q1034.77 1840.09 1034.77 1841.69 Q1034.77 1843.72 1033.44 1844.73 Q1032.14 1845.69 1030.85 1845.69 Q1030.33 1845.69 1029.62 1845.58 Q1028.96 1845.47 1027.88 1844.43 Q1026.81 1843.35 1026.81 1841.46 Q1026.81 1836.17 1030.81 1831.94 Q1034.85 1827.72 1041 1827.72 Q1047.97 1827.72 1052.52 1831.87 Q1057.12 1835.98 1057.12 1842.43 Q1057.12 1844.69 1056.41 1846.76 Q1055.75 1848.8 1054.82 1850.39 Q1053.93 1851.99 1051.49 1854.54 Q1049.04 1857.1 1047.08 1858.92 Q1045.11 1860.73 1040.7 1864.59 L1032.66 1872.41 L1046.33 1872.41 Q1053 1872.41 1053.52 1871.81 Q1054.26 1870.74 1055.19 1865.07 L1057.12 1865.07 L1054.97 1878.26 L1026.81 1878.26 Z\" fill=\"#000000\" fill-rule=\"evenodd\" fill-opacity=\"1\" /><path clip-path=\"url(#clip080)\" d=\"M1068.57 1877.04 Q1067.42 1875.81 1067.42 1874.22 Q1067.42 1872.63 1068.57 1871.48 Q1069.72 1870.29 1071.46 1870.29 Q1073.13 1870.29 1074.24 1871.4 Q1075.39 1872.48 1075.39 1874.26 Q1075.39 1876 1074.16 1877.15 Q1072.98 1878.26 1071.46 1878.26 Q1069.72 1878.26 1068.57 1877.04 Z\" fill=\"#000000\" fill-rule=\"evenodd\" fill-opacity=\"1\" /><path clip-path=\"url(#clip080)\" d=\"M1085.84 1866.03 Q1085.84 1863.77 1087.06 1862.92 Q1088.28 1862.03 1089.58 1862.03 Q1091.32 1862.03 1092.32 1863.14 Q1093.36 1864.22 1093.36 1865.74 Q1093.36 1867.25 1092.32 1868.37 Q1091.32 1869.44 1089.58 1869.44 Q1088.73 1869.44 1088.28 1869.29 Q1089.28 1872.78 1092.32 1875.3 Q1095.4 1877.82 1099.43 1877.82 Q1104.51 1877.82 1107.55 1872.89 Q1109.37 1869.7 1109.37 1862.47 Q1109.37 1856.1 1107.99 1852.91 Q1105.88 1848.06 1101.55 1848.06 Q1095.4 1848.06 1091.76 1853.36 Q1091.32 1854.03 1090.8 1854.06 Q1090.06 1854.06 1089.87 1853.66 Q1089.73 1853.21 1089.73 1852.06 L1089.73 1829.61 Q1089.73 1827.79 1090.47 1827.79 Q1090.76 1827.79 1091.39 1828.01 Q1096.17 1830.13 1101.47 1830.16 Q1106.92 1830.16 1111.81 1827.94 Q1112.18 1827.72 1112.4 1827.72 Q1113.14 1827.72 1113.18 1828.57 Q1113.18 1828.87 1112.55 1829.75 Q1111.96 1830.61 1110.66 1831.76 Q1109.37 1832.87 1107.7 1833.94 Q1106.03 1835.02 1103.58 1835.76 Q1101.18 1836.46 1098.51 1836.46 Q1095.32 1836.46 1092.06 1835.46 L1092.06 1850.25 Q1095.99 1846.39 1101.69 1846.39 Q1107.77 1846.39 1111.96 1851.28 Q1116.15 1856.18 1116.15 1862.99 Q1116.15 1870.14 1111.18 1875.04 Q1106.25 1879.93 1099.58 1879.93 Q1093.51 1879.93 1089.65 1875.59 Q1085.84 1871.26 1085.84 1866.03 Z\" fill=\"#000000\" fill-rule=\"evenodd\" fill-opacity=\"1\" /><path clip-path=\"url(#clip080)\" d=\"M1428.17 1853.99 Q1428.17 1842.84 1430.98 1836.76 Q1434.91 1827.72 1444.17 1827.72 Q1446.14 1827.72 1448.18 1828.27 Q1450.25 1828.79 1452.85 1830.83 Q1455.48 1832.87 1457.07 1836.2 Q1460.11 1842.65 1460.11 1853.99 Q1460.11 1865.07 1457.29 1871.11 Q1453.18 1879.93 1444.1 1879.93 Q1440.69 1879.93 1437.21 1878.19 Q1433.76 1876.44 1431.58 1872.26 Q1428.17 1865.99 1428.17 1853.99 M1434.47 1853.06 Q1434.47 1864.51 1435.28 1869.07 Q1436.21 1874 1438.73 1876.15 Q1441.28 1878.26 1444.1 1878.26 Q1447.14 1878.26 1449.66 1876 Q1452.22 1873.7 1452.99 1868.77 Q1453.85 1863.92 1453.81 1853.06 Q1453.81 1842.5 1453.07 1838.28 Q1452.07 1833.35 1449.4 1831.39 Q1446.77 1829.38 1444.1 1829.38 Q1443.1 1829.38 1442.03 1829.68 Q1440.99 1829.98 1439.47 1830.83 Q1437.95 1831.68 1436.76 1833.79 Q1435.61 1835.91 1435.06 1839.09 Q1434.47 1843.21 1434.47 1853.06 Z\" fill=\"#000000\" fill-rule=\"evenodd\" fill-opacity=\"1\" /><path clip-path=\"url(#clip080)\" d=\"M1470.74 1877.04 Q1469.59 1875.81 1469.59 1874.22 Q1469.59 1872.63 1470.74 1871.48 Q1471.89 1870.29 1473.63 1870.29 Q1475.3 1870.29 1476.41 1871.4 Q1477.56 1872.48 1477.56 1874.26 Q1477.56 1876 1476.34 1877.15 Q1475.15 1878.26 1473.63 1878.26 Q1471.89 1878.26 1470.74 1877.04 Z\" fill=\"#000000\" fill-rule=\"evenodd\" fill-opacity=\"1\" /><path clip-path=\"url(#clip080)\" d=\"M1487.2 1853.99 Q1487.2 1842.84 1490.01 1836.76 Q1493.94 1827.72 1503.2 1827.72 Q1505.17 1827.72 1507.21 1828.27 Q1509.28 1828.79 1511.87 1830.83 Q1514.51 1832.87 1516.1 1836.2 Q1519.14 1842.65 1519.14 1853.99 Q1519.14 1865.07 1516.32 1871.11 Q1512.21 1879.93 1503.13 1879.93 Q1499.72 1879.93 1496.24 1878.19 Q1492.79 1876.44 1490.6 1872.26 Q1487.2 1865.99 1487.2 1853.99 M1493.49 1853.06 Q1493.49 1864.51 1494.31 1869.07 Q1495.24 1874 1497.76 1876.15 Q1500.31 1878.26 1503.13 1878.26 Q1506.17 1878.26 1508.69 1876 Q1511.24 1873.7 1512.02 1868.77 Q1512.87 1863.92 1512.84 1853.06 Q1512.84 1842.5 1512.1 1838.28 Q1511.1 1833.35 1508.43 1831.39 Q1505.8 1829.38 1503.13 1829.38 Q1502.13 1829.38 1501.05 1829.68 Q1500.02 1829.98 1498.5 1830.83 Q1496.98 1831.68 1495.79 1833.79 Q1494.64 1835.91 1494.09 1839.09 Q1493.49 1843.21 1493.49 1853.06 Z\" fill=\"#000000\" fill-rule=\"evenodd\" fill-opacity=\"1\" /><path clip-path=\"url(#clip080)\" d=\"M1860.43 1878.26 Q1860.43 1876.89 1860.54 1876.48 Q1860.69 1876.07 1861.28 1875.44 L1875.85 1859.21 Q1883.81 1850.25 1883.81 1842.43 Q1883.81 1837.35 1881.14 1833.72 Q1878.51 1830.09 1873.66 1830.09 Q1870.32 1830.09 1867.51 1832.13 Q1864.69 1834.16 1863.4 1837.8 Q1863.62 1837.72 1864.4 1837.72 Q1866.29 1837.72 1867.32 1838.91 Q1868.4 1840.09 1868.4 1841.69 Q1868.4 1843.72 1867.06 1844.73 Q1865.77 1845.69 1864.47 1845.69 Q1863.95 1845.69 1863.25 1845.58 Q1862.58 1845.47 1861.51 1844.43 Q1860.43 1843.35 1860.43 1841.46 Q1860.43 1836.17 1864.43 1831.94 Q1868.47 1827.72 1874.62 1827.72 Q1881.59 1827.72 1886.15 1831.87 Q1890.74 1835.98 1890.74 1842.43 Q1890.74 1844.69 1890.04 1846.76 Q1889.37 1848.8 1888.44 1850.39 Q1887.55 1851.99 1885.11 1854.54 Q1882.66 1857.1 1880.7 1858.92 Q1878.74 1860.73 1874.33 1864.59 L1866.29 1872.41 L1879.96 1872.41 Q1886.63 1872.41 1887.15 1871.81 Q1887.89 1870.74 1888.81 1865.07 L1890.74 1865.07 L1888.59 1878.26 L1860.43 1878.26 Z\" fill=\"#000000\" fill-rule=\"evenodd\" fill-opacity=\"1\" /><path clip-path=\"url(#clip080)\" d=\"M1902.19 1877.04 Q1901.04 1875.81 1901.04 1874.22 Q1901.04 1872.63 1902.19 1871.48 Q1903.34 1870.29 1905.08 1870.29 Q1906.75 1870.29 1907.86 1871.4 Q1909.01 1872.48 1909.01 1874.26 Q1909.01 1876 1907.79 1877.15 Q1906.6 1878.26 1905.08 1878.26 Q1903.34 1878.26 1902.19 1877.04 Z\" fill=\"#000000\" fill-rule=\"evenodd\" fill-opacity=\"1\" /><path clip-path=\"url(#clip080)\" d=\"M1919.46 1866.03 Q1919.46 1863.77 1920.68 1862.92 Q1921.9 1862.03 1923.2 1862.03 Q1924.94 1862.03 1925.94 1863.14 Q1926.98 1864.22 1926.98 1865.74 Q1926.98 1867.25 1925.94 1868.37 Q1924.94 1869.44 1923.2 1869.44 Q1922.35 1869.44 1921.9 1869.29 Q1922.91 1872.78 1925.94 1875.3 Q1929.02 1877.82 1933.06 1877.82 Q1938.14 1877.82 1941.17 1872.89 Q1942.99 1869.7 1942.99 1862.47 Q1942.99 1856.1 1941.62 1852.91 Q1939.51 1848.06 1935.17 1848.06 Q1929.02 1848.06 1925.39 1853.36 Q1924.94 1854.03 1924.42 1854.06 Q1923.68 1854.06 1923.5 1853.66 Q1923.35 1853.21 1923.35 1852.06 L1923.35 1829.61 Q1923.35 1827.79 1924.09 1827.79 Q1924.39 1827.79 1925.02 1828.01 Q1929.8 1830.13 1935.1 1830.16 Q1940.54 1830.16 1945.43 1827.94 Q1945.81 1827.72 1946.03 1827.72 Q1946.77 1827.72 1946.81 1828.57 Q1946.81 1828.87 1946.18 1829.75 Q1945.58 1830.61 1944.29 1831.76 Q1942.99 1832.87 1941.32 1833.94 Q1939.65 1835.02 1937.21 1835.76 Q1934.8 1836.46 1932.13 1836.46 Q1928.95 1836.46 1925.68 1835.46 L1925.68 1850.25 Q1929.61 1846.39 1935.32 1846.39 Q1941.4 1846.39 1945.58 1851.28 Q1949.77 1856.18 1949.77 1862.99 Q1949.77 1870.14 1944.8 1875.04 Q1939.88 1879.93 1933.21 1879.93 Q1927.13 1879.93 1923.28 1875.59 Q1919.46 1871.26 1919.46 1866.03 Z\" fill=\"#000000\" fill-rule=\"evenodd\" fill-opacity=\"1\" /><path clip-path=\"url(#clip080)\" d=\"M2291.47 1866.03 Q2291.47 1863.77 2292.69 1862.92 Q2293.92 1862.03 2295.21 1862.03 Q2296.96 1862.03 2297.96 1863.14 Q2298.99 1864.22 2298.99 1865.74 Q2298.99 1867.25 2297.96 1868.37 Q2296.96 1869.44 2295.21 1869.44 Q2294.36 1869.44 2293.92 1869.29 Q2294.92 1872.78 2297.96 1875.3 Q2301.03 1877.82 2305.07 1877.82 Q2310.15 1877.82 2313.19 1872.89 Q2315 1869.7 2315 1862.47 Q2315 1856.1 2313.63 1852.91 Q2311.52 1848.06 2307.18 1848.06 Q2301.03 1848.06 2297.4 1853.36 Q2296.96 1854.03 2296.44 1854.06 Q2295.7 1854.06 2295.51 1853.66 Q2295.36 1853.21 2295.36 1852.06 L2295.36 1829.61 Q2295.36 1827.79 2296.1 1827.79 Q2296.4 1827.79 2297.03 1828.01 Q2301.81 1830.13 2307.11 1830.16 Q2312.56 1830.16 2317.45 1827.94 Q2317.82 1827.72 2318.04 1827.72 Q2318.78 1827.72 2318.82 1828.57 Q2318.82 1828.87 2318.19 1829.75 Q2317.6 1830.61 2316.3 1831.76 Q2315 1832.87 2313.33 1833.94 Q2311.67 1835.02 2309.22 1835.76 Q2306.81 1836.46 2304.14 1836.46 Q2300.96 1836.46 2297.7 1835.46 L2297.7 1850.25 Q2301.62 1846.39 2307.33 1846.39 Q2313.41 1846.39 2317.6 1851.28 Q2321.78 1856.18 2321.78 1862.99 Q2321.78 1870.14 2316.82 1875.04 Q2311.89 1879.93 2305.22 1879.93 Q2299.14 1879.93 2295.29 1875.59 Q2291.47 1871.26 2291.47 1866.03 Z\" fill=\"#000000\" fill-rule=\"evenodd\" fill-opacity=\"1\" /><path clip-path=\"url(#clip080)\" d=\"M2333.23 1877.04 Q2332.08 1875.81 2332.08 1874.22 Q2332.08 1872.63 2333.23 1871.48 Q2334.38 1870.29 2336.12 1870.29 Q2337.79 1870.29 2338.9 1871.4 Q2340.05 1872.48 2340.05 1874.26 Q2340.05 1876 2338.83 1877.15 Q2337.64 1878.26 2336.12 1878.26 Q2334.38 1878.26 2333.23 1877.04 Z\" fill=\"#000000\" fill-rule=\"evenodd\" fill-opacity=\"1\" /><path clip-path=\"url(#clip080)\" d=\"M2349.69 1853.99 Q2349.69 1842.84 2352.5 1836.76 Q2356.43 1827.72 2365.69 1827.72 Q2367.66 1827.72 2369.69 1828.27 Q2371.77 1828.79 2374.36 1830.83 Q2376.99 1832.87 2378.59 1836.2 Q2381.63 1842.65 2381.63 1853.99 Q2381.63 1865.07 2378.81 1871.11 Q2374.7 1879.93 2365.62 1879.93 Q2362.21 1879.93 2358.73 1878.19 Q2355.28 1876.44 2353.09 1872.26 Q2349.69 1865.99 2349.69 1853.99 M2355.98 1853.06 Q2355.98 1864.51 2356.8 1869.07 Q2357.73 1874 2360.25 1876.15 Q2362.8 1878.26 2365.62 1878.26 Q2368.66 1878.26 2371.18 1876 Q2373.73 1873.7 2374.51 1868.77 Q2375.36 1863.92 2375.33 1853.06 Q2375.33 1842.5 2374.59 1838.28 Q2373.59 1833.35 2370.92 1831.39 Q2368.29 1829.38 2365.62 1829.38 Q2364.62 1829.38 2363.54 1829.68 Q2362.51 1829.98 2360.99 1830.83 Q2359.47 1831.68 2358.28 1833.79 Q2357.13 1835.91 2356.58 1839.09 Q2355.98 1843.21 2355.98 1853.06 Z\" fill=\"#000000\" fill-rule=\"evenodd\" fill-opacity=\"1\" /><path clip-path=\"url(#clip080)\" d=\"M1491.01 1940.09 Q1491.01 1947.96 1488.48 1956.82 Q1486 1965.62 1482.06 1972.74 Q1478.13 1979.82 1472.98 1984.5 Q1467.82 1989.14 1462.91 1989.14 Q1459.77 1989.14 1457.42 1987.4 Q1455.13 1985.62 1453.86 1982.67 Q1452.6 1979.68 1451.99 1976.4 Q1451.38 1973.07 1451.38 1969.46 Q1451.38 1964.08 1452.55 1958.22 Q1453.72 1952.32 1455.69 1946.98 Q1457.66 1941.59 1460.42 1936.72 Q1463.19 1931.8 1466.23 1928.24 Q1469.32 1924.63 1472.79 1922.52 Q1476.26 1920.42 1479.49 1920.42 Q1481.83 1920.42 1483.7 1921.45 Q1485.62 1922.43 1486.84 1924.16 Q1488.06 1925.85 1488.9 1927.86 Q1489.79 1929.88 1490.22 1932.22 Q1490.64 1934.52 1490.82 1936.44 Q1491.01 1938.31 1491.01 1940.09 M1484.69 1934.14 Q1484.69 1931.75 1484.5 1929.97 Q1484.31 1928.15 1483.8 1926.32 Q1483.28 1924.49 1482.16 1923.51 Q1481.08 1922.52 1479.39 1922.52 Q1474.48 1922.52 1468.95 1932.6 Q1467.17 1935.73 1465.58 1940 Q1463.98 1944.26 1463.42 1946.27 Q1462.86 1948.29 1461.55 1953.25 L1481.6 1953.25 Q1484.69 1940.47 1484.69 1934.14 M1480.75 1956.3 L1460.8 1956.3 Q1457.71 1968.01 1457.71 1975.32 Q1457.71 1981.69 1459.02 1984.36 Q1460.38 1986.98 1462.91 1986.98 Q1465.81 1986.98 1468.53 1984.08 Q1471.24 1981.13 1474.01 1975.79 Q1477.66 1968.85 1480.75 1956.3 Z\" fill=\"#006400\" fill-rule=\"evenodd\" fill-opacity=\"1\" /><polyline clip-path=\"url(#clip082)\" style=\"stroke:#000000; stroke-linecap:round; stroke-linejoin:round; stroke-width:2; stroke-opacity:0.1; fill:none\" points=\"\n",
       "  324.242,1740.88 2623.06,1740.88 \n",
       "  \"/>\n",
       "<polyline clip-path=\"url(#clip082)\" style=\"stroke:#000000; stroke-linecap:round; stroke-linejoin:round; stroke-width:2; stroke-opacity:0.1; fill:none\" points=\"\n",
       "  324.242,1349.36 2623.06,1349.36 \n",
       "  \"/>\n",
       "<polyline clip-path=\"url(#clip082)\" style=\"stroke:#000000; stroke-linecap:round; stroke-linejoin:round; stroke-width:2; stroke-opacity:0.1; fill:none\" points=\"\n",
       "  324.242,957.829 2623.06,957.829 \n",
       "  \"/>\n",
       "<polyline clip-path=\"url(#clip082)\" style=\"stroke:#000000; stroke-linecap:round; stroke-linejoin:round; stroke-width:2; stroke-opacity:0.1; fill:none\" points=\"\n",
       "  324.242,566.302 2623.06,566.302 \n",
       "  \"/>\n",
       "<polyline clip-path=\"url(#clip082)\" style=\"stroke:#000000; stroke-linecap:round; stroke-linejoin:round; stroke-width:2; stroke-opacity:0.1; fill:none\" points=\"\n",
       "  324.242,174.775 2623.06,174.775 \n",
       "  \"/>\n",
       "<polyline clip-path=\"url(#clip082)\" style=\"stroke:#000000; stroke-linecap:round; stroke-linejoin:round; stroke-width:2; stroke-opacity:0.05; fill:none\" points=\"\n",
       "  324.242,1662.58 2623.06,1662.58 \n",
       "  \"/>\n",
       "<polyline clip-path=\"url(#clip082)\" style=\"stroke:#000000; stroke-linecap:round; stroke-linejoin:round; stroke-width:2; stroke-opacity:0.05; fill:none\" points=\"\n",
       "  324.242,1584.27 2623.06,1584.27 \n",
       "  \"/>\n",
       "<polyline clip-path=\"url(#clip082)\" style=\"stroke:#000000; stroke-linecap:round; stroke-linejoin:round; stroke-width:2; stroke-opacity:0.05; fill:none\" points=\"\n",
       "  324.242,1505.97 2623.06,1505.97 \n",
       "  \"/>\n",
       "<polyline clip-path=\"url(#clip082)\" style=\"stroke:#000000; stroke-linecap:round; stroke-linejoin:round; stroke-width:2; stroke-opacity:0.05; fill:none\" points=\"\n",
       "  324.242,1427.66 2623.06,1427.66 \n",
       "  \"/>\n",
       "<polyline clip-path=\"url(#clip082)\" style=\"stroke:#000000; stroke-linecap:round; stroke-linejoin:round; stroke-width:2; stroke-opacity:0.05; fill:none\" points=\"\n",
       "  324.242,1271.05 2623.06,1271.05 \n",
       "  \"/>\n",
       "<polyline clip-path=\"url(#clip082)\" style=\"stroke:#000000; stroke-linecap:round; stroke-linejoin:round; stroke-width:2; stroke-opacity:0.05; fill:none\" points=\"\n",
       "  324.242,1192.75 2623.06,1192.75 \n",
       "  \"/>\n",
       "<polyline clip-path=\"url(#clip082)\" style=\"stroke:#000000; stroke-linecap:round; stroke-linejoin:round; stroke-width:2; stroke-opacity:0.05; fill:none\" points=\"\n",
       "  324.242,1114.44 2623.06,1114.44 \n",
       "  \"/>\n",
       "<polyline clip-path=\"url(#clip082)\" style=\"stroke:#000000; stroke-linecap:round; stroke-linejoin:round; stroke-width:2; stroke-opacity:0.05; fill:none\" points=\"\n",
       "  324.242,1036.13 2623.06,1036.13 \n",
       "  \"/>\n",
       "<polyline clip-path=\"url(#clip082)\" style=\"stroke:#000000; stroke-linecap:round; stroke-linejoin:round; stroke-width:2; stroke-opacity:0.05; fill:none\" points=\"\n",
       "  324.242,879.524 2623.06,879.524 \n",
       "  \"/>\n",
       "<polyline clip-path=\"url(#clip082)\" style=\"stroke:#000000; stroke-linecap:round; stroke-linejoin:round; stroke-width:2; stroke-opacity:0.05; fill:none\" points=\"\n",
       "  324.242,801.219 2623.06,801.219 \n",
       "  \"/>\n",
       "<polyline clip-path=\"url(#clip082)\" style=\"stroke:#000000; stroke-linecap:round; stroke-linejoin:round; stroke-width:2; stroke-opacity:0.05; fill:none\" points=\"\n",
       "  324.242,722.913 2623.06,722.913 \n",
       "  \"/>\n",
       "<polyline clip-path=\"url(#clip082)\" style=\"stroke:#000000; stroke-linecap:round; stroke-linejoin:round; stroke-width:2; stroke-opacity:0.05; fill:none\" points=\"\n",
       "  324.242,644.608 2623.06,644.608 \n",
       "  \"/>\n",
       "<polyline clip-path=\"url(#clip082)\" style=\"stroke:#000000; stroke-linecap:round; stroke-linejoin:round; stroke-width:2; stroke-opacity:0.05; fill:none\" points=\"\n",
       "  324.242,487.997 2623.06,487.997 \n",
       "  \"/>\n",
       "<polyline clip-path=\"url(#clip082)\" style=\"stroke:#000000; stroke-linecap:round; stroke-linejoin:round; stroke-width:2; stroke-opacity:0.05; fill:none\" points=\"\n",
       "  324.242,409.691 2623.06,409.691 \n",
       "  \"/>\n",
       "<polyline clip-path=\"url(#clip082)\" style=\"stroke:#000000; stroke-linecap:round; stroke-linejoin:round; stroke-width:2; stroke-opacity:0.05; fill:none\" points=\"\n",
       "  324.242,331.386 2623.06,331.386 \n",
       "  \"/>\n",
       "<polyline clip-path=\"url(#clip082)\" style=\"stroke:#000000; stroke-linecap:round; stroke-linejoin:round; stroke-width:2; stroke-opacity:0.05; fill:none\" points=\"\n",
       "  324.242,253.081 2623.06,253.081 \n",
       "  \"/>\n",
       "<polyline clip-path=\"url(#clip080)\" style=\"stroke:#000000; stroke-linecap:round; stroke-linejoin:round; stroke-width:4; stroke-opacity:1; fill:none\" points=\"\n",
       "  324.242,1787.86 324.242,127.792 \n",
       "  \"/>\n",
       "<polyline clip-path=\"url(#clip080)\" style=\"stroke:#000000; stroke-linecap:round; stroke-linejoin:round; stroke-width:4; stroke-opacity:1; fill:none\" points=\"\n",
       "  2623.06,1787.86 2623.06,127.792 \n",
       "  \"/>\n",
       "<polyline clip-path=\"url(#clip080)\" style=\"stroke:#000000; stroke-linecap:round; stroke-linejoin:round; stroke-width:4; stroke-opacity:1; fill:none\" points=\"\n",
       "  324.242,1740.88 339.601,1740.88 \n",
       "  \"/>\n",
       "<polyline clip-path=\"url(#clip080)\" style=\"stroke:#000000; stroke-linecap:round; stroke-linejoin:round; stroke-width:4; stroke-opacity:1; fill:none\" points=\"\n",
       "  324.242,1349.36 339.601,1349.36 \n",
       "  \"/>\n",
       "<polyline clip-path=\"url(#clip080)\" style=\"stroke:#000000; stroke-linecap:round; stroke-linejoin:round; stroke-width:4; stroke-opacity:1; fill:none\" points=\"\n",
       "  324.242,957.829 339.601,957.829 \n",
       "  \"/>\n",
       "<polyline clip-path=\"url(#clip080)\" style=\"stroke:#000000; stroke-linecap:round; stroke-linejoin:round; stroke-width:4; stroke-opacity:1; fill:none\" points=\"\n",
       "  324.242,566.302 339.601,566.302 \n",
       "  \"/>\n",
       "<polyline clip-path=\"url(#clip080)\" style=\"stroke:#000000; stroke-linecap:round; stroke-linejoin:round; stroke-width:4; stroke-opacity:1; fill:none\" points=\"\n",
       "  324.242,174.775 339.601,174.775 \n",
       "  \"/>\n",
       "<polyline clip-path=\"url(#clip080)\" style=\"stroke:#000000; stroke-linecap:round; stroke-linejoin:round; stroke-width:4; stroke-opacity:1; fill:none\" points=\"\n",
       "  324.242,1662.58 331.921,1662.58 \n",
       "  \"/>\n",
       "<polyline clip-path=\"url(#clip080)\" style=\"stroke:#000000; stroke-linecap:round; stroke-linejoin:round; stroke-width:4; stroke-opacity:1; fill:none\" points=\"\n",
       "  324.242,1584.27 331.921,1584.27 \n",
       "  \"/>\n",
       "<polyline clip-path=\"url(#clip080)\" style=\"stroke:#000000; stroke-linecap:round; stroke-linejoin:round; stroke-width:4; stroke-opacity:1; fill:none\" points=\"\n",
       "  324.242,1505.97 331.921,1505.97 \n",
       "  \"/>\n",
       "<polyline clip-path=\"url(#clip080)\" style=\"stroke:#000000; stroke-linecap:round; stroke-linejoin:round; stroke-width:4; stroke-opacity:1; fill:none\" points=\"\n",
       "  324.242,1427.66 331.921,1427.66 \n",
       "  \"/>\n",
       "<polyline clip-path=\"url(#clip080)\" style=\"stroke:#000000; stroke-linecap:round; stroke-linejoin:round; stroke-width:4; stroke-opacity:1; fill:none\" points=\"\n",
       "  324.242,1271.05 331.921,1271.05 \n",
       "  \"/>\n",
       "<polyline clip-path=\"url(#clip080)\" style=\"stroke:#000000; stroke-linecap:round; stroke-linejoin:round; stroke-width:4; stroke-opacity:1; fill:none\" points=\"\n",
       "  324.242,1192.75 331.921,1192.75 \n",
       "  \"/>\n",
       "<polyline clip-path=\"url(#clip080)\" style=\"stroke:#000000; stroke-linecap:round; stroke-linejoin:round; stroke-width:4; stroke-opacity:1; fill:none\" points=\"\n",
       "  324.242,1114.44 331.921,1114.44 \n",
       "  \"/>\n",
       "<polyline clip-path=\"url(#clip080)\" style=\"stroke:#000000; stroke-linecap:round; stroke-linejoin:round; stroke-width:4; stroke-opacity:1; fill:none\" points=\"\n",
       "  324.242,1036.13 331.921,1036.13 \n",
       "  \"/>\n",
       "<polyline clip-path=\"url(#clip080)\" style=\"stroke:#000000; stroke-linecap:round; stroke-linejoin:round; stroke-width:4; stroke-opacity:1; fill:none\" points=\"\n",
       "  324.242,879.524 331.921,879.524 \n",
       "  \"/>\n",
       "<polyline clip-path=\"url(#clip080)\" style=\"stroke:#000000; stroke-linecap:round; stroke-linejoin:round; stroke-width:4; stroke-opacity:1; fill:none\" points=\"\n",
       "  324.242,801.219 331.921,801.219 \n",
       "  \"/>\n",
       "<polyline clip-path=\"url(#clip080)\" style=\"stroke:#000000; stroke-linecap:round; stroke-linejoin:round; stroke-width:4; stroke-opacity:1; fill:none\" points=\"\n",
       "  324.242,722.913 331.921,722.913 \n",
       "  \"/>\n",
       "<polyline clip-path=\"url(#clip080)\" style=\"stroke:#000000; stroke-linecap:round; stroke-linejoin:round; stroke-width:4; stroke-opacity:1; fill:none\" points=\"\n",
       "  324.242,644.608 331.921,644.608 \n",
       "  \"/>\n",
       "<polyline clip-path=\"url(#clip080)\" style=\"stroke:#000000; stroke-linecap:round; stroke-linejoin:round; stroke-width:4; stroke-opacity:1; fill:none\" points=\"\n",
       "  324.242,487.997 331.921,487.997 \n",
       "  \"/>\n",
       "<polyline clip-path=\"url(#clip080)\" style=\"stroke:#000000; stroke-linecap:round; stroke-linejoin:round; stroke-width:4; stroke-opacity:1; fill:none\" points=\"\n",
       "  324.242,409.691 331.921,409.691 \n",
       "  \"/>\n",
       "<polyline clip-path=\"url(#clip080)\" style=\"stroke:#000000; stroke-linecap:round; stroke-linejoin:round; stroke-width:4; stroke-opacity:1; fill:none\" points=\"\n",
       "  324.242,331.386 331.921,331.386 \n",
       "  \"/>\n",
       "<polyline clip-path=\"url(#clip080)\" style=\"stroke:#000000; stroke-linecap:round; stroke-linejoin:round; stroke-width:4; stroke-opacity:1; fill:none\" points=\"\n",
       "  324.242,253.081 331.921,253.081 \n",
       "  \"/>\n",
       "<path clip-path=\"url(#clip080)\" d=\"M177.639 1746.76 Q178.083 1747.2 178.083 1747.83 Q178.083 1748.46 177.639 1748.91 Q177.194 1749.35 176.564 1749.35 L129.059 1749.35 Q128.429 1749.35 127.985 1748.91 Q127.54 1748.46 127.54 1747.83 Q127.54 1747.2 127.985 1746.76 Q128.429 1746.31 129.059 1746.31 L176.564 1746.31 Q177.194 1746.31 177.639 1746.76 Z\" fill=\"#000000\" fill-rule=\"evenodd\" fill-opacity=\"1\" /><path clip-path=\"url(#clip080)\" d=\"M189.052 1723.49 L189.052 1721.11 Q198.167 1721.11 202.873 1716.26 Q204.17 1716.26 204.392 1716.56 Q204.615 1716.85 204.615 1718.22 L204.615 1760.8 Q204.615 1763.06 205.726 1763.77 Q206.838 1764.47 211.692 1764.47 L214.101 1764.47 L214.101 1766.8 Q211.433 1766.58 201.798 1766.58 Q192.164 1766.58 189.533 1766.8 L189.533 1764.47 L191.942 1764.47 Q196.722 1764.47 197.871 1763.8 Q199.019 1763.1 199.019 1760.8 L199.019 1721.49 Q195.054 1723.49 189.052 1723.49 Z\" fill=\"#000000\" fill-rule=\"evenodd\" fill-opacity=\"1\" /><path clip-path=\"url(#clip080)\" d=\"M227.848 1765.58 Q226.699 1764.36 226.699 1762.76 Q226.699 1761.17 227.848 1760.02 Q228.997 1758.84 230.738 1758.84 Q232.406 1758.84 233.518 1759.95 Q234.666 1761.02 234.666 1762.8 Q234.666 1764.54 233.443 1765.69 Q232.258 1766.8 230.738 1766.8 Q228.997 1766.8 227.848 1765.58 Z\" fill=\"#000000\" fill-rule=\"evenodd\" fill-opacity=\"1\" /><path clip-path=\"url(#clip080)\" d=\"M244.301 1742.53 Q244.301 1731.38 247.117 1725.3 Q251.045 1716.26 260.308 1716.26 Q262.272 1716.26 264.31 1716.82 Q266.385 1717.34 268.979 1719.37 Q271.61 1721.41 273.204 1724.75 Q276.242 1731.19 276.242 1742.53 Q276.242 1753.61 273.426 1759.65 Q269.313 1768.47 260.234 1768.47 Q256.825 1768.47 253.342 1766.73 Q249.896 1764.99 247.71 1760.8 Q244.301 1754.54 244.301 1742.53 M250.6 1741.61 Q250.6 1753.06 251.415 1757.61 Q252.342 1762.54 254.861 1764.69 Q257.418 1766.8 260.234 1766.8 Q263.273 1766.8 265.793 1764.54 Q268.349 1762.25 269.127 1757.32 Q269.98 1752.46 269.943 1741.61 Q269.943 1731.05 269.202 1726.82 Q268.201 1721.89 265.533 1719.93 Q262.902 1717.93 260.234 1717.93 Q259.234 1717.93 258.159 1718.22 Q257.122 1718.52 255.602 1719.37 Q254.083 1720.23 252.897 1722.34 Q251.749 1724.45 251.193 1727.64 Q250.6 1731.75 250.6 1741.61 Z\" fill=\"#000000\" fill-rule=\"evenodd\" fill-opacity=\"1\" /><path clip-path=\"url(#clip080)\" d=\"M178.454 1355.23 Q178.898 1355.67 178.898 1356.3 Q178.898 1356.93 178.454 1357.38 Q178.009 1357.82 177.379 1357.82 L129.875 1357.82 Q129.245 1357.82 128.8 1357.38 Q128.355 1356.93 128.355 1356.3 Q128.355 1355.67 128.8 1355.23 Q129.245 1354.79 129.875 1354.79 L177.379 1354.79 Q178.009 1354.79 178.454 1355.23 Z\" fill=\"#000000\" fill-rule=\"evenodd\" fill-opacity=\"1\" /><path clip-path=\"url(#clip080)\" d=\"M186.087 1351.01 Q186.087 1339.85 188.903 1333.77 Q192.831 1324.73 202.095 1324.73 Q204.059 1324.73 206.097 1325.29 Q208.172 1325.81 210.766 1327.85 Q213.397 1329.88 214.99 1333.22 Q218.029 1339.67 218.029 1351.01 Q218.029 1362.08 215.212 1368.12 Q211.099 1376.94 202.021 1376.94 Q198.612 1376.94 195.129 1375.2 Q191.682 1373.46 189.496 1369.27 Q186.087 1363.01 186.087 1351.01 M192.386 1350.08 Q192.386 1361.53 193.202 1366.09 Q194.128 1371.02 196.648 1373.16 Q199.205 1375.28 202.021 1375.28 Q205.059 1375.28 207.579 1373.02 Q210.136 1370.72 210.914 1365.79 Q211.766 1360.94 211.729 1350.08 Q211.729 1339.52 210.988 1335.29 Q209.988 1330.37 207.32 1328.4 Q204.689 1326.4 202.021 1326.4 Q201.02 1326.4 199.946 1326.7 Q198.908 1326.99 197.389 1327.85 Q195.87 1328.7 194.684 1330.81 Q193.535 1332.92 192.979 1336.11 Q192.386 1340.22 192.386 1350.08 Z\" fill=\"#000000\" fill-rule=\"evenodd\" fill-opacity=\"1\" /><path clip-path=\"url(#clip080)\" d=\"M228.663 1374.05 Q227.515 1372.83 227.515 1371.24 Q227.515 1369.64 228.663 1368.5 Q229.812 1367.31 231.554 1367.31 Q233.221 1367.31 234.333 1368.42 Q235.481 1369.5 235.481 1371.27 Q235.481 1373.02 234.259 1374.16 Q233.073 1375.28 231.554 1375.28 Q229.812 1375.28 228.663 1374.05 Z\" fill=\"#000000\" fill-rule=\"evenodd\" fill-opacity=\"1\" /><path clip-path=\"url(#clip080)\" d=\"M245.931 1363.05 Q245.931 1360.79 247.154 1359.94 Q248.377 1359.05 249.674 1359.05 Q251.415 1359.05 252.416 1360.16 Q253.453 1361.23 253.453 1362.75 Q253.453 1364.27 252.416 1365.38 Q251.415 1366.46 249.674 1366.46 Q248.821 1366.46 248.377 1366.31 Q249.377 1369.79 252.416 1372.31 Q255.491 1374.83 259.53 1374.83 Q264.607 1374.83 267.645 1369.9 Q269.461 1366.72 269.461 1359.49 Q269.461 1353.12 268.09 1349.93 Q265.978 1345.08 261.642 1345.08 Q255.491 1345.08 251.86 1350.38 Q251.415 1351.04 250.896 1351.08 Q250.155 1351.08 249.97 1350.67 Q249.822 1350.23 249.822 1349.08 L249.822 1326.62 Q249.822 1324.81 250.563 1324.81 Q250.859 1324.81 251.489 1325.03 Q256.269 1327.14 261.568 1327.18 Q267.015 1327.18 271.907 1324.96 Q272.277 1324.73 272.499 1324.73 Q273.241 1324.73 273.278 1325.59 Q273.278 1325.88 272.648 1326.77 Q272.055 1327.62 270.758 1328.77 Q269.461 1329.88 267.793 1330.96 Q266.126 1332.03 263.68 1332.77 Q261.272 1333.48 258.604 1333.48 Q255.417 1333.48 252.156 1332.48 L252.156 1347.26 Q256.084 1343.41 261.791 1343.41 Q267.868 1343.41 272.055 1348.3 Q276.242 1353.19 276.242 1360.01 Q276.242 1367.16 271.277 1372.05 Q266.348 1376.94 259.678 1376.94 Q253.601 1376.94 249.748 1372.61 Q245.931 1368.27 245.931 1363.05 Z\" fill=\"#000000\" fill-rule=\"evenodd\" fill-opacity=\"1\" /><path clip-path=\"url(#clip080)\" d=\"M185.272 959.478 Q185.272 948.325 188.088 942.248 Q192.016 933.206 201.28 933.206 Q203.244 933.206 205.282 933.762 Q207.357 934.281 209.951 936.319 Q212.581 938.357 214.175 941.692 Q217.213 948.14 217.213 959.478 Q217.213 970.558 214.397 976.598 Q210.284 985.417 201.206 985.417 Q197.797 985.417 194.313 983.675 Q190.867 981.934 188.681 977.746 Q185.272 971.484 185.272 959.478 M191.571 958.552 Q191.571 970.002 192.386 974.56 Q193.313 979.488 195.833 981.637 Q198.389 983.749 201.206 983.749 Q204.244 983.749 206.764 981.489 Q209.321 979.192 210.099 974.263 Q210.951 969.409 210.914 958.552 Q210.914 947.991 210.173 943.767 Q209.172 938.839 206.504 936.875 Q203.874 934.874 201.206 934.874 Q200.205 934.874 199.13 935.17 Q198.093 935.467 196.574 936.319 Q195.054 937.171 193.869 939.283 Q192.72 941.395 192.164 944.582 Q191.571 948.695 191.571 958.552 Z\" fill=\"#000000\" fill-rule=\"evenodd\" fill-opacity=\"1\" /><path clip-path=\"url(#clip080)\" d=\"M227.848 982.527 Q226.699 981.304 226.699 979.71 Q226.699 978.117 227.848 976.968 Q228.997 975.783 230.738 975.783 Q232.406 975.783 233.518 976.894 Q234.666 977.969 234.666 979.747 Q234.666 981.489 233.443 982.638 Q232.258 983.749 230.738 983.749 Q228.997 983.749 227.848 982.527 Z\" fill=\"#000000\" fill-rule=\"evenodd\" fill-opacity=\"1\" /><path clip-path=\"url(#clip080)\" d=\"M244.301 959.478 Q244.301 948.325 247.117 942.248 Q251.045 933.206 260.308 933.206 Q262.272 933.206 264.31 933.762 Q266.385 934.281 268.979 936.319 Q271.61 938.357 273.204 941.692 Q276.242 948.14 276.242 959.478 Q276.242 970.558 273.426 976.598 Q269.313 985.417 260.234 985.417 Q256.825 985.417 253.342 983.675 Q249.896 981.934 247.71 977.746 Q244.301 971.484 244.301 959.478 M250.6 958.552 Q250.6 970.002 251.415 974.56 Q252.342 979.488 254.861 981.637 Q257.418 983.749 260.234 983.749 Q263.273 983.749 265.793 981.489 Q268.349 979.192 269.127 974.263 Q269.98 969.409 269.943 958.552 Q269.943 947.991 269.202 943.767 Q268.201 938.839 265.533 936.875 Q262.902 934.874 260.234 934.874 Q259.234 934.874 258.159 935.17 Q257.122 935.467 255.602 936.319 Q254.083 937.171 252.897 939.283 Q251.749 941.395 251.193 944.582 Q250.6 948.695 250.6 958.552 Z\" fill=\"#000000\" fill-rule=\"evenodd\" fill-opacity=\"1\" /><path clip-path=\"url(#clip080)\" d=\"M186.087 567.951 Q186.087 556.798 188.903 550.721 Q192.831 541.679 202.095 541.679 Q204.059 541.679 206.097 542.235 Q208.172 542.754 210.766 544.792 Q213.397 546.83 214.99 550.165 Q218.029 556.612 218.029 567.951 Q218.029 579.031 215.212 585.071 Q211.099 593.89 202.021 593.89 Q198.612 593.89 195.129 592.148 Q191.682 590.407 189.496 586.219 Q186.087 579.957 186.087 567.951 M192.386 567.025 Q192.386 578.475 193.202 583.033 Q194.128 587.961 196.648 590.11 Q199.205 592.222 202.021 592.222 Q205.059 592.222 207.579 589.962 Q210.136 587.665 210.914 582.736 Q211.766 577.882 211.729 567.025 Q211.729 556.464 210.988 552.24 Q209.988 547.312 207.32 545.348 Q204.689 543.347 202.021 543.347 Q201.02 543.347 199.946 543.643 Q198.908 543.94 197.389 544.792 Q195.87 545.644 194.684 547.756 Q193.535 549.868 192.979 553.055 Q192.386 557.168 192.386 567.025 Z\" fill=\"#000000\" fill-rule=\"evenodd\" fill-opacity=\"1\" /><path clip-path=\"url(#clip080)\" d=\"M228.663 590.999 Q227.515 589.777 227.515 588.183 Q227.515 586.59 228.663 585.441 Q229.812 584.255 231.554 584.255 Q233.221 584.255 234.333 585.367 Q235.481 586.442 235.481 588.22 Q235.481 589.962 234.259 591.111 Q233.073 592.222 231.554 592.222 Q229.812 592.222 228.663 590.999 Z\" fill=\"#000000\" fill-rule=\"evenodd\" fill-opacity=\"1\" /><path clip-path=\"url(#clip080)\" d=\"M245.931 579.994 Q245.931 577.734 247.154 576.881 Q248.377 575.992 249.674 575.992 Q251.415 575.992 252.416 577.104 Q253.453 578.178 253.453 579.698 Q253.453 581.217 252.416 582.329 Q251.415 583.403 249.674 583.403 Q248.821 583.403 248.377 583.255 Q249.377 586.738 252.416 589.258 Q255.491 591.778 259.53 591.778 Q264.607 591.778 267.645 586.849 Q269.461 583.663 269.461 576.437 Q269.461 570.063 268.09 566.877 Q265.978 562.022 261.642 562.022 Q255.491 562.022 251.86 567.321 Q251.415 567.988 250.896 568.025 Q250.155 568.025 249.97 567.618 Q249.822 567.173 249.822 566.024 L249.822 543.569 Q249.822 541.753 250.563 541.753 Q250.859 541.753 251.489 541.976 Q256.269 544.088 261.568 544.125 Q267.015 544.125 271.907 541.902 Q272.277 541.679 272.499 541.679 Q273.241 541.679 273.278 542.531 Q273.278 542.828 272.648 543.717 Q272.055 544.57 270.758 545.718 Q269.461 546.83 267.793 547.904 Q266.126 548.979 263.68 549.72 Q261.272 550.424 258.604 550.424 Q255.417 550.424 252.156 549.424 L252.156 564.209 Q256.084 560.355 261.791 560.355 Q267.868 560.355 272.055 565.246 Q276.242 570.137 276.242 576.956 Q276.242 584.107 271.277 588.998 Q266.348 593.89 259.678 593.89 Q253.601 593.89 249.748 589.554 Q245.931 585.219 245.931 579.994 Z\" fill=\"#000000\" fill-rule=\"evenodd\" fill-opacity=\"1\" /><path clip-path=\"url(#clip080)\" d=\"M189.052 157.378 L189.052 155.006 Q198.167 155.006 202.873 150.152 Q204.17 150.152 204.392 150.449 Q204.615 150.745 204.615 152.116 L204.615 194.692 Q204.615 196.953 205.726 197.657 Q206.838 198.361 211.692 198.361 L214.101 198.361 L214.101 200.695 Q211.433 200.473 201.798 200.473 Q192.164 200.473 189.533 200.695 L189.533 198.361 L191.942 198.361 Q196.722 198.361 197.871 197.694 Q199.019 196.99 199.019 194.692 L199.019 155.377 Q195.054 157.378 189.052 157.378 Z\" fill=\"#000000\" fill-rule=\"evenodd\" fill-opacity=\"1\" /><path clip-path=\"url(#clip080)\" d=\"M227.848 199.472 Q226.699 198.25 226.699 196.656 Q226.699 195.063 227.848 193.914 Q228.997 192.728 230.738 192.728 Q232.406 192.728 233.518 193.84 Q234.666 194.915 234.666 196.693 Q234.666 198.435 233.443 199.584 Q232.258 200.695 230.738 200.695 Q228.997 200.695 227.848 199.472 Z\" fill=\"#000000\" fill-rule=\"evenodd\" fill-opacity=\"1\" /><path clip-path=\"url(#clip080)\" d=\"M244.301 176.424 Q244.301 165.271 247.117 159.194 Q251.045 150.152 260.308 150.152 Q262.272 150.152 264.31 150.708 Q266.385 151.227 268.979 153.265 Q271.61 155.303 273.204 158.638 Q276.242 165.085 276.242 176.424 Q276.242 187.504 273.426 193.544 Q269.313 202.363 260.234 202.363 Q256.825 202.363 253.342 200.621 Q249.896 198.879 247.71 194.692 Q244.301 188.43 244.301 176.424 M250.6 175.498 Q250.6 186.948 251.415 191.506 Q252.342 196.434 254.861 198.583 Q257.418 200.695 260.234 200.695 Q263.273 200.695 265.793 198.435 Q268.349 196.137 269.127 191.209 Q269.98 186.355 269.943 175.498 Q269.943 164.937 269.202 160.713 Q268.201 155.784 265.533 153.821 Q262.902 151.82 260.234 151.82 Q259.234 151.82 258.159 152.116 Q257.122 152.412 255.602 153.265 Q254.083 154.117 252.897 156.229 Q251.749 158.341 251.193 161.528 Q250.6 165.641 250.6 175.498 Z\" fill=\"#000000\" fill-rule=\"evenodd\" fill-opacity=\"1\" /><path clip-path=\"url(#clip080)\" d=\"M60.7063 982.857 Q58.692 982.857 57.6146 981.686 Q56.584 980.468 56.584 978.828 Q56.584 977.095 57.6614 975.971 Q58.7857 974.8 60.6127 974.8 Q64.1729 974.8 64.6413 978.547 Q66.3746 976.72 66.3746 974.05 Q66.3746 971.193 64.2666 968.897 Q62.1585 966.555 60.1442 965.571 Q58.1299 964.541 54.476 963.089 Q51.6184 961.73 48.8077 960.699 L13.7678 975.081 Q11.4724 976.018 10.9571 977.47 Q10.4418 978.922 10.4418 982.857 L7.4437 982.857 Q7.72477 978.547 7.72477 973.535 Q7.72477 970.584 7.4437 963.089 L10.4418 963.089 Q10.4418 968.476 12.9246 968.476 Q13.2056 968.476 14.6578 967.914 L40.4694 957.233 L16.8595 947.536 Q15.501 946.974 14.5641 946.974 Q10.6292 946.974 10.4418 951.471 L7.4437 951.471 Q7.72477 945.147 7.72477 943.133 Q7.72477 939.198 7.4437 935.965 L10.4418 935.965 Q10.4418 942.383 16.5785 944.866 L57.5209 961.777 Q68.4357 966.368 68.4826 974.05 Q68.4826 977.704 66.234 980.281 Q63.9855 982.857 60.7063 982.857 Z\" fill=\"#006400\" fill-rule=\"evenodd\" fill-opacity=\"1\" /><path clip-path=\"url(#clip080)\" d=\"M962.651 41.3505 L964.478 19.8018 L1023.08 19.8018 L1024.91 41.3505 L1022.52 41.3505 Q1022.14 37.0407 1021.77 34.558 Q1021.44 32.0752 1020.6 29.7329 Q1019.8 27.3438 1018.77 26.2196 Q1017.79 25.0484 1015.87 24.1584 Q1013.95 23.2215 1011.46 22.9873 Q1008.98 22.753 1005.23 22.753 Q1000.83 22.753 999.753 22.9404 Q998.581 23.2215 998.3 24.0647 Q998.019 24.8611 998.019 26.5943 L998.019 77.14 Q998.019 79.0606 998.394 79.857 Q998.816 80.6065 1001.02 81.2155 Q1003.22 81.7776 1008.09 81.7776 L1011.93 81.7776 L1011.93 84.7288 Q1008 84.4478 993.71 84.4478 Q979.516 84.4478 975.581 84.7288 L975.581 81.7776 L979.422 81.7776 Q984.294 81.7776 986.495 81.2155 Q988.744 80.6065 989.119 79.857 Q989.494 79.0606 989.494 77.14 L989.494 26.5943 Q989.494 25.2358 989.4 24.6737 Q989.306 24.1115 988.885 23.6431 Q988.463 23.1278 987.479 22.9404 Q986.542 22.753 982.326 22.753 Q978.579 22.753 976.049 22.9873 Q973.566 23.2215 971.646 24.1584 Q969.725 25.0484 968.694 26.2196 Q967.711 27.3438 966.867 29.7329 Q966.071 32.0752 965.743 34.558 Q965.415 37.0407 965.04 41.3505 L962.651 41.3505 Z\" fill=\"#000000\" fill-rule=\"evenodd\" fill-opacity=\"1\" /><path clip-path=\"url(#clip080)\" d=\"M1039.01 84.7288 L1039.01 81.7776 Q1044.12 81.7776 1045.29 81.1686 Q1046.51 80.5128 1046.51 77.421 L1046.51 51.7032 Q1046.51 48.143 1045.24 47.2529 Q1044.03 46.3629 1039.01 46.3629 L1039.01 43.3648 L1052.36 42.3342 L1052.36 52.8743 Q1053.72 48.752 1056.58 45.5665 Q1059.49 42.3342 1064.17 42.3342 Q1067.26 42.3342 1069.23 44.0675 Q1071.24 45.8007 1071.24 48.1898 Q1071.24 50.2978 1069.93 51.3753 Q1068.67 52.4059 1067.12 52.4059 Q1065.39 52.4059 1064.17 51.3284 Q1063 50.2041 1063 48.2835 Q1063 47.1124 1063.51 46.2223 Q1064.08 45.2854 1064.5 44.9575 Q1064.92 44.6296 1065.2 44.5359 Q1065.01 44.4422 1064.17 44.4422 Q1058.88 44.4422 1055.83 49.7357 Q1052.83 54.9823 1052.83 62.4775 L1052.83 77.2337 Q1052.83 79.9975 1053.96 80.8876 Q1055.13 81.7776 1060.14 81.7776 L1062.16 81.7776 L1062.16 84.7288 Q1058.31 84.4478 1049.98 84.4478 Q1048.8 84.4478 1046.98 84.4946 Q1045.15 84.5415 1042.76 84.6351 Q1040.37 84.7288 1039.01 84.7288 Z\" fill=\"#000000\" fill-rule=\"evenodd\" fill-opacity=\"1\" /><path clip-path=\"url(#clip080)\" d=\"M1074.95 84.7288 L1074.95 81.7776 Q1080.06 81.7776 1081.23 81.1686 Q1082.4 80.5128 1082.4 77.421 L1082.4 51.6095 Q1082.4 48.0493 1081.18 47.2061 Q1080.01 46.3629 1075.32 46.3629 L1075.32 43.3648 L1088.72 42.3342 L1088.72 77.5147 Q1088.72 80.3723 1089.75 81.0749 Q1090.78 81.7776 1095.47 81.7776 L1095.47 84.7288 Q1085.68 84.4478 1085.49 84.4478 Q1084.18 84.4478 1074.95 84.7288 M1078.98 25.6106 Q1078.98 23.6899 1080.43 22.1441 Q1081.93 20.5513 1084.04 20.5513 Q1086.15 20.5513 1087.65 22.0035 Q1089.14 23.4089 1089.14 25.6574 Q1089.14 27.8591 1087.65 29.3113 Q1086.15 30.7167 1084.04 30.7167 Q1081.84 30.7167 1080.38 29.1708 Q1078.98 27.6249 1078.98 25.6106 Z\" fill=\"#000000\" fill-rule=\"evenodd\" fill-opacity=\"1\" /><path clip-path=\"url(#clip080)\" d=\"M1100.11 92.3177 Q1100.11 89.2259 1102.45 86.5558 Q1104.84 83.8856 1108.96 82.7145 Q1104.74 80.0443 1104.74 74.1887 Q1104.74 69.6916 1107.69 66.2251 Q1103.2 62.4775 1103.2 56.3408 Q1103.2 50.6726 1107.69 46.5034 Q1112.19 42.3342 1118.75 42.3342 Q1124.51 42.3342 1128.91 45.8007 Q1133.51 41.3036 1139.08 41.2568 Q1141.56 41.2568 1142.73 42.8027 Q1143.95 44.3485 1143.95 45.9881 Q1143.95 47.4403 1143.02 48.143 Q1142.13 48.8456 1141.19 48.8456 Q1140.02 48.8456 1139.17 48.0961 Q1138.38 47.2998 1138.38 46.0818 Q1138.38 44.0675 1139.92 43.4585 Q1139.64 43.3648 1138.99 43.3648 Q1134.3 43.3648 1130.32 47.1124 Q1134.26 50.7663 1134.26 56.4345 Q1134.26 62.1028 1129.76 66.2719 Q1125.26 70.4411 1118.75 70.4411 Q1113.36 70.4411 1109.24 67.4431 Q1107.6 69.3637 1107.6 71.987 Q1107.6 74.3761 1109.05 76.2499 Q1110.5 78.1237 1112.71 78.4048 Q1113.36 78.4985 1119.87 78.4985 Q1123.72 78.4985 1125.82 78.5922 Q1127.93 78.6858 1130.93 79.3417 Q1133.97 79.9507 1136.36 81.1686 Q1142.59 84.6351 1142.64 92.1303 Q1142.64 97.6112 1136.32 101.031 Q1130.04 104.497 1121.33 104.497 Q1112.52 104.497 1106.29 100.984 Q1100.11 97.5175 1100.11 92.3177 M1105.12 92.3177 Q1105.12 96.2527 1109.76 99.2507 Q1114.39 102.296 1121.42 102.296 Q1128.31 102.296 1132.94 99.2976 Q1137.63 96.3464 1137.63 92.3177 Q1137.63 89.4602 1135.99 87.6332 Q1134.35 85.8063 1130.98 85.0567 Q1127.65 84.3541 1125.31 84.2135 Q1122.97 84.073 1118.66 84.073 L1112.99 84.073 Q1109.71 84.2604 1107.41 86.6495 Q1105.12 89.0386 1105.12 92.3177 M1110.36 56.4345 Q1110.36 68.2394 1118.75 68.2394 Q1122.97 68.2394 1125.54 64.3982 Q1127.09 61.8217 1127.09 56.3408 Q1127.09 44.5359 1118.75 44.5359 Q1114.53 44.5359 1111.91 48.3772 Q1110.36 50.9537 1110.36 56.4345 Z\" fill=\"#000000\" fill-rule=\"evenodd\" fill-opacity=\"1\" /><path clip-path=\"url(#clip080)\" d=\"M1162 79.5759 Q1155.68 73.2987 1155.68 64.2108 Q1155.68 55.076 1161.86 48.424 Q1168.09 41.7252 1176.99 41.7252 Q1185.71 41.7252 1191.94 48.3772 Q1198.21 54.9823 1198.21 64.2108 Q1198.21 73.2518 1191.89 79.5291 Q1185.61 85.8063 1176.9 85.8063 Q1168.37 85.8063 1162 79.5759 M1163.64 63.4144 Q1163.64 72.7365 1166.08 76.9526 Q1169.83 83.3703 1176.99 83.3703 Q1180.55 83.3703 1183.51 81.4497 Q1186.5 79.5291 1188.14 76.2968 Q1190.25 72.0807 1190.25 63.4144 Q1190.25 54.186 1187.72 50.1105 Q1183.97 43.8801 1176.9 43.8801 Q1173.81 43.8801 1170.76 45.5197 Q1167.77 47.1124 1165.94 50.2978 Q1163.64 54.5139 1163.64 63.4144 Z\" fill=\"#000000\" fill-rule=\"evenodd\" fill-opacity=\"1\" /><path clip-path=\"url(#clip080)\" d=\"M1201.27 84.7288 L1201.27 81.7776 Q1206.38 81.7776 1207.55 81.1686 Q1208.72 80.5128 1208.72 77.421 L1208.72 51.7032 Q1208.72 48.143 1207.45 47.2529 Q1206.24 46.3629 1201.27 46.3629 L1201.27 43.3648 L1214.76 42.3342 L1214.76 52.4059 Q1219.26 42.3342 1228.96 42.3342 Q1236.17 42.3342 1239.03 45.8944 Q1241.14 48.2835 1241.56 50.9537 Q1242.03 53.6238 1242.03 60.5569 L1242.03 78.8732 Q1242.12 80.8876 1243.66 81.356 Q1245.21 81.7776 1249.52 81.7776 L1249.52 84.7288 Q1239.73 84.4478 1238.75 84.4478 Q1238 84.4478 1227.92 84.7288 L1227.92 81.7776 Q1233.03 81.7776 1234.2 81.1686 Q1235.42 80.5128 1235.42 77.421 L1235.42 55.076 Q1235.42 50.2041 1233.92 47.3466 Q1232.42 44.4422 1228.3 44.4422 Q1223.33 44.4422 1219.35 48.6114 Q1215.37 52.7806 1215.37 59.8074 L1215.37 77.421 Q1215.37 80.5128 1216.54 81.1686 Q1217.76 81.7776 1222.82 81.7776 L1222.82 84.7288 Q1213.03 84.4478 1212.09 84.4478 Q1211.34 84.4478 1201.27 84.7288 Z\" fill=\"#000000\" fill-rule=\"evenodd\" fill-opacity=\"1\" /><path clip-path=\"url(#clip080)\" d=\"M1262.6 79.5759 Q1256.28 73.2987 1256.28 64.2108 Q1256.28 55.076 1262.46 48.424 Q1268.69 41.7252 1277.6 41.7252 Q1286.31 41.7252 1292.54 48.3772 Q1298.82 54.9823 1298.82 64.2108 Q1298.82 73.2518 1292.49 79.5291 Q1286.21 85.8063 1277.5 85.8063 Q1268.98 85.8063 1262.6 79.5759 M1264.24 63.4144 Q1264.24 72.7365 1266.68 76.9526 Q1270.43 83.3703 1277.6 83.3703 Q1281.16 83.3703 1284.11 81.4497 Q1287.1 79.5291 1288.74 76.2968 Q1290.85 72.0807 1290.85 63.4144 Q1290.85 54.186 1288.32 50.1105 Q1284.58 43.8801 1277.5 43.8801 Q1274.41 43.8801 1271.36 45.5197 Q1268.37 47.1124 1266.54 50.2978 Q1264.24 54.5139 1264.24 63.4144 Z\" fill=\"#000000\" fill-rule=\"evenodd\" fill-opacity=\"1\" /><path clip-path=\"url(#clip080)\" d=\"M1301.87 84.7288 L1301.87 81.7776 Q1306.98 81.7776 1308.15 81.1686 Q1309.32 80.5128 1309.32 77.421 L1309.32 51.7032 Q1309.32 48.143 1308.05 47.2529 Q1306.84 46.3629 1301.87 46.3629 L1301.87 43.3648 L1315.36 42.3342 L1315.36 52.4059 Q1319.86 42.3342 1329.56 42.3342 Q1340.8 42.3342 1342.35 51.7032 Q1343.98 48.0493 1347.4 45.1917 Q1350.87 42.3342 1356.26 42.3342 Q1363.47 42.3342 1366.33 45.8944 Q1368.44 48.2835 1368.86 50.9537 Q1369.28 53.6238 1369.28 60.5569 L1369.28 78.8732 Q1369.37 80.8876 1370.92 81.356 Q1372.47 81.7776 1376.78 81.7776 L1376.78 84.7288 Q1366.99 84.4478 1366.05 84.4478 Q1365.3 84.4478 1355.18 84.7288 L1355.18 81.7776 Q1360.29 81.7776 1361.46 81.1686 Q1362.68 80.5128 1362.68 77.421 L1362.68 55.076 Q1362.68 50.2041 1361.18 47.3466 Q1359.68 44.4422 1355.56 44.4422 Q1350.59 44.4422 1346.61 48.6114 Q1342.63 52.7806 1342.63 59.8074 L1342.63 77.421 Q1342.63 80.5128 1343.8 81.1686 Q1345.02 81.7776 1350.12 81.7776 L1350.12 84.7288 Q1340.33 84.4478 1339.35 84.4478 Q1338.6 84.4478 1328.53 84.7288 L1328.53 81.7776 Q1333.63 81.7776 1334.8 81.1686 Q1336.02 80.5128 1336.02 77.421 L1336.02 55.076 Q1336.02 50.2041 1334.52 47.3466 Q1333.02 44.4422 1328.9 44.4422 Q1323.94 44.4422 1319.95 48.6114 Q1315.97 52.7806 1315.97 59.8074 L1315.97 77.421 Q1315.97 80.5128 1317.14 81.1686 Q1318.36 81.7776 1323.42 81.7776 L1323.42 84.7288 Q1313.63 84.4478 1312.69 84.4478 Q1311.94 84.4478 1301.87 84.7288 Z\" fill=\"#000000\" fill-rule=\"evenodd\" fill-opacity=\"1\" /><path clip-path=\"url(#clip080)\" d=\"M1382.51 63.6018 Q1382.51 54.5607 1388.32 48.143 Q1394.13 41.7252 1402.47 41.7252 Q1410.9 41.7252 1415.26 47.2061 Q1419.66 52.6869 1419.66 60.5569 Q1419.66 62.0091 1419.29 62.2901 Q1418.91 62.5712 1417.27 62.5712 L1390.48 62.5712 Q1390.48 72.3618 1393.38 76.9526 Q1397.41 83.3703 1404.2 83.3703 Q1405.14 83.3703 1406.26 83.183 Q1407.39 82.9956 1409.68 82.1992 Q1411.98 81.356 1413.99 79.1543 Q1416.01 76.9526 1417.18 73.4861 Q1417.46 72.1276 1418.4 72.1744 Q1419.66 72.1744 1419.66 73.2987 Q1419.66 74.1419 1418.73 76.0625 Q1417.84 77.9363 1416.1 80.1849 Q1414.37 82.4334 1411 84.1198 Q1407.67 85.8063 1403.64 85.8063 Q1395.21 85.8063 1388.84 79.4354 Q1382.51 73.0176 1382.51 63.6018 M1390.57 60.5569 L1413.34 60.5569 Q1413.34 58.5425 1412.96 56.294 Q1412.64 54.0454 1411.6 50.9537 Q1410.62 47.8151 1408.28 45.8476 Q1405.94 43.8801 1402.47 43.8801 Q1400.92 43.8801 1399.24 44.5359 Q1397.6 45.1917 1395.58 46.7845 Q1393.57 48.3772 1392.16 51.9843 Q1390.76 55.5913 1390.57 60.5569 Z\" fill=\"#000000\" fill-rule=\"evenodd\" fill-opacity=\"1\" /><path clip-path=\"url(#clip080)\" d=\"M1420.44 46.3629 L1420.44 44.2548 Q1424.84 44.0675 1427.74 40.9757 Q1430.69 37.8371 1431.68 33.9958 Q1432.71 30.1545 1432.8 25.7043 L1435.19 25.7043 L1435.19 43.3648 L1448.92 43.3648 L1448.92 46.3629 L1435.19 46.3629 L1435.19 73.0176 Q1435.19 83.3703 1441.66 83.3703 Q1444.42 83.3703 1446.25 80.5596 Q1448.07 77.7021 1448.07 72.6429 L1448.07 67.3494 L1450.46 67.3494 L1450.46 72.8302 Q1450.46 78.03 1448.07 81.9181 Q1445.68 85.8063 1440.95 85.8063 Q1439.22 85.8063 1437.49 85.3378 Q1435.8 84.9162 1433.55 83.7919 Q1431.35 82.6208 1429.94 79.8101 Q1428.59 76.9526 1428.59 72.8302 L1428.59 46.3629 L1420.44 46.3629 Z\" fill=\"#000000\" fill-rule=\"evenodd\" fill-opacity=\"1\" /><path clip-path=\"url(#clip080)\" d=\"M1456.12 84.7288 L1456.12 81.7776 Q1461.23 81.7776 1462.4 81.1686 Q1463.62 80.5128 1463.62 77.421 L1463.62 51.7032 Q1463.62 48.143 1462.35 47.2529 Q1461.13 46.3629 1456.12 46.3629 L1456.12 43.3648 L1469.47 42.3342 L1469.47 52.8743 Q1470.83 48.752 1473.69 45.5665 Q1476.59 42.3342 1481.28 42.3342 Q1484.37 42.3342 1486.34 44.0675 Q1488.35 45.8007 1488.35 48.1898 Q1488.35 50.2978 1487.04 51.3753 Q1485.78 52.4059 1484.23 52.4059 Q1482.5 52.4059 1481.28 51.3284 Q1480.11 50.2041 1480.11 48.2835 Q1480.11 47.1124 1480.62 46.2223 Q1481.18 45.2854 1481.61 44.9575 Q1482.03 44.6296 1482.31 44.5359 Q1482.12 44.4422 1481.28 44.4422 Q1475.98 44.4422 1472.94 49.7357 Q1469.94 54.9823 1469.94 62.4775 L1469.94 77.2337 Q1469.94 79.9975 1471.07 80.8876 Q1472.24 81.7776 1477.25 81.7776 L1479.26 81.7776 L1479.26 84.7288 Q1475.42 84.4478 1467.08 84.4478 Q1465.91 84.4478 1464.09 84.4946 Q1462.26 84.5415 1459.87 84.6351 Q1457.48 84.7288 1456.12 84.7288 Z\" fill=\"#000000\" fill-rule=\"evenodd\" fill-opacity=\"1\" /><path clip-path=\"url(#clip080)\" d=\"M1492.06 84.7288 L1492.06 81.7776 Q1497.16 81.7776 1498.34 81.1686 Q1499.51 80.5128 1499.51 77.421 L1499.51 51.6095 Q1499.51 48.0493 1498.29 47.2061 Q1497.12 46.3629 1492.43 46.3629 L1492.43 43.3648 L1505.83 42.3342 L1505.83 77.5147 Q1505.83 80.3723 1506.86 81.0749 Q1507.89 81.7776 1512.58 81.7776 L1512.58 84.7288 Q1502.79 84.4478 1502.6 84.4478 Q1501.29 84.4478 1492.06 84.7288 M1496.09 25.6106 Q1496.09 23.6899 1497.54 22.1441 Q1499.04 20.5513 1501.15 20.5513 Q1503.25 20.5513 1504.75 22.0035 Q1506.25 23.4089 1506.25 25.6574 Q1506.25 27.8591 1504.75 29.3113 Q1503.25 30.7167 1501.15 30.7167 Q1498.94 30.7167 1497.49 29.1708 Q1496.09 27.6249 1496.09 25.6106 Z\" fill=\"#000000\" fill-rule=\"evenodd\" fill-opacity=\"1\" /><path clip-path=\"url(#clip080)\" d=\"M1527.14 79.4822 Q1521.05 73.1113 1521.05 64.0234 Q1521.05 54.8886 1527.05 48.3304 Q1533.05 41.7252 1541.85 41.7252 Q1547.71 41.7252 1552.11 44.5359 Q1556.52 47.2998 1556.52 52.0311 Q1556.52 54.1391 1555.25 55.3571 Q1554.03 56.5282 1552.11 56.5282 Q1550.1 56.5282 1548.88 55.3102 Q1547.71 54.0454 1547.71 52.1248 Q1547.71 51.2816 1547.99 50.4384 Q1548.27 49.5952 1549.3 48.7051 Q1550.38 47.8151 1552.21 47.6745 Q1548.79 44.1612 1542.13 44.1612 Q1542.04 44.1612 1541.95 44.1612 Q1537.07 44.1612 1533.05 48.752 Q1529.02 53.3428 1529.02 63.836 Q1529.02 69.3169 1530.33 73.3455 Q1531.69 77.3273 1533.89 79.3885 Q1536.09 81.4497 1538.25 82.4334 Q1540.4 83.3703 1542.51 83.3703 Q1551.92 83.3703 1555.11 73.2987 Q1555.39 72.3618 1556.33 72.3618 Q1557.59 72.3618 1557.59 73.2987 Q1557.59 73.7671 1557.22 74.9851 Q1556.84 76.2031 1555.67 78.1237 Q1554.5 80.0443 1552.81 81.7308 Q1551.18 83.3703 1548.22 84.5883 Q1545.32 85.8063 1541.67 85.8063 Q1533.23 85.8063 1527.14 79.4822 Z\" fill=\"#000000\" fill-rule=\"evenodd\" fill-opacity=\"1\" /><path clip-path=\"url(#clip080)\" d=\"M1562.46 84.7288 L1562.46 81.7776 L1564.76 81.7776 Q1569.96 81.7776 1571.13 80.9344 Q1572.34 80.0443 1572.34 77.2337 L1572.34 26.9691 Q1572.34 24.2052 1571.13 23.362 Q1569.91 22.472 1564.76 22.472 L1562.46 22.472 L1562.46 19.4739 L1615.11 19.4739 L1617.78 41.0694 L1615.4 41.0694 Q1614.74 35.5885 1613.85 32.4968 Q1613.01 29.3582 1611.04 26.8754 Q1609.07 24.3926 1605.75 23.4557 Q1602.47 22.472 1597.08 22.472 L1585.56 22.472 Q1582.28 22.472 1581.57 23.1746 Q1580.87 23.8305 1580.87 26.3133 L1580.87 50.5789 L1589.12 50.5789 Q1595.63 50.5789 1597.45 48.2367 Q1599.28 45.8944 1599.28 39.3361 L1601.67 39.3361 L1601.67 64.7729 L1599.28 64.7729 Q1599.28 58.1678 1597.45 55.8724 Q1595.63 53.5301 1589.12 53.5301 L1580.87 53.5301 L1580.87 77.14 Q1580.87 79.1543 1581.2 79.9507 Q1581.53 80.7002 1583.54 81.2623 Q1585.56 81.7776 1589.96 81.7776 L1593.14 81.7776 L1593.14 84.7288 Q1589.68 84.4478 1577.03 84.4478 Q1565.83 84.4478 1562.46 84.7288 Z\" fill=\"#000000\" fill-rule=\"evenodd\" fill-opacity=\"1\" /><path clip-path=\"url(#clip080)\" d=\"M1635.15 46.3629 L1635.15 43.3648 L1649.25 42.3342 L1649.25 74.1887 Q1649.25 76.4841 1649.44 77.8426 Q1649.63 79.1543 1650.38 80.7002 Q1651.17 82.2461 1652.95 82.9487 Q1654.78 83.6514 1657.68 83.6514 Q1662.88 83.6514 1666.07 79.3885 Q1669.3 75.1256 1669.3 68.8016 L1669.3 51.7032 Q1669.3 48.143 1668.04 47.2529 Q1666.77 46.3629 1661.81 46.3629 L1661.81 43.3648 L1675.91 42.3342 L1675.91 76.3904 Q1675.91 79.9507 1677.13 80.8876 Q1678.39 81.7776 1683.4 81.7776 L1683.4 84.7288 L1669.58 85.8063 L1669.58 77.14 Q1665.55 85.7594 1657.22 85.8063 Q1653 85.8063 1650.1 84.7288 Q1647.24 83.6514 1645.79 82.3397 Q1644.33 80.9812 1643.54 78.4048 Q1642.79 75.8283 1642.69 74.2356 Q1642.6 72.6429 1642.6 69.5511 L1642.6 55.1697 Q1642.6 48.6583 1641.66 47.534 Q1640.73 46.3629 1635.15 46.3629 Z\" fill=\"#000000\" fill-rule=\"evenodd\" fill-opacity=\"1\" /><path clip-path=\"url(#clip080)\" d=\"M1686.71 84.7288 L1686.71 81.7776 Q1691.81 81.7776 1692.98 81.1686 Q1694.16 80.5128 1694.16 77.421 L1694.16 51.7032 Q1694.16 48.143 1692.89 47.2529 Q1691.67 46.3629 1686.71 46.3629 L1686.71 43.3648 L1700.2 42.3342 L1700.2 52.4059 Q1704.7 42.3342 1714.39 42.3342 Q1721.61 42.3342 1724.46 45.8944 Q1726.57 48.2835 1726.99 50.9537 Q1727.46 53.6238 1727.46 60.5569 L1727.46 78.8732 Q1727.56 80.8876 1729.1 81.356 Q1730.65 81.7776 1734.96 81.7776 L1734.96 84.7288 Q1725.17 84.4478 1724.18 84.4478 Q1723.43 84.4478 1713.36 84.7288 L1713.36 81.7776 Q1718.47 81.7776 1719.64 81.1686 Q1720.86 80.5128 1720.86 77.421 L1720.86 55.076 Q1720.86 50.2041 1719.36 47.3466 Q1717.86 44.4422 1713.74 44.4422 Q1708.77 44.4422 1704.79 48.6114 Q1700.81 52.7806 1700.81 59.8074 L1700.81 77.421 Q1700.81 80.5128 1701.98 81.1686 Q1703.2 81.7776 1708.26 81.7776 L1708.26 84.7288 Q1698.47 84.4478 1697.53 84.4478 Q1696.78 84.4478 1686.71 84.7288 Z\" fill=\"#000000\" fill-rule=\"evenodd\" fill-opacity=\"1\" /><path clip-path=\"url(#clip080)\" d=\"M1747.81 79.4822 Q1741.72 73.1113 1741.72 64.0234 Q1741.72 54.8886 1747.71 48.3304 Q1753.71 41.7252 1762.52 41.7252 Q1768.37 41.7252 1772.78 44.5359 Q1777.18 47.2998 1777.18 52.0311 Q1777.18 54.1391 1775.91 55.3571 Q1774.7 56.5282 1772.78 56.5282 Q1770.76 56.5282 1769.54 55.3102 Q1768.37 54.0454 1768.37 52.1248 Q1768.37 51.2816 1768.65 50.4384 Q1768.94 49.5952 1769.97 48.7051 Q1771.04 47.8151 1772.87 47.6745 Q1769.45 44.1612 1762.8 44.1612 Q1762.7 44.1612 1762.61 44.1612 Q1757.74 44.1612 1753.71 48.752 Q1749.68 53.3428 1749.68 63.836 Q1749.68 69.3169 1750.99 73.3455 Q1752.35 77.3273 1754.55 79.3885 Q1756.76 81.4497 1758.91 82.4334 Q1761.07 83.3703 1763.17 83.3703 Q1772.59 83.3703 1775.77 73.2987 Q1776.06 72.3618 1776.99 72.3618 Q1778.26 72.3618 1778.26 73.2987 Q1778.26 73.7671 1777.88 74.9851 Q1777.51 76.2031 1776.34 78.1237 Q1775.17 80.0443 1773.48 81.7308 Q1771.84 83.3703 1768.89 84.5883 Q1765.98 85.8063 1762.33 85.8063 Q1753.9 85.8063 1747.81 79.4822 Z\" fill=\"#000000\" fill-rule=\"evenodd\" fill-opacity=\"1\" /><path clip-path=\"url(#clip080)\" d=\"M1781.59 46.3629 L1781.59 44.2548 Q1785.99 44.0675 1788.9 40.9757 Q1791.85 37.8371 1792.83 33.9958 Q1793.86 30.1545 1793.96 25.7043 L1796.35 25.7043 L1796.35 43.3648 L1810.07 43.3648 L1810.07 46.3629 L1796.35 46.3629 L1796.35 73.0176 Q1796.35 83.3703 1802.81 83.3703 Q1805.57 83.3703 1807.4 80.5596 Q1809.23 77.7021 1809.23 72.6429 L1809.23 67.3494 L1811.62 67.3494 L1811.62 72.8302 Q1811.62 78.03 1809.23 81.9181 Q1806.84 85.8063 1802.11 85.8063 Q1800.37 85.8063 1798.64 85.3378 Q1796.95 84.9162 1794.71 83.7919 Q1792.5 82.6208 1791.1 79.8101 Q1789.74 76.9526 1789.74 72.8302 L1789.74 46.3629 L1781.59 46.3629 Z\" fill=\"#000000\" fill-rule=\"evenodd\" fill-opacity=\"1\" /><path clip-path=\"url(#clip080)\" d=\"M1817.28 84.7288 L1817.28 81.7776 Q1822.38 81.7776 1823.55 81.1686 Q1824.72 80.5128 1824.72 77.421 L1824.72 51.6095 Q1824.72 48.0493 1823.51 47.2061 Q1822.34 46.3629 1817.65 46.3629 L1817.65 43.3648 L1831.05 42.3342 L1831.05 77.5147 Q1831.05 80.3723 1832.08 81.0749 Q1833.11 81.7776 1837.79 81.7776 L1837.79 84.7288 Q1828 84.4478 1827.82 84.4478 Q1826.5 84.4478 1817.28 84.7288 M1821.3 25.6106 Q1821.3 23.6899 1822.76 22.1441 Q1824.26 20.5513 1826.36 20.5513 Q1828.47 20.5513 1829.97 22.0035 Q1831.47 23.4089 1831.47 25.6574 Q1831.47 27.8591 1829.97 29.3113 Q1828.47 30.7167 1826.36 30.7167 Q1824.16 30.7167 1822.71 29.1708 Q1821.3 27.6249 1821.3 25.6106 Z\" fill=\"#000000\" fill-rule=\"evenodd\" fill-opacity=\"1\" /><path clip-path=\"url(#clip080)\" d=\"M1852.6 79.5759 Q1846.27 73.2987 1846.27 64.2108 Q1846.27 55.076 1852.45 48.424 Q1858.68 41.7252 1867.59 41.7252 Q1876.3 41.7252 1882.53 48.3772 Q1888.81 54.9823 1888.81 64.2108 Q1888.81 73.2518 1882.48 79.5291 Q1876.2 85.8063 1867.49 85.8063 Q1858.97 85.8063 1852.6 79.5759 M1854.23 63.4144 Q1854.23 72.7365 1856.67 76.9526 Q1860.42 83.3703 1867.59 83.3703 Q1871.15 83.3703 1874.1 81.4497 Q1877.09 79.5291 1878.73 76.2968 Q1880.84 72.0807 1880.84 63.4144 Q1880.84 54.186 1878.31 50.1105 Q1874.57 43.8801 1867.49 43.8801 Q1864.4 43.8801 1861.36 45.5197 Q1858.36 47.1124 1856.53 50.2978 Q1854.23 54.5139 1854.23 63.4144 Z\" fill=\"#000000\" fill-rule=\"evenodd\" fill-opacity=\"1\" /><path clip-path=\"url(#clip080)\" d=\"M1891.86 84.7288 L1891.86 81.7776 Q1896.97 81.7776 1898.14 81.1686 Q1899.31 80.5128 1899.31 77.421 L1899.31 51.7032 Q1899.31 48.143 1898.05 47.2529 Q1896.83 46.3629 1891.86 46.3629 L1891.86 43.3648 L1905.35 42.3342 L1905.35 52.4059 Q1909.85 42.3342 1919.55 42.3342 Q1926.76 42.3342 1929.62 45.8944 Q1931.73 48.2835 1932.15 50.9537 Q1932.62 53.6238 1932.62 60.5569 L1932.62 78.8732 Q1932.71 80.8876 1934.26 81.356 Q1935.8 81.7776 1940.11 81.7776 L1940.11 84.7288 Q1930.32 84.4478 1929.34 84.4478 Q1928.59 84.4478 1918.52 84.7288 L1918.52 81.7776 Q1923.62 81.7776 1924.79 81.1686 Q1926.01 80.5128 1926.01 77.421 L1926.01 55.076 Q1926.01 50.2041 1924.51 47.3466 Q1923.01 44.4422 1918.89 44.4422 Q1913.93 44.4422 1909.94 48.6114 Q1905.96 52.7806 1905.96 59.8074 L1905.96 77.421 Q1905.96 80.5128 1907.13 81.1686 Q1908.35 81.7776 1913.41 81.7776 L1913.41 84.7288 Q1903.62 84.4478 1902.68 84.4478 Q1901.93 84.4478 1891.86 84.7288 Z\" fill=\"#000000\" fill-rule=\"evenodd\" fill-opacity=\"1\" /><path clip-path=\"url(#clip080)\" d=\"M1947.26 83.464 L1947.26 70.8159 Q1947.26 69.7385 1947.3 69.3637 Q1947.35 68.989 1947.63 68.7079 Q1947.91 68.4268 1948.47 68.4268 Q1949.13 68.4268 1949.36 68.7079 Q1949.65 68.989 1949.83 70.0664 Q1951.29 76.6715 1954.38 80.1849 Q1957.52 83.6514 1963.18 83.6514 Q1968.57 83.6514 1971.29 81.2623 Q1974 78.8732 1974 74.9383 Q1974 67.9115 1964.03 66.1314 Q1958.26 64.9603 1955.88 64.2108 Q1953.49 63.4144 1951.38 61.6811 Q1947.26 58.3083 1947.26 53.5301 Q1947.26 48.752 1950.86 45.2386 Q1954.52 41.7252 1962.57 41.7252 Q1967.96 41.7252 1971.62 44.4422 Q1972.69 43.599 1973.26 42.8963 Q1974.52 41.7252 1975.18 41.7252 Q1975.93 41.7252 1976.07 42.2405 Q1976.21 42.709 1976.21 44.0675 L1976.21 53.7175 Q1976.21 54.7949 1976.16 55.1697 Q1976.11 55.5445 1975.83 55.8255 Q1975.55 56.0598 1974.94 56.0598 Q1973.86 56.0598 1973.82 55.1697 Q1973.07 43.5522 1962.57 43.5522 Q1956.91 43.5522 1954.38 45.7539 Q1951.85 47.9088 1951.85 50.86 Q1951.85 52.4995 1952.6 53.7644 Q1953.39 54.9823 1954.38 55.7318 Q1955.41 56.4345 1957.28 57.1372 Q1959.15 57.793 1960.28 58.0272 Q1961.45 58.2615 1963.65 58.7299 Q1971.33 60.1821 1974.57 63.3207 Q1978.6 67.3494 1978.6 72.4555 Q1978.6 78.1237 1974.75 81.965 Q1970.91 85.8063 1963.18 85.8063 Q1956.95 85.8063 1952.6 81.6371 Q1952.03 82.1992 1951.61 82.7145 Q1951.19 83.183 1951 83.3703 Q1950.86 83.5577 1950.82 83.6982 Q1950.77 83.7919 1950.68 83.8856 Q1948.76 85.8063 1948.29 85.8063 Q1947.54 85.8063 1947.4 85.291 Q1947.26 84.8225 1947.26 83.464 Z\" fill=\"#000000\" fill-rule=\"evenodd\" fill-opacity=\"1\" /><polyline clip-path=\"url(#clip082)\" style=\"stroke:#009af9; stroke-linecap:round; stroke-linejoin:round; stroke-width:8; stroke-opacity:1; fill:none\" points=\"\n",
       "  389.303,957.829 392.833,941.814 396.363,925.806 399.893,909.811 403.422,893.836 419.742,820.433 436.061,748.258 452.38,677.955 468.7,610.153 476.859,577.38 \n",
       "  485.019,545.458 493.178,514.457 501.338,484.447 509.498,455.495 517.657,427.666 525.817,401.022 533.977,375.622 543.784,346.82 553.591,319.991 563.398,295.221 \n",
       "  573.206,272.591 583.013,252.172 592.82,234.032 602.627,218.229 612.434,204.813 620.726,195.365 629.018,187.678 637.31,181.767 645.602,177.648 653.894,175.33 \n",
       "  662.186,174.818 670.477,176.112 678.769,179.212 687.777,184.614 696.784,192.122 705.791,201.716 714.799,213.369 723.806,227.049 732.813,242.719 741.82,260.338 \n",
       "  750.828,279.855 759.132,299.486 767.436,320.64 775.74,343.269 784.043,367.321 792.347,392.74 800.651,419.467 808.955,447.44 817.259,476.595 826.162,509.087 \n",
       "  835.065,542.773 843.967,577.563 852.87,613.365 870.675,687.621 888.481,764.75 929.739,949.943 970.998,1135.58 989.331,1215.44 1007.66,1292.39 1016.83,1329.51 \n",
       "  1026,1365.57 1035.16,1400.49 1044.33,1434.16 1052.37,1462.58 1060.41,1489.91 1068.44,1516.08 1076.48,1541.04 1084.52,1564.74 1092.56,1587.12 1100.6,1608.13 \n",
       "  1108.63,1627.74 1117.4,1647.45 1126.16,1665.39 1134.93,1681.51 1143.69,1695.76 1152.45,1708.1 1161.22,1718.52 1169.98,1726.97 1178.74,1733.44 1187.56,1737.93 \n",
       "  1196.38,1740.38 1205.19,1740.79 1214.01,1739.16 1222.82,1735.49 1231.64,1729.8 1240.45,1722.09 1249.27,1712.38 1259.02,1699.36 1268.76,1683.98 1278.51,1666.28 \n",
       "  1288.26,1646.32 1298.01,1624.16 1307.75,1599.88 1317.5,1573.55 1327.25,1545.26 1336.52,1516.6 1345.79,1486.33 1355.07,1454.53 1364.34,1421.3 1373.62,1386.73 \n",
       "  1382.89,1350.92 1392.17,1313.98 1401.44,1276.01 1420.72,1194.23 1440.01,1109.51 1459.3,1022.89 1478.58,935.463 1494.82,862.039 1511.05,789.462 1527.29,718.374 \n",
       "  1543.52,649.403 1553.43,608.603 1563.34,568.954 1573.25,530.587 1583.16,493.629 1593.07,458.201 1602.98,424.42 1612.89,392.397 1622.8,362.238 1631.88,336.332 \n",
       "  1640.96,312.145 1650.04,289.744 1659.11,269.192 1668.19,250.545 1677.27,233.854 1686.35,219.167 1695.43,206.523 1703.81,196.691 1712.2,188.655 1720.58,182.434 \n",
       "  1728.97,178.043 1737.35,175.493 1745.74,174.788 1754.12,175.932 1762.5,178.921 1771,183.822 1779.49,190.598 1787.98,199.232 1796.48,209.703 1804.97,221.985 \n",
       "  1813.46,236.049 1821.96,251.861 1830.45,269.383 1839.97,290.999 1849.49,314.642 1859.01,340.242 1868.53,367.72 1878.04,396.993 1887.56,427.971 1897.08,460.561 \n",
       "  1906.6,494.664 1915.23,526.785 1923.85,559.984 1932.48,594.175 1941.1,629.275 1958.35,701.847 1975.6,776.974 2015.11,954.561 2054.61,1132.32 2072.9,1212.08 \n",
       "  2091.18,1288.99 2100.33,1326.1 2109.47,1362.18 2118.61,1397.13 2127.76,1430.84 2136.77,1462.78 2145.79,1493.34 2154.8,1522.44 2163.82,1550 2172.83,1575.94 \n",
       "  2181.85,1600.2 2190.86,1622.7 2199.88,1643.39 2208.63,1661.69 2217.38,1678.18 2226.13,1692.82 2234.89,1705.57 2243.64,1716.4 2252.39,1725.27 2261.14,1732.17 \n",
       "  2269.9,1737.08 2278.87,1740.03 2287.84,1740.87 2296.81,1739.6 2305.79,1736.21 2314.76,1730.71 2323.73,1723.13 2332.71,1713.48 2341.68,1701.79 2351.51,1686.67 \n",
       "  2361.34,1669.19 2371.17,1649.4 2381,1627.37 2390.83,1603.17 2400.66,1576.87 2410.49,1548.56 2420.32,1518.34 2434.6,1471.23 2448.88,1420.6 2463.16,1366.81 \n",
       "  2477.44,1310.22 2491.72,1251.22 2506,1190.21 2520.28,1127.61 2534.56,1063.85 2540.42,1037.45 2546.28,1010.96 2552.14,984.41 2558,957.829 \n",
       "  \"/>\n",
       "<polyline clip-path=\"url(#clip082)\" style=\"stroke:#e26f46; stroke-linecap:round; stroke-linejoin:round; stroke-width:8; stroke-opacity:1; fill:none\" points=\"\n",
       "  389.303,174.775 392.833,174.939 396.363,175.43 399.893,176.249 403.422,177.394 411.582,181.291 419.742,186.923 427.901,194.279 436.061,203.34 444.221,214.088 \n",
       "  452.38,226.499 460.54,240.544 468.7,256.192 476.859,273.408 485.019,292.154 493.178,312.388 501.338,334.064 509.498,357.135 517.657,381.548 525.817,407.249 \n",
       "  533.977,434.18 543.784,468.093 553.591,503.587 563.398,540.547 573.206,578.855 583.013,618.386 592.82,659.013 602.627,700.604 612.434,743.026 645.602,890.812 \n",
       "  678.769,1041.06 696.784,1121.74 714.799,1200.63 732.813,1276.88 750.828,1349.65 759.132,1381.81 767.436,1412.98 775.74,1443.1 784.043,1472.1 792.347,1499.91 \n",
       "  800.651,1526.46 808.955,1551.7 817.259,1575.56 826.162,1599.55 835.065,1621.83 843.967,1642.35 852.87,1661.05 861.773,1677.88 870.675,1692.79 879.578,1705.74 \n",
       "  888.481,1716.71 898.795,1726.88 909.11,1734.32 919.425,1738.97 929.739,1740.84 940.054,1739.92 950.369,1736.2 960.683,1729.7 970.998,1720.44 980.164,1709.93 \n",
       "  989.331,1697.3 998.497,1682.58 1007.66,1665.81 1016.83,1647.05 1026,1626.35 1035.16,1603.76 1044.33,1579.35 1052.37,1556.5 1060.41,1532.35 1068.44,1506.95 \n",
       "  1076.48,1480.36 1084.52,1452.64 1092.56,1423.85 1100.6,1394.04 1108.63,1363.29 1126.16,1293.28 1143.69,1219.82 1161.22,1143.65 1178.74,1065.57 1214.01,905.947 \n",
       "  1249.27,748.484 1259.02,706.225 1268.76,664.768 1278.51,624.245 1288.26,584.787 1298.01,546.518 1307.75,509.56 1317.5,474.032 1327.25,440.047 1336.52,409.242 \n",
       "  1345.79,380.022 1355.07,352.469 1364.34,326.664 1373.62,302.681 1382.89,280.59 1392.17,260.454 1401.44,242.331 1411.08,225.679 1420.72,211.312 1430.37,199.275 \n",
       "  1440.01,189.606 1449.65,182.334 1459.3,177.483 1468.94,175.067 1478.58,175.095 1486.7,177.012 1494.82,180.656 1502.93,186.02 1511.05,193.09 1519.17,201.852 \n",
       "  1527.29,212.286 1535.4,224.369 1543.52,238.074 1553.43,256.962 1563.34,278.16 1573.25,301.599 1583.16,327.201 1593.07,354.882 1602.98,384.551 1612.89,416.11 \n",
       "  1622.8,449.454 1631.88,481.473 1640.96,514.811 1650.04,549.373 1659.11,585.066 1677.27,659.444 1695.43,737.121 1728.97,886.364 1762.5,1038.3 1779.49,1114.45 \n",
       "  1796.48,1189.09 1813.46,1261.49 1830.45,1330.94 1839.97,1368.33 1849.49,1404.47 1859.01,1439.24 1868.53,1472.56 1878.04,1504.31 1887.56,1534.39 1897.08,1562.72 \n",
       "  1906.6,1589.22 1915.23,1611.57 1923.85,1632.29 1932.48,1651.32 1941.1,1668.62 1949.73,1684.15 1958.35,1697.86 1966.98,1709.73 1975.6,1719.71 1985.48,1728.81 \n",
       "  1995.35,1735.38 2005.23,1739.41 2015.11,1740.88 2024.98,1739.78 2034.86,1736.13 2044.73,1729.93 2054.61,1721.2 2063.75,1710.88 2072.9,1698.46 2082.04,1683.95 \n",
       "  2091.18,1667.41 2100.33,1648.88 2109.47,1628.41 2118.61,1606.05 2127.76,1581.88 2136.77,1556.33 2145.79,1529.15 2154.8,1500.41 2163.82,1470.19 2172.83,1438.57 \n",
       "  2181.85,1405.64 2190.86,1371.49 2199.88,1336.22 2217.38,1264.85 2234.89,1190.33 2252.39,1113.42 2269.9,1034.91 2305.79,872.362 2341.68,713.495 2351.51,671.537 \n",
       "  2361.34,630.507 2371.17,590.54 2381,551.764 2390.83,514.305 2400.66,478.284 2410.49,443.819 2420.32,411.022 2427.46,388.306 2434.6,366.565 2441.74,345.836 \n",
       "  2448.88,326.155 2456.02,307.554 2463.16,290.067 2470.3,273.722 2477.44,258.548 2484.58,244.571 2491.72,231.815 2498.86,220.301 2506,210.05 2513.14,201.078 \n",
       "  2520.28,193.402 2527.42,187.034 2534.56,181.985 2540.42,178.833 2546.28,176.58 2552.14,175.226 2558,174.775 \n",
       "  \"/>\n",
       "<path clip-path=\"url(#clip080)\" d=\"\n",
       "M2717.35 377.528 L3152.76 377.528 L3152.76 183.128 L2717.35 183.128  Z\n",
       "  \" fill=\"#ffffff\" fill-rule=\"evenodd\" fill-opacity=\"1\"/>\n",
       "<polyline clip-path=\"url(#clip080)\" style=\"stroke:#000000; stroke-linecap:round; stroke-linejoin:round; stroke-width:4; stroke-opacity:1; fill:none\" points=\"\n",
       "  2717.35,377.528 3152.76,377.528 3152.76,183.128 2717.35,183.128 2717.35,377.528 \n",
       "  \"/>\n",
       "<polyline clip-path=\"url(#clip080)\" style=\"stroke:#009af9; stroke-linecap:round; stroke-linejoin:round; stroke-width:10; stroke-opacity:1; fill:none\" points=\"\n",
       "  2748.77,247.928 2937.34,247.928 \n",
       "  \"/>\n",
       "<path clip-path=\"url(#clip080)\" d=\"M2968.77 261.981 L2968.77 254.076 Q2968.77 253.402 2968.8 253.168 Q2968.83 252.934 2969 252.758 Q2969.18 252.583 2969.53 252.583 Q2969.94 252.583 2970.09 252.758 Q2970.26 252.934 2970.38 253.607 Q2971.29 257.736 2973.22 259.931 Q2975.18 262.098 2978.72 262.098 Q2982.09 262.098 2983.79 260.605 Q2985.49 259.112 2985.49 256.652 Q2985.49 252.261 2979.25 251.148 Q2975.65 250.416 2974.16 249.948 Q2972.66 249.45 2971.35 248.367 Q2968.77 246.259 2968.77 243.272 Q2968.77 240.286 2971.02 238.09 Q2973.31 235.894 2978.34 235.894 Q2981.71 235.894 2983.99 237.592 Q2984.67 237.065 2985.02 236.626 Q2985.81 235.894 2986.22 235.894 Q2986.69 235.894 2986.77 236.216 Q2986.86 236.509 2986.86 237.358 L2986.86 243.389 Q2986.86 244.063 2986.83 244.297 Q2986.8 244.531 2986.63 244.707 Q2986.45 244.853 2986.07 244.853 Q2985.4 244.853 2985.37 244.297 Q2984.9 237.036 2978.34 237.036 Q2974.8 237.036 2973.22 238.412 Q2971.64 239.759 2971.64 241.603 Q2971.64 242.628 2972.11 243.419 Q2972.6 244.18 2973.22 244.648 Q2973.86 245.088 2975.03 245.527 Q2976.21 245.937 2976.91 246.083 Q2977.64 246.229 2979.02 246.522 Q2983.82 247.43 2985.84 249.391 Q2988.36 251.909 2988.36 255.101 Q2988.36 258.643 2985.96 261.044 Q2983.55 263.445 2978.72 263.445 Q2974.83 263.445 2972.11 260.839 Q2971.76 261.19 2971.49 261.513 Q2971.23 261.805 2971.11 261.922 Q2971.02 262.04 2970.99 262.127 Q2970.96 262.186 2970.91 262.244 Q2969.71 263.445 2969.41 263.445 Q2968.94 263.445 2968.86 263.123 Q2968.77 262.83 2968.77 261.981 Z\" fill=\"#000000\" fill-rule=\"evenodd\" fill-opacity=\"1\" /><path clip-path=\"url(#clip080)\" d=\"M2990.7 262.771 L2990.7 260.927 Q2993.89 260.927 2994.62 260.546 Q2995.35 260.136 2995.35 258.204 L2995.35 242.072 Q2995.35 239.847 2994.59 239.32 Q2993.86 238.793 2990.93 238.793 L2990.93 236.919 L2999.3 236.275 L2999.3 258.263 Q2999.3 260.049 2999.95 260.488 Q3000.59 260.927 3003.52 260.927 L3003.52 262.771 Q2997.4 262.596 2997.28 262.596 Q2996.46 262.596 2990.7 262.771 M2993.21 225.823 Q2993.21 224.622 2994.12 223.656 Q2995.06 222.661 2996.38 222.661 Q2997.69 222.661 2998.63 223.568 Q2999.57 224.446 2999.57 225.852 Q2999.57 227.228 2998.63 228.136 Q2997.69 229.014 2996.38 229.014 Q2995 229.014 2994.09 228.048 Q2993.21 227.082 2993.21 225.823 Z\" fill=\"#000000\" fill-rule=\"evenodd\" fill-opacity=\"1\" /><path clip-path=\"url(#clip080)\" d=\"M3007.61 262.771 L3007.61 260.927 Q3010.81 260.927 3011.54 260.546 Q3012.27 260.136 3012.27 258.204 L3012.27 242.13 Q3012.27 239.905 3011.48 239.349 Q3010.72 238.793 3007.61 238.793 L3007.61 236.919 L3016.05 236.275 L3016.05 242.57 Q3018.86 236.275 3024.92 236.275 Q3029.43 236.275 3031.21 238.5 Q3032.53 239.993 3032.79 241.662 Q3033.09 243.331 3033.09 247.664 L3033.09 259.112 Q3033.14 260.371 3034.11 260.663 Q3035.08 260.927 3037.77 260.927 L3037.77 262.771 Q3031.65 262.596 3031.04 262.596 Q3030.57 262.596 3024.27 262.771 L3024.27 260.927 Q3027.46 260.927 3028.2 260.546 Q3028.96 260.136 3028.96 258.204 L3028.96 244.238 Q3028.96 241.194 3028.02 239.408 Q3027.08 237.592 3024.51 237.592 Q3021.4 237.592 3018.92 240.198 Q3016.43 242.804 3016.43 247.196 L3016.43 258.204 Q3016.43 260.136 3017.16 260.546 Q3017.92 260.927 3021.08 260.927 L3021.08 262.771 Q3014.96 262.596 3014.38 262.596 Q3013.91 262.596 3007.61 262.771 Z\" fill=\"#000000\" fill-rule=\"evenodd\" fill-opacity=\"1\" /><path clip-path=\"url(#clip080)\" d=\"M3040.55 247.781 Q3040.55 237.651 3044.33 229.482 Q3045.94 226.057 3048.19 223.188 Q3050.45 220.318 3051.94 219.059 Q3053.43 217.8 3053.84 217.8 Q3054.43 217.8 3054.46 218.386 Q3054.46 218.679 3053.67 219.411 Q3044 229.248 3044.03 247.781 Q3044.03 266.373 3053.43 275.829 Q3054.46 276.854 3054.46 277.176 Q3054.46 277.762 3053.84 277.762 Q3053.43 277.762 3052 276.561 Q3050.56 275.361 3048.34 272.609 Q3046.11 269.857 3044.5 266.49 Q3040.55 258.321 3040.55 247.781 Z\" fill=\"#000000\" fill-rule=\"evenodd\" fill-opacity=\"1\" /><path clip-path=\"url(#clip080)\" d=\"M3084.98 232.791 Q3084.98 237.709 3083.4 243.243 Q3081.84 248.747 3079.39 253.198 Q3076.93 257.619 3073.71 260.546 Q3070.49 263.445 3067.41 263.445 Q3065.45 263.445 3063.99 262.362 Q3062.55 261.249 3061.76 259.404 Q3060.97 257.531 3060.59 255.481 Q3060.21 253.402 3060.21 251.148 Q3060.21 247.781 3060.94 244.121 Q3061.67 240.432 3062.9 237.095 Q3064.13 233.728 3065.86 230.683 Q3067.59 227.609 3069.49 225.383 Q3071.42 223.129 3073.59 221.811 Q3075.76 220.494 3077.78 220.494 Q3079.24 220.494 3080.41 221.138 Q3081.61 221.753 3082.37 222.836 Q3083.13 223.89 3083.66 225.149 Q3084.22 226.408 3084.48 227.872 Q3084.74 229.307 3084.86 230.507 Q3084.98 231.678 3084.98 232.791 M3081.03 229.072 Q3081.03 227.579 3080.91 226.467 Q3080.79 225.325 3080.47 224.183 Q3080.15 223.041 3079.44 222.426 Q3078.77 221.811 3077.72 221.811 Q3074.64 221.811 3071.19 228.106 Q3070.08 230.068 3069.08 232.732 Q3068.08 235.396 3067.73 236.655 Q3067.38 237.914 3066.56 241.018 L3079.09 241.018 Q3081.03 233.025 3081.03 229.072 M3078.57 242.921 L3066.09 242.921 Q3064.16 250.24 3064.16 254.808 Q3064.16 258.79 3064.98 260.459 Q3065.83 262.098 3067.41 262.098 Q3069.23 262.098 3070.92 260.283 Q3072.62 258.438 3074.35 255.101 Q3076.63 250.767 3078.57 242.921 Z\" fill=\"#000000\" fill-rule=\"evenodd\" fill-opacity=\"1\" /><path clip-path=\"url(#clip080)\" d=\"M3091.16 277.176 Q3091.16 276.883 3091.92 276.152 Q3101.58 266.314 3101.58 247.781 Q3101.58 229.19 3092.3 219.791 Q3091.16 218.708 3091.16 218.386 Q3091.16 217.8 3091.75 217.8 Q3092.16 217.8 3093.59 219.001 Q3095.05 220.201 3097.25 222.953 Q3099.48 225.705 3101.12 229.072 Q3105.07 237.241 3105.07 247.781 Q3105.07 257.911 3101.29 266.08 Q3099.68 269.505 3097.43 272.375 Q3095.17 275.244 3093.68 276.503 Q3092.19 277.762 3091.75 277.762 Q3091.16 277.762 3091.16 277.176 Z\" fill=\"#000000\" fill-rule=\"evenodd\" fill-opacity=\"1\" /><polyline clip-path=\"url(#clip080)\" style=\"stroke:#e26f46; stroke-linecap:round; stroke-linejoin:round; stroke-width:10; stroke-opacity:1; fill:none\" points=\"\n",
       "  2748.77,312.728 2937.34,312.728 \n",
       "  \"/>\n",
       "<path clip-path=\"url(#clip080)\" d=\"M2972.58 324.292 Q2968.77 320.311 2968.77 314.631 Q2968.77 308.921 2972.52 304.822 Q2976.26 300.694 2981.77 300.694 Q2985.43 300.694 2988.18 302.451 Q2990.93 304.178 2990.93 307.135 Q2990.93 308.453 2990.14 309.214 Q2989.38 309.946 2988.18 309.946 Q2986.92 309.946 2986.16 309.185 Q2985.43 308.394 2985.43 307.194 Q2985.43 306.667 2985.6 306.14 Q2985.78 305.613 2986.42 305.057 Q2987.1 304.5 2988.24 304.413 Q2986.1 302.217 2981.94 302.217 Q2981.89 302.217 2981.83 302.217 Q2978.78 302.217 2976.26 305.086 Q2973.75 307.955 2973.75 314.513 Q2973.75 317.939 2974.57 320.457 Q2975.41 322.946 2976.79 324.234 Q2978.17 325.522 2979.51 326.137 Q2980.86 326.722 2982.18 326.722 Q2988.06 326.722 2990.05 320.428 Q2990.23 319.842 2990.82 319.842 Q2991.61 319.842 2991.61 320.428 Q2991.61 320.72 2991.37 321.482 Q2991.14 322.243 2990.41 323.443 Q2989.67 324.644 2988.62 325.698 Q2987.59 326.722 2985.75 327.484 Q2983.93 328.245 2981.65 328.245 Q2976.38 328.245 2972.58 324.292 Z\" fill=\"#000000\" fill-rule=\"evenodd\" fill-opacity=\"1\" /><path clip-path=\"url(#clip080)\" d=\"M2998.59 324.351 Q2994.64 320.428 2994.64 314.748 Q2994.64 309.038 2998.51 304.881 Q3002.4 300.694 3007.96 300.694 Q3013.41 300.694 3017.3 304.852 Q3021.23 308.98 3021.23 314.748 Q3021.23 320.398 3017.27 324.322 Q3013.35 328.245 3007.91 328.245 Q3002.58 328.245 2998.59 324.351 M2999.62 314.25 Q2999.62 320.076 3001.14 322.711 Q3003.48 326.722 3007.96 326.722 Q3010.19 326.722 3012.03 325.522 Q3013.91 324.322 3014.93 322.301 Q3016.25 319.666 3016.25 314.25 Q3016.25 308.482 3014.67 305.935 Q3012.33 302.041 3007.91 302.041 Q3005.97 302.041 3004.07 303.066 Q3002.2 304.061 3001.05 306.052 Q2999.62 308.687 2999.62 314.25 Z\" fill=\"#000000\" fill-rule=\"evenodd\" fill-opacity=\"1\" /><path clip-path=\"url(#clip080)\" d=\"M3024.33 326.781 L3024.33 318.876 Q3024.33 318.202 3024.36 317.968 Q3024.39 317.734 3024.56 317.558 Q3024.74 317.383 3025.09 317.383 Q3025.5 317.383 3025.65 317.558 Q3025.82 317.734 3025.94 318.407 Q3026.85 322.536 3028.78 324.731 Q3030.74 326.898 3034.28 326.898 Q3037.65 326.898 3039.35 325.405 Q3041.05 323.912 3041.05 321.452 Q3041.05 317.061 3034.81 315.948 Q3031.21 315.216 3029.72 314.748 Q3028.22 314.25 3026.91 313.167 Q3024.33 311.059 3024.33 308.072 Q3024.33 305.086 3026.58 302.89 Q3028.87 300.694 3033.9 300.694 Q3037.27 300.694 3039.55 302.392 Q3040.23 301.865 3040.58 301.426 Q3041.37 300.694 3041.78 300.694 Q3042.25 300.694 3042.34 301.016 Q3042.42 301.309 3042.42 302.158 L3042.42 308.189 Q3042.42 308.863 3042.39 309.097 Q3042.37 309.331 3042.19 309.507 Q3042.01 309.653 3041.63 309.653 Q3040.96 309.653 3040.93 309.097 Q3040.46 301.836 3033.9 301.836 Q3030.36 301.836 3028.78 303.212 Q3027.2 304.559 3027.2 306.403 Q3027.2 307.428 3027.67 308.219 Q3028.17 308.98 3028.78 309.448 Q3029.42 309.888 3030.6 310.327 Q3031.77 310.737 3032.47 310.883 Q3033.2 311.029 3034.58 311.322 Q3039.38 312.23 3041.4 314.191 Q3043.92 316.709 3043.92 319.901 Q3043.92 323.443 3041.52 325.844 Q3039.12 328.245 3034.28 328.245 Q3030.39 328.245 3027.67 325.639 Q3027.32 325.99 3027.05 326.313 Q3026.79 326.605 3026.67 326.722 Q3026.58 326.84 3026.55 326.927 Q3026.53 326.986 3026.47 327.044 Q3025.27 328.245 3024.97 328.245 Q3024.51 328.245 3024.42 327.923 Q3024.33 327.63 3024.33 326.781 Z\" fill=\"#000000\" fill-rule=\"evenodd\" fill-opacity=\"1\" /><path clip-path=\"url(#clip080)\" d=\"M3047.7 312.581 Q3047.7 302.451 3051.47 294.282 Q3053.08 290.857 3055.34 287.988 Q3057.59 285.118 3059.09 283.859 Q3060.58 282.6 3060.99 282.6 Q3061.57 282.6 3061.6 283.186 Q3061.6 283.479 3060.81 284.211 Q3051.15 294.048 3051.18 312.581 Q3051.18 331.173 3060.58 340.629 Q3061.6 341.654 3061.6 341.976 Q3061.6 342.562 3060.99 342.562 Q3060.58 342.562 3059.14 341.361 Q3057.71 340.161 3055.49 337.409 Q3053.26 334.657 3051.65 331.29 Q3047.7 323.121 3047.7 312.581 Z\" fill=\"#000000\" fill-rule=\"evenodd\" fill-opacity=\"1\" /><path clip-path=\"url(#clip080)\" d=\"M3092.13 297.591 Q3092.13 302.509 3090.54 308.043 Q3088.99 313.547 3086.53 317.998 Q3084.07 322.419 3080.85 325.346 Q3077.63 328.245 3074.56 328.245 Q3072.6 328.245 3071.13 327.162 Q3069.7 326.049 3068.91 324.204 Q3068.12 322.331 3067.74 320.281 Q3067.36 318.202 3067.36 315.948 Q3067.36 312.581 3068.09 308.921 Q3068.82 305.232 3070.05 301.895 Q3071.28 298.528 3073.01 295.483 Q3074.73 292.409 3076.64 290.183 Q3078.57 287.929 3080.74 286.611 Q3082.9 285.294 3084.92 285.294 Q3086.39 285.294 3087.56 285.938 Q3088.76 286.553 3089.52 287.636 Q3090.28 288.69 3090.81 289.949 Q3091.36 291.208 3091.63 292.672 Q3091.89 294.107 3092.01 295.307 Q3092.13 296.478 3092.13 297.591 M3088.17 293.872 Q3088.17 292.379 3088.06 291.267 Q3087.94 290.125 3087.62 288.983 Q3087.29 287.841 3086.59 287.226 Q3085.92 286.611 3084.86 286.611 Q3081.79 286.611 3078.34 292.906 Q3077.22 294.868 3076.23 297.532 Q3075.23 300.196 3074.88 301.455 Q3074.53 302.714 3073.71 305.818 L3086.24 305.818 Q3088.17 297.825 3088.17 293.872 M3085.71 307.721 L3073.24 307.721 Q3071.31 315.04 3071.31 319.608 Q3071.31 323.59 3072.13 325.259 Q3072.98 326.898 3074.56 326.898 Q3076.37 326.898 3078.07 325.083 Q3079.77 323.238 3081.5 319.901 Q3083.78 315.567 3085.71 307.721 Z\" fill=\"#000000\" fill-rule=\"evenodd\" fill-opacity=\"1\" /><path clip-path=\"url(#clip080)\" d=\"M3098.31 341.976 Q3098.31 341.683 3099.07 340.952 Q3108.73 331.114 3108.73 312.581 Q3108.73 293.99 3099.45 284.591 Q3098.31 283.508 3098.31 283.186 Q3098.31 282.6 3098.89 282.6 Q3099.3 282.6 3100.74 283.801 Q3102.2 285.001 3104.4 287.753 Q3106.62 290.505 3108.26 293.872 Q3112.22 302.041 3112.22 312.581 Q3112.22 322.711 3108.44 330.88 Q3106.83 334.305 3104.57 337.175 Q3102.32 340.044 3100.83 341.303 Q3099.33 342.562 3098.89 342.562 Q3098.31 342.562 3098.31 341.976 Z\" fill=\"#000000\" fill-rule=\"evenodd\" fill-opacity=\"1\" /></svg>\n"
      ]
     },
     "execution_count": 5,
     "metadata": {},
     "output_type": "execute_result"
    }
   ],
   "source": [
    "using Plots\n",
    "gr()\n",
    "using LaTeXStrings\n",
    "default(fontfamily = \"Computer Modern\", size=(800,500), titlefont = (16), legendfontsize = 10, \n",
    "        guidefont = (16, :darkgreen), tickfont = (12, :black), \n",
    "        framestyle = :box, yminorgrid = true)\n",
    "\n",
    "plot([sin, cos], -2π, 2π, label = [L\"\\sin(θ)\" L\"\\cos(θ)\"], title = L\"\\textrm{Trigonometric Functions}\", \n",
    "    xlabel = L\"\\theta\", ylabel= L\"\\textrm{y}\", linewidth = 2, legend = :outertopright)\n"
   ]
  },
  {
   "cell_type": "markdown",
   "metadata": {
    "colab_type": "text",
    "id": "H4PCM4ggcW-t"
   },
   "source": [
    "### Make a plot of $\\sin\\theta$\n",
    "$$y = (5\\,\\mathrm{m})\\sin\\left(2\\pi t^{3/2}\\right)$$\n",
    "### from \n",
    "$$t=0 \\;\\;\\mathrm{to}\\;\\; t=5$$\n",
    "don't forget to label the axes with units (assume that the time is in seconds, and y is in meters)."
   ]
  },
  {
   "cell_type": "code",
   "execution_count": null,
   "metadata": {
    "colab": {
     "autoexec": {
      "startup": false,
      "wait_interval": 0
     }
    },
    "colab_type": "code",
    "id": "0z5cYFPxcW-u"
   },
   "outputs": [],
   "source": []
  }
 ],
 "metadata": {
  "colab": {
   "collapsed_sections": [],
   "default_view": {},
   "name": "Assignment_01_23Jan2018.ipynb",
   "provenance": [
    {
     "file_id": "1lgEaZ4-XVqZbBJDPyxLn1Ps5hmurk01O",
     "timestamp": 1515611260721
    }
   ],
   "version": "0.3.2",
   "views": {}
  },
  "kernelspec": {
   "display_name": "Julia 1.8.4",
   "language": "julia",
   "name": "julia-1.8"
  },
  "language_info": {
   "file_extension": ".jl",
   "mimetype": "application/julia",
   "name": "julia",
   "version": "1.8.4"
  },
  "latex_envs": {
   "LaTeX_envs_menu_present": true,
   "autoclose": true,
   "autocomplete": true,
   "bibliofile": "biblio.bib",
   "cite_by": "apalike",
   "current_citInitial": 1,
   "eqLabelWithNumbers": true,
   "eqNumInitial": 1,
   "hotkeys": {
    "equation": "Ctrl-E",
    "itemize": "Ctrl-I"
   },
   "labels_anchors": false,
   "latex_user_defs": false,
   "report_style_numbering": true,
   "user_envs_cfg": false
  },
  "nteract": {
   "version": "0.28.0"
  }
 },
 "nbformat": 4,
 "nbformat_minor": 4
}
